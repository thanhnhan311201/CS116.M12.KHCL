{
  "nbformat": 4,
  "nbformat_minor": 0,
  "metadata": {
    "colab": {
      "name": "DecisionTreeClassifier.ipynb",
      "provenance": [],
      "collapsed_sections": [
        "my619N1xj_7M",
        "bT-jlnoWB923",
        "HNvQv8KtvTEu",
        "twVpD7wFmfDF",
        "FptF_lv9ymR3",
        "mDHfG40ThFxt",
        "Gr6P2LmVltjO",
        "oWvtausMgtrC",
        "A8dikH0MgoVB"
      ],
      "toc_visible": true
    },
    "kernelspec": {
      "name": "python3",
      "display_name": "Python 3"
    },
    "language_info": {
      "name": "python"
    }
  },
  "cells": [
    {
      "cell_type": "markdown",
      "metadata": {
        "id": "my619N1xj_7M"
      },
      "source": [
        "# Import lib"
      ]
    },
    {
      "cell_type": "code",
      "metadata": {
        "id": "rPk_R1BpjtHH"
      },
      "source": [
        "import pandas as pd\n",
        "import numpy as np\n",
        "import time\n",
        "\n",
        "from sklearn.feature_extraction.text import TfidfVectorizer\n",
        "\n",
        "from sklearn.tree import DecisionTreeClassifier, plot_tree, export_graphviz\n",
        "from sklearn.pipeline import make_pipeline\n",
        "from sklearn.model_selection import cross_val_score, KFold, GridSearchCV\n",
        "import graphviz\n",
        "\n",
        "from sklearn.naive_bayes import ComplementNB\n",
        "from sklearn.svm import SVC\n",
        "from sklearn.linear_model import LogisticRegression"
      ],
      "execution_count": null,
      "outputs": []
    },
    {
      "cell_type": "markdown",
      "metadata": {
        "id": "qtHBvGdJfLys"
      },
      "source": [
        "# Data Pre-processing"
      ]
    },
    {
      "cell_type": "markdown",
      "metadata": {
        "id": "bT-jlnoWB923"
      },
      "source": [
        "## Load data from Kaggle: [News Headlines Dataset For Sarcasm Detection](https://www.kaggle.com/rmisra/news-headlines-dataset-for-sarcasm-detection)"
      ]
    },
    {
      "cell_type": "code",
      "metadata": {
        "id": "5YW72T_QCAYo",
        "colab": {
          "base_uri": "https://localhost:8080/"
        },
        "outputId": "45889481-bd92-496c-b5a6-a8efaa492c76"
      },
      "source": [
        "!gdown --id 1Yl-13zYCXdbiiLYapqOjRXl1Ud4H_oGv\n",
        "!gdown --id 1vimUv1D1T8rQ_PrcIwJ1G1INLMxnJsrW"
      ],
      "execution_count": null,
      "outputs": [
        {
          "output_type": "stream",
          "name": "stdout",
          "text": [
            "Downloading...\n",
            "From: https://drive.google.com/uc?id=1Yl-13zYCXdbiiLYapqOjRXl1Ud4H_oGv\n",
            "To: /content/Sarcasm_Headlines_Dataset.json\n",
            "100% 5.62M/5.62M [00:00<00:00, 25.2MB/s]\n",
            "Downloading...\n",
            "From: https://drive.google.com/uc?id=1vimUv1D1T8rQ_PrcIwJ1G1INLMxnJsrW\n",
            "To: /content/Sarcasm_Headlines_Dataset_v2.json\n",
            "100% 6.06M/6.06M [00:00<00:00, 26.6MB/s]\n"
          ]
        }
      ]
    },
    {
      "cell_type": "code",
      "metadata": {
        "colab": {
          "base_uri": "https://localhost:8080/"
        },
        "id": "0RkLFIm-uG2s",
        "outputId": "117861e3-bfec-43be-c932-a1481f94eb6e"
      },
      "source": [
        "data1 = pd.read_json('/content/Sarcasm_Headlines_Dataset.json', lines=True)\n",
        "data1.head(3)"
      ],
      "execution_count": null,
      "outputs": [
        {
          "output_type": "execute_result",
          "data": {
            "text/html": [
              "\n",
              "  <div id=\"df-499959c5-b92a-45d6-b396-55d969bfd3b4\">\n",
              "    <div class=\"colab-df-container\">\n",
              "      <div>\n",
              "<style scoped>\n",
              "    .dataframe tbody tr th:only-of-type {\n",
              "        vertical-align: middle;\n",
              "    }\n",
              "\n",
              "    .dataframe tbody tr th {\n",
              "        vertical-align: top;\n",
              "    }\n",
              "\n",
              "    .dataframe thead th {\n",
              "        text-align: right;\n",
              "    }\n",
              "</style>\n",
              "<table border=\"1\" class=\"dataframe\">\n",
              "  <thead>\n",
              "    <tr style=\"text-align: right;\">\n",
              "      <th></th>\n",
              "      <th>article_link</th>\n",
              "      <th>headline</th>\n",
              "      <th>is_sarcastic</th>\n",
              "    </tr>\n",
              "  </thead>\n",
              "  <tbody>\n",
              "    <tr>\n",
              "      <th>0</th>\n",
              "      <td>https://www.huffingtonpost.com/entry/versace-b...</td>\n",
              "      <td>former versace store clerk sues over secret 'b...</td>\n",
              "      <td>0</td>\n",
              "    </tr>\n",
              "    <tr>\n",
              "      <th>1</th>\n",
              "      <td>https://www.huffingtonpost.com/entry/roseanne-...</td>\n",
              "      <td>the 'roseanne' revival catches up to our thorn...</td>\n",
              "      <td>0</td>\n",
              "    </tr>\n",
              "    <tr>\n",
              "      <th>2</th>\n",
              "      <td>https://local.theonion.com/mom-starting-to-fea...</td>\n",
              "      <td>mom starting to fear son's web series closest ...</td>\n",
              "      <td>1</td>\n",
              "    </tr>\n",
              "  </tbody>\n",
              "</table>\n",
              "</div>\n",
              "      <button class=\"colab-df-convert\" onclick=\"convertToInteractive('df-499959c5-b92a-45d6-b396-55d969bfd3b4')\"\n",
              "              title=\"Convert this dataframe to an interactive table.\"\n",
              "              style=\"display:none;\">\n",
              "        \n",
              "  <svg xmlns=\"http://www.w3.org/2000/svg\" height=\"24px\"viewBox=\"0 0 24 24\"\n",
              "       width=\"24px\">\n",
              "    <path d=\"M0 0h24v24H0V0z\" fill=\"none\"/>\n",
              "    <path d=\"M18.56 5.44l.94 2.06.94-2.06 2.06-.94-2.06-.94-.94-2.06-.94 2.06-2.06.94zm-11 1L8.5 8.5l.94-2.06 2.06-.94-2.06-.94L8.5 2.5l-.94 2.06-2.06.94zm10 10l.94 2.06.94-2.06 2.06-.94-2.06-.94-.94-2.06-.94 2.06-2.06.94z\"/><path d=\"M17.41 7.96l-1.37-1.37c-.4-.4-.92-.59-1.43-.59-.52 0-1.04.2-1.43.59L10.3 9.45l-7.72 7.72c-.78.78-.78 2.05 0 2.83L4 21.41c.39.39.9.59 1.41.59.51 0 1.02-.2 1.41-.59l7.78-7.78 2.81-2.81c.8-.78.8-2.07 0-2.86zM5.41 20L4 18.59l7.72-7.72 1.47 1.35L5.41 20z\"/>\n",
              "  </svg>\n",
              "      </button>\n",
              "      \n",
              "  <style>\n",
              "    .colab-df-container {\n",
              "      display:flex;\n",
              "      flex-wrap:wrap;\n",
              "      gap: 12px;\n",
              "    }\n",
              "\n",
              "    .colab-df-convert {\n",
              "      background-color: #E8F0FE;\n",
              "      border: none;\n",
              "      border-radius: 50%;\n",
              "      cursor: pointer;\n",
              "      display: none;\n",
              "      fill: #1967D2;\n",
              "      height: 32px;\n",
              "      padding: 0 0 0 0;\n",
              "      width: 32px;\n",
              "    }\n",
              "\n",
              "    .colab-df-convert:hover {\n",
              "      background-color: #E2EBFA;\n",
              "      box-shadow: 0px 1px 2px rgba(60, 64, 67, 0.3), 0px 1px 3px 1px rgba(60, 64, 67, 0.15);\n",
              "      fill: #174EA6;\n",
              "    }\n",
              "\n",
              "    [theme=dark] .colab-df-convert {\n",
              "      background-color: #3B4455;\n",
              "      fill: #D2E3FC;\n",
              "    }\n",
              "\n",
              "    [theme=dark] .colab-df-convert:hover {\n",
              "      background-color: #434B5C;\n",
              "      box-shadow: 0px 1px 3px 1px rgba(0, 0, 0, 0.15);\n",
              "      filter: drop-shadow(0px 1px 2px rgba(0, 0, 0, 0.3));\n",
              "      fill: #FFFFFF;\n",
              "    }\n",
              "  </style>\n",
              "\n",
              "      <script>\n",
              "        const buttonEl =\n",
              "          document.querySelector('#df-499959c5-b92a-45d6-b396-55d969bfd3b4 button.colab-df-convert');\n",
              "        buttonEl.style.display =\n",
              "          google.colab.kernel.accessAllowed ? 'block' : 'none';\n",
              "\n",
              "        async function convertToInteractive(key) {\n",
              "          const element = document.querySelector('#df-499959c5-b92a-45d6-b396-55d969bfd3b4');\n",
              "          const dataTable =\n",
              "            await google.colab.kernel.invokeFunction('convertToInteractive',\n",
              "                                                     [key], {});\n",
              "          if (!dataTable) return;\n",
              "\n",
              "          const docLinkHtml = 'Like what you see? Visit the ' +\n",
              "            '<a target=\"_blank\" href=https://colab.research.google.com/notebooks/data_table.ipynb>data table notebook</a>'\n",
              "            + ' to learn more about interactive tables.';\n",
              "          element.innerHTML = '';\n",
              "          dataTable['output_type'] = 'display_data';\n",
              "          await google.colab.output.renderOutput(dataTable, element);\n",
              "          const docLink = document.createElement('div');\n",
              "          docLink.innerHTML = docLinkHtml;\n",
              "          element.appendChild(docLink);\n",
              "        }\n",
              "      </script>\n",
              "    </div>\n",
              "  </div>\n",
              "  "
            ],
            "text/plain": [
              "                                        article_link  ... is_sarcastic\n",
              "0  https://www.huffingtonpost.com/entry/versace-b...  ...            0\n",
              "1  https://www.huffingtonpost.com/entry/roseanne-...  ...            0\n",
              "2  https://local.theonion.com/mom-starting-to-fea...  ...            1\n",
              "\n",
              "[3 rows x 3 columns]"
            ]
          },
          "metadata": {},
          "execution_count": 3
        }
      ]
    },
    {
      "cell_type": "code",
      "source": [
        "data2 = pd.read_json('/content/Sarcasm_Headlines_Dataset_v2.json', lines=True)\n",
        "data2.head(3)"
      ],
      "metadata": {
        "colab": {
          "base_uri": "https://localhost:8080/"
        },
        "id": "K4-0ssMHCSAm",
        "outputId": "72921b70-fb00-47c3-8c7b-804afe0d563d"
      },
      "execution_count": null,
      "outputs": [
        {
          "output_type": "execute_result",
          "data": {
            "text/html": [
              "\n",
              "  <div id=\"df-f48454c9-c2a2-4dcd-bdaa-62c29c2b85c8\">\n",
              "    <div class=\"colab-df-container\">\n",
              "      <div>\n",
              "<style scoped>\n",
              "    .dataframe tbody tr th:only-of-type {\n",
              "        vertical-align: middle;\n",
              "    }\n",
              "\n",
              "    .dataframe tbody tr th {\n",
              "        vertical-align: top;\n",
              "    }\n",
              "\n",
              "    .dataframe thead th {\n",
              "        text-align: right;\n",
              "    }\n",
              "</style>\n",
              "<table border=\"1\" class=\"dataframe\">\n",
              "  <thead>\n",
              "    <tr style=\"text-align: right;\">\n",
              "      <th></th>\n",
              "      <th>is_sarcastic</th>\n",
              "      <th>headline</th>\n",
              "      <th>article_link</th>\n",
              "    </tr>\n",
              "  </thead>\n",
              "  <tbody>\n",
              "    <tr>\n",
              "      <th>0</th>\n",
              "      <td>1</td>\n",
              "      <td>thirtysomething scientists unveil doomsday clo...</td>\n",
              "      <td>https://www.theonion.com/thirtysomething-scien...</td>\n",
              "    </tr>\n",
              "    <tr>\n",
              "      <th>1</th>\n",
              "      <td>0</td>\n",
              "      <td>dem rep. totally nails why congress is falling...</td>\n",
              "      <td>https://www.huffingtonpost.com/entry/donna-edw...</td>\n",
              "    </tr>\n",
              "    <tr>\n",
              "      <th>2</th>\n",
              "      <td>0</td>\n",
              "      <td>eat your veggies: 9 deliciously different recipes</td>\n",
              "      <td>https://www.huffingtonpost.com/entry/eat-your-...</td>\n",
              "    </tr>\n",
              "  </tbody>\n",
              "</table>\n",
              "</div>\n",
              "      <button class=\"colab-df-convert\" onclick=\"convertToInteractive('df-f48454c9-c2a2-4dcd-bdaa-62c29c2b85c8')\"\n",
              "              title=\"Convert this dataframe to an interactive table.\"\n",
              "              style=\"display:none;\">\n",
              "        \n",
              "  <svg xmlns=\"http://www.w3.org/2000/svg\" height=\"24px\"viewBox=\"0 0 24 24\"\n",
              "       width=\"24px\">\n",
              "    <path d=\"M0 0h24v24H0V0z\" fill=\"none\"/>\n",
              "    <path d=\"M18.56 5.44l.94 2.06.94-2.06 2.06-.94-2.06-.94-.94-2.06-.94 2.06-2.06.94zm-11 1L8.5 8.5l.94-2.06 2.06-.94-2.06-.94L8.5 2.5l-.94 2.06-2.06.94zm10 10l.94 2.06.94-2.06 2.06-.94-2.06-.94-.94-2.06-.94 2.06-2.06.94z\"/><path d=\"M17.41 7.96l-1.37-1.37c-.4-.4-.92-.59-1.43-.59-.52 0-1.04.2-1.43.59L10.3 9.45l-7.72 7.72c-.78.78-.78 2.05 0 2.83L4 21.41c.39.39.9.59 1.41.59.51 0 1.02-.2 1.41-.59l7.78-7.78 2.81-2.81c.8-.78.8-2.07 0-2.86zM5.41 20L4 18.59l7.72-7.72 1.47 1.35L5.41 20z\"/>\n",
              "  </svg>\n",
              "      </button>\n",
              "      \n",
              "  <style>\n",
              "    .colab-df-container {\n",
              "      display:flex;\n",
              "      flex-wrap:wrap;\n",
              "      gap: 12px;\n",
              "    }\n",
              "\n",
              "    .colab-df-convert {\n",
              "      background-color: #E8F0FE;\n",
              "      border: none;\n",
              "      border-radius: 50%;\n",
              "      cursor: pointer;\n",
              "      display: none;\n",
              "      fill: #1967D2;\n",
              "      height: 32px;\n",
              "      padding: 0 0 0 0;\n",
              "      width: 32px;\n",
              "    }\n",
              "\n",
              "    .colab-df-convert:hover {\n",
              "      background-color: #E2EBFA;\n",
              "      box-shadow: 0px 1px 2px rgba(60, 64, 67, 0.3), 0px 1px 3px 1px rgba(60, 64, 67, 0.15);\n",
              "      fill: #174EA6;\n",
              "    }\n",
              "\n",
              "    [theme=dark] .colab-df-convert {\n",
              "      background-color: #3B4455;\n",
              "      fill: #D2E3FC;\n",
              "    }\n",
              "\n",
              "    [theme=dark] .colab-df-convert:hover {\n",
              "      background-color: #434B5C;\n",
              "      box-shadow: 0px 1px 3px 1px rgba(0, 0, 0, 0.15);\n",
              "      filter: drop-shadow(0px 1px 2px rgba(0, 0, 0, 0.3));\n",
              "      fill: #FFFFFF;\n",
              "    }\n",
              "  </style>\n",
              "\n",
              "      <script>\n",
              "        const buttonEl =\n",
              "          document.querySelector('#df-f48454c9-c2a2-4dcd-bdaa-62c29c2b85c8 button.colab-df-convert');\n",
              "        buttonEl.style.display =\n",
              "          google.colab.kernel.accessAllowed ? 'block' : 'none';\n",
              "\n",
              "        async function convertToInteractive(key) {\n",
              "          const element = document.querySelector('#df-f48454c9-c2a2-4dcd-bdaa-62c29c2b85c8');\n",
              "          const dataTable =\n",
              "            await google.colab.kernel.invokeFunction('convertToInteractive',\n",
              "                                                     [key], {});\n",
              "          if (!dataTable) return;\n",
              "\n",
              "          const docLinkHtml = 'Like what you see? Visit the ' +\n",
              "            '<a target=\"_blank\" href=https://colab.research.google.com/notebooks/data_table.ipynb>data table notebook</a>'\n",
              "            + ' to learn more about interactive tables.';\n",
              "          element.innerHTML = '';\n",
              "          dataTable['output_type'] = 'display_data';\n",
              "          await google.colab.output.renderOutput(dataTable, element);\n",
              "          const docLink = document.createElement('div');\n",
              "          docLink.innerHTML = docLinkHtml;\n",
              "          element.appendChild(docLink);\n",
              "        }\n",
              "      </script>\n",
              "    </div>\n",
              "  </div>\n",
              "  "
            ],
            "text/plain": [
              "   is_sarcastic  ...                                       article_link\n",
              "0             1  ...  https://www.theonion.com/thirtysomething-scien...\n",
              "1             0  ...  https://www.huffingtonpost.com/entry/donna-edw...\n",
              "2             0  ...  https://www.huffingtonpost.com/entry/eat-your-...\n",
              "\n",
              "[3 rows x 3 columns]"
            ]
          },
          "metadata": {},
          "execution_count": 4
        }
      ]
    },
    {
      "cell_type": "code",
      "source": [
        "df = pd.concat([data1[['headline', 'is_sarcastic']], data2[['headline', 'is_sarcastic']]], ignore_index=True)\n",
        "df.head(3)"
      ],
      "metadata": {
        "colab": {
          "base_uri": "https://localhost:8080/"
        },
        "id": "mrI9veO1C_Z9",
        "outputId": "df80b31f-edf9-47ac-f178-71769ee1dcaf"
      },
      "execution_count": null,
      "outputs": [
        {
          "output_type": "execute_result",
          "data": {
            "text/html": [
              "\n",
              "  <div id=\"df-8f6c7ae1-1f13-42c4-9995-11fbbfc9bba3\">\n",
              "    <div class=\"colab-df-container\">\n",
              "      <div>\n",
              "<style scoped>\n",
              "    .dataframe tbody tr th:only-of-type {\n",
              "        vertical-align: middle;\n",
              "    }\n",
              "\n",
              "    .dataframe tbody tr th {\n",
              "        vertical-align: top;\n",
              "    }\n",
              "\n",
              "    .dataframe thead th {\n",
              "        text-align: right;\n",
              "    }\n",
              "</style>\n",
              "<table border=\"1\" class=\"dataframe\">\n",
              "  <thead>\n",
              "    <tr style=\"text-align: right;\">\n",
              "      <th></th>\n",
              "      <th>headline</th>\n",
              "      <th>is_sarcastic</th>\n",
              "    </tr>\n",
              "  </thead>\n",
              "  <tbody>\n",
              "    <tr>\n",
              "      <th>0</th>\n",
              "      <td>former versace store clerk sues over secret 'b...</td>\n",
              "      <td>0</td>\n",
              "    </tr>\n",
              "    <tr>\n",
              "      <th>1</th>\n",
              "      <td>the 'roseanne' revival catches up to our thorn...</td>\n",
              "      <td>0</td>\n",
              "    </tr>\n",
              "    <tr>\n",
              "      <th>2</th>\n",
              "      <td>mom starting to fear son's web series closest ...</td>\n",
              "      <td>1</td>\n",
              "    </tr>\n",
              "  </tbody>\n",
              "</table>\n",
              "</div>\n",
              "      <button class=\"colab-df-convert\" onclick=\"convertToInteractive('df-8f6c7ae1-1f13-42c4-9995-11fbbfc9bba3')\"\n",
              "              title=\"Convert this dataframe to an interactive table.\"\n",
              "              style=\"display:none;\">\n",
              "        \n",
              "  <svg xmlns=\"http://www.w3.org/2000/svg\" height=\"24px\"viewBox=\"0 0 24 24\"\n",
              "       width=\"24px\">\n",
              "    <path d=\"M0 0h24v24H0V0z\" fill=\"none\"/>\n",
              "    <path d=\"M18.56 5.44l.94 2.06.94-2.06 2.06-.94-2.06-.94-.94-2.06-.94 2.06-2.06.94zm-11 1L8.5 8.5l.94-2.06 2.06-.94-2.06-.94L8.5 2.5l-.94 2.06-2.06.94zm10 10l.94 2.06.94-2.06 2.06-.94-2.06-.94-.94-2.06-.94 2.06-2.06.94z\"/><path d=\"M17.41 7.96l-1.37-1.37c-.4-.4-.92-.59-1.43-.59-.52 0-1.04.2-1.43.59L10.3 9.45l-7.72 7.72c-.78.78-.78 2.05 0 2.83L4 21.41c.39.39.9.59 1.41.59.51 0 1.02-.2 1.41-.59l7.78-7.78 2.81-2.81c.8-.78.8-2.07 0-2.86zM5.41 20L4 18.59l7.72-7.72 1.47 1.35L5.41 20z\"/>\n",
              "  </svg>\n",
              "      </button>\n",
              "      \n",
              "  <style>\n",
              "    .colab-df-container {\n",
              "      display:flex;\n",
              "      flex-wrap:wrap;\n",
              "      gap: 12px;\n",
              "    }\n",
              "\n",
              "    .colab-df-convert {\n",
              "      background-color: #E8F0FE;\n",
              "      border: none;\n",
              "      border-radius: 50%;\n",
              "      cursor: pointer;\n",
              "      display: none;\n",
              "      fill: #1967D2;\n",
              "      height: 32px;\n",
              "      padding: 0 0 0 0;\n",
              "      width: 32px;\n",
              "    }\n",
              "\n",
              "    .colab-df-convert:hover {\n",
              "      background-color: #E2EBFA;\n",
              "      box-shadow: 0px 1px 2px rgba(60, 64, 67, 0.3), 0px 1px 3px 1px rgba(60, 64, 67, 0.15);\n",
              "      fill: #174EA6;\n",
              "    }\n",
              "\n",
              "    [theme=dark] .colab-df-convert {\n",
              "      background-color: #3B4455;\n",
              "      fill: #D2E3FC;\n",
              "    }\n",
              "\n",
              "    [theme=dark] .colab-df-convert:hover {\n",
              "      background-color: #434B5C;\n",
              "      box-shadow: 0px 1px 3px 1px rgba(0, 0, 0, 0.15);\n",
              "      filter: drop-shadow(0px 1px 2px rgba(0, 0, 0, 0.3));\n",
              "      fill: #FFFFFF;\n",
              "    }\n",
              "  </style>\n",
              "\n",
              "      <script>\n",
              "        const buttonEl =\n",
              "          document.querySelector('#df-8f6c7ae1-1f13-42c4-9995-11fbbfc9bba3 button.colab-df-convert');\n",
              "        buttonEl.style.display =\n",
              "          google.colab.kernel.accessAllowed ? 'block' : 'none';\n",
              "\n",
              "        async function convertToInteractive(key) {\n",
              "          const element = document.querySelector('#df-8f6c7ae1-1f13-42c4-9995-11fbbfc9bba3');\n",
              "          const dataTable =\n",
              "            await google.colab.kernel.invokeFunction('convertToInteractive',\n",
              "                                                     [key], {});\n",
              "          if (!dataTable) return;\n",
              "\n",
              "          const docLinkHtml = 'Like what you see? Visit the ' +\n",
              "            '<a target=\"_blank\" href=https://colab.research.google.com/notebooks/data_table.ipynb>data table notebook</a>'\n",
              "            + ' to learn more about interactive tables.';\n",
              "          element.innerHTML = '';\n",
              "          dataTable['output_type'] = 'display_data';\n",
              "          await google.colab.output.renderOutput(dataTable, element);\n",
              "          const docLink = document.createElement('div');\n",
              "          docLink.innerHTML = docLinkHtml;\n",
              "          element.appendChild(docLink);\n",
              "        }\n",
              "      </script>\n",
              "    </div>\n",
              "  </div>\n",
              "  "
            ],
            "text/plain": [
              "                                            headline  is_sarcastic\n",
              "0  former versace store clerk sues over secret 'b...             0\n",
              "1  the 'roseanne' revival catches up to our thorn...             0\n",
              "2  mom starting to fear son's web series closest ...             1"
            ]
          },
          "metadata": {},
          "execution_count": 5
        }
      ]
    },
    {
      "cell_type": "markdown",
      "metadata": {
        "id": "HNvQv8KtvTEu"
      },
      "source": [
        "## Dependent Variable Distribution "
      ]
    },
    {
      "cell_type": "code",
      "metadata": {
        "colab": {
          "base_uri": "https://localhost:8080/",
          "height": 279
        },
        "id": "edLvtM6yvd7B",
        "outputId": "e2886652-3d3a-4b00-b9be-723bb1b7f7b9"
      },
      "source": [
        "X = df['headline']\n",
        "Y = df['is_sarcastic']\n",
        "Y.value_counts().plot(kind='bar')"
      ],
      "execution_count": null,
      "outputs": [
        {
          "output_type": "execute_result",
          "data": {
            "text/plain": [
              "<matplotlib.axes._subplots.AxesSubplot at 0x7f81c3b7e790>"
            ]
          },
          "metadata": {},
          "execution_count": 6
        },
        {
          "output_type": "display_data",
          "data": {
            "image/png": "[encoded data removed]",
            "text/plain": [
              "<Figure size 432x288 with 1 Axes>"
            ]
          },
          "metadata": {
            "needs_background": "light"
          }
        }
      ]
    },
    {
      "cell_type": "markdown",
      "source": [
        "## TF-IDF Vectorizer"
      ],
      "metadata": {
        "id": "twVpD7wFmfDF"
      }
    },
    {
      "cell_type": "code",
      "source": [
        "vectorizer = TfidfVectorizer(stop_words='english', ngram_range=(1,3))\n",
        "temp = vectorizer.fit_transform(X)\n",
        "feature_names=vectorizer.get_feature_names_out()\n",
        "print(feature_names)\n",
        "print(temp)"
      ],
      "metadata": {
        "id": "rJfCM8_inpzz",
        "colab": {
          "base_uri": "https://localhost:8080/"
        },
        "outputId": "28f7fb3b-569e-46db-ffbc-d3de016e9827"
      },
      "execution_count": null,
      "outputs": [
        {
          "output_type": "stream",
          "name": "stdout",
          "text": [
            "['00' '00 probably' '00 probably upstanding' ... 'ünited' 'ünited stätes'\n",
            " 'ünited stätes toughens']\n",
            "  (0, 52619)\t0.22211237327325273\n",
            "  (0, 29979)\t0.22211237327325273\n",
            "  (0, 239778)\t0.22211237327325273\n",
            "  (0, 262348)\t0.22211237327325273\n",
            "  (0, 50878)\t0.22211237327325273\n",
            "  (0, 258871)\t0.22211237327325273\n",
            "  (0, 289583)\t0.22211237327325273\n",
            "  (0, 173356)\t0.22211237327325273\n",
            "  (0, 52618)\t0.22211237327325273\n",
            "  (0, 29978)\t0.22211237327325273\n",
            "  (0, 239777)\t0.22211237327325273\n",
            "  (0, 262347)\t0.22211237327325273\n",
            "  (0, 50877)\t0.22211237327325273\n",
            "  (0, 258869)\t0.21162853692926822\n",
            "  (0, 289582)\t0.22211237327325273\n",
            "  (0, 245617)\t0.20472301046600064\n",
            "  (0, 173341)\t0.17418273294164632\n",
            "  (0, 52605)\t0.16895149843395368\n",
            "  (0, 29932)\t0.11549770127988843\n",
            "  (0, 239759)\t0.1370815048090938\n",
            "  (0, 262316)\t0.17169200556971387\n",
            "  (0, 50859)\t0.17779259289355073\n",
            "  (0, 258852)\t0.14556652713669466\n",
            "  (0, 289581)\t0.22211237327325273\n",
            "  (1, 176259)\t0.23701913701327795\n",
            "  :\t:\n",
            "  (55326, 166933)\t0.23452087451184891\n",
            "  (55326, 252602)\t0.23452087451184891\n",
            "  (55326, 107698)\t0.23452087451184891\n",
            "  (55326, 253974)\t0.23452087451184891\n",
            "  (55326, 192375)\t0.23452087451184891\n",
            "  (55326, 73408)\t0.23452087451184891\n",
            "  (55326, 211196)\t0.23452087451184891\n",
            "  (55326, 166932)\t0.23452087451184891\n",
            "  (55326, 192374)\t0.23452087451184891\n",
            "  (55326, 73400)\t0.18857503875528858\n",
            "  (55326, 194863)\t0.20636558080853407\n",
            "  (55326, 107679)\t0.1812837290400128\n",
            "  (55326, 211186)\t0.1653539608126529\n",
            "  (55326, 253962)\t0.1877251309895656\n",
            "  (55326, 252565)\t0.1596457388358806\n",
            "  (55326, 166908)\t0.17583777798350286\n",
            "  (55327, 50123)\t0.38782225037507695\n",
            "  (55327, 65678)\t0.38782225037507695\n",
            "  (55327, 102279)\t0.38782225037507695\n",
            "  (55327, 50122)\t0.38782225037507695\n",
            "  (55327, 65677)\t0.38782225037507695\n",
            "  (55327, 102142)\t0.22918637199992617\n",
            "  (55327, 50116)\t0.31642349577032935\n",
            "  (55327, 65634)\t0.2184162612611767\n",
            "  (55327, 258500)\t0.21820546647767738\n"
          ]
        }
      ]
    },
    {
      "cell_type": "markdown",
      "metadata": {
        "id": "Xt27MfGOvfFj"
      },
      "source": [
        "# Decision Tree Classifier"
      ]
    },
    {
      "cell_type": "markdown",
      "source": [
        "## Basic"
      ],
      "metadata": {
        "id": "FptF_lv9ymR3"
      }
    },
    {
      "cell_type": "code",
      "metadata": {
        "id": "XmkVgByr7b1t",
        "colab": {
          "base_uri": "https://localhost:8080/"
        },
        "outputId": "f4aeccc0-1b5a-4b19-c677-37ef9c4895d5"
      },
      "source": [
        "# Create Model\n",
        "DTsC = DecisionTreeClassifier()\n",
        "vectorizer = TfidfVectorizer(stop_words='english', ngram_range=(1,3))\n",
        "\n",
        "# Make pineline\n",
        "pipeline = make_pipeline(vectorizer, DTsC, verbose=True)\n",
        "\n",
        "# K-Fold Cross Valuation with K = 5\n",
        "t0=time.time()\n",
        "scores = cross_val_score(pipeline, X, Y, cv= KFold(n_splits=5, shuffle=True, random_state=28))\n",
        "t1=time.time()"
      ],
      "execution_count": null,
      "outputs": [
        {
          "output_type": "stream",
          "name": "stdout",
          "text": [
            "[Pipeline] ... (step 1 of 2) Processing tfidfvectorizer, total=   2.5s\n",
            "[Pipeline]  (step 2 of 2) Processing decisiontreeclassifier, total= 1.7min\n",
            "[Pipeline] ... (step 1 of 2) Processing tfidfvectorizer, total=   2.4s\n",
            "[Pipeline]  (step 2 of 2) Processing decisiontreeclassifier, total= 1.6min\n",
            "[Pipeline] ... (step 1 of 2) Processing tfidfvectorizer, total=   2.3s\n",
            "[Pipeline]  (step 2 of 2) Processing decisiontreeclassifier, total= 1.7min\n",
            "[Pipeline] ... (step 1 of 2) Processing tfidfvectorizer, total=   2.3s\n",
            "[Pipeline]  (step 2 of 2) Processing decisiontreeclassifier, total= 1.6min\n",
            "[Pipeline] ... (step 1 of 2) Processing tfidfvectorizer, total=   2.4s\n",
            "[Pipeline]  (step 2 of 2) Processing decisiontreeclassifier, total= 1.7min\n"
          ]
        }
      ]
    },
    {
      "cell_type": "code",
      "metadata": {
        "colab": {
          "base_uri": "https://localhost:8080/"
        },
        "id": "Bss2p-we79Wh",
        "outputId": "c9f77b11-5b64-4e52-d5e9-f055907a68c7"
      },
      "source": [
        "print(\"Decision Tree Classifier K-fold accuracy:\", scores.mean())\n",
        "print(\"Time executed:\", t1-t0)"
      ],
      "execution_count": null,
      "outputs": [
        {
          "output_type": "stream",
          "name": "stdout",
          "text": [
            "Decision Tree Classifier K-fold accuracy: 0.9289329593649539\n",
            "Time executed: 507.64650893211365\n"
          ]
        }
      ]
    },
    {
      "cell_type": "markdown",
      "source": [
        "## GridSearch CV on DecisionTree Classifier"
      ],
      "metadata": {
        "id": "gyHE9gMLalfT"
      }
    },
    {
      "cell_type": "code",
      "source": [
        "param_grid = {\n",
        "    'decisiontreeclassifier__criterion': ('gini', 'entropy'),\n",
        "    'decisiontreeclassifier__splitter': ('best', 'random'),\n",
        "    'decisiontreeclassifier__max_depth': [100, 200] + ['None'],\n",
        "    'decisiontreeclassifier__min_samples_split': [2, 3],\n",
        "    'decisiontreeclassifier__min_samples_leaf': [1, 2],\n",
        "    'decisiontreeclassifier__max_features': ['auto', 'sqrt', 'log2', 'None'],\n",
        "    'decisiontreeclassifier__max_leaf_nodes':  [1000, 2000] + ['None'],\n",
        "    'decisiontreeclassifier__min_impurity_decrease': [0, 5],\n",
        "    'decisiontreeclassifier__ccp_alpha': [0, 2]\n",
        "}\n",
        "\n",
        "# param_grid = {\n",
        "#     'decisiontreeclassifier__criterion': ('gini', 'entropy'),\n",
        "#     'decisiontreeclassifier__splitter': ('best', 'random'),\n",
        "#     'decisiontreeclassifier__max_depth': list(range(100, 201, 50) + ['None'],\n",
        "#     'decisiontreeclassifier__min_samples_split': np.arange(0.5, 3.6, 1.5).tolist(),\n",
        "#     'decisiontreeclassifier__min_samples_leaf': np.arange(0.5, 1.6, 0.5).tolist(),\n",
        "#     'decisiontreeclassifier__max_features': list(range(1000, 3001, 1000)) + ['auto', 'sqrt', 'log2', 'None'],\n",
        "#     'decisiontreeclassifier__max_leaf_nodes': list(range(1000, 2001, 500)) + ['None'],\n",
        "#     'decisiontreeclassifier__min_impurity_decrease': np.arrange(0, 3.6, 1.5).tolist(),\n",
        "#     'decisiontreeclassifier__ccp_alpha': np.arange(0.5, 1.6, 0.5).tolist(),\n",
        "# }\n",
        "\n",
        "# param_grid = {\n",
        "#     'decisiontreeclassifier__criterion': ('gini', 'entropy'),\n",
        "#     'decisiontreeclassifier__splitter': ('best', 'random'),\n",
        "#     'decisiontreeclassifier__max_depth': [100, 150, 200] + ['None'],\n",
        "#     'decisiontreeclassifier__min_samples_split': [1.5, 2, 3.5],\n",
        "#     'decisiontreeclassifier__min_samples_leaf': [0.5, 1, 1.5],\n",
        "#     'decisiontreeclassifier__max_features': [1000, 2000, 3000] + ['auto', 'sqrt', 'log2', 'None'],\n",
        "#     'decisiontreeclassifier__max_leaf_nodes': [1000, 1500, 2000] + ['None'],\n",
        "#     'decisiontreeclassifier__min_impurity_decrease': [0, 1.5, 3],\n",
        "#     'decisiontreeclassifier__ccp_alpha': [0, 0.5, 1]\n",
        "# }"
      ],
      "metadata": {
        "id": "lEoyzgzfdWyX"
      },
      "execution_count": null,
      "outputs": []
    },
    {
      "cell_type": "code",
      "source": [
        "DTsC = DecisionTreeClassifier()\n",
        "vectorizer = TfidfVectorizer(stop_words='english', ngram_range=(1,3))\n",
        "pipeline = make_pipeline(vectorizer, DTsC)\n",
        "grid_search_cv = GridSearchCV(pipeline, param_grid=param_grid).fit(X, Y)"
      ],
      "metadata": {
        "id": "diUlvxxhaxmy"
      },
      "execution_count": null,
      "outputs": []
    },
    {
      "cell_type": "code",
      "source": [
        "grid_search_cv.best_params_"
      ],
      "metadata": {
        "id": "WBY76HfclrRO"
      },
      "execution_count": null,
      "outputs": []
    },
    {
      "cell_type": "markdown",
      "source": [
        "## Visualize\n"
      ],
      "metadata": {
        "id": "mDHfG40ThFxt"
      }
    },
    {
      "cell_type": "code",
      "metadata": {
        "colab": {
          "base_uri": "https://localhost:8080/",
          "height": 751
        },
        "id": "KZZqbzOeCetN",
        "outputId": "68651d07-1051-41d8-d758-ec6582ee7ae3"
      },
      "source": [
        "vectorizer = TfidfVectorizer(stop_words='english', ngram_range=(1,3))\n",
        "temp = vectorizer.fit_transform(X)\n",
        "feature_names=vectorizer.get_feature_names_out()\n",
        "\n",
        "DTsC = DecisionTreeClassifier().fit(temp, Y)\n",
        "\n",
        "plot_tree(DTsC, max_depth=3, feature_names=feature_names, filled=True)"
      ],
      "execution_count": null,
      "outputs": [
        {
          "output_type": "execute_result",
          "data": {
            "text/plain": [
              "[Text(176.36785714285713, 195.696, 'man <= 0.028\\ngini = 0.497\\nsamples = 55328\\nvalue = [29970, 25358]'),\n",
              " Text(95.65714285714286, 152.208, 'trump <= 0.077\\ngini = 0.492\\nsamples = 52421\\nvalue = [29488, 22933]'),\n",
              " Text(47.82857142857143, 108.72, 'nation <= 0.041\\ngini = 0.496\\nsamples = 49573\\nvalue = [26936, 22637]'),\n",
              " Text(23.914285714285715, 65.232, 'report <= 0.031\\ngini = 0.495\\nsamples = 48843\\nvalue = [26894, 21949]'),\n",
              " Text(11.957142857142857, 21.744, '\\n  (...)  \\n'),\n",
              " Text(35.871428571428574, 21.744, '\\n  (...)  \\n'),\n",
              " Text(71.74285714285715, 65.232, 'nation strictest <= 0.122\\ngini = 0.108\\nsamples = 730\\nvalue = [42, 688]'),\n",
              " Text(59.785714285714285, 21.744, '\\n  (...)  \\n'),\n",
              " Text(83.7, 21.744, '\\n  (...)  \\n'),\n",
              " Text(143.4857142857143, 108.72, 'nation <= 0.054\\ngini = 0.186\\nsamples = 2848\\nvalue = [2552, 296]'),\n",
              " Text(119.57142857142857, 65.232, 'donald <= 0.104\\ngini = 0.178\\nsamples = 2827\\nvalue = [2548, 279]'),\n",
              " Text(107.61428571428571, 21.744, '\\n  (...)  \\n'),\n",
              " Text(131.52857142857144, 21.744, '\\n  (...)  \\n'),\n",
              " Text(167.4, 65.232, 'daca decision <= 0.14\\ngini = 0.308\\nsamples = 21\\nvalue = [4, 17]'),\n",
              " Text(155.44285714285715, 21.744, '\\n  (...)  \\n'),\n",
              " Text(179.35714285714286, 21.744, '\\n  (...)  \\n'),\n",
              " Text(257.0785714285714, 152.208, 'police <= 0.105\\ngini = 0.277\\nsamples = 2907\\nvalue = [482, 2425]'),\n",
              " Text(227.18571428571428, 108.72, 'accused <= 0.07\\ngini = 0.257\\nsamples = 2843\\nvalue = [430, 2413]'),\n",
              " Text(215.22857142857143, 65.232, 'area <= 0.044\\ngini = 0.247\\nsamples = 2819\\nvalue = [406, 2413]'),\n",
              " Text(203.27142857142857, 21.744, '\\n  (...)  \\n'),\n",
              " Text(227.18571428571428, 21.744, '\\n  (...)  \\n'),\n",
              " Text(239.14285714285714, 65.232, 'gini = 0.0\\nsamples = 24\\nvalue = [24, 0]'),\n",
              " Text(286.9714285714286, 108.72, 'man <= 0.097\\ngini = 0.305\\nsamples = 64\\nvalue = [52, 12]'),\n",
              " Text(263.0571428571429, 65.232, 'police investigate reports <= 0.125\\ngini = 0.153\\nsamples = 48\\nvalue = [44, 4]'),\n",
              " Text(251.1, 21.744, '\\n  (...)  \\n'),\n",
              " Text(275.01428571428573, 21.744, '\\n  (...)  \\n'),\n",
              " Text(310.8857142857143, 65.232, 'shot police <= 0.128\\ngini = 0.5\\nsamples = 16\\nvalue = [8, 8]'),\n",
              " Text(298.92857142857144, 21.744, '\\n  (...)  \\n'),\n",
              " Text(322.84285714285716, 21.744, '\\n  (...)  \\n')]"
            ]
          },
          "metadata": {},
          "execution_count": 16
        },
        {
          "output_type": "display_data",
          "data": {
            "image/png": "[encoded data removed]",
            "text/plain": [
              "<Figure size 432x288 with 1 Axes>"
            ]
          },
          "metadata": {
            "needs_background": "light"
          }
        }
      ]
    },
    {
      "cell_type": "code",
      "source": [
        "vectorizer = TfidfVectorizer(stop_words='english', ngram_range=(1,3))\n",
        "temp = vectorizer.fit_transform(X)\n",
        "feature_names=vectorizer.get_feature_names_out()\n",
        "\n",
        "DTsC = DecisionTreeClassifier().fit(temp, Y)\n",
        "\n",
        "src_data = export_graphviz(DTsC, max_depth=3, feature_names=feature_names, class_names=['not_sarcastic', 'is_sarcastic'], filled=True) \n",
        "graphviz.Source(src_data)"
      ],
      "metadata": {
        "colab": {
          "base_uri": "https://localhost:8080/",
          "height": 735
        },
        "id": "56hLCCnWSTPk",
        "outputId": "c286cadb-e5d8-4f22-e31a-6387c2dfb9fd"
      },
      "execution_count": null,
      "outputs": [
        {
          "output_type": "execute_result",
          "data": {
            "text/plain": [
              "<graphviz.files.Source at 0x7fecc21a3a50>"
            ],
            "image/svg+xml": "<?xml version=\"1.0\" encoding=\"UTF-8\" standalone=\"no\"?>\n<!DOCTYPE svg PUBLIC \"-//W3C//DTD SVG 1.1//EN\"\n \"http://www.w3.org/Graphics/SVG/1.1/DTD/svg11.dtd\">\n<!-- Generated by graphviz version 2.40.1 (20161225.0304)\n -->\n<!-- Title: Tree Pages: 1 -->\n<svg width=\"1502pt\" height=\"520pt\"\n viewBox=\"0.00 0.00 1502.00 520.00\" xmlns=\"http://www.w3.org/2000/svg\" xmlns:xlink=\"http://www.w3.org/1999/xlink\">\n<g id=\"graph0\" class=\"graph\" transform=\"scale(1 1) rotate(0) translate(4 516)\">\n<title>Tree</title>\n<polygon fill=\"#ffffff\" stroke=\"transparent\" points=\"-4,4 -4,-516 1498,-516 1498,4 -4,4\"/>\n<!-- 0 -->\n<g id=\"node1\" class=\"node\">\n<title>0</title>\n<polygon fill=\"#fbece1\" stroke=\"#000000\" points=\"793,-512 628,-512 628,-429 793,-429 793,-512\"/>\n<text text-anchor=\"middle\" x=\"710.5\" y=\"-496.8\" font-family=\"Helvetica,sans-Serif\" font-size=\"14.00\" fill=\"#000000\">man &lt;= 0.028</text>\n<text text-anchor=\"middle\" x=\"710.5\" y=\"-481.8\" font-family=\"Helvetica,sans-Serif\" font-size=\"14.00\" fill=\"#000000\">gini = 0.497</text>\n<text text-anchor=\"middle\" x=\"710.5\" y=\"-466.8\" font-family=\"Helvetica,sans-Serif\" font-size=\"14.00\" fill=\"#000000\">samples = 55328</text>\n<text text-anchor=\"middle\" x=\"710.5\" y=\"-451.8\" font-family=\"Helvetica,sans-Serif\" font-size=\"14.00\" fill=\"#000000\">value = [29970, 25358]</text>\n<text text-anchor=\"middle\" x=\"710.5\" y=\"-436.8\" font-family=\"Helvetica,sans-Serif\" font-size=\"14.00\" fill=\"#000000\">class = not_sarcastic</text>\n</g>\n<!-- 1 -->\n<g id=\"node2\" class=\"node\">\n<title>1</title>\n<polygon fill=\"#f9e3d3\" stroke=\"#000000\" points=\"606,-393 441,-393 441,-310 606,-310 606,-393\"/>\n<text text-anchor=\"middle\" x=\"523.5\" y=\"-377.8\" font-family=\"Helvetica,sans-Serif\" font-size=\"14.00\" fill=\"#000000\">trump &lt;= 0.077</text>\n<text text-anchor=\"middle\" x=\"523.5\" y=\"-362.8\" font-family=\"Helvetica,sans-Serif\" font-size=\"14.00\" fill=\"#000000\">gini = 0.492</text>\n<text text-anchor=\"middle\" x=\"523.5\" y=\"-347.8\" font-family=\"Helvetica,sans-Serif\" font-size=\"14.00\" fill=\"#000000\">samples = 52421</text>\n<text text-anchor=\"middle\" x=\"523.5\" y=\"-332.8\" font-family=\"Helvetica,sans-Serif\" font-size=\"14.00\" fill=\"#000000\">value = [29488, 22933]</text>\n<text text-anchor=\"middle\" x=\"523.5\" y=\"-317.8\" font-family=\"Helvetica,sans-Serif\" font-size=\"14.00\" fill=\"#000000\">class = not_sarcastic</text>\n</g>\n<!-- 0&#45;&gt;1 -->\n<g id=\"edge1\" class=\"edge\">\n<title>0&#45;&gt;1</title>\n<path fill=\"none\" stroke=\"#000000\" d=\"M645.0965,-428.8796C629.7226,-419.0962 613.2315,-408.6019 597.5098,-398.5971\"/>\n<polygon fill=\"#000000\" stroke=\"#000000\" points=\"599.1823,-395.5129 588.8666,-393.0969 595.4241,-401.4185 599.1823,-395.5129\"/>\n<text text-anchor=\"middle\" x=\"594.2899\" y=\"-413.8016\" font-family=\"Helvetica,sans-Serif\" font-size=\"14.00\" fill=\"#000000\">True</text>\n</g>\n<!-- 9564 -->\n<g id=\"node17\" class=\"node\">\n<title>9564</title>\n<polygon fill=\"#60b0ea\" stroke=\"#000000\" points=\"961,-393 818,-393 818,-310 961,-310 961,-393\"/>\n<text text-anchor=\"middle\" x=\"889.5\" y=\"-377.8\" font-family=\"Helvetica,sans-Serif\" font-size=\"14.00\" fill=\"#000000\">police &lt;= 0.105</text>\n<text text-anchor=\"middle\" x=\"889.5\" y=\"-362.8\" font-family=\"Helvetica,sans-Serif\" font-size=\"14.00\" fill=\"#000000\">gini = 0.277</text>\n<text text-anchor=\"middle\" x=\"889.5\" y=\"-347.8\" font-family=\"Helvetica,sans-Serif\" font-size=\"14.00\" fill=\"#000000\">samples = 2907</text>\n<text text-anchor=\"middle\" x=\"889.5\" y=\"-332.8\" font-family=\"Helvetica,sans-Serif\" font-size=\"14.00\" fill=\"#000000\">value = [482, 2425]</text>\n<text text-anchor=\"middle\" x=\"889.5\" y=\"-317.8\" font-family=\"Helvetica,sans-Serif\" font-size=\"14.00\" fill=\"#000000\">class = is_sarcastic</text>\n</g>\n<!-- 0&#45;&gt;9564 -->\n<g id=\"edge16\" class=\"edge\">\n<title>0&#45;&gt;9564</title>\n<path fill=\"none\" stroke=\"#000000\" d=\"M773.1055,-428.8796C787.6854,-419.1868 803.3151,-408.7961 818.2382,-398.8752\"/>\n<polygon fill=\"#000000\" stroke=\"#000000\" points=\"820.5399,-401.5479 826.9298,-393.0969 816.6645,-395.7185 820.5399,-401.5479\"/>\n<text text-anchor=\"middle\" x=\"821.9953\" y=\"-413.9051\" font-family=\"Helvetica,sans-Serif\" font-size=\"14.00\" fill=\"#000000\">False</text>\n</g>\n<!-- 2 -->\n<g id=\"node3\" class=\"node\">\n<title>2</title>\n<polygon fill=\"#fbebdf\" stroke=\"#000000\" points=\"337,-274 172,-274 172,-191 337,-191 337,-274\"/>\n<text text-anchor=\"middle\" x=\"254.5\" y=\"-258.8\" font-family=\"Helvetica,sans-Serif\" font-size=\"14.00\" fill=\"#000000\">nation &lt;= 0.041</text>\n<text text-anchor=\"middle\" x=\"254.5\" y=\"-243.8\" font-family=\"Helvetica,sans-Serif\" font-size=\"14.00\" fill=\"#000000\">gini = 0.496</text>\n<text text-anchor=\"middle\" x=\"254.5\" y=\"-228.8\" font-family=\"Helvetica,sans-Serif\" font-size=\"14.00\" fill=\"#000000\">samples = 49573</text>\n<text text-anchor=\"middle\" x=\"254.5\" y=\"-213.8\" font-family=\"Helvetica,sans-Serif\" font-size=\"14.00\" fill=\"#000000\">value = [26936, 22637]</text>\n<text text-anchor=\"middle\" x=\"254.5\" y=\"-198.8\" font-family=\"Helvetica,sans-Serif\" font-size=\"14.00\" fill=\"#000000\">class = not_sarcastic</text>\n</g>\n<!-- 1&#45;&gt;2 -->\n<g id=\"edge2\" class=\"edge\">\n<title>1&#45;&gt;2</title>\n<path fill=\"none\" stroke=\"#000000\" d=\"M440.963,-314.9874C411.1511,-301.7992 377.3144,-286.8305 346.7252,-273.2985\"/>\n<polygon fill=\"#000000\" stroke=\"#000000\" points=\"347.9054,-269.9935 337.3443,-269.1486 345.0735,-276.3951 347.9054,-269.9935\"/>\n</g>\n<!-- 9299 -->\n<g id=\"node10\" class=\"node\">\n<title>9299</title>\n<polygon fill=\"#e89050\" stroke=\"#000000\" points=\"599.5,-274 447.5,-274 447.5,-191 599.5,-191 599.5,-274\"/>\n<text text-anchor=\"middle\" x=\"523.5\" y=\"-258.8\" font-family=\"Helvetica,sans-Serif\" font-size=\"14.00\" fill=\"#000000\">nation &lt;= 0.054</text>\n<text text-anchor=\"middle\" x=\"523.5\" y=\"-243.8\" font-family=\"Helvetica,sans-Serif\" font-size=\"14.00\" fill=\"#000000\">gini = 0.186</text>\n<text text-anchor=\"middle\" x=\"523.5\" y=\"-228.8\" font-family=\"Helvetica,sans-Serif\" font-size=\"14.00\" fill=\"#000000\">samples = 2848</text>\n<text text-anchor=\"middle\" x=\"523.5\" y=\"-213.8\" font-family=\"Helvetica,sans-Serif\" font-size=\"14.00\" fill=\"#000000\">value = [2552, 296]</text>\n<text text-anchor=\"middle\" x=\"523.5\" y=\"-198.8\" font-family=\"Helvetica,sans-Serif\" font-size=\"14.00\" fill=\"#000000\">class = not_sarcastic</text>\n</g>\n<!-- 1&#45;&gt;9299 -->\n<g id=\"edge9\" class=\"edge\">\n<title>1&#45;&gt;9299</title>\n<path fill=\"none\" stroke=\"#000000\" d=\"M523.5,-309.8796C523.5,-301.6838 523.5,-292.9891 523.5,-284.5013\"/>\n<polygon fill=\"#000000\" stroke=\"#000000\" points=\"527.0001,-284.298 523.5,-274.2981 520.0001,-284.2981 527.0001,-284.298\"/>\n</g>\n<!-- 3 -->\n<g id=\"node4\" class=\"node\">\n<title>3</title>\n<polygon fill=\"#fae8db\" stroke=\"#000000\" points=\"165,-155 0,-155 0,-72 165,-72 165,-155\"/>\n<text text-anchor=\"middle\" x=\"82.5\" y=\"-139.8\" font-family=\"Helvetica,sans-Serif\" font-size=\"14.00\" fill=\"#000000\">report &lt;= 0.031</text>\n<text text-anchor=\"middle\" x=\"82.5\" y=\"-124.8\" font-family=\"Helvetica,sans-Serif\" font-size=\"14.00\" fill=\"#000000\">gini = 0.495</text>\n<text text-anchor=\"middle\" x=\"82.5\" y=\"-109.8\" font-family=\"Helvetica,sans-Serif\" font-size=\"14.00\" fill=\"#000000\">samples = 48843</text>\n<text text-anchor=\"middle\" x=\"82.5\" y=\"-94.8\" font-family=\"Helvetica,sans-Serif\" font-size=\"14.00\" fill=\"#000000\">value = [26894, 21949]</text>\n<text text-anchor=\"middle\" x=\"82.5\" y=\"-79.8\" font-family=\"Helvetica,sans-Serif\" font-size=\"14.00\" fill=\"#000000\">class = not_sarcastic</text>\n</g>\n<!-- 2&#45;&gt;3 -->\n<g id=\"edge3\" class=\"edge\">\n<title>2&#45;&gt;3</title>\n<path fill=\"none\" stroke=\"#000000\" d=\"M194.3427,-190.8796C180.333,-181.1868 165.3146,-170.7961 150.975,-160.8752\"/>\n<polygon fill=\"#000000\" stroke=\"#000000\" points=\"152.8383,-157.9083 142.6233,-155.0969 148.8556,-163.6649 152.8383,-157.9083\"/>\n</g>\n<!-- 9262 -->\n<g id=\"node7\" class=\"node\">\n<title>9262</title>\n<polygon fill=\"#45a3e7\" stroke=\"#000000\" points=\"326,-155 183,-155 183,-72 326,-72 326,-155\"/>\n<text text-anchor=\"middle\" x=\"254.5\" y=\"-139.8\" font-family=\"Helvetica,sans-Serif\" font-size=\"14.00\" fill=\"#000000\">law &lt;= 0.15</text>\n<text text-anchor=\"middle\" x=\"254.5\" y=\"-124.8\" font-family=\"Helvetica,sans-Serif\" font-size=\"14.00\" fill=\"#000000\">gini = 0.108</text>\n<text text-anchor=\"middle\" x=\"254.5\" y=\"-109.8\" font-family=\"Helvetica,sans-Serif\" font-size=\"14.00\" fill=\"#000000\">samples = 730</text>\n<text text-anchor=\"middle\" x=\"254.5\" y=\"-94.8\" font-family=\"Helvetica,sans-Serif\" font-size=\"14.00\" fill=\"#000000\">value = [42, 688]</text>\n<text text-anchor=\"middle\" x=\"254.5\" y=\"-79.8\" font-family=\"Helvetica,sans-Serif\" font-size=\"14.00\" fill=\"#000000\">class = is_sarcastic</text>\n</g>\n<!-- 2&#45;&gt;9262 -->\n<g id=\"edge6\" class=\"edge\">\n<title>2&#45;&gt;9262</title>\n<path fill=\"none\" stroke=\"#000000\" d=\"M254.5,-190.8796C254.5,-182.6838 254.5,-173.9891 254.5,-165.5013\"/>\n<polygon fill=\"#000000\" stroke=\"#000000\" points=\"258.0001,-165.298 254.5,-155.2981 251.0001,-165.2981 258.0001,-165.298\"/>\n</g>\n<!-- 4 -->\n<g id=\"node5\" class=\"node\">\n<title>4</title>\n<polygon fill=\"#c0c0c0\" stroke=\"#000000\" points=\"73.5,-36 19.5,-36 19.5,0 73.5,0 73.5,-36\"/>\n<text text-anchor=\"middle\" x=\"46.5\" y=\"-14.3\" font-family=\"Helvetica,sans-Serif\" font-size=\"14.00\" fill=\"#000000\">(...)</text>\n</g>\n<!-- 3&#45;&gt;4 -->\n<g id=\"edge4\" class=\"edge\">\n<title>3&#45;&gt;4</title>\n<path fill=\"none\" stroke=\"#000000\" d=\"M66.8146,-71.8901C63.4739,-63.0279 60.025,-53.8788 56.9386,-45.6913\"/>\n<polygon fill=\"#000000\" stroke=\"#000000\" points=\"60.1877,-44.3878 53.3853,-36.2651 53.6376,-46.8569 60.1877,-44.3878\"/>\n</g>\n<!-- 9135 -->\n<g id=\"node6\" class=\"node\">\n<title>9135</title>\n<polygon fill=\"#c0c0c0\" stroke=\"#000000\" points=\"145.5,-36 91.5,-36 91.5,0 145.5,0 145.5,-36\"/>\n<text text-anchor=\"middle\" x=\"118.5\" y=\"-14.3\" font-family=\"Helvetica,sans-Serif\" font-size=\"14.00\" fill=\"#000000\">(...)</text>\n</g>\n<!-- 3&#45;&gt;9135 -->\n<g id=\"edge5\" class=\"edge\">\n<title>3&#45;&gt;9135</title>\n<path fill=\"none\" stroke=\"#000000\" d=\"M98.1854,-71.8901C101.5261,-63.0279 104.975,-53.8788 108.0614,-45.6913\"/>\n<polygon fill=\"#000000\" stroke=\"#000000\" points=\"111.3624,-46.8569 111.6147,-36.2651 104.8123,-44.3878 111.3624,-46.8569\"/>\n</g>\n<!-- 9263 -->\n<g id=\"node8\" class=\"node\">\n<title>9263</title>\n<polygon fill=\"#c0c0c0\" stroke=\"#000000\" points=\"249.5,-36 195.5,-36 195.5,0 249.5,0 249.5,-36\"/>\n<text text-anchor=\"middle\" x=\"222.5\" y=\"-14.3\" font-family=\"Helvetica,sans-Serif\" font-size=\"14.00\" fill=\"#000000\">(...)</text>\n</g>\n<!-- 9262&#45;&gt;9263 -->\n<g id=\"edge7\" class=\"edge\">\n<title>9262&#45;&gt;9263</title>\n<path fill=\"none\" stroke=\"#000000\" d=\"M240.5574,-71.8901C237.6205,-63.1253 234.5896,-54.0798 231.8693,-45.9615\"/>\n<polygon fill=\"#000000\" stroke=\"#000000\" points=\"235.1161,-44.6349 228.6202,-36.2651 228.4788,-46.859 235.1161,-44.6349\"/>\n</g>\n<!-- 9298 -->\n<g id=\"node9\" class=\"node\">\n<title>9298</title>\n<polygon fill=\"#c0c0c0\" stroke=\"#000000\" points=\"321.5,-36 267.5,-36 267.5,0 321.5,0 321.5,-36\"/>\n<text text-anchor=\"middle\" x=\"294.5\" y=\"-14.3\" font-family=\"Helvetica,sans-Serif\" font-size=\"14.00\" fill=\"#000000\">(...)</text>\n</g>\n<!-- 9262&#45;&gt;9298 -->\n<g id=\"edge8\" class=\"edge\">\n<title>9262&#45;&gt;9298</title>\n<path fill=\"none\" stroke=\"#000000\" d=\"M271.9282,-71.8901C275.6401,-63.0279 279.4722,-53.8788 282.9016,-45.6913\"/>\n<polygon fill=\"#000000\" stroke=\"#000000\" points=\"286.2146,-46.8409 286.8497,-36.2651 279.7581,-44.1365 286.2146,-46.8409\"/>\n</g>\n<!-- 9300 -->\n<g id=\"node11\" class=\"node\">\n<title>9300</title>\n<polygon fill=\"#e88f4f\" stroke=\"#000000\" points=\"496.5,-155 344.5,-155 344.5,-72 496.5,-72 496.5,-155\"/>\n<text text-anchor=\"middle\" x=\"420.5\" y=\"-139.8\" font-family=\"Helvetica,sans-Serif\" font-size=\"14.00\" fill=\"#000000\">donald &lt;= 0.104</text>\n<text text-anchor=\"middle\" x=\"420.5\" y=\"-124.8\" font-family=\"Helvetica,sans-Serif\" font-size=\"14.00\" fill=\"#000000\">gini = 0.178</text>\n<text text-anchor=\"middle\" x=\"420.5\" y=\"-109.8\" font-family=\"Helvetica,sans-Serif\" font-size=\"14.00\" fill=\"#000000\">samples = 2827</text>\n<text text-anchor=\"middle\" x=\"420.5\" y=\"-94.8\" font-family=\"Helvetica,sans-Serif\" font-size=\"14.00\" fill=\"#000000\">value = [2548, 279]</text>\n<text text-anchor=\"middle\" x=\"420.5\" y=\"-79.8\" font-family=\"Helvetica,sans-Serif\" font-size=\"14.00\" fill=\"#000000\">class = not_sarcastic</text>\n</g>\n<!-- 9299&#45;&gt;9300 -->\n<g id=\"edge10\" class=\"edge\">\n<title>9299&#45;&gt;9300</title>\n<path fill=\"none\" stroke=\"#000000\" d=\"M487.4756,-190.8796C479.6802,-181.8733 471.3633,-172.2644 463.3356,-162.9897\"/>\n<polygon fill=\"#000000\" stroke=\"#000000\" points=\"465.8691,-160.5686 456.6782,-155.2981 460.5763,-165.1498 465.8691,-160.5686\"/>\n</g>\n<!-- 9559 -->\n<g id=\"node14\" class=\"node\">\n<title>9559</title>\n<polygon fill=\"#68b4eb\" stroke=\"#000000\" points=\"716.5,-155 514.5,-155 514.5,-72 716.5,-72 716.5,-155\"/>\n<text text-anchor=\"middle\" x=\"615.5\" y=\"-139.8\" font-family=\"Helvetica,sans-Serif\" font-size=\"14.00\" fill=\"#000000\">debasement nation &lt;= 0.136</text>\n<text text-anchor=\"middle\" x=\"615.5\" y=\"-124.8\" font-family=\"Helvetica,sans-Serif\" font-size=\"14.00\" fill=\"#000000\">gini = 0.308</text>\n<text text-anchor=\"middle\" x=\"615.5\" y=\"-109.8\" font-family=\"Helvetica,sans-Serif\" font-size=\"14.00\" fill=\"#000000\">samples = 21</text>\n<text text-anchor=\"middle\" x=\"615.5\" y=\"-94.8\" font-family=\"Helvetica,sans-Serif\" font-size=\"14.00\" fill=\"#000000\">value = [4, 17]</text>\n<text text-anchor=\"middle\" x=\"615.5\" y=\"-79.8\" font-family=\"Helvetica,sans-Serif\" font-size=\"14.00\" fill=\"#000000\">class = is_sarcastic</text>\n</g>\n<!-- 9299&#45;&gt;9559 -->\n<g id=\"edge13\" class=\"edge\">\n<title>9299&#45;&gt;9559</title>\n<path fill=\"none\" stroke=\"#000000\" d=\"M555.6771,-190.8796C562.5704,-181.9633 569.9202,-172.4565 577.0239,-163.268\"/>\n<polygon fill=\"#000000\" stroke=\"#000000\" points=\"579.8381,-165.3502 583.1855,-155.2981 574.3001,-161.0687 579.8381,-165.3502\"/>\n</g>\n<!-- 9301 -->\n<g id=\"node12\" class=\"node\">\n<title>9301</title>\n<polygon fill=\"#c0c0c0\" stroke=\"#000000\" points=\"428.5,-36 374.5,-36 374.5,0 428.5,0 428.5,-36\"/>\n<text text-anchor=\"middle\" x=\"401.5\" y=\"-14.3\" font-family=\"Helvetica,sans-Serif\" font-size=\"14.00\" fill=\"#000000\">(...)</text>\n</g>\n<!-- 9300&#45;&gt;9301 -->\n<g id=\"edge11\" class=\"edge\">\n<title>9300&#45;&gt;9301</title>\n<path fill=\"none\" stroke=\"#000000\" d=\"M412.2216,-71.8901C410.4972,-63.2227 408.7182,-54.2808 407.1169,-46.2325\"/>\n<polygon fill=\"#000000\" stroke=\"#000000\" points=\"410.518,-45.3899 405.1339,-36.2651 403.6525,-46.7559 410.518,-45.3899\"/>\n</g>\n<!-- 9546 -->\n<g id=\"node13\" class=\"node\">\n<title>9546</title>\n<polygon fill=\"#c0c0c0\" stroke=\"#000000\" points=\"500.5,-36 446.5,-36 446.5,0 500.5,0 500.5,-36\"/>\n<text text-anchor=\"middle\" x=\"473.5\" y=\"-14.3\" font-family=\"Helvetica,sans-Serif\" font-size=\"14.00\" fill=\"#000000\">(...)</text>\n</g>\n<!-- 9300&#45;&gt;9546 -->\n<g id=\"edge12\" class=\"edge\">\n<title>9300&#45;&gt;9546</title>\n<path fill=\"none\" stroke=\"#000000\" d=\"M443.5924,-71.8901C448.6188,-62.8331 453.8115,-53.4765 458.4309,-45.1528\"/>\n<polygon fill=\"#000000\" stroke=\"#000000\" points=\"461.5711,-46.7073 463.3633,-36.2651 455.4504,-43.3104 461.5711,-46.7073\"/>\n</g>\n<!-- 9560 -->\n<g id=\"node15\" class=\"node\">\n<title>9560</title>\n<polygon fill=\"#c0c0c0\" stroke=\"#000000\" points=\"588.5,-36 534.5,-36 534.5,0 588.5,0 588.5,-36\"/>\n<text text-anchor=\"middle\" x=\"561.5\" y=\"-14.3\" font-family=\"Helvetica,sans-Serif\" font-size=\"14.00\" fill=\"#000000\">(...)</text>\n</g>\n<!-- 9559&#45;&gt;9560 -->\n<g id=\"edge14\" class=\"edge\">\n<title>9559&#45;&gt;9560</title>\n<path fill=\"none\" stroke=\"#000000\" d=\"M591.9719,-71.8901C586.8507,-62.8331 581.56,-53.4765 576.8534,-45.1528\"/>\n<polygon fill=\"#000000\" stroke=\"#000000\" points=\"579.7967,-43.2472 571.8279,-36.2651 573.7034,-46.6926 579.7967,-43.2472\"/>\n</g>\n<!-- 9563 -->\n<g id=\"node16\" class=\"node\">\n<title>9563</title>\n<polygon fill=\"#c0c0c0\" stroke=\"#000000\" points=\"660.5,-36 606.5,-36 606.5,0 660.5,0 660.5,-36\"/>\n<text text-anchor=\"middle\" x=\"633.5\" y=\"-14.3\" font-family=\"Helvetica,sans-Serif\" font-size=\"14.00\" fill=\"#000000\">(...)</text>\n</g>\n<!-- 9559&#45;&gt;9563 -->\n<g id=\"edge15\" class=\"edge\">\n<title>9559&#45;&gt;9563</title>\n<path fill=\"none\" stroke=\"#000000\" d=\"M623.3427,-71.8901C624.9764,-63.2227 626.6617,-54.2808 628.1787,-46.2325\"/>\n<polygon fill=\"#000000\" stroke=\"#000000\" points=\"631.6445,-46.7404 630.0574,-36.2651 624.7656,-45.4438 631.6445,-46.7404\"/>\n</g>\n<!-- 9565 -->\n<g id=\"node18\" class=\"node\">\n<title>9565</title>\n<polygon fill=\"#5caeea\" stroke=\"#000000\" points=\"961,-274 818,-274 818,-191 961,-191 961,-274\"/>\n<text text-anchor=\"middle\" x=\"889.5\" y=\"-258.8\" font-family=\"Helvetica,sans-Serif\" font-size=\"14.00\" fill=\"#000000\">accused &lt;= 0.07</text>\n<text text-anchor=\"middle\" x=\"889.5\" y=\"-243.8\" font-family=\"Helvetica,sans-Serif\" font-size=\"14.00\" fill=\"#000000\">gini = 0.257</text>\n<text text-anchor=\"middle\" x=\"889.5\" y=\"-228.8\" font-family=\"Helvetica,sans-Serif\" font-size=\"14.00\" fill=\"#000000\">samples = 2843</text>\n<text text-anchor=\"middle\" x=\"889.5\" y=\"-213.8\" font-family=\"Helvetica,sans-Serif\" font-size=\"14.00\" fill=\"#000000\">value = [430, 2413]</text>\n<text text-anchor=\"middle\" x=\"889.5\" y=\"-198.8\" font-family=\"Helvetica,sans-Serif\" font-size=\"14.00\" fill=\"#000000\">class = is_sarcastic</text>\n</g>\n<!-- 9564&#45;&gt;9565 -->\n<g id=\"edge17\" class=\"edge\">\n<title>9564&#45;&gt;9565</title>\n<path fill=\"none\" stroke=\"#000000\" d=\"M889.5,-309.8796C889.5,-301.6838 889.5,-292.9891 889.5,-284.5013\"/>\n<polygon fill=\"#000000\" stroke=\"#000000\" points=\"893.0001,-284.298 889.5,-274.2981 886.0001,-284.2981 893.0001,-284.298\"/>\n</g>\n<!-- 9830 -->\n<g id=\"node23\" class=\"node\">\n<title>9830</title>\n<polygon fill=\"#eb9e67\" stroke=\"#000000\" points=\"1257.5,-274 1105.5,-274 1105.5,-191 1257.5,-191 1257.5,-274\"/>\n<text text-anchor=\"middle\" x=\"1181.5\" y=\"-258.8\" font-family=\"Helvetica,sans-Serif\" font-size=\"14.00\" fill=\"#000000\">police &lt;= 0.142</text>\n<text text-anchor=\"middle\" x=\"1181.5\" y=\"-243.8\" font-family=\"Helvetica,sans-Serif\" font-size=\"14.00\" fill=\"#000000\">gini = 0.305</text>\n<text text-anchor=\"middle\" x=\"1181.5\" y=\"-228.8\" font-family=\"Helvetica,sans-Serif\" font-size=\"14.00\" fill=\"#000000\">samples = 64</text>\n<text text-anchor=\"middle\" x=\"1181.5\" y=\"-213.8\" font-family=\"Helvetica,sans-Serif\" font-size=\"14.00\" fill=\"#000000\">value = [52, 12]</text>\n<text text-anchor=\"middle\" x=\"1181.5\" y=\"-198.8\" font-family=\"Helvetica,sans-Serif\" font-size=\"14.00\" fill=\"#000000\">class = not_sarcastic</text>\n</g>\n<!-- 9564&#45;&gt;9830 -->\n<g id=\"edge22\" class=\"edge\">\n<title>9564&#45;&gt;9830</title>\n<path fill=\"none\" stroke=\"#000000\" d=\"M961.3052,-322.2369C1002.0513,-305.6315 1053.298,-284.7467 1096.0979,-267.3043\"/>\n<polygon fill=\"#000000\" stroke=\"#000000\" points=\"1097.4358,-270.5386 1105.3754,-263.5234 1094.794,-264.0562 1097.4358,-270.5386\"/>\n</g>\n<!-- 9566 -->\n<g id=\"node19\" class=\"node\">\n<title>9566</title>\n<polygon fill=\"#5aade9\" stroke=\"#000000\" points=\"878,-155 735,-155 735,-72 878,-72 878,-155\"/>\n<text text-anchor=\"middle\" x=\"806.5\" y=\"-139.8\" font-family=\"Helvetica,sans-Serif\" font-size=\"14.00\" fill=\"#000000\">area &lt;= 0.044</text>\n<text text-anchor=\"middle\" x=\"806.5\" y=\"-124.8\" font-family=\"Helvetica,sans-Serif\" font-size=\"14.00\" fill=\"#000000\">gini = 0.247</text>\n<text text-anchor=\"middle\" x=\"806.5\" y=\"-109.8\" font-family=\"Helvetica,sans-Serif\" font-size=\"14.00\" fill=\"#000000\">samples = 2819</text>\n<text text-anchor=\"middle\" x=\"806.5\" y=\"-94.8\" font-family=\"Helvetica,sans-Serif\" font-size=\"14.00\" fill=\"#000000\">value = [406, 2413]</text>\n<text text-anchor=\"middle\" x=\"806.5\" y=\"-79.8\" font-family=\"Helvetica,sans-Serif\" font-size=\"14.00\" fill=\"#000000\">class = is_sarcastic</text>\n</g>\n<!-- 9565&#45;&gt;9566 -->\n<g id=\"edge18\" class=\"edge\">\n<title>9565&#45;&gt;9566</title>\n<path fill=\"none\" stroke=\"#000000\" d=\"M860.4706,-190.8796C854.3145,-182.0534 847.7549,-172.6485 841.4064,-163.5466\"/>\n<polygon fill=\"#000000\" stroke=\"#000000\" points=\"844.2448,-161.4978 835.6533,-155.2981 838.5033,-165.5024 844.2448,-161.4978\"/>\n</g>\n<!-- 9829 -->\n<g id=\"node22\" class=\"node\">\n<title>9829</title>\n<polygon fill=\"#e58139\" stroke=\"#000000\" points=\"1048.5,-147.5 896.5,-147.5 896.5,-79.5 1048.5,-79.5 1048.5,-147.5\"/>\n<text text-anchor=\"middle\" x=\"972.5\" y=\"-132.3\" font-family=\"Helvetica,sans-Serif\" font-size=\"14.00\" fill=\"#000000\">gini = 0.0</text>\n<text text-anchor=\"middle\" x=\"972.5\" y=\"-117.3\" font-family=\"Helvetica,sans-Serif\" font-size=\"14.00\" fill=\"#000000\">samples = 24</text>\n<text text-anchor=\"middle\" x=\"972.5\" y=\"-102.3\" font-family=\"Helvetica,sans-Serif\" font-size=\"14.00\" fill=\"#000000\">value = [24, 0]</text>\n<text text-anchor=\"middle\" x=\"972.5\" y=\"-87.3\" font-family=\"Helvetica,sans-Serif\" font-size=\"14.00\" fill=\"#000000\">class = not_sarcastic</text>\n</g>\n<!-- 9565&#45;&gt;9829 -->\n<g id=\"edge21\" class=\"edge\">\n<title>9565&#45;&gt;9829</title>\n<path fill=\"none\" stroke=\"#000000\" d=\"M918.5294,-190.8796C926.3523,-179.6636 934.827,-167.5131 942.6917,-156.2372\"/>\n<polygon fill=\"#000000\" stroke=\"#000000\" points=\"945.716,-158.0192 948.5661,-147.8149 939.9746,-154.0147 945.716,-158.0192\"/>\n</g>\n<!-- 9567 -->\n<g id=\"node20\" class=\"node\">\n<title>9567</title>\n<polygon fill=\"#c0c0c0\" stroke=\"#000000\" points=\"797.5,-36 743.5,-36 743.5,0 797.5,0 797.5,-36\"/>\n<text text-anchor=\"middle\" x=\"770.5\" y=\"-14.3\" font-family=\"Helvetica,sans-Serif\" font-size=\"14.00\" fill=\"#000000\">(...)</text>\n</g>\n<!-- 9566&#45;&gt;9567 -->\n<g id=\"edge19\" class=\"edge\">\n<title>9566&#45;&gt;9567</title>\n<path fill=\"none\" stroke=\"#000000\" d=\"M790.8146,-71.8901C787.4739,-63.0279 784.025,-53.8788 780.9386,-45.6913\"/>\n<polygon fill=\"#000000\" stroke=\"#000000\" points=\"784.1877,-44.3878 777.3853,-36.2651 777.6376,-46.8569 784.1877,-44.3878\"/>\n</g>\n<!-- 9828 -->\n<g id=\"node21\" class=\"node\">\n<title>9828</title>\n<polygon fill=\"#c0c0c0\" stroke=\"#000000\" points=\"869.5,-36 815.5,-36 815.5,0 869.5,0 869.5,-36\"/>\n<text text-anchor=\"middle\" x=\"842.5\" y=\"-14.3\" font-family=\"Helvetica,sans-Serif\" font-size=\"14.00\" fill=\"#000000\">(...)</text>\n</g>\n<!-- 9566&#45;&gt;9828 -->\n<g id=\"edge20\" class=\"edge\">\n<title>9566&#45;&gt;9828</title>\n<path fill=\"none\" stroke=\"#000000\" d=\"M822.1854,-71.8901C825.5261,-63.0279 828.975,-53.8788 832.0614,-45.6913\"/>\n<polygon fill=\"#000000\" stroke=\"#000000\" points=\"835.3624,-46.8569 835.6147,-36.2651 828.8123,-44.3878 835.3624,-46.8569\"/>\n</g>\n<!-- 9831 -->\n<g id=\"node24\" class=\"node\">\n<title>9831</title>\n<polygon fill=\"#e78c4b\" stroke=\"#000000\" points=\"1296.5,-155 1066.5,-155 1066.5,-72 1296.5,-72 1296.5,-155\"/>\n<text text-anchor=\"middle\" x=\"1181.5\" y=\"-139.8\" font-family=\"Helvetica,sans-Serif\" font-size=\"14.00\" fill=\"#000000\">investigate reports local &lt;= 0.125</text>\n<text text-anchor=\"middle\" x=\"1181.5\" y=\"-124.8\" font-family=\"Helvetica,sans-Serif\" font-size=\"14.00\" fill=\"#000000\">gini = 0.153</text>\n<text text-anchor=\"middle\" x=\"1181.5\" y=\"-109.8\" font-family=\"Helvetica,sans-Serif\" font-size=\"14.00\" fill=\"#000000\">samples = 48</text>\n<text text-anchor=\"middle\" x=\"1181.5\" y=\"-94.8\" font-family=\"Helvetica,sans-Serif\" font-size=\"14.00\" fill=\"#000000\">value = [44, 4]</text>\n<text text-anchor=\"middle\" x=\"1181.5\" y=\"-79.8\" font-family=\"Helvetica,sans-Serif\" font-size=\"14.00\" fill=\"#000000\">class = not_sarcastic</text>\n</g>\n<!-- 9830&#45;&gt;9831 -->\n<g id=\"edge23\" class=\"edge\">\n<title>9830&#45;&gt;9831</title>\n<path fill=\"none\" stroke=\"#000000\" d=\"M1181.5,-190.8796C1181.5,-182.6838 1181.5,-173.9891 1181.5,-165.5013\"/>\n<polygon fill=\"#000000\" stroke=\"#000000\" points=\"1185.0001,-165.298 1181.5,-155.2981 1178.0001,-165.2981 1185.0001,-165.298\"/>\n</g>\n<!-- 9838 -->\n<g id=\"node27\" class=\"node\">\n<title>9838</title>\n<polygon fill=\"#ffffff\" stroke=\"#000000\" points=\"1494,-155 1315,-155 1315,-72 1494,-72 1494,-155\"/>\n<text text-anchor=\"middle\" x=\"1404.5\" y=\"-139.8\" font-family=\"Helvetica,sans-Serif\" font-size=\"14.00\" fill=\"#000000\">man shot police &lt;= 0.128</text>\n<text text-anchor=\"middle\" x=\"1404.5\" y=\"-124.8\" font-family=\"Helvetica,sans-Serif\" font-size=\"14.00\" fill=\"#000000\">gini = 0.5</text>\n<text text-anchor=\"middle\" x=\"1404.5\" y=\"-109.8\" font-family=\"Helvetica,sans-Serif\" font-size=\"14.00\" fill=\"#000000\">samples = 16</text>\n<text text-anchor=\"middle\" x=\"1404.5\" y=\"-94.8\" font-family=\"Helvetica,sans-Serif\" font-size=\"14.00\" fill=\"#000000\">value = [8, 8]</text>\n<text text-anchor=\"middle\" x=\"1404.5\" y=\"-79.8\" font-family=\"Helvetica,sans-Serif\" font-size=\"14.00\" fill=\"#000000\">class = not_sarcastic</text>\n</g>\n<!-- 9830&#45;&gt;9838 -->\n<g id=\"edge26\" class=\"edge\">\n<title>9830&#45;&gt;9838</title>\n<path fill=\"none\" stroke=\"#000000\" d=\"M1257.6202,-191.8798C1276.8776,-181.6034 1297.7058,-170.4888 1317.4571,-159.9489\"/>\n<polygon fill=\"#000000\" stroke=\"#000000\" points=\"1319.272,-162.9476 1326.4467,-155.1518 1315.9765,-156.7719 1319.272,-162.9476\"/>\n</g>\n<!-- 9832 -->\n<g id=\"node25\" class=\"node\">\n<title>9832</title>\n<polygon fill=\"#c0c0c0\" stroke=\"#000000\" points=\"1172.5,-36 1118.5,-36 1118.5,0 1172.5,0 1172.5,-36\"/>\n<text text-anchor=\"middle\" x=\"1145.5\" y=\"-14.3\" font-family=\"Helvetica,sans-Serif\" font-size=\"14.00\" fill=\"#000000\">(...)</text>\n</g>\n<!-- 9831&#45;&gt;9832 -->\n<g id=\"edge24\" class=\"edge\">\n<title>9831&#45;&gt;9832</title>\n<path fill=\"none\" stroke=\"#000000\" d=\"M1165.8146,-71.8901C1162.4739,-63.0279 1159.025,-53.8788 1155.9386,-45.6913\"/>\n<polygon fill=\"#000000\" stroke=\"#000000\" points=\"1159.1877,-44.3878 1152.3853,-36.2651 1152.6376,-46.8569 1159.1877,-44.3878\"/>\n</g>\n<!-- 9837 -->\n<g id=\"node26\" class=\"node\">\n<title>9837</title>\n<polygon fill=\"#c0c0c0\" stroke=\"#000000\" points=\"1244.5,-36 1190.5,-36 1190.5,0 1244.5,0 1244.5,-36\"/>\n<text text-anchor=\"middle\" x=\"1217.5\" y=\"-14.3\" font-family=\"Helvetica,sans-Serif\" font-size=\"14.00\" fill=\"#000000\">(...)</text>\n</g>\n<!-- 9831&#45;&gt;9837 -->\n<g id=\"edge25\" class=\"edge\">\n<title>9831&#45;&gt;9837</title>\n<path fill=\"none\" stroke=\"#000000\" d=\"M1197.1854,-71.8901C1200.5261,-63.0279 1203.975,-53.8788 1207.0614,-45.6913\"/>\n<polygon fill=\"#000000\" stroke=\"#000000\" points=\"1210.3624,-46.8569 1210.6147,-36.2651 1203.8123,-44.3878 1210.3624,-46.8569\"/>\n</g>\n<!-- 9839 -->\n<g id=\"node28\" class=\"node\">\n<title>9839</title>\n<polygon fill=\"#c0c0c0\" stroke=\"#000000\" points=\"1395.5,-36 1341.5,-36 1341.5,0 1395.5,0 1395.5,-36\"/>\n<text text-anchor=\"middle\" x=\"1368.5\" y=\"-14.3\" font-family=\"Helvetica,sans-Serif\" font-size=\"14.00\" fill=\"#000000\">(...)</text>\n</g>\n<!-- 9838&#45;&gt;9839 -->\n<g id=\"edge27\" class=\"edge\">\n<title>9838&#45;&gt;9839</title>\n<path fill=\"none\" stroke=\"#000000\" d=\"M1388.8146,-71.8901C1385.4739,-63.0279 1382.025,-53.8788 1378.9386,-45.6913\"/>\n<polygon fill=\"#000000\" stroke=\"#000000\" points=\"1382.1877,-44.3878 1375.3853,-36.2651 1375.6376,-46.8569 1382.1877,-44.3878\"/>\n</g>\n<!-- 9844 -->\n<g id=\"node29\" class=\"node\">\n<title>9844</title>\n<polygon fill=\"#c0c0c0\" stroke=\"#000000\" points=\"1467.5,-36 1413.5,-36 1413.5,0 1467.5,0 1467.5,-36\"/>\n<text text-anchor=\"middle\" x=\"1440.5\" y=\"-14.3\" font-family=\"Helvetica,sans-Serif\" font-size=\"14.00\" fill=\"#000000\">(...)</text>\n</g>\n<!-- 9838&#45;&gt;9844 -->\n<g id=\"edge28\" class=\"edge\">\n<title>9838&#45;&gt;9844</title>\n<path fill=\"none\" stroke=\"#000000\" d=\"M1420.1854,-71.8901C1423.5261,-63.0279 1426.975,-53.8788 1430.0614,-45.6913\"/>\n<polygon fill=\"#000000\" stroke=\"#000000\" points=\"1433.3624,-46.8569 1433.6147,-36.2651 1426.8123,-44.3878 1433.3624,-46.8569\"/>\n</g>\n</g>\n</svg>\n"
          },
          "metadata": {},
          "execution_count": 17
        }
      ]
    },
    {
      "cell_type": "markdown",
      "source": [
        "# Naive Bayes\n"
      ],
      "metadata": {
        "id": "Gr6P2LmVltjO"
      }
    },
    {
      "cell_type": "code",
      "source": [
        "# Create Model\n",
        "nb = ComplementNB()\n",
        "vectorizer = TfidfVectorizer(stop_words='english', ngram_range=(1,3))\n",
        "\n",
        "# Make pineline\n",
        "pipeline = make_pipeline(vectorizer, nb, verbose=True)\n",
        "\n",
        "# K-Fold Cross Valuation with K = 5\n",
        "t0=time.time()\n",
        "scores = cross_val_score(pipeline, X, Y, cv= KFold(n_splits=5, shuffle=True, random_state=28))\n",
        "t1=time.time()"
      ],
      "metadata": {
        "colab": {
          "base_uri": "https://localhost:8080/"
        },
        "outputId": "448a5f75-0b23-427b-9a34-5d9c4f4f242f",
        "id": "JOKPFDbyltjQ"
      },
      "execution_count": null,
      "outputs": [
        {
          "output_type": "stream",
          "name": "stdout",
          "text": [
            "[Pipeline] ... (step 1 of 2) Processing tfidfvectorizer, total=   2.5s\n",
            "[Pipeline] ...... (step 2 of 2) Processing complementnb, total=   0.0s\n",
            "[Pipeline] ... (step 1 of 2) Processing tfidfvectorizer, total=   2.4s\n",
            "[Pipeline] ...... (step 2 of 2) Processing complementnb, total=   0.0s\n",
            "[Pipeline] ... (step 1 of 2) Processing tfidfvectorizer, total=   2.4s\n",
            "[Pipeline] ...... (step 2 of 2) Processing complementnb, total=   0.0s\n",
            "[Pipeline] ... (step 1 of 2) Processing tfidfvectorizer, total=   2.4s\n",
            "[Pipeline] ...... (step 2 of 2) Processing complementnb, total=   0.0s\n",
            "[Pipeline] ... (step 1 of 2) Processing tfidfvectorizer, total=   2.3s\n",
            "[Pipeline] ...... (step 2 of 2) Processing complementnb, total=   0.0s\n"
          ]
        }
      ]
    },
    {
      "cell_type": "code",
      "source": [
        "print(\"Naive Bayes K-fold accuracy:\", scores.mean())\n",
        "print(\"Time executed:\", t1-t0)"
      ],
      "metadata": {
        "colab": {
          "base_uri": "https://localhost:8080/"
        },
        "outputId": "0545792d-9d7d-437f-bdc9-0190f044a4c8",
        "id": "HRaLApO1ltjS"
      },
      "execution_count": null,
      "outputs": [
        {
          "output_type": "stream",
          "name": "stdout",
          "text": [
            "Naive Bayes K-fold accuracy: 0.9481094911858186\n",
            "Time executed: 13.956387996673584\n"
          ]
        }
      ]
    },
    {
      "cell_type": "markdown",
      "source": [
        "# SVM Classification"
      ],
      "metadata": {
        "id": "oWvtausMgtrC"
      }
    },
    {
      "cell_type": "code",
      "source": [
        "# Create Model\n",
        "svm = SVC()\n",
        "vectorizer = TfidfVectorizer(stop_words='english', ngram_range=(1,3))\n",
        "\n",
        "# Make pineline\n",
        "pipeline = make_pipeline(vectorizer, svm, verbose=True)\n",
        "\n",
        "# K-Fold Cross Valuation with K = 5\n",
        "t0=time.time()\n",
        "scores = cross_val_score(pipeline, X, Y, cv= KFold(n_splits=5, shuffle=True, random_state=28))\n",
        "t1=time.time()"
      ],
      "metadata": {
        "colab": {
          "base_uri": "https://localhost:8080/"
        },
        "id": "tloUJIsKj6qW",
        "outputId": "068fdf96-2c6e-4088-eb26-1c06a3f75350"
      },
      "execution_count": null,
      "outputs": [
        {
          "output_type": "stream",
          "name": "stdout",
          "text": [
            "[Pipeline] ... (step 1 of 2) Processing tfidfvectorizer, total=   2.6s\n",
            "[Pipeline] ............... (step 2 of 2) Processing svc, total=11.9min\n",
            "[Pipeline] ... (step 1 of 2) Processing tfidfvectorizer, total=   2.5s\n",
            "[Pipeline] ............... (step 2 of 2) Processing svc, total=12.5min\n",
            "[Pipeline] ... (step 1 of 2) Processing tfidfvectorizer, total=   2.5s\n",
            "[Pipeline] ............... (step 2 of 2) Processing svc, total=11.9min\n",
            "[Pipeline] ... (step 1 of 2) Processing tfidfvectorizer, total=   2.5s\n",
            "[Pipeline] ............... (step 2 of 2) Processing svc, total=12.6min\n",
            "[Pipeline] ... (step 1 of 2) Processing tfidfvectorizer, total=   2.5s\n",
            "[Pipeline] ............... (step 2 of 2) Processing svc, total=12.1min\n"
          ]
        }
      ]
    },
    {
      "cell_type": "code",
      "source": [
        "print(\"SVM Classification K-fold accuracy:\", scores.mean())\n",
        "print(\"Time executed:\", t1-t0)"
      ],
      "metadata": {
        "colab": {
          "base_uri": "https://localhost:8080/"
        },
        "id": "kffXrVDJj8I0",
        "outputId": "1b7dcd0e-b039-4b51-fb7a-4ae714a28ed5"
      },
      "execution_count": null,
      "outputs": [
        {
          "output_type": "stream",
          "name": "stdout",
          "text": [
            "SVM Classification K-fold accuracy: 0.9535497853776164\n",
            "Time executed: 3948.7406299114227\n"
          ]
        }
      ]
    },
    {
      "cell_type": "markdown",
      "source": [
        "# Logistic Regression\n"
      ],
      "metadata": {
        "id": "A8dikH0MgoVB"
      }
    },
    {
      "cell_type": "code",
      "source": [
        "# Create Model\n",
        "logreg = LogisticRegression()\n",
        "vectorizer = TfidfVectorizer(stop_words='english', ngram_range=(1,3))\n",
        "\n",
        "# Make pineline\n",
        "pipeline = make_pipeline(vectorizer, logreg, verbose=True)\n",
        "\n",
        "# K-Fold Cross Valuation with K = 5\n",
        "t0=time.time()\n",
        "scores = cross_val_score(pipeline, X, Y, cv= KFold(n_splits=5, shuffle=True, random_state=28))\n",
        "t1=time.time()"
      ],
      "metadata": {
        "colab": {
          "base_uri": "https://localhost:8080/"
        },
        "id": "q3dD4gB-gtF4",
        "outputId": "69661875-fdff-408c-b954-c815ffa5a479"
      },
      "execution_count": null,
      "outputs": [
        {
          "output_type": "stream",
          "name": "stdout",
          "text": [
            "[Pipeline] ... (step 1 of 2) Processing tfidfvectorizer, total=   2.5s\n",
            "[Pipeline]  (step 2 of 2) Processing logisticregression, total=   8.6s\n",
            "[Pipeline] ... (step 1 of 2) Processing tfidfvectorizer, total=   2.5s\n",
            "[Pipeline]  (step 2 of 2) Processing logisticregression, total=   6.1s\n",
            "[Pipeline] ... (step 1 of 2) Processing tfidfvectorizer, total=   2.4s\n",
            "[Pipeline]  (step 2 of 2) Processing logisticregression, total=   4.3s\n",
            "[Pipeline] ... (step 1 of 2) Processing tfidfvectorizer, total=   2.5s\n",
            "[Pipeline]  (step 2 of 2) Processing logisticregression, total=   6.8s\n",
            "[Pipeline] ... (step 1 of 2) Processing tfidfvectorizer, total=   2.4s\n"
          ]
        },
        {
          "output_type": "stream",
          "name": "stderr",
          "text": [
            "/usr/local/lib/python3.7/dist-packages/sklearn/linear_model/_logistic.py:818: ConvergenceWarning: lbfgs failed to converge (status=1):\n",
            "STOP: TOTAL NO. of ITERATIONS REACHED LIMIT.\n",
            "\n",
            "Increase the number of iterations (max_iter) or scale the data as shown in:\n",
            "    https://scikit-learn.org/stable/modules/preprocessing.html\n",
            "Please also refer to the documentation for alternative solver options:\n",
            "    https://scikit-learn.org/stable/modules/linear_model.html#logistic-regression\n",
            "  extra_warning_msg=_LOGISTIC_SOLVER_CONVERGENCE_MSG,\n"
          ]
        },
        {
          "output_type": "stream",
          "name": "stdout",
          "text": [
            "[Pipeline]  (step 2 of 2) Processing logisticregression, total=   8.3s\n"
          ]
        }
      ]
    },
    {
      "cell_type": "code",
      "source": [
        "print(\"Logistic Regression K-fold accuracy:\", scores.mean())\n",
        "print(\"Time executed:\", t1-t0)"
      ],
      "metadata": {
        "colab": {
          "base_uri": "https://localhost:8080/"
        },
        "id": "JLe4kbb7hBDi",
        "outputId": "f6950397-b3e5-4dee-83b9-4647261c4693"
      },
      "execution_count": null,
      "outputs": [
        {
          "output_type": "stream",
          "name": "stdout",
          "text": [
            "Logistic Regression K-fold accuracy: 0.9101901036781406\n",
            "Time executed: 48.52994155883789\n"
          ]
        }
      ]
    }
  ]
}