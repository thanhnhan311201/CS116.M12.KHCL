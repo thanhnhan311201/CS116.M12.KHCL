{
  "nbformat": 4,
  "nbformat_minor": 0,
  "metadata": {
    "colab": {
      "name": "Pop_Statistical_19521943.ipynb",
      "provenance": [],
      "collapsed_sections": []
    },
    "kernelspec": {
      "name": "python3",
      "display_name": "Python 3"
    },
    "language_info": {
      "name": "python"
    }
  },
  "cells": [
    {
      "cell_type": "code",
      "metadata": {
        "id": "1I19ffaRnBEF"
      },
      "source": [
        "# Tên: Phan Nguyễn Thành Nhân\n",
        "# MSSV: 19521943"
      ],
      "execution_count": null,
      "outputs": []
    },
    {
      "cell_type": "markdown",
      "metadata": {
        "id": "g9zNEJZ_Ubhl"
      },
      "source": [
        "# Cài đặt thư viện"
      ]
    },
    {
      "cell_type": "code",
      "metadata": {
        "id": "az6P57gETypq"
      },
      "source": [
        "!pip install geopandas"
      ],
      "execution_count": null,
      "outputs": []
    },
    {
      "cell_type": "markdown",
      "metadata": {
        "id": "jdjGF9ygUf_C"
      },
      "source": [
        "# Git clone data"
      ]
    },
    {
      "cell_type": "code",
      "metadata": {
        "colab": {
          "base_uri": "https://localhost:8080/"
        },
        "id": "lyDSDwoCUUcD",
        "outputId": "6b59f306-08e8-4fb5-c4bb-cb9fc539eff1"
      },
      "source": [
        "!git clone https://github.com/CityScope/CSL_HCMC"
      ],
      "execution_count": 2,
      "outputs": [
        {
          "output_type": "stream",
          "name": "stdout",
          "text": [
            "Cloning into 'CSL_HCMC'...\n",
            "remote: Enumerating objects: 1930, done.\u001b[K\n",
            "remote: Counting objects: 100% (590/590), done.\u001b[K\n",
            "remote: Compressing objects: 100% (315/315), done.\u001b[K\n",
            "remote: Total 1930 (delta 308), reused 500 (delta 269), pack-reused 1340\u001b[K\n",
            "Receiving objects: 100% (1930/1930), 179.02 MiB | 24.75 MiB/s, done.\n",
            "Resolving deltas: 100% (985/985), done.\n",
            "Checking out files: 100% (542/542), done.\n"
          ]
        }
      ]
    },
    {
      "cell_type": "markdown",
      "metadata": {
        "id": "zjXC_EP8VkjZ"
      },
      "source": [
        "# Read data"
      ]
    },
    {
      "cell_type": "code",
      "metadata": {
        "id": "zZBb-rMLUk33"
      },
      "source": [
        "import geopandas as gpd\n",
        "import matplotlib.pyplot as plt\n",
        "import numpy as np\n",
        "import pandas as pd"
      ],
      "execution_count": 3,
      "outputs": []
    },
    {
      "cell_type": "code",
      "metadata": {
        "id": "Fo79xDICVvs1"
      },
      "source": [
        "data = gpd.read_file('/content/CSL_HCMC/Data/GIS/Population/population_HCMC/population_shapefile/Population_Ward_Level.shp')"
      ],
      "execution_count": 88,
      "outputs": []
    },
    {
      "cell_type": "code",
      "metadata": {
        "colab": {
          "base_uri": "https://localhost:8080/",
          "height": 419
        },
        "id": "BOcaBVxrV_xx",
        "outputId": "c4f31f51-3c08-44bf-b985-9b3e31899d59"
      },
      "source": [
        "data"
      ],
      "execution_count": 89,
      "outputs": [
        {
          "output_type": "execute_result",
          "data": {
            "text/html": [
              "<div>\n",
              "<style scoped>\n",
              "    .dataframe tbody tr th:only-of-type {\n",
              "        vertical-align: middle;\n",
              "    }\n",
              "\n",
              "    .dataframe tbody tr th {\n",
              "        vertical-align: top;\n",
              "    }\n",
              "\n",
              "    .dataframe thead th {\n",
              "        text-align: right;\n",
              "    }\n",
              "</style>\n",
              "<table border=\"1\" class=\"dataframe\">\n",
              "  <thead>\n",
              "    <tr style=\"text-align: right;\">\n",
              "      <th></th>\n",
              "      <th>Com_Name</th>\n",
              "      <th>Dist_Name</th>\n",
              "      <th>Com_ID</th>\n",
              "      <th>Dist_ID</th>\n",
              "      <th>Level</th>\n",
              "      <th>Pop_2009</th>\n",
              "      <th>Pop_2019</th>\n",
              "      <th>Den_2009</th>\n",
              "      <th>Den_2019</th>\n",
              "      <th>Shape_Leng</th>\n",
              "      <th>Shape_Area</th>\n",
              "      <th>geometry</th>\n",
              "    </tr>\n",
              "  </thead>\n",
              "  <tbody>\n",
              "    <tr>\n",
              "      <th>0</th>\n",
              "      <td>Tan Dinh</td>\n",
              "      <td>District 1</td>\n",
              "      <td>26734</td>\n",
              "      <td>760</td>\n",
              "      <td>Ward</td>\n",
              "      <td>26571.0</td>\n",
              "      <td>23258.0</td>\n",
              "      <td>41942.70</td>\n",
              "      <td>36713.10</td>\n",
              "      <td>3679.098196</td>\n",
              "      <td>6.334981e+05</td>\n",
              "      <td>POLYGON ((684350.511 1193546.266, 684363.810 1...</td>\n",
              "    </tr>\n",
              "    <tr>\n",
              "      <th>1</th>\n",
              "      <td>Ben Nghe</td>\n",
              "      <td>District 1</td>\n",
              "      <td>26740</td>\n",
              "      <td>760</td>\n",
              "      <td>Ward</td>\n",
              "      <td>13580.0</td>\n",
              "      <td>10633.0</td>\n",
              "      <td>5480.09</td>\n",
              "      <td>4290.86</td>\n",
              "      <td>6978.149149</td>\n",
              "      <td>2.478041e+06</td>\n",
              "      <td>POLYGON ((686564.657 1193462.473, 686588.924 1...</td>\n",
              "    </tr>\n",
              "    <tr>\n",
              "      <th>2</th>\n",
              "      <td>Cau Ong Lanh</td>\n",
              "      <td>District 1</td>\n",
              "      <td>26752</td>\n",
              "      <td>760</td>\n",
              "      <td>Ward</td>\n",
              "      <td>12917.0</td>\n",
              "      <td>10737.0</td>\n",
              "      <td>56878.90</td>\n",
              "      <td>47279.50</td>\n",
              "      <td>2260.705105</td>\n",
              "      <td>2.270938e+05</td>\n",
              "      <td>POLYGON ((685922.373 1190479.807, 685914.160 1...</td>\n",
              "    </tr>\n",
              "    <tr>\n",
              "      <th>3</th>\n",
              "      <td>Nguyen Thai Binh</td>\n",
              "      <td>District 1</td>\n",
              "      <td>26746</td>\n",
              "      <td>760</td>\n",
              "      <td>Ward</td>\n",
              "      <td>13197.0</td>\n",
              "      <td>9716.0</td>\n",
              "      <td>26798.80</td>\n",
              "      <td>19730.00</td>\n",
              "      <td>3320.174618</td>\n",
              "      <td>4.924426e+05</td>\n",
              "      <td>POLYGON ((685966.333 1190513.667, 685944.353 1...</td>\n",
              "    </tr>\n",
              "    <tr>\n",
              "      <th>4</th>\n",
              "      <td>Co Giang</td>\n",
              "      <td>District 1</td>\n",
              "      <td>26755</td>\n",
              "      <td>760</td>\n",
              "      <td>Ward</td>\n",
              "      <td>18967.0</td>\n",
              "      <td>11517.0</td>\n",
              "      <td>53327.60</td>\n",
              "      <td>32381.20</td>\n",
              "      <td>2525.453814</td>\n",
              "      <td>3.556650e+05</td>\n",
              "      <td>POLYGON ((685514.573 1190211.431, 685547.521 1...</td>\n",
              "    </tr>\n",
              "    <tr>\n",
              "      <th>...</th>\n",
              "      <td>...</td>\n",
              "      <td>...</td>\n",
              "      <td>...</td>\n",
              "      <td>...</td>\n",
              "      <td>...</td>\n",
              "      <td>...</td>\n",
              "      <td>...</td>\n",
              "      <td>...</td>\n",
              "      <td>...</td>\n",
              "      <td>...</td>\n",
              "      <td>...</td>\n",
              "      <td>...</td>\n",
              "    </tr>\n",
              "    <tr>\n",
              "      <th>317</th>\n",
              "      <td>Tan Hung Thuan</td>\n",
              "      <td>District 12</td>\n",
              "      <td>26787</td>\n",
              "      <td>761</td>\n",
              "      <td>Ward</td>\n",
              "      <td>28892.0</td>\n",
              "      <td>33467.0</td>\n",
              "      <td>16053.40</td>\n",
              "      <td>18595.50</td>\n",
              "      <td>6271.308704</td>\n",
              "      <td>1.799659e+06</td>\n",
              "      <td>POLYGON ((677816.513 1197206.772, 677796.932 1...</td>\n",
              "    </tr>\n",
              "    <tr>\n",
              "      <th>318</th>\n",
              "      <td>Ward 17</td>\n",
              "      <td>Go Vap</td>\n",
              "      <td>26875</td>\n",
              "      <td>764</td>\n",
              "      <td>Ward</td>\n",
              "      <td>44226.0</td>\n",
              "      <td>54728.0</td>\n",
              "      <td>38061.20</td>\n",
              "      <td>47099.30</td>\n",
              "      <td>6385.950275</td>\n",
              "      <td>1.161947e+06</td>\n",
              "      <td>POLYGON ((683516.949 1200006.226, 683509.721 1...</td>\n",
              "    </tr>\n",
              "    <tr>\n",
              "      <th>319</th>\n",
              "      <td>Ward 8</td>\n",
              "      <td>Go Vap</td>\n",
              "      <td>26898</td>\n",
              "      <td>764</td>\n",
              "      <td>Ward</td>\n",
              "      <td>26545.0</td>\n",
              "      <td>32778.0</td>\n",
              "      <td>22751.50</td>\n",
              "      <td>28093.70</td>\n",
              "      <td>5409.821020</td>\n",
              "      <td>1.166701e+06</td>\n",
              "      <td>POLYGON ((680928.492 1199066.285, 680984.889 1...</td>\n",
              "    </tr>\n",
              "    <tr>\n",
              "      <th>320</th>\n",
              "      <td>Ward 9</td>\n",
              "      <td>Go Vap</td>\n",
              "      <td>26897</td>\n",
              "      <td>764</td>\n",
              "      <td>Ward</td>\n",
              "      <td>26785.0</td>\n",
              "      <td>34596.0</td>\n",
              "      <td>31843.10</td>\n",
              "      <td>41129.20</td>\n",
              "      <td>3950.799798</td>\n",
              "      <td>8.411288e+05</td>\n",
              "      <td>POLYGON ((681120.443 1199640.183, 681120.846 1...</td>\n",
              "    </tr>\n",
              "    <tr>\n",
              "      <th>321</th>\n",
              "      <td>Ward 12</td>\n",
              "      <td>Go Vap</td>\n",
              "      <td>26881</td>\n",
              "      <td>764</td>\n",
              "      <td>Ward</td>\n",
              "      <td>50356.0</td>\n",
              "      <td>60502.0</td>\n",
              "      <td>35096.20</td>\n",
              "      <td>42167.60</td>\n",
              "      <td>4848.143508</td>\n",
              "      <td>1.434747e+06</td>\n",
              "      <td>POLYGON ((679970.916 1198480.707, 679932.874 1...</td>\n",
              "    </tr>\n",
              "  </tbody>\n",
              "</table>\n",
              "<p>322 rows × 12 columns</p>\n",
              "</div>"
            ],
            "text/plain": [
              "             Com_Name  ...                                           geometry\n",
              "0            Tan Dinh  ...  POLYGON ((684350.511 1193546.266, 684363.810 1...\n",
              "1            Ben Nghe  ...  POLYGON ((686564.657 1193462.473, 686588.924 1...\n",
              "2        Cau Ong Lanh  ...  POLYGON ((685922.373 1190479.807, 685914.160 1...\n",
              "3    Nguyen Thai Binh  ...  POLYGON ((685966.333 1190513.667, 685944.353 1...\n",
              "4            Co Giang  ...  POLYGON ((685514.573 1190211.431, 685547.521 1...\n",
              "..                ...  ...                                                ...\n",
              "317    Tan Hung Thuan  ...  POLYGON ((677816.513 1197206.772, 677796.932 1...\n",
              "318           Ward 17  ...  POLYGON ((683516.949 1200006.226, 683509.721 1...\n",
              "319            Ward 8  ...  POLYGON ((680928.492 1199066.285, 680984.889 1...\n",
              "320            Ward 9  ...  POLYGON ((681120.443 1199640.183, 681120.846 1...\n",
              "321           Ward 12  ...  POLYGON ((679970.916 1198480.707, 679932.874 1...\n",
              "\n",
              "[322 rows x 12 columns]"
            ]
          },
          "metadata": {},
          "execution_count": 89
        }
      ]
    },
    {
      "cell_type": "code",
      "metadata": {
        "colab": {
          "base_uri": "https://localhost:8080/",
          "height": 291
        },
        "id": "lBfTRCujZtZE",
        "outputId": "149c4cd9-e08b-4f07-f70f-96f8fffcf221"
      },
      "source": [
        "fig, ax = plt.subplots(1, 1)\n",
        "\n",
        "data.plot(figsize=(12,20), column='Pop_2019', ax=ax, legend=True, legend_kwds={'label': \"Popoulation of each ward\", 'orientation': \"horizontal\"})"
      ],
      "execution_count": 125,
      "outputs": [
        {
          "output_type": "execute_result",
          "data": {
            "text/plain": [
              "<matplotlib.axes._subplots.AxesSubplot at 0x7fbb96f26b90>"
            ]
          },
          "metadata": {},
          "execution_count": 125
        },
        {
          "output_type": "display_data",
          "data": {
            "image/png": "[encoded data removed]",
            "text/plain": [
              "<Figure size 432x288 with 2 Axes>"
            ]
          },
          "metadata": {
            "needs_background": "light"
          }
        }
      ]
    },
    {
      "cell_type": "markdown",
      "metadata": {
        "id": "SrFluS4jWaVc"
      },
      "source": [
        "# Thao tác 1: Phường nào có diện tích lớn nhất"
      ]
    },
    {
      "cell_type": "code",
      "metadata": {
        "id": "mEOdM2V8X49x"
      },
      "source": [
        "largest_ward = data[data.Shape_Area == data['Shape_Area'].max()]"
      ],
      "execution_count": 91,
      "outputs": []
    },
    {
      "cell_type": "code",
      "metadata": {
        "colab": {
          "base_uri": "https://localhost:8080/",
          "height": 80
        },
        "id": "xGf8fZ0AdMsz",
        "outputId": "a4216514-0f4f-4611-b1bf-4c025a10368a"
      },
      "source": [
        "largest_ward"
      ],
      "execution_count": 92,
      "outputs": [
        {
          "output_type": "execute_result",
          "data": {
            "text/html": [
              "<div>\n",
              "<style scoped>\n",
              "    .dataframe tbody tr th:only-of-type {\n",
              "        vertical-align: middle;\n",
              "    }\n",
              "\n",
              "    .dataframe tbody tr th {\n",
              "        vertical-align: top;\n",
              "    }\n",
              "\n",
              "    .dataframe thead th {\n",
              "        text-align: right;\n",
              "    }\n",
              "</style>\n",
              "<table border=\"1\" class=\"dataframe\">\n",
              "  <thead>\n",
              "    <tr style=\"text-align: right;\">\n",
              "      <th></th>\n",
              "      <th>Com_Name</th>\n",
              "      <th>Dist_Name</th>\n",
              "      <th>Com_ID</th>\n",
              "      <th>Dist_ID</th>\n",
              "      <th>Level</th>\n",
              "      <th>Pop_2009</th>\n",
              "      <th>Pop_2019</th>\n",
              "      <th>Den_2009</th>\n",
              "      <th>Den_2019</th>\n",
              "      <th>Shape_Leng</th>\n",
              "      <th>Shape_Area</th>\n",
              "      <th>geometry</th>\n",
              "    </tr>\n",
              "  </thead>\n",
              "  <tbody>\n",
              "    <tr>\n",
              "      <th>204</th>\n",
              "      <td>Ly Nhon</td>\n",
              "      <td>Can Gio</td>\n",
              "      <td>27682</td>\n",
              "      <td>787</td>\n",
              "      <td>Commune</td>\n",
              "      <td>5696.0</td>\n",
              "      <td>5266.0</td>\n",
              "      <td>35.3378</td>\n",
              "      <td>32.6701</td>\n",
              "      <td>68958.528608</td>\n",
              "      <td>1.611939e+08</td>\n",
              "      <td>POLYGON ((703990.602 1160907.838, 704139.338 1...</td>\n",
              "    </tr>\n",
              "  </tbody>\n",
              "</table>\n",
              "</div>"
            ],
            "text/plain": [
              "    Com_Name  ...                                           geometry\n",
              "204  Ly Nhon  ...  POLYGON ((703990.602 1160907.838, 704139.338 1...\n",
              "\n",
              "[1 rows x 12 columns]"
            ]
          },
          "metadata": {},
          "execution_count": 92
        }
      ]
    },
    {
      "cell_type": "code",
      "metadata": {
        "colab": {
          "base_uri": "https://localhost:8080/"
        },
        "id": "z3piufn5ng4H",
        "outputId": "7356ff56-1e89-4194-8304-d32a7f592e31"
      },
      "source": [
        "print(f'Phường có diện tích lớn nhất là phường {largest_ward.Com_Name.iloc[0]} huyện {largest_ward.Dist_Name.iloc[0]}')"
      ],
      "execution_count": 132,
      "outputs": [
        {
          "output_type": "stream",
          "name": "stdout",
          "text": [
            "Phường có diện tích lớn nhất là phường Ly Nhon huyện Can Gio\n"
          ]
        }
      ]
    },
    {
      "cell_type": "code",
      "metadata": {
        "colab": {
          "base_uri": "https://localhost:8080/",
          "height": 600
        },
        "id": "Sl5mgIE8WAhd",
        "outputId": "a717c778-4057-47ba-d9e5-b146be4bf8f8"
      },
      "source": [
        "largest_ward.plot(figsize=(6, 10))"
      ],
      "execution_count": 93,
      "outputs": [
        {
          "output_type": "execute_result",
          "data": {
            "text/plain": [
              "<matplotlib.axes._subplots.AxesSubplot at 0x7fbb97499bd0>"
            ]
          },
          "metadata": {},
          "execution_count": 93
        },
        {
          "output_type": "display_data",
          "data": {
            "image/png": "[encoded data removed]",
            "text/plain": [
              "<Figure size 432x720 with 1 Axes>"
            ]
          },
          "metadata": {
            "needs_background": "light"
          }
        }
      ]
    },
    {
      "cell_type": "markdown",
      "metadata": {
        "id": "vTHSlnCaYaU1"
      },
      "source": [
        "# Thao tác 2: Phường nào có diện tích nhỏ nhất"
      ]
    },
    {
      "cell_type": "code",
      "metadata": {
        "id": "OLEZM6hmWv-c"
      },
      "source": [
        "smallest_ward = data[data.Shape_Area == data['Shape_Area'].min()]"
      ],
      "execution_count": 94,
      "outputs": []
    },
    {
      "cell_type": "code",
      "metadata": {
        "colab": {
          "base_uri": "https://localhost:8080/",
          "height": 80
        },
        "id": "-7lQS-0gdOkv",
        "outputId": "9a2b8b5d-38e3-4e82-9479-2d57af784eae"
      },
      "source": [
        "smallest_ward"
      ],
      "execution_count": 95,
      "outputs": [
        {
          "output_type": "execute_result",
          "data": {
            "text/html": [
              "<div>\n",
              "<style scoped>\n",
              "    .dataframe tbody tr th:only-of-type {\n",
              "        vertical-align: middle;\n",
              "    }\n",
              "\n",
              "    .dataframe tbody tr th {\n",
              "        vertical-align: top;\n",
              "    }\n",
              "\n",
              "    .dataframe thead th {\n",
              "        text-align: right;\n",
              "    }\n",
              "</style>\n",
              "<table border=\"1\" class=\"dataframe\">\n",
              "  <thead>\n",
              "    <tr style=\"text-align: right;\">\n",
              "      <th></th>\n",
              "      <th>Com_Name</th>\n",
              "      <th>Dist_Name</th>\n",
              "      <th>Com_ID</th>\n",
              "      <th>Dist_ID</th>\n",
              "      <th>Level</th>\n",
              "      <th>Pop_2009</th>\n",
              "      <th>Pop_2019</th>\n",
              "      <th>Den_2009</th>\n",
              "      <th>Den_2019</th>\n",
              "      <th>Shape_Leng</th>\n",
              "      <th>Shape_Area</th>\n",
              "      <th>geometry</th>\n",
              "    </tr>\n",
              "  </thead>\n",
              "  <tbody>\n",
              "    <tr>\n",
              "      <th>71</th>\n",
              "      <td>Ward 3</td>\n",
              "      <td>District 10</td>\n",
              "      <td>27205</td>\n",
              "      <td>771</td>\n",
              "      <td>Ward</td>\n",
              "      <td>7759.0</td>\n",
              "      <td>7245.0</td>\n",
              "      <td>76334.1</td>\n",
              "      <td>71277.3</td>\n",
              "      <td>1556.320657</td>\n",
              "      <td>101642.928821</td>\n",
              "      <td>POLYGON ((682485.431 1189922.970, 682510.266 1...</td>\n",
              "    </tr>\n",
              "  </tbody>\n",
              "</table>\n",
              "</div>"
            ],
            "text/plain": [
              "   Com_Name  ...                                           geometry\n",
              "71   Ward 3  ...  POLYGON ((682485.431 1189922.970, 682510.266 1...\n",
              "\n",
              "[1 rows x 12 columns]"
            ]
          },
          "metadata": {},
          "execution_count": 95
        }
      ]
    },
    {
      "cell_type": "code",
      "metadata": {
        "colab": {
          "base_uri": "https://localhost:8080/"
        },
        "id": "aRNAg2uXoh3v",
        "outputId": "d0c959b4-eaf8-4769-8309-ce6c9220cbcf"
      },
      "source": [
        "print(f'Phường có diện tích lớn nhất là {smallest_ward.Com_Name.iloc[0]} {smallest_ward.Dist_Name.iloc[0]}')"
      ],
      "execution_count": 134,
      "outputs": [
        {
          "output_type": "stream",
          "name": "stdout",
          "text": [
            "Phường có diện tích lớn nhất là Ward 3 District 10\n"
          ]
        }
      ]
    },
    {
      "cell_type": "code",
      "metadata": {
        "colab": {
          "base_uri": "https://localhost:8080/",
          "height": 402
        },
        "id": "ZnyVzlDpYhR5",
        "outputId": "779150e7-1c31-404e-8937-1067b9a0f5b8"
      },
      "source": [
        "smallest_ward.plot(figsize=(10, 6))"
      ],
      "execution_count": 96,
      "outputs": [
        {
          "output_type": "execute_result",
          "data": {
            "text/plain": [
              "<matplotlib.axes._subplots.AxesSubplot at 0x7fbb973c3950>"
            ]
          },
          "metadata": {},
          "execution_count": 96
        },
        {
          "output_type": "display_data",
          "data": {
            "image/png": "[encoded data removed]",
            "text/plain": [
              "<Figure size 720x432 with 1 Axes>"
            ]
          },
          "metadata": {
            "needs_background": "light"
          }
        }
      ]
    },
    {
      "cell_type": "markdown",
      "metadata": {
        "id": "5LpRHHjIY1So"
      },
      "source": [
        "# Thao tác 3: Phường nào có dân số 2019 cao nhất"
      ]
    },
    {
      "cell_type": "code",
      "metadata": {
        "id": "yGm9RIJgYi6J"
      },
      "source": [
        "crowded_ward_19 = data[data.Pop_2019 == data['Pop_2019'].max()]"
      ],
      "execution_count": 97,
      "outputs": []
    },
    {
      "cell_type": "code",
      "metadata": {
        "colab": {
          "base_uri": "https://localhost:8080/",
          "height": 80
        },
        "id": "fjVEHOnHdQS0",
        "outputId": "96db885d-c5bf-4097-b113-ef7cfea01751"
      },
      "source": [
        "crowded_ward_19"
      ],
      "execution_count": 98,
      "outputs": [
        {
          "output_type": "execute_result",
          "data": {
            "text/html": [
              "<div>\n",
              "<style scoped>\n",
              "    .dataframe tbody tr th:only-of-type {\n",
              "        vertical-align: middle;\n",
              "    }\n",
              "\n",
              "    .dataframe tbody tr th {\n",
              "        vertical-align: top;\n",
              "    }\n",
              "\n",
              "    .dataframe thead th {\n",
              "        text-align: right;\n",
              "    }\n",
              "</style>\n",
              "<table border=\"1\" class=\"dataframe\">\n",
              "  <thead>\n",
              "    <tr style=\"text-align: right;\">\n",
              "      <th></th>\n",
              "      <th>Com_Name</th>\n",
              "      <th>Dist_Name</th>\n",
              "      <th>Com_ID</th>\n",
              "      <th>Dist_ID</th>\n",
              "      <th>Level</th>\n",
              "      <th>Pop_2009</th>\n",
              "      <th>Pop_2019</th>\n",
              "      <th>Den_2009</th>\n",
              "      <th>Den_2019</th>\n",
              "      <th>Shape_Leng</th>\n",
              "      <th>Shape_Area</th>\n",
              "      <th>geometry</th>\n",
              "    </tr>\n",
              "  </thead>\n",
              "  <tbody>\n",
              "    <tr>\n",
              "      <th>168</th>\n",
              "      <td>Vinh Loc A</td>\n",
              "      <td>Binh Chanh</td>\n",
              "      <td>27601</td>\n",
              "      <td>785</td>\n",
              "      <td>Commune</td>\n",
              "      <td>49946.0</td>\n",
              "      <td>124709.0</td>\n",
              "      <td>2530.93</td>\n",
              "      <td>6319.41</td>\n",
              "      <td>19808.888559</td>\n",
              "      <td>1.973287e+07</td>\n",
              "      <td>POLYGON ((669872.381 1199077.678, 669922.073 1...</td>\n",
              "    </tr>\n",
              "  </tbody>\n",
              "</table>\n",
              "</div>"
            ],
            "text/plain": [
              "       Com_Name  ...                                           geometry\n",
              "168  Vinh Loc A  ...  POLYGON ((669872.381 1199077.678, 669922.073 1...\n",
              "\n",
              "[1 rows x 12 columns]"
            ]
          },
          "metadata": {},
          "execution_count": 98
        }
      ]
    },
    {
      "cell_type": "code",
      "metadata": {
        "colab": {
          "base_uri": "https://localhost:8080/"
        },
        "id": "p9xfp9pIoz_h",
        "outputId": "90806bbc-7a57-45b4-be33-7fd47316009b"
      },
      "source": [
        "print(f'Phường có diện tích lớn nhất là phường {crowded_ward_19.Com_Name.iloc[0]} huyện {crowded_ward_19.Dist_Name.iloc[0]}')"
      ],
      "execution_count": 135,
      "outputs": [
        {
          "output_type": "stream",
          "name": "stdout",
          "text": [
            "Phường có diện tích lớn nhất là phường Vinh Loc A huyện Binh Chanh\n"
          ]
        }
      ]
    },
    {
      "cell_type": "code",
      "metadata": {
        "colab": {
          "base_uri": "https://localhost:8080/",
          "height": 321
        },
        "id": "smt-4d3fZH_Z",
        "outputId": "c3f64ace-ebc3-487b-b879-72af558b435b"
      },
      "source": [
        "crowded_ward_19.plot(figsize=(6, 10))"
      ],
      "execution_count": 99,
      "outputs": [
        {
          "output_type": "execute_result",
          "data": {
            "text/plain": [
              "<matplotlib.axes._subplots.AxesSubplot at 0x7fbb9724be90>"
            ]
          },
          "metadata": {},
          "execution_count": 99
        },
        {
          "output_type": "display_data",
          "data": {
            "image/png": "[encoded data removed]",
            "text/plain": [
              "<Figure size 432x720 with 1 Axes>"
            ]
          },
          "metadata": {
            "needs_background": "light"
          }
        }
      ]
    },
    {
      "cell_type": "markdown",
      "metadata": {
        "id": "bI4fvEhAZeYP"
      },
      "source": [
        "# Thao tác 4: Phường nào có dân số 2019 thấp nhất"
      ]
    },
    {
      "cell_type": "code",
      "metadata": {
        "id": "wEAVNLwJZKtv"
      },
      "source": [
        "deserted_ward_19 = data[data.Pop_2019 == data['Pop_2019'].min()]"
      ],
      "execution_count": 100,
      "outputs": []
    },
    {
      "cell_type": "code",
      "metadata": {
        "colab": {
          "base_uri": "https://localhost:8080/",
          "height": 80
        },
        "id": "PwGziv4ydSF_",
        "outputId": "ed5017a2-8b12-4cf5-f6ad-c94f82b85cdd"
      },
      "source": [
        "deserted_ward_19"
      ],
      "execution_count": 101,
      "outputs": [
        {
          "output_type": "execute_result",
          "data": {
            "text/html": [
              "<div>\n",
              "<style scoped>\n",
              "    .dataframe tbody tr th:only-of-type {\n",
              "        vertical-align: middle;\n",
              "    }\n",
              "\n",
              "    .dataframe tbody tr th {\n",
              "        vertical-align: top;\n",
              "    }\n",
              "\n",
              "    .dataframe thead th {\n",
              "        text-align: right;\n",
              "    }\n",
              "</style>\n",
              "<table border=\"1\" class=\"dataframe\">\n",
              "  <thead>\n",
              "    <tr style=\"text-align: right;\">\n",
              "      <th></th>\n",
              "      <th>Com_Name</th>\n",
              "      <th>Dist_Name</th>\n",
              "      <th>Com_ID</th>\n",
              "      <th>Dist_ID</th>\n",
              "      <th>Level</th>\n",
              "      <th>Pop_2009</th>\n",
              "      <th>Pop_2019</th>\n",
              "      <th>Den_2009</th>\n",
              "      <th>Den_2019</th>\n",
              "      <th>Shape_Leng</th>\n",
              "      <th>Shape_Area</th>\n",
              "      <th>geometry</th>\n",
              "    </tr>\n",
              "  </thead>\n",
              "  <tbody>\n",
              "    <tr>\n",
              "      <th>218</th>\n",
              "      <td>An Khanh</td>\n",
              "      <td>District 2</td>\n",
              "      <td>27106</td>\n",
              "      <td>769</td>\n",
              "      <td>Ward</td>\n",
              "      <td>15659.0</td>\n",
              "      <td>223.0</td>\n",
              "      <td>8830.98</td>\n",
              "      <td>125.762</td>\n",
              "      <td>6715.625464</td>\n",
              "      <td>1.773186e+06</td>\n",
              "      <td>POLYGON ((688894.225 1192163.773, 688895.628 1...</td>\n",
              "    </tr>\n",
              "  </tbody>\n",
              "</table>\n",
              "</div>"
            ],
            "text/plain": [
              "     Com_Name  ...                                           geometry\n",
              "218  An Khanh  ...  POLYGON ((688894.225 1192163.773, 688895.628 1...\n",
              "\n",
              "[1 rows x 12 columns]"
            ]
          },
          "metadata": {},
          "execution_count": 101
        }
      ]
    },
    {
      "cell_type": "code",
      "metadata": {
        "colab": {
          "base_uri": "https://localhost:8080/"
        },
        "id": "GwxZlDcpo6Fw",
        "outputId": "e2377a30-4779-4322-fd7e-f3f8d26001c3"
      },
      "source": [
        "print(f'Phường có diện tích lớn nhất là phường {deserted_ward_19.Com_Name.iloc[0]} {deserted_ward_19.Dist_Name.iloc[0]}')"
      ],
      "execution_count": 136,
      "outputs": [
        {
          "output_type": "stream",
          "name": "stdout",
          "text": [
            "Phường có diện tích lớn nhất là phường An Khanh District 2\n"
          ]
        }
      ]
    },
    {
      "cell_type": "code",
      "metadata": {
        "colab": {
          "base_uri": "https://localhost:8080/",
          "height": 408
        },
        "id": "q1ifZN_aZp-I",
        "outputId": "62ddfcb7-57fe-4768-ea39-8c2bbb757b45"
      },
      "source": [
        "deserted_ward_19.plot(figsize=(8, 10))"
      ],
      "execution_count": 102,
      "outputs": [
        {
          "output_type": "execute_result",
          "data": {
            "text/plain": [
              "<matplotlib.axes._subplots.AxesSubplot at 0x7fbb97234710>"
            ]
          },
          "metadata": {},
          "execution_count": 102
        },
        {
          "output_type": "display_data",
          "data": {
            "image/png": "[encoded data removed]",
            "text/plain": [
              "<Figure size 576x720 with 1 Axes>"
            ]
          },
          "metadata": {
            "needs_background": "light"
          }
        }
      ]
    },
    {
      "cell_type": "markdown",
      "metadata": {
        "id": "cPu3kuyhaZ1L"
      },
      "source": [
        "# Thao tác 5: Phường nào có tốc độ tăng trưởng dân số nhanh nhất (dựa trên Pop_2009 và Pop_2019)"
      ]
    },
    {
      "cell_type": "code",
      "metadata": {
        "id": "09IbEGmfZrw7"
      },
      "source": [
        "data['Pop_growRate'] = data['Pop_2019'] / data['Pop_2009']"
      ],
      "execution_count": 110,
      "outputs": []
    },
    {
      "cell_type": "code",
      "metadata": {
        "id": "XldYCnuAa4pd"
      },
      "source": [
        "high_growRate_ward = data[data.Pop_growRate == data['Pop_growRate'].max()]"
      ],
      "execution_count": 111,
      "outputs": []
    },
    {
      "cell_type": "code",
      "metadata": {
        "colab": {
          "base_uri": "https://localhost:8080/",
          "height": 80
        },
        "id": "bntlWqAAdU7W",
        "outputId": "2825a133-d1f4-4ae2-8ce5-8ba58af5fe41"
      },
      "source": [
        "high_growRate_ward"
      ],
      "execution_count": 112,
      "outputs": [
        {
          "output_type": "execute_result",
          "data": {
            "text/html": [
              "<div>\n",
              "<style scoped>\n",
              "    .dataframe tbody tr th:only-of-type {\n",
              "        vertical-align: middle;\n",
              "    }\n",
              "\n",
              "    .dataframe tbody tr th {\n",
              "        vertical-align: top;\n",
              "    }\n",
              "\n",
              "    .dataframe thead th {\n",
              "        text-align: right;\n",
              "    }\n",
              "</style>\n",
              "<table border=\"1\" class=\"dataframe\">\n",
              "  <thead>\n",
              "    <tr style=\"text-align: right;\">\n",
              "      <th></th>\n",
              "      <th>Com_Name</th>\n",
              "      <th>Dist_Name</th>\n",
              "      <th>Com_ID</th>\n",
              "      <th>Dist_ID</th>\n",
              "      <th>Level</th>\n",
              "      <th>Pop_2009</th>\n",
              "      <th>Pop_2019</th>\n",
              "      <th>Den_2009</th>\n",
              "      <th>Den_2019</th>\n",
              "      <th>Shape_Leng</th>\n",
              "      <th>Shape_Area</th>\n",
              "      <th>geometry</th>\n",
              "      <th>Pop_Den_19</th>\n",
              "      <th>Pop_growRate</th>\n",
              "    </tr>\n",
              "  </thead>\n",
              "  <tbody>\n",
              "    <tr>\n",
              "      <th>211</th>\n",
              "      <td>Phu Huu</td>\n",
              "      <td>District 9</td>\n",
              "      <td>26866</td>\n",
              "      <td>763</td>\n",
              "      <td>Ward</td>\n",
              "      <td>7265.0</td>\n",
              "      <td>22216.0</td>\n",
              "      <td>614.811</td>\n",
              "      <td>1880.06</td>\n",
              "      <td>18842.507391</td>\n",
              "      <td>1.181706e+07</td>\n",
              "      <td>POLYGON ((694734.189 1193824.448, 694735.625 1...</td>\n",
              "      <td>0.00188</td>\n",
              "      <td>3.057949</td>\n",
              "    </tr>\n",
              "  </tbody>\n",
              "</table>\n",
              "</div>"
            ],
            "text/plain": [
              "    Com_Name   Dist_Name  ... Pop_Den_19 Pop_growRate\n",
              "211  Phu Huu  District 9  ...    0.00188     3.057949\n",
              "\n",
              "[1 rows x 14 columns]"
            ]
          },
          "metadata": {},
          "execution_count": 112
        }
      ]
    },
    {
      "cell_type": "code",
      "metadata": {
        "colab": {
          "base_uri": "https://localhost:8080/"
        },
        "id": "mzLddcY6pDJe",
        "outputId": "30009051-278e-4e80-9346-034587695751"
      },
      "source": [
        "print(f'Phường có diện tích lớn nhất là phường {high_growRate_ward.Com_Name.iloc[0]} {high_growRate_ward.Dist_Name.iloc[0]}')"
      ],
      "execution_count": 137,
      "outputs": [
        {
          "output_type": "stream",
          "name": "stdout",
          "text": [
            "Phường có diện tích lớn nhất là phường Phu Huu District 9\n"
          ]
        }
      ]
    },
    {
      "cell_type": "code",
      "metadata": {
        "colab": {
          "base_uri": "https://localhost:8080/",
          "height": 443
        },
        "id": "kffQ2jJLa5jE",
        "outputId": "c6c318bc-044d-4cac-c106-d2759347d941"
      },
      "source": [
        "high_growRate_ward.plot(figsize=(6, 10))"
      ],
      "execution_count": 113,
      "outputs": [
        {
          "output_type": "execute_result",
          "data": {
            "text/plain": [
              "<matplotlib.axes._subplots.AxesSubplot at 0x7fbb9707cb50>"
            ]
          },
          "metadata": {},
          "execution_count": 113
        },
        {
          "output_type": "display_data",
          "data": {
            "image/png": "[encoded data removed]",
            "text/plain": [
              "<Figure size 432x720 with 1 Axes>"
            ]
          },
          "metadata": {
            "needs_background": "light"
          }
        }
      ]
    },
    {
      "cell_type": "markdown",
      "metadata": {
        "id": "tIdf1_TmbUZH"
      },
      "source": [
        "# Thao tác 6: Phường nào có tốc độ tăng trưởng dân số thấp nhất (dựa trên Pop_2009 và Pop_2019)"
      ]
    },
    {
      "cell_type": "code",
      "metadata": {
        "id": "TqVhrGGtbOvu"
      },
      "source": [
        "low_growRate_ward = data[data.Pop_growRate == data['Pop_growRate'].min()]"
      ],
      "execution_count": 114,
      "outputs": []
    },
    {
      "cell_type": "code",
      "metadata": {
        "colab": {
          "base_uri": "https://localhost:8080/",
          "height": 80
        },
        "id": "XR0eWaVQdWf4",
        "outputId": "124a0467-f163-4852-daab-3078a29b4f35"
      },
      "source": [
        "low_growRate_ward"
      ],
      "execution_count": 115,
      "outputs": [
        {
          "output_type": "execute_result",
          "data": {
            "text/html": [
              "<div>\n",
              "<style scoped>\n",
              "    .dataframe tbody tr th:only-of-type {\n",
              "        vertical-align: middle;\n",
              "    }\n",
              "\n",
              "    .dataframe tbody tr th {\n",
              "        vertical-align: top;\n",
              "    }\n",
              "\n",
              "    .dataframe thead th {\n",
              "        text-align: right;\n",
              "    }\n",
              "</style>\n",
              "<table border=\"1\" class=\"dataframe\">\n",
              "  <thead>\n",
              "    <tr style=\"text-align: right;\">\n",
              "      <th></th>\n",
              "      <th>Com_Name</th>\n",
              "      <th>Dist_Name</th>\n",
              "      <th>Com_ID</th>\n",
              "      <th>Dist_ID</th>\n",
              "      <th>Level</th>\n",
              "      <th>Pop_2009</th>\n",
              "      <th>Pop_2019</th>\n",
              "      <th>Den_2009</th>\n",
              "      <th>Den_2019</th>\n",
              "      <th>Shape_Leng</th>\n",
              "      <th>Shape_Area</th>\n",
              "      <th>geometry</th>\n",
              "      <th>Pop_Den_19</th>\n",
              "      <th>Pop_growRate</th>\n",
              "    </tr>\n",
              "  </thead>\n",
              "  <tbody>\n",
              "    <tr>\n",
              "      <th>218</th>\n",
              "      <td>An Khanh</td>\n",
              "      <td>District 2</td>\n",
              "      <td>27106</td>\n",
              "      <td>769</td>\n",
              "      <td>Ward</td>\n",
              "      <td>15659.0</td>\n",
              "      <td>223.0</td>\n",
              "      <td>8830.98</td>\n",
              "      <td>125.762</td>\n",
              "      <td>6715.625464</td>\n",
              "      <td>1.773186e+06</td>\n",
              "      <td>POLYGON ((688894.225 1192163.773, 688895.628 1...</td>\n",
              "      <td>0.000126</td>\n",
              "      <td>0.014241</td>\n",
              "    </tr>\n",
              "  </tbody>\n",
              "</table>\n",
              "</div>"
            ],
            "text/plain": [
              "     Com_Name   Dist_Name  ... Pop_Den_19 Pop_growRate\n",
              "218  An Khanh  District 2  ...   0.000126     0.014241\n",
              "\n",
              "[1 rows x 14 columns]"
            ]
          },
          "metadata": {},
          "execution_count": 115
        }
      ]
    },
    {
      "cell_type": "code",
      "metadata": {
        "colab": {
          "base_uri": "https://localhost:8080/"
        },
        "id": "30cp480gpHqw",
        "outputId": "87eed93f-f682-43c0-9110-96e1352fc861"
      },
      "source": [
        "print(f'Phường có diện tích lớn nhất là phường {low_growRate_ward.Com_Name.iloc[0]} {low_growRate_ward.Dist_Name.iloc[0]}')"
      ],
      "execution_count": 138,
      "outputs": [
        {
          "output_type": "stream",
          "name": "stdout",
          "text": [
            "Phường có diện tích lớn nhất là phường An Khanh District 2\n"
          ]
        }
      ]
    },
    {
      "cell_type": "code",
      "metadata": {
        "colab": {
          "base_uri": "https://localhost:8080/",
          "height": 325
        },
        "id": "X8I7ZcrcbmB0",
        "outputId": "56821ed0-8b94-49b6-ea29-6b57bcbf0f7b"
      },
      "source": [
        "low_growRate_ward.plot(figsize=(6, 10))"
      ],
      "execution_count": 116,
      "outputs": [
        {
          "output_type": "execute_result",
          "data": {
            "text/plain": [
              "<matplotlib.axes._subplots.AxesSubplot at 0x7fbb9704aad0>"
            ]
          },
          "metadata": {},
          "execution_count": 116
        },
        {
          "output_type": "display_data",
          "data": {
            "image/png": "[encoded data removed]",
            "text/plain": [
              "<Figure size 432x720 with 1 Axes>"
            ]
          },
          "metadata": {
            "needs_background": "light"
          }
        }
      ]
    },
    {
      "cell_type": "markdown",
      "metadata": {
        "id": "JalH8vZgddDS"
      },
      "source": [
        "# Thao tác 7: Phường nào có biến động dân số nhanh nhất (dựa trên Pop_2009 và Pop_2019)"
      ]
    },
    {
      "cell_type": "code",
      "metadata": {
        "id": "87r2xhMRbnRr"
      },
      "source": [
        "data['Pop_changePace'] = data['Pop_2019'] - data['Pop_2009']"
      ],
      "execution_count": 117,
      "outputs": []
    },
    {
      "cell_type": "code",
      "metadata": {
        "id": "wDuQNzfUeIVM"
      },
      "source": [
        "high_changePace_ward = data[data.Pop_changePace == data['Pop_changePace'].max()]"
      ],
      "execution_count": 118,
      "outputs": []
    },
    {
      "cell_type": "code",
      "metadata": {
        "colab": {
          "base_uri": "https://localhost:8080/",
          "height": 97
        },
        "id": "UHNNKEx6eRly",
        "outputId": "17abf4b7-01fa-4e15-f975-c292a20d80e9"
      },
      "source": [
        "high_changePace_ward"
      ],
      "execution_count": 119,
      "outputs": [
        {
          "output_type": "execute_result",
          "data": {
            "text/html": [
              "<div>\n",
              "<style scoped>\n",
              "    .dataframe tbody tr th:only-of-type {\n",
              "        vertical-align: middle;\n",
              "    }\n",
              "\n",
              "    .dataframe tbody tr th {\n",
              "        vertical-align: top;\n",
              "    }\n",
              "\n",
              "    .dataframe thead th {\n",
              "        text-align: right;\n",
              "    }\n",
              "</style>\n",
              "<table border=\"1\" class=\"dataframe\">\n",
              "  <thead>\n",
              "    <tr style=\"text-align: right;\">\n",
              "      <th></th>\n",
              "      <th>Com_Name</th>\n",
              "      <th>Dist_Name</th>\n",
              "      <th>Com_ID</th>\n",
              "      <th>Dist_ID</th>\n",
              "      <th>Level</th>\n",
              "      <th>Pop_2009</th>\n",
              "      <th>Pop_2019</th>\n",
              "      <th>Den_2009</th>\n",
              "      <th>Den_2019</th>\n",
              "      <th>Shape_Leng</th>\n",
              "      <th>Shape_Area</th>\n",
              "      <th>geometry</th>\n",
              "      <th>Pop_Den_19</th>\n",
              "      <th>Pop_growRate</th>\n",
              "      <th>Pop_changePace</th>\n",
              "    </tr>\n",
              "  </thead>\n",
              "  <tbody>\n",
              "    <tr>\n",
              "      <th>168</th>\n",
              "      <td>Vinh Loc A</td>\n",
              "      <td>Binh Chanh</td>\n",
              "      <td>27601</td>\n",
              "      <td>785</td>\n",
              "      <td>Commune</td>\n",
              "      <td>49946.0</td>\n",
              "      <td>124709.0</td>\n",
              "      <td>2530.93</td>\n",
              "      <td>6319.41</td>\n",
              "      <td>19808.888559</td>\n",
              "      <td>1.973287e+07</td>\n",
              "      <td>POLYGON ((669872.381 1199077.678, 669922.073 1...</td>\n",
              "      <td>0.00632</td>\n",
              "      <td>2.496877</td>\n",
              "      <td>74763.0</td>\n",
              "    </tr>\n",
              "  </tbody>\n",
              "</table>\n",
              "</div>"
            ],
            "text/plain": [
              "       Com_Name   Dist_Name Com_ID  ... Pop_Den_19 Pop_growRate  Pop_changePace\n",
              "168  Vinh Loc A  Binh Chanh  27601  ...    0.00632     2.496877         74763.0\n",
              "\n",
              "[1 rows x 15 columns]"
            ]
          },
          "metadata": {},
          "execution_count": 119
        }
      ]
    },
    {
      "cell_type": "code",
      "metadata": {
        "colab": {
          "base_uri": "https://localhost:8080/"
        },
        "id": "0OD-PHYWpLHT",
        "outputId": "ecf35788-00c8-4c5e-bcf1-ef83b0a54e76"
      },
      "source": [
        "print(f'Phường có diện tích lớn nhất là phường {high_changePace_ward.Com_Name.iloc[0]} huyện {high_changePace_ward.Dist_Name.iloc[0]}')"
      ],
      "execution_count": 139,
      "outputs": [
        {
          "output_type": "stream",
          "name": "stdout",
          "text": [
            "Phường có diện tích lớn nhất là phường Vinh Loc A huyện Binh Chanh\n"
          ]
        }
      ]
    },
    {
      "cell_type": "code",
      "metadata": {
        "colab": {
          "base_uri": "https://localhost:8080/",
          "height": 402
        },
        "id": "ddyNLbwzeS3R",
        "outputId": "ab8bee6f-aee8-49fc-dfaf-11e8f058ab4b"
      },
      "source": [
        "high_changePace_ward.plot(figsize=(8, 10))"
      ],
      "execution_count": 120,
      "outputs": [
        {
          "output_type": "execute_result",
          "data": {
            "text/plain": [
              "<matplotlib.axes._subplots.AxesSubplot at 0x7fbb96fbebd0>"
            ]
          },
          "metadata": {},
          "execution_count": 120
        },
        {
          "output_type": "display_data",
          "data": {
            "image/png": "[encoded data removed]",
            "text/plain": [
              "<Figure size 576x720 with 1 Axes>"
            ]
          },
          "metadata": {
            "needs_background": "light"
          }
        }
      ]
    },
    {
      "cell_type": "markdown",
      "metadata": {
        "id": "_FHEdu6Recs1"
      },
      "source": [
        "# Thao tác 8: Phường nào có biến động dân số chậm nhất (dựa trên Pop_2009 và Pop_2019)"
      ]
    },
    {
      "cell_type": "code",
      "metadata": {
        "id": "sjZ3BUPDeUj2"
      },
      "source": [
        "low_changePace_ward = data[data.Pop_changePace == data['Pop_changePace'].min()]"
      ],
      "execution_count": 121,
      "outputs": []
    },
    {
      "cell_type": "code",
      "metadata": {
        "colab": {
          "base_uri": "https://localhost:8080/",
          "height": 97
        },
        "id": "GLphVBUGekIJ",
        "outputId": "fe848b5a-f990-4953-f2ed-8fd7074b0f83"
      },
      "source": [
        "low_changePace_ward"
      ],
      "execution_count": 122,
      "outputs": [
        {
          "output_type": "execute_result",
          "data": {
            "text/html": [
              "<div>\n",
              "<style scoped>\n",
              "    .dataframe tbody tr th:only-of-type {\n",
              "        vertical-align: middle;\n",
              "    }\n",
              "\n",
              "    .dataframe tbody tr th {\n",
              "        vertical-align: top;\n",
              "    }\n",
              "\n",
              "    .dataframe thead th {\n",
              "        text-align: right;\n",
              "    }\n",
              "</style>\n",
              "<table border=\"1\" class=\"dataframe\">\n",
              "  <thead>\n",
              "    <tr style=\"text-align: right;\">\n",
              "      <th></th>\n",
              "      <th>Com_Name</th>\n",
              "      <th>Dist_Name</th>\n",
              "      <th>Com_ID</th>\n",
              "      <th>Dist_ID</th>\n",
              "      <th>Level</th>\n",
              "      <th>Pop_2009</th>\n",
              "      <th>Pop_2019</th>\n",
              "      <th>Den_2009</th>\n",
              "      <th>Den_2019</th>\n",
              "      <th>Shape_Leng</th>\n",
              "      <th>Shape_Area</th>\n",
              "      <th>geometry</th>\n",
              "      <th>Pop_Den_19</th>\n",
              "      <th>Pop_growRate</th>\n",
              "      <th>Pop_changePace</th>\n",
              "    </tr>\n",
              "  </thead>\n",
              "  <tbody>\n",
              "    <tr>\n",
              "      <th>218</th>\n",
              "      <td>An Khanh</td>\n",
              "      <td>District 2</td>\n",
              "      <td>27106</td>\n",
              "      <td>769</td>\n",
              "      <td>Ward</td>\n",
              "      <td>15659.0</td>\n",
              "      <td>223.0</td>\n",
              "      <td>8830.98</td>\n",
              "      <td>125.762</td>\n",
              "      <td>6715.625464</td>\n",
              "      <td>1.773186e+06</td>\n",
              "      <td>POLYGON ((688894.225 1192163.773, 688895.628 1...</td>\n",
              "      <td>0.000126</td>\n",
              "      <td>0.014241</td>\n",
              "      <td>-15436.0</td>\n",
              "    </tr>\n",
              "  </tbody>\n",
              "</table>\n",
              "</div>"
            ],
            "text/plain": [
              "     Com_Name   Dist_Name Com_ID  ... Pop_Den_19 Pop_growRate  Pop_changePace\n",
              "218  An Khanh  District 2  27106  ...   0.000126     0.014241        -15436.0\n",
              "\n",
              "[1 rows x 15 columns]"
            ]
          },
          "metadata": {},
          "execution_count": 122
        }
      ]
    },
    {
      "cell_type": "code",
      "metadata": {
        "colab": {
          "base_uri": "https://localhost:8080/"
        },
        "id": "YbKdBCj2pPwT",
        "outputId": "088a0563-9114-4eb9-e21f-f1bc732e95c0"
      },
      "source": [
        "print(f'Phường có diện tích lớn nhất là phường {low_changePace_ward.Com_Name.iloc[0]} {low_changePace_ward.Dist_Name.iloc[0]}')"
      ],
      "execution_count": 140,
      "outputs": [
        {
          "output_type": "stream",
          "name": "stdout",
          "text": [
            "Phường có diện tích lớn nhất là phường An Khanh District 2\n"
          ]
        }
      ]
    },
    {
      "cell_type": "code",
      "metadata": {
        "colab": {
          "base_uri": "https://localhost:8080/",
          "height": 325
        },
        "id": "JjweCCeNellG",
        "outputId": "00484305-9057-4ae8-9cc9-b3b2942f92ec"
      },
      "source": [
        "low_changePace_ward.plot(figsize=(6, 10))"
      ],
      "execution_count": 123,
      "outputs": [
        {
          "output_type": "execute_result",
          "data": {
            "text/plain": [
              "<matplotlib.axes._subplots.AxesSubplot at 0x7fbb96fe22d0>"
            ]
          },
          "metadata": {},
          "execution_count": 123
        },
        {
          "output_type": "display_data",
          "data": {
            "image/png": "[encoded data removed]",
            "text/plain": [
              "<Figure size 432x720 with 1 Axes>"
            ]
          },
          "metadata": {
            "needs_background": "light"
          }
        }
      ]
    },
    {
      "cell_type": "markdown",
      "metadata": {
        "id": "i0I25v-de4vB"
      },
      "source": [
        "# Thao tác 9: Phường nào có mật độ dân số cao nhất 2019"
      ]
    },
    {
      "cell_type": "code",
      "metadata": {
        "id": "UcsOrqj1enCI"
      },
      "source": [
        "data['Pop_Den_19'] = data['Pop_2019'] / data['Shape_Area']"
      ],
      "execution_count": 103,
      "outputs": []
    },
    {
      "cell_type": "code",
      "metadata": {
        "id": "h9xuTQoIfUP4"
      },
      "source": [
        "high_PopDen19_ward = data[data.Pop_Den_19 == data['Pop_Den_19'].max()]"
      ],
      "execution_count": 104,
      "outputs": []
    },
    {
      "cell_type": "code",
      "metadata": {
        "colab": {
          "base_uri": "https://localhost:8080/",
          "height": 80
        },
        "id": "so2g7KY4fVD0",
        "outputId": "4bc67aad-6654-4e25-d97a-9c5977b95d97"
      },
      "source": [
        "high_PopDen19_ward"
      ],
      "execution_count": 105,
      "outputs": [
        {
          "output_type": "execute_result",
          "data": {
            "text/html": [
              "<div>\n",
              "<style scoped>\n",
              "    .dataframe tbody tr th:only-of-type {\n",
              "        vertical-align: middle;\n",
              "    }\n",
              "\n",
              "    .dataframe tbody tr th {\n",
              "        vertical-align: top;\n",
              "    }\n",
              "\n",
              "    .dataframe thead th {\n",
              "        text-align: right;\n",
              "    }\n",
              "</style>\n",
              "<table border=\"1\" class=\"dataframe\">\n",
              "  <thead>\n",
              "    <tr style=\"text-align: right;\">\n",
              "      <th></th>\n",
              "      <th>Com_Name</th>\n",
              "      <th>Dist_Name</th>\n",
              "      <th>Com_ID</th>\n",
              "      <th>Dist_ID</th>\n",
              "      <th>Level</th>\n",
              "      <th>Pop_2009</th>\n",
              "      <th>Pop_2019</th>\n",
              "      <th>Den_2009</th>\n",
              "      <th>Den_2019</th>\n",
              "      <th>Shape_Leng</th>\n",
              "      <th>Shape_Area</th>\n",
              "      <th>geometry</th>\n",
              "      <th>Pop_Den_19</th>\n",
              "    </tr>\n",
              "  </thead>\n",
              "  <tbody>\n",
              "    <tr>\n",
              "      <th>16</th>\n",
              "      <td>Ward 8</td>\n",
              "      <td>District 4</td>\n",
              "      <td>27268</td>\n",
              "      <td>773</td>\n",
              "      <td>Ward</td>\n",
              "      <td>16221.0</td>\n",
              "      <td>15321.0</td>\n",
              "      <td>101839.0</td>\n",
              "      <td>96188.7</td>\n",
              "      <td>2623.543439</td>\n",
              "      <td>159274.140239</td>\n",
              "      <td>POLYGON ((686132.663 1190298.153, 686136.360 1...</td>\n",
              "      <td>0.096193</td>\n",
              "    </tr>\n",
              "  </tbody>\n",
              "</table>\n",
              "</div>"
            ],
            "text/plain": [
              "   Com_Name  ... Pop_Den_19\n",
              "16   Ward 8  ...   0.096193\n",
              "\n",
              "[1 rows x 13 columns]"
            ]
          },
          "metadata": {},
          "execution_count": 105
        }
      ]
    },
    {
      "cell_type": "code",
      "metadata": {
        "colab": {
          "base_uri": "https://localhost:8080/"
        },
        "id": "Lba2n-MepUd2",
        "outputId": "8e97aff4-7df1-4ebc-a4c7-8e982a2216e1"
      },
      "source": [
        "print(f'Phường có diện tích lớn nhất là {high_PopDen19_ward.Com_Name.iloc[0]} {high_PopDen19_ward.Dist_Name.iloc[0]}')"
      ],
      "execution_count": 141,
      "outputs": [
        {
          "output_type": "stream",
          "name": "stdout",
          "text": [
            "Phường có diện tích lớn nhất là Ward 8 District 4\n"
          ]
        }
      ]
    },
    {
      "cell_type": "code",
      "metadata": {
        "colab": {
          "base_uri": "https://localhost:8080/",
          "height": 402
        },
        "id": "Wh4ozuQCfwiH",
        "outputId": "2bf45600-f27a-4a7f-d2d5-e061955269ab"
      },
      "source": [
        "high_PopDen19_ward.plot(figsize=(10, 6))"
      ],
      "execution_count": 106,
      "outputs": [
        {
          "output_type": "execute_result",
          "data": {
            "text/plain": [
              "<matplotlib.axes._subplots.AxesSubplot at 0x7fbb9718aad0>"
            ]
          },
          "metadata": {},
          "execution_count": 106
        },
        {
          "output_type": "display_data",
          "data": {
            "image/png": "[encoded data removed]",
            "text/plain": [
              "<Figure size 720x432 with 1 Axes>"
            ]
          },
          "metadata": {
            "needs_background": "light"
          }
        }
      ]
    },
    {
      "cell_type": "markdown",
      "metadata": {
        "id": "YQU6Tz6kf286"
      },
      "source": [
        "# Thao tác 10: Phường nào có mật độ dân số thấp nhất 2019"
      ]
    },
    {
      "cell_type": "code",
      "metadata": {
        "id": "xUXtPnMzfygS"
      },
      "source": [
        "low_PopDen19_ward = data[data.Pop_Den_19 == data['Pop_Den_19'].min()]"
      ],
      "execution_count": 107,
      "outputs": []
    },
    {
      "cell_type": "code",
      "metadata": {
        "colab": {
          "base_uri": "https://localhost:8080/",
          "height": 80
        },
        "id": "knH62LOLf9ik",
        "outputId": "48695000-f663-4827-e91b-56a5723bedab"
      },
      "source": [
        "low_PopDen19_ward"
      ],
      "execution_count": 108,
      "outputs": [
        {
          "output_type": "execute_result",
          "data": {
            "text/html": [
              "<div>\n",
              "<style scoped>\n",
              "    .dataframe tbody tr th:only-of-type {\n",
              "        vertical-align: middle;\n",
              "    }\n",
              "\n",
              "    .dataframe tbody tr th {\n",
              "        vertical-align: top;\n",
              "    }\n",
              "\n",
              "    .dataframe thead th {\n",
              "        text-align: right;\n",
              "    }\n",
              "</style>\n",
              "<table border=\"1\" class=\"dataframe\">\n",
              "  <thead>\n",
              "    <tr style=\"text-align: right;\">\n",
              "      <th></th>\n",
              "      <th>Com_Name</th>\n",
              "      <th>Dist_Name</th>\n",
              "      <th>Com_ID</th>\n",
              "      <th>Dist_ID</th>\n",
              "      <th>Level</th>\n",
              "      <th>Pop_2009</th>\n",
              "      <th>Pop_2019</th>\n",
              "      <th>Den_2009</th>\n",
              "      <th>Den_2019</th>\n",
              "      <th>Shape_Leng</th>\n",
              "      <th>Shape_Area</th>\n",
              "      <th>geometry</th>\n",
              "      <th>Pop_Den_19</th>\n",
              "    </tr>\n",
              "  </thead>\n",
              "  <tbody>\n",
              "    <tr>\n",
              "      <th>204</th>\n",
              "      <td>Ly Nhon</td>\n",
              "      <td>Can Gio</td>\n",
              "      <td>27682</td>\n",
              "      <td>787</td>\n",
              "      <td>Commune</td>\n",
              "      <td>5696.0</td>\n",
              "      <td>5266.0</td>\n",
              "      <td>35.3378</td>\n",
              "      <td>32.6701</td>\n",
              "      <td>68958.528608</td>\n",
              "      <td>1.611939e+08</td>\n",
              "      <td>POLYGON ((703990.602 1160907.838, 704139.338 1...</td>\n",
              "      <td>0.000033</td>\n",
              "    </tr>\n",
              "  </tbody>\n",
              "</table>\n",
              "</div>"
            ],
            "text/plain": [
              "    Com_Name  ... Pop_Den_19\n",
              "204  Ly Nhon  ...   0.000033\n",
              "\n",
              "[1 rows x 13 columns]"
            ]
          },
          "metadata": {},
          "execution_count": 108
        }
      ]
    },
    {
      "cell_type": "code",
      "metadata": {
        "colab": {
          "base_uri": "https://localhost:8080/"
        },
        "id": "gnR935bQpZsc",
        "outputId": "9ad5c6ff-7044-476d-ac82-36977737f174"
      },
      "source": [
        "print(f'Phường có diện tích lớn nhất là phường {low_PopDen19_ward.Com_Name.iloc[0]} quận {low_PopDen19_ward.Dist_Name.iloc[0]}')"
      ],
      "execution_count": 142,
      "outputs": [
        {
          "output_type": "stream",
          "name": "stdout",
          "text": [
            "Phường có diện tích lớn nhất là phường Ly Nhon quận Can Gio\n"
          ]
        }
      ]
    },
    {
      "cell_type": "code",
      "metadata": {
        "colab": {
          "base_uri": "https://localhost:8080/",
          "height": 619
        },
        "id": "3btHRB0Sf_82",
        "outputId": "635407ab-042c-4a99-e68e-bc0f10d0d50f"
      },
      "source": [
        "low_PopDen19_ward.plot(figsize=(8, 10))"
      ],
      "execution_count": 109,
      "outputs": [
        {
          "output_type": "execute_result",
          "data": {
            "text/plain": [
              "<matplotlib.axes._subplots.AxesSubplot at 0x7fbb970fd8d0>"
            ]
          },
          "metadata": {},
          "execution_count": 109
        },
        {
          "output_type": "display_data",
          "data": {
            "image/png": "[encoded data removed]",
            "text/plain": [
              "<Figure size 576x720 with 1 Axes>"
            ]
          },
          "metadata": {
            "needs_background": "light"
          }
        }
      ]
    },
    {
      "cell_type": "code",
      "metadata": {
        "id": "kpXgj8AFmo-y"
      },
      "source": [
        ""
      ],
      "execution_count": null,
      "outputs": []
    }
  ]
}