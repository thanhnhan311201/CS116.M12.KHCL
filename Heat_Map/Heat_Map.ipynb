{
  "nbformat": 4,
  "nbformat_minor": 0,
  "metadata": {
    "colab": {
      "name": "Heat_Map.ipynb",
      "provenance": [],
      "collapsed_sections": [],
      "toc_visible": true
    },
    "kernelspec": {
      "name": "python3",
      "display_name": "Python 3"
    },
    "language_info": {
      "name": "python"
    }
  },
  "cells": [
    {
      "cell_type": "markdown",
      "metadata": {
        "id": "J5CbgCaCKNsu"
      },
      "source": [
        "# Cài đặt thư viện"
      ]
    },
    {
      "cell_type": "code",
      "metadata": {
        "id": "KgDw6m5tKKT1"
      },
      "source": [
        "!pip install matplotlib==3.1.3\n",
        "!pip install osmnet\n",
        "!pip install folium\n",
        "\n",
        "!pip install rtree\n",
        "!pip install pygeos\n",
        "!pip install geojson\n",
        "!pip install geopandas"
      ],
      "execution_count": null,
      "outputs": []
    },
    {
      "cell_type": "markdown",
      "metadata": {
        "id": "tJ6USNy0KTG6"
      },
      "source": [
        "# Clone data"
      ]
    },
    {
      "cell_type": "code",
      "metadata": {
        "id": "IfG3uwfRKWiP"
      },
      "source": [
        "!git clone https://github.com/CityScope/CSL_HCMC"
      ],
      "execution_count": null,
      "outputs": []
    },
    {
      "cell_type": "markdown",
      "metadata": {
        "id": "SP6AhKlrKdiv"
      },
      "source": [
        "# Load data"
      ]
    },
    {
      "cell_type": "code",
      "metadata": {
        "id": "EpCJvX7nKyU2"
      },
      "source": [
        "import matplotlib.pyplot as plt\n",
        "import osmnet\n",
        "import folium\n",
        "\n",
        "import geopandas as gpd\n",
        "import pygeos\n",
        "import geojson\n",
        "import rtree"
      ],
      "execution_count": null,
      "outputs": []
    },
    {
      "cell_type": "code",
      "metadata": {
        "id": "eRYpvkasKX8B"
      },
      "source": [
        "data = gpd.read_file('/content/CSL_HCMC/Data/GIS/Population/population_HCMC/population_shapefile/Population_District_Level.shp')"
      ],
      "execution_count": 4,
      "outputs": []
    },
    {
      "cell_type": "code",
      "metadata": {
        "id": "Tgk-Z6z7Kv2t"
      },
      "source": [
        "data"
      ],
      "execution_count": null,
      "outputs": []
    },
    {
      "cell_type": "markdown",
      "metadata": {
        "id": "E6jkChCPLgqi"
      },
      "source": [
        "# Load dữ liệu click của người dùng"
      ]
    },
    {
      "cell_type": "code",
      "metadata": {
        "id": "1eex6rGBMSX6"
      },
      "source": [
        "%cd /content/drive/MyDrive/Học\\ tập/CS116_LapTrinhPython/heat_map_clicking"
      ],
      "execution_count": null,
      "outputs": []
    },
    {
      "cell_type": "code",
      "metadata": {
        "id": "MIlz_IEpLHv7"
      },
      "source": [
        "click_data = gpd.read_file('14-09.json')"
      ],
      "execution_count": 7,
      "outputs": []
    },
    {
      "cell_type": "code",
      "metadata": {
        "id": "GNrcfTiUMPMp"
      },
      "source": [
        "click_data"
      ],
      "execution_count": null,
      "outputs": []
    },
    {
      "cell_type": "markdown",
      "metadata": {
        "id": "YGl56cocNulS"
      },
      "source": [
        "# Lọc ra 10 quận huyện có tốc độ tăng dân số nhanh nhất (Pop2019/Pop2017)"
      ]
    },
    {
      "cell_type": "code",
      "metadata": {
        "id": "hPZJRbxONmu3"
      },
      "source": [
        "data['Pop_growRate'] = data['Pop_2019'] / data['Pop_2017']"
      ],
      "execution_count": 9,
      "outputs": []
    },
    {
      "cell_type": "code",
      "metadata": {
        "id": "-UaTRp8yN5_O"
      },
      "source": [
        "top_10_high_growRate_ward = data.nlargest(10,'Pop_growRate')"
      ],
      "execution_count": 10,
      "outputs": []
    },
    {
      "cell_type": "code",
      "metadata": {
        "id": "M90GNdvNN6oP"
      },
      "source": [
        "top_10_high_growRate_ward"
      ],
      "execution_count": null,
      "outputs": []
    },
    {
      "cell_type": "markdown",
      "metadata": {
        "id": "71YH6oQ5O5si"
      },
      "source": [
        "# Lọc ra các điểm click của người dùng trong 10 quận/huyện hot nhất"
      ]
    },
    {
      "cell_type": "code",
      "metadata": {
        "id": "c7arQfHKOpuP"
      },
      "source": [
        "from geopandas.tools import sjoin"
      ],
      "execution_count": 12,
      "outputs": []
    },
    {
      "cell_type": "code",
      "metadata": {
        "id": "vIY_dMlmPNA3"
      },
      "source": [
        "click_data.crs"
      ],
      "execution_count": null,
      "outputs": []
    },
    {
      "cell_type": "code",
      "metadata": {
        "id": "LKw6HDq2QURc"
      },
      "source": [
        "high_GR_ward = top_10_high_growRate_ward.to_crs(\"EPSG:4326\")"
      ],
      "execution_count": 14,
      "outputs": []
    },
    {
      "cell_type": "code",
      "metadata": {
        "id": "2kKzTBteWcLA"
      },
      "source": [
        "high_GR_ward.crs"
      ],
      "execution_count": null,
      "outputs": []
    },
    {
      "cell_type": "code",
      "metadata": {
        "id": "MUqVJtIAQ7el"
      },
      "source": [
        "clicking_data = gpd.sjoin(click_data, high_GR_ward, how=\"inner\", op='within')"
      ],
      "execution_count": 16,
      "outputs": []
    },
    {
      "cell_type": "code",
      "metadata": {
        "id": "ojvdNRvbTKug"
      },
      "source": [
        "clicking_data"
      ],
      "execution_count": null,
      "outputs": []
    },
    {
      "cell_type": "markdown",
      "metadata": {
        "id": "GB-oLKvkT19C"
      },
      "source": [
        "# Chạy KMean để gom các cụm clicking cho mỗi quận huyện"
      ]
    },
    {
      "cell_type": "code",
      "metadata": {
        "id": "WhJWlROATO9N"
      },
      "source": [
        "from sklearn.cluster import KMeans\n",
        "import numpy as np"
      ],
      "execution_count": 18,
      "outputs": []
    },
    {
      "cell_type": "code",
      "metadata": {
        "id": "awBA5pJHUI0-"
      },
      "source": [
        "%matplotlib inline\n",
        "import matplotlib.pyplot as plt\n",
        "import seaborn as sns; sns.set()  # for plot styling"
      ],
      "execution_count": 19,
      "outputs": []
    },
    {
      "cell_type": "code",
      "metadata": {
        "id": "8vBQyMTCW9mU"
      },
      "source": [
        "clicking_data.geometry"
      ],
      "execution_count": null,
      "outputs": []
    },
    {
      "cell_type": "code",
      "metadata": {
        "id": "rKJiA65eYAnU"
      },
      "source": [
        "def getXY(pt):\n",
        "    return (pt.x, pt.y)"
      ],
      "execution_count": 21,
      "outputs": []
    },
    {
      "cell_type": "code",
      "metadata": {
        "id": "GrJ0TJXjYM6D"
      },
      "source": [
        "centroidseries = clicking_data['geometry'].centroid\n",
        "x,y = [np.array(t) for t in zip(*map(getXY, centroidseries))]"
      ],
      "execution_count": null,
      "outputs": []
    },
    {
      "cell_type": "code",
      "metadata": {
        "id": "HjjNHk8nUcPs"
      },
      "source": [
        "plt.figure(figsize=(10,10))\n",
        "plt.scatter(x, y)\n",
        "plt.show()"
      ],
      "execution_count": null,
      "outputs": []
    },
    {
      "cell_type": "code",
      "metadata": {
        "id": "lDJw2IQBaCvJ"
      },
      "source": [
        "clicking_data.Dist_Name.unique()"
      ],
      "execution_count": null,
      "outputs": []
    },
    {
      "cell_type": "markdown",
      "metadata": {
        "id": "ArN_XeUNdlYQ"
      },
      "source": [
        "## Dữ liệu click của người dùng ở quận 2"
      ]
    },
    {
      "cell_type": "code",
      "metadata": {
        "id": "4BUYP-wvdEie"
      },
      "source": [
        "clicking_data_dis2 = clicking_data.loc[clicking_data['Dist_Name']=='District 2']"
      ],
      "execution_count": 25,
      "outputs": []
    },
    {
      "cell_type": "code",
      "metadata": {
        "id": "mDRPDJCvcu6c"
      },
      "source": [
        "centroidseries = clicking_data_dis2['geometry'].centroid\n",
        "x,y = [np.array(t) for t in zip(*map(getXY, centroidseries))]"
      ],
      "execution_count": null,
      "outputs": []
    },
    {
      "cell_type": "code",
      "metadata": {
        "id": "AEPHRon0f1eS"
      },
      "source": [
        "plt.figure(figsize=(10,10))\n",
        "plt.scatter(x, y)\n",
        "plt.show()"
      ],
      "execution_count": null,
      "outputs": []
    },
    {
      "cell_type": "code",
      "metadata": {
        "id": "TGpX8ZhGgADD"
      },
      "source": [
        "click_2 = np.vstack((x,y)).T\n",
        "click_2.shape"
      ],
      "execution_count": null,
      "outputs": []
    },
    {
      "cell_type": "code",
      "metadata": {
        "id": "wOirFy46dzEZ"
      },
      "source": [
        "kmeans = KMeans(n_clusters=20)\n",
        "kmeans.fit(click_2)\n",
        "y_kmeans_2 = kmeans.predict(click_2)"
      ],
      "execution_count": 29,
      "outputs": []
    },
    {
      "cell_type": "code",
      "metadata": {
        "id": "fz0nCqAvd_6B"
      },
      "source": [
        "y_kmeans_2.shape"
      ],
      "execution_count": null,
      "outputs": []
    },
    {
      "cell_type": "code",
      "metadata": {
        "id": "2ErA6QnXhQzj"
      },
      "source": [
        "plt.scatter(click_2[:, 0], click_2[:, 1], c=y_kmeans_2, s=50, cmap='viridis')\n",
        "\n",
        "centers = kmeans.cluster_centers_\n",
        "plt.scatter(centers[:, 0], centers[:, 1], c='black', s=200, alpha=0.5);"
      ],
      "execution_count": null,
      "outputs": []
    },
    {
      "cell_type": "markdown",
      "metadata": {
        "id": "ut0TRy4_iR-H"
      },
      "source": [
        "## Dữ liệu click của người dùng ở Bình Tân"
      ]
    },
    {
      "cell_type": "code",
      "metadata": {
        "id": "Ls2qgbdDh-OZ"
      },
      "source": [
        "clicking_data_dis = clicking_data.loc[clicking_data['Dist_Name']=='Binh Tan']"
      ],
      "execution_count": 32,
      "outputs": []
    },
    {
      "cell_type": "code",
      "metadata": {
        "id": "zn0Ah3ugipjU"
      },
      "source": [
        "centroidseries = clicking_data_dis['geometry'].centroid\n",
        "x,y = [np.array(t) for t in zip(*map(getXY, centroidseries))]"
      ],
      "execution_count": null,
      "outputs": []
    },
    {
      "cell_type": "code",
      "metadata": {
        "id": "3pAUnWeWiqRc"
      },
      "source": [
        "plt.figure(figsize=(10,10))\n",
        "plt.scatter(x, y)\n",
        "plt.show()"
      ],
      "execution_count": null,
      "outputs": []
    },
    {
      "cell_type": "code",
      "metadata": {
        "id": "VcsbMdp7isWl"
      },
      "source": [
        "click_BT = np.vstack((x,y)).T\n",
        "click_BT.shape"
      ],
      "execution_count": null,
      "outputs": []
    },
    {
      "cell_type": "code",
      "metadata": {
        "id": "odL7OMZ1ix5f"
      },
      "source": [
        "kmeans = KMeans(n_clusters=20)\n",
        "kmeans.fit(click_BT)\n",
        "y_kmeans_BT = kmeans.predict(click_BT)"
      ],
      "execution_count": 36,
      "outputs": []
    },
    {
      "cell_type": "code",
      "metadata": {
        "id": "mW2LdvSdi12M"
      },
      "source": [
        "plt.scatter(click_BT[:, 0], click_BT[:, 1], c=y_kmeans_BT, s=50, cmap='viridis')\n",
        "\n",
        "centers = kmeans.cluster_centers_\n",
        "plt.scatter(centers[:, 0], centers[:, 1], c='black', s=200, alpha=0.5);"
      ],
      "execution_count": null,
      "outputs": []
    },
    {
      "cell_type": "markdown",
      "metadata": {
        "id": "DpZECuZXi8S1"
      },
      "source": [
        "## Dữ liệu click của người dùng ở Thủ Đức"
      ]
    },
    {
      "cell_type": "code",
      "metadata": {
        "id": "CsYwrJNki67b"
      },
      "source": [
        "clicking_data_dis = clicking_data.loc[clicking_data['Dist_Name']=='Thu Duc']"
      ],
      "execution_count": 38,
      "outputs": []
    },
    {
      "cell_type": "code",
      "metadata": {
        "id": "E2l7bIy_jKCG"
      },
      "source": [
        "centroidseries = clicking_data_dis['geometry'].centroid\n",
        "x,y = [np.array(t) for t in zip(*map(getXY, centroidseries))]"
      ],
      "execution_count": null,
      "outputs": []
    },
    {
      "cell_type": "code",
      "metadata": {
        "id": "oPX0oVfRjSJ6"
      },
      "source": [
        "plt.figure(figsize=(10,10))\n",
        "plt.scatter(x, y)\n",
        "plt.show()"
      ],
      "execution_count": null,
      "outputs": []
    },
    {
      "cell_type": "code",
      "metadata": {
        "id": "tvIh06B8jTxi"
      },
      "source": [
        "click_TD = np.vstack((x,y)).T\n",
        "click_TD.shape"
      ],
      "execution_count": null,
      "outputs": []
    },
    {
      "cell_type": "code",
      "metadata": {
        "id": "6xYsIFASjXfH"
      },
      "source": [
        "kmeans = KMeans(n_clusters=20)\n",
        "kmeans.fit(click_TD)\n",
        "y_kmeans_TD = kmeans.predict(click_TD)"
      ],
      "execution_count": 42,
      "outputs": []
    },
    {
      "cell_type": "code",
      "metadata": {
        "id": "T9mACSQFjb3U"
      },
      "source": [
        "plt.scatter(click_TD[:, 0], click_TD[:, 1], c=y_kmeans_TD, s=50, cmap='viridis')\n",
        "\n",
        "centers = kmeans.cluster_centers_\n",
        "plt.scatter(centers[:, 0], centers[:, 1], c='black', s=200, alpha=0.5);"
      ],
      "execution_count": null,
      "outputs": []
    },
    {
      "cell_type": "markdown",
      "metadata": {
        "id": "-1XG5PoojnIo"
      },
      "source": [
        "## Dữ liệu click của người dùng ở Củ Chi"
      ]
    },
    {
      "cell_type": "code",
      "metadata": {
        "id": "qpnSA8HfjhtS"
      },
      "source": [
        "clicking_data_dis = clicking_data.loc[clicking_data['Dist_Name']=='Cu Chi']"
      ],
      "execution_count": 44,
      "outputs": []
    },
    {
      "cell_type": "code",
      "metadata": {
        "id": "qV1TFPzDjvQd"
      },
      "source": [
        "centroidseries = clicking_data_dis['geometry'].centroid\n",
        "x,y = [np.array(t) for t in zip(*map(getXY, centroidseries))]"
      ],
      "execution_count": null,
      "outputs": []
    },
    {
      "cell_type": "code",
      "metadata": {
        "id": "WStkOqx6jw5i"
      },
      "source": [
        "plt.figure(figsize=(10,10))\n",
        "plt.scatter(x, y)\n",
        "plt.show()"
      ],
      "execution_count": null,
      "outputs": []
    },
    {
      "cell_type": "code",
      "metadata": {
        "id": "4xQGniLjjyoC"
      },
      "source": [
        "click_CC = np.vstack((x,y)).T\n",
        "click_CC.shape"
      ],
      "execution_count": null,
      "outputs": []
    },
    {
      "cell_type": "code",
      "metadata": {
        "id": "0pfeyuysj26I"
      },
      "source": [
        "kmeans = KMeans(n_clusters=20)\n",
        "kmeans.fit(click_CC)\n",
        "y_kmeans_CC = kmeans.predict(click_CC)"
      ],
      "execution_count": 48,
      "outputs": []
    },
    {
      "cell_type": "code",
      "metadata": {
        "id": "mw7XL_gDj7V8"
      },
      "source": [
        "plt.scatter(click_CC[:, 0], click_CC[:, 1], c=y_kmeans_CC, s=50, cmap='viridis')\n",
        "\n",
        "centers = kmeans.cluster_centers_\n",
        "plt.scatter(centers[:, 0], centers[:, 1], c='black', s=200, alpha=0.5);"
      ],
      "execution_count": null,
      "outputs": []
    },
    {
      "cell_type": "markdown",
      "metadata": {
        "id": "J_L8RszykDIw"
      },
      "source": [
        "## Dữ liệu click của người dùng ở Hóc Môn"
      ]
    },
    {
      "cell_type": "code",
      "metadata": {
        "id": "ONenWTxdj_4C"
      },
      "source": [
        "clicking_data_dis = clicking_data.loc[clicking_data['Dist_Name']=='Hoc Mon']"
      ],
      "execution_count": 50,
      "outputs": []
    },
    {
      "cell_type": "code",
      "metadata": {
        "id": "MbtVHE5ikJyv"
      },
      "source": [
        "centroidseries = clicking_data_dis['geometry'].centroid\n",
        "x,y = [np.array(t) for t in zip(*map(getXY, centroidseries))]"
      ],
      "execution_count": null,
      "outputs": []
    },
    {
      "cell_type": "code",
      "metadata": {
        "id": "9eCdiH-NkLfE"
      },
      "source": [
        "plt.figure(figsize=(10,10))\n",
        "plt.scatter(x, y)\n",
        "plt.show()"
      ],
      "execution_count": null,
      "outputs": []
    },
    {
      "cell_type": "code",
      "metadata": {
        "id": "MxTgLo8VkPC0"
      },
      "source": [
        "click_HM = np.vstack((x,y)).T\n",
        "click_HM.shape"
      ],
      "execution_count": null,
      "outputs": []
    },
    {
      "cell_type": "code",
      "metadata": {
        "id": "4yXgS-hSkSbx"
      },
      "source": [
        "kmeans = KMeans(n_clusters=20)\n",
        "kmeans.fit(click_HM)\n",
        "y_kmeans_HM = kmeans.predict(click_HM)"
      ],
      "execution_count": 54,
      "outputs": []
    },
    {
      "cell_type": "code",
      "metadata": {
        "id": "wtwb0KXYkWqL"
      },
      "source": [
        "plt.scatter(click_HM[:, 0], click_HM[:, 1], c=y_kmeans_HM, s=50, cmap='viridis')\n",
        "\n",
        "centers = kmeans.cluster_centers_\n",
        "plt.scatter(centers[:, 0], centers[:, 1], c='black', s=200, alpha=0.5);"
      ],
      "execution_count": null,
      "outputs": []
    },
    {
      "cell_type": "markdown",
      "metadata": {
        "id": "tvVFZLH1kf7_"
      },
      "source": [
        "## Dữ liệu click của người dùng ở quận 12"
      ]
    },
    {
      "cell_type": "code",
      "metadata": {
        "id": "YcqFIBoXkbF4"
      },
      "source": [
        "clicking_data_dis = clicking_data.loc[clicking_data['Dist_Name']=='District 12']"
      ],
      "execution_count": 56,
      "outputs": []
    },
    {
      "cell_type": "code",
      "metadata": {
        "id": "EM82jjvDkkAJ"
      },
      "source": [
        "centroidseries = clicking_data_dis['geometry'].centroid\n",
        "x,y = [np.array(t) for t in zip(*map(getXY, centroidseries))]"
      ],
      "execution_count": null,
      "outputs": []
    },
    {
      "cell_type": "code",
      "metadata": {
        "id": "y0sUvhXtklme"
      },
      "source": [
        "plt.figure(figsize=(10,10))\n",
        "plt.scatter(x, y)\n",
        "plt.show()"
      ],
      "execution_count": null,
      "outputs": []
    },
    {
      "cell_type": "code",
      "metadata": {
        "id": "Uz8-9bQ7knN1"
      },
      "source": [
        "click_12 = np.vstack((x,y)).T\n",
        "\n",
        "kmeans = KMeans(n_clusters=20)\n",
        "kmeans.fit(click_12)\n",
        "y_kmeans_12 = kmeans.predict(click_12)\n",
        "\n",
        "plt.scatter(click_12[:, 0], click_12[:, 1], c=y_kmeans_12, s=50, cmap='viridis')\n",
        "\n",
        "centers = kmeans.cluster_centers_\n",
        "plt.scatter(centers[:, 0], centers[:, 1], c='black', s=200, alpha=0.5)"
      ],
      "execution_count": null,
      "outputs": []
    },
    {
      "cell_type": "markdown",
      "metadata": {
        "id": "jAw6SjlKkyv9"
      },
      "source": [
        "## Dữ liệu click của người dùng ở Nhà Bè"
      ]
    },
    {
      "cell_type": "code",
      "metadata": {
        "id": "6eEIqyDqkviv"
      },
      "source": [
        "clicking_data_dis = clicking_data.loc[clicking_data['Dist_Name']=='Nha Be']\n",
        "\n",
        "centroidseries = clicking_data_dis['geometry'].centroid\n",
        "x,y = [np.array(t) for t in zip(*map(getXY, centroidseries))]\n",
        "\n",
        "plt.figure(figsize=(10,10))\n",
        "plt.scatter(x, y)\n",
        "plt.show()"
      ],
      "execution_count": null,
      "outputs": []
    },
    {
      "cell_type": "code",
      "metadata": {
        "id": "bMC_qhfTlAiQ"
      },
      "source": [
        "click_NB = np.vstack((x,y)).T\n",
        "\n",
        "kmeans = KMeans(n_clusters=20)\n",
        "kmeans.fit(click_NB)\n",
        "y_kmeans_NB = kmeans.predict(click_NB)\n",
        "\n",
        "plt.scatter(click_NB[:, 0], click_NB[:, 1], c=y_kmeans_NB, s=50, cmap='viridis')\n",
        "\n",
        "centers = kmeans.cluster_centers_\n",
        "plt.scatter(centers[:, 0], centers[:, 1], c='black', s=200, alpha=0.5)"
      ],
      "execution_count": null,
      "outputs": []
    },
    {
      "cell_type": "markdown",
      "metadata": {
        "id": "KIz25Oa2lddW"
      },
      "source": [
        "## Dữ liệu click của người dùng ở quận 9"
      ]
    },
    {
      "cell_type": "code",
      "metadata": {
        "id": "Syzum4O6lXm7"
      },
      "source": [
        "clicking_data_dis = clicking_data.loc[clicking_data['Dist_Name']=='District 9']\n",
        "\n",
        "centroidseries = clicking_data_dis['geometry'].centroid\n",
        "x,y = [np.array(t) for t in zip(*map(getXY, centroidseries))]\n",
        "\n",
        "plt.figure(figsize=(10,10))\n",
        "plt.scatter(x, y)\n",
        "plt.show()"
      ],
      "execution_count": null,
      "outputs": []
    },
    {
      "cell_type": "code",
      "metadata": {
        "id": "YMHgAPwNlhWw"
      },
      "source": [
        "click_9 = np.vstack((x,y)).T\n",
        "\n",
        "kmeans = KMeans(n_clusters=20)\n",
        "kmeans.fit(click_9)\n",
        "y_kmeans_9 = kmeans.predict(click_9)\n",
        "\n",
        "plt.scatter(click_9[:, 0], click_9[:, 1], c=y_kmeans_9, s=50, cmap='viridis')\n",
        "\n",
        "centers = kmeans.cluster_centers_\n",
        "plt.scatter(centers[:, 0], centers[:, 1], c='black', s=200, alpha=0.5)"
      ],
      "execution_count": null,
      "outputs": []
    },
    {
      "cell_type": "markdown",
      "metadata": {
        "id": "bv8RGooqltlA"
      },
      "source": [
        "## Dữ liệu click của người dùng ở Bình Chánh"
      ]
    },
    {
      "cell_type": "code",
      "metadata": {
        "id": "YlalWuQtlqAK"
      },
      "source": [
        "clicking_data_dis = clicking_data.loc[clicking_data['Dist_Name']=='Binh Chanh']\n",
        "\n",
        "centroidseries = clicking_data_dis['geometry'].centroid\n",
        "x,y = [np.array(t) for t in zip(*map(getXY, centroidseries))]\n",
        "\n",
        "plt.figure(figsize=(10,10))\n",
        "plt.scatter(x, y)\n",
        "plt.show()"
      ],
      "execution_count": null,
      "outputs": []
    },
    {
      "cell_type": "code",
      "metadata": {
        "id": "IfZrIvn4lxyT"
      },
      "source": [
        "click_BC = np.vstack((x,y)).T\n",
        "\n",
        "kmeans = KMeans(n_clusters=20)\n",
        "kmeans.fit(click_BC)\n",
        "y_kmeans_BC = kmeans.predict(click_BC)\n",
        "\n",
        "plt.scatter(click_BC[:, 0], click_BC[:, 1], c=y_kmeans_BC, s=50, cmap='viridis')\n",
        "\n",
        "centers = kmeans.cluster_centers_\n",
        "plt.scatter(centers[:, 0], centers[:, 1], c='black', s=200, alpha=0.5)"
      ],
      "execution_count": null,
      "outputs": []
    },
    {
      "cell_type": "markdown",
      "metadata": {
        "id": "W_9KY2ywl88F"
      },
      "source": [
        "## Dữ liệu click của người dùng ở quận 7"
      ]
    },
    {
      "cell_type": "code",
      "metadata": {
        "id": "2HaczHmzl5Sc"
      },
      "source": [
        "clicking_data_dis = clicking_data.loc[clicking_data['Dist_Name']=='District 7']\n",
        "\n",
        "centroidseries = clicking_data_dis['geometry'].centroid\n",
        "x,y = [np.array(t) for t in zip(*map(getXY, centroidseries))]\n",
        "\n",
        "plt.figure(figsize=(10,10))\n",
        "plt.scatter(x, y)\n",
        "plt.show()"
      ],
      "execution_count": null,
      "outputs": []
    },
    {
      "cell_type": "code",
      "metadata": {
        "id": "zaCd32FmmBrX"
      },
      "source": [
        "click_7 = np.vstack((x,y)).T\n",
        "\n",
        "kmeans = KMeans(n_clusters=20)\n",
        "kmeans.fit(click_7)\n",
        "y_kmeans_7 = kmeans.predict(click_7)\n",
        "\n",
        "plt.scatter(click_7[:, 0], click_7[:, 1], c=y_kmeans_7, s=50, cmap='viridis')\n",
        "\n",
        "centers = kmeans.cluster_centers_\n",
        "plt.scatter(centers[:, 0], centers[:, 1], c='black', s=200, alpha=0.5)"
      ],
      "execution_count": null,
      "outputs": []
    },
    {
      "cell_type": "markdown",
      "metadata": {
        "id": "OtrLxcNxoGVs"
      },
      "source": [
        "# Lấy các cụm có lượt click cao nhất trong mỗi quận"
      ]
    },
    {
      "cell_type": "code",
      "metadata": {
        "id": "YuEagxlLnA6i"
      },
      "source": [
        "def get_largest_cluster(y_kmeans, click):\n",
        "  click_map= []\n",
        "  for i in range(len(y_kmeans)):\n",
        "    max_cluster = np.bincount(y_kmeans).argmax()\n",
        "    if y_kmeans[i] == max_cluster:\n",
        "      click_map.append(click[i])\n",
        "\n",
        "  return click_map"
      ],
      "execution_count": 68,
      "outputs": []
    },
    {
      "cell_type": "markdown",
      "metadata": {
        "id": "5Zn2qF-puH7w"
      },
      "source": [
        "## Cụm quận 2"
      ]
    },
    {
      "cell_type": "code",
      "metadata": {
        "id": "ti3rXLylrz1T"
      },
      "source": [
        "click_map_2 = np.array(get_largest_cluster(y_kmeans_2, click_2))\n",
        "click_map_2.shape"
      ],
      "execution_count": null,
      "outputs": []
    },
    {
      "cell_type": "markdown",
      "metadata": {
        "id": "GYQowjLYuP1-"
      },
      "source": [
        "## Cụm Bình Tân"
      ]
    },
    {
      "cell_type": "code",
      "metadata": {
        "id": "8IkFFuJWtaox"
      },
      "source": [
        "click_map_BT = np.array(get_largest_cluster(y_kmeans_BT, click_BT))\n",
        "click_map_BT.shape"
      ],
      "execution_count": null,
      "outputs": []
    },
    {
      "cell_type": "markdown",
      "metadata": {
        "id": "RAVarW4QuWcQ"
      },
      "source": [
        "## Cụm Thủ Đức"
      ]
    },
    {
      "cell_type": "code",
      "metadata": {
        "id": "VlWt5jeZuVxn"
      },
      "source": [
        "click_map_TD = np.array(get_largest_cluster(y_kmeans_TD, click_TD))\n",
        "click_map_TD.shape"
      ],
      "execution_count": null,
      "outputs": []
    },
    {
      "cell_type": "markdown",
      "metadata": {
        "id": "foeFKBExudRR"
      },
      "source": [
        "## Cụm Củ Chi"
      ]
    },
    {
      "cell_type": "code",
      "metadata": {
        "id": "BLcUn41auU6b"
      },
      "source": [
        "click_map_CC = np.array(get_largest_cluster(y_kmeans_CC, click_CC))\n",
        "click_map_CC.shape"
      ],
      "execution_count": null,
      "outputs": []
    },
    {
      "cell_type": "markdown",
      "metadata": {
        "id": "3Spz0FiDujHl"
      },
      "source": [
        "## Cụm Hóc Môn"
      ]
    },
    {
      "cell_type": "code",
      "metadata": {
        "id": "tiTxMfLUuigp"
      },
      "source": [
        "click_map_HM = np.array(get_largest_cluster(y_kmeans_HM, click_HM))\n",
        "click_map_HM.shape"
      ],
      "execution_count": null,
      "outputs": []
    },
    {
      "cell_type": "markdown",
      "metadata": {
        "id": "-zz0gTVpup5w"
      },
      "source": [
        "## Cụm quận 12"
      ]
    },
    {
      "cell_type": "code",
      "metadata": {
        "id": "0_jMZMaBuoay"
      },
      "source": [
        "click_map_12 = np.array(get_largest_cluster(y_kmeans_12, click_12))\n",
        "click_map_12.shape"
      ],
      "execution_count": null,
      "outputs": []
    },
    {
      "cell_type": "markdown",
      "metadata": {
        "id": "DKoG0E7yuw6x"
      },
      "source": [
        "## Cụm Nhà Bè"
      ]
    },
    {
      "cell_type": "code",
      "metadata": {
        "id": "F5lEz6QluuSa"
      },
      "source": [
        "click_map_NB = np.array(get_largest_cluster(y_kmeans_NB, click_NB))\n",
        "click_map_NB.shape"
      ],
      "execution_count": null,
      "outputs": []
    },
    {
      "cell_type": "markdown",
      "metadata": {
        "id": "QmC_bu0pu2u_"
      },
      "source": [
        "## Cụm quận 9"
      ]
    },
    {
      "cell_type": "code",
      "metadata": {
        "id": "rbQwdLxJu12z"
      },
      "source": [
        "click_map_9 = np.array(get_largest_cluster(y_kmeans_9, click_9))\n",
        "click_map_9.shape"
      ],
      "execution_count": null,
      "outputs": []
    },
    {
      "cell_type": "markdown",
      "metadata": {
        "id": "3evWf4_Ru7pX"
      },
      "source": [
        "## Cụm Bình Chánh"
      ]
    },
    {
      "cell_type": "code",
      "metadata": {
        "id": "KUoDr3fKu60e"
      },
      "source": [
        "click_map_BC = np.array(get_largest_cluster(y_kmeans_BC, click_BC))\n",
        "click_map_BC.shape"
      ],
      "execution_count": null,
      "outputs": []
    },
    {
      "cell_type": "markdown",
      "metadata": {
        "id": "kfjSFzNrvB-G"
      },
      "source": [
        "## Cụm quận 7"
      ]
    },
    {
      "cell_type": "code",
      "metadata": {
        "id": "cLjjkhEgvAmf"
      },
      "source": [
        "click_map_7 = np.array(get_largest_cluster(y_kmeans_7, click_7))\n",
        "click_map_7.shape"
      ],
      "execution_count": null,
      "outputs": []
    },
    {
      "cell_type": "markdown",
      "metadata": {
        "id": "3_aBdOnqvZPk"
      },
      "source": [
        "# Tạo Heat Map các cụm clicking"
      ]
    },
    {
      "cell_type": "code",
      "metadata": {
        "id": "BF_KzIxLu0l_"
      },
      "source": [
        "from glob import glob\n",
        "import numpy as np\n",
        "import folium\n",
        "from folium import plugins\n",
        "from folium.plugins import HeatMap"
      ],
      "execution_count": 79,
      "outputs": []
    },
    {
      "cell_type": "code",
      "metadata": {
        "id": "OtzHrrSrq7SD"
      },
      "source": [
        "map = folium.Map(location=[10.7823232,106.7089094], zoom_start=10, tiles='CartoDB positron')"
      ],
      "execution_count": 80,
      "outputs": []
    },
    {
      "cell_type": "code",
      "metadata": {
        "id": "5gObwB6SrVWm"
      },
      "source": [
        "top_10_high_growRate_ward = top_10_high_growRate_ward.to_crs(epsg=4326)"
      ],
      "execution_count": 81,
      "outputs": []
    },
    {
      "cell_type": "code",
      "metadata": {
        "id": "RcGf17HOq8Sl"
      },
      "source": [
        "for _, r in top_10_high_growRate_ward.iterrows():\n",
        "    # Without simplifying the representation of each borough,\n",
        "    # the map might not be displayed\n",
        "    sim_geo = gpd.GeoSeries(r['geometry']).simplify(tolerance=0.001)\n",
        "    geo_j = sim_geo.to_json()\n",
        "    geo_j = folium.GeoJson(data=geo_j,\n",
        "                           style_function=lambda x: {'fillColor': 'orange'})\n",
        "    folium.Popup(r['Dist_Name']).add_to(geo_j)\n",
        "    geo_j.add_to(map)"
      ],
      "execution_count": 82,
      "outputs": []
    },
    {
      "cell_type": "code",
      "metadata": {
        "id": "lEexj2DEzzkc"
      },
      "source": [
        "click_map = np.concatenate((click_map_2, click_map_BT, click_map_TD, click_map_CC, click_map_HM,\\\n",
        "                            click_map_12, click_map_NB, click_map_9, click_map_BC, click_map_7), axis=0)[::-1,::-1]"
      ],
      "execution_count": 83,
      "outputs": []
    },
    {
      "cell_type": "code",
      "metadata": {
        "colab": {
          "base_uri": "https://localhost:8080/"
        },
        "id": "IyatdF5Xu81i",
        "outputId": "0f3b62b5-5340-4d66-e4a7-39858d161842"
      },
      "source": [
        "HeatMap(click_map).add_to(folium.FeatureGroup(name='Heat Map').add_to(map))"
      ],
      "execution_count": 84,
      "outputs": [
        {
          "output_type": "execute_result",
          "data": {
            "text/plain": [
              "<folium.plugins.heat_map.HeatMap at 0x7f3827c34710>"
            ]
          },
          "metadata": {},
          "execution_count": 84
        }
      ]
    },
    {
      "cell_type": "code",
      "metadata": {
        "colab": {
          "base_uri": "https://localhost:8080/",
          "height": 915
        },
        "id": "uXjaBQMrvAUY",
        "outputId": "5d4e4945-721d-46ce-e0cd-9971f3ce4151"
      },
      "source": [
        "map"
      ],
      "execution_count": 85,
      "outputs": [
        {
          "output_type": "execute_result",
          "data": {
            "text/html": [
              "<div style=\"width:100%;\"><div style=\"position:relative;width:100%;height:0;padding-bottom:60%;\"><span style=\"color:#565656\">Make this Notebook Trusted to load map: File -> Trust Notebook</span><iframe src=\"about:blank\" style=\"position:absolute;width:100%;height:100%;left:0;top:0;border:none !important;\" data-html=%3C%21DOCTYPE%20html%3E%0A%3Chead%3E%20%20%20%20%0A%20%20%20%20%3Cmeta%20http-equiv%3D%22content-type%22%20content%3D%22text/html%3B%20charset%3DUTF-8%22%20/%3E%0A%20%20%20%20%3Cscript%3EL_PREFER_CANVAS%3Dfalse%3B%20L_NO_TOUCH%3Dfalse%3B%20L_DISABLE_3D%3Dfalse%3B%3C/script%3E%0A%20%20%20%20%3Cscript%20src%3D%22https%3A//cdn.jsdelivr.net/npm/leaflet%401.4.0/dist/leaflet.js%22%3E%3C/script%3E%0A%20%20%20%20%3Cscript%20src%3D%22https%3A//code.jquery.com/jquery-1.12.4.min.js%22%3E%3C/script%3E%0A%20%20%20%20%3Cscript%20src%3D%22https%3A//maxcdn.bootstrapcdn.com/bootstrap/3.2.0/js/bootstrap.min.js%22%3E%3C/script%3E%0A%20%20%20%20%3Cscript%20src%3D%22https%3A//cdnjs.cloudflare.com/ajax/libs/Leaflet.awesome-markers/2.0.2/leaflet.awesome-markers.js%22%3E%3C/script%3E%0A%20%20%20%20%3Clink%20rel%3D%22stylesheet%22%20href%3D%22https%3A//cdn.jsdelivr.net/npm/leaflet%401.4.0/dist/leaflet.css%22/%3E%0A%20%20%20%20%3Clink%20rel%3D%22stylesheet%22%20href%3D%22https%3A//maxcdn.bootstrapcdn.com/bootstrap/3.2.0/css/bootstrap.min.css%22/%3E%0A%20%20%20%20%3Clink%20rel%3D%22stylesheet%22%20href%3D%22https%3A//maxcdn.bootstrapcdn.com/bootstrap/3.2.0/css/bootstrap-theme.min.css%22/%3E%0A%20%20%20%20%3Clink%20rel%3D%22stylesheet%22%20href%3D%22https%3A//maxcdn.bootstrapcdn.com/font-awesome/4.6.3/css/font-awesome.min.css%22/%3E%0A%20%20%20%20%3Clink%20rel%3D%22stylesheet%22%20href%3D%22https%3A//cdnjs.cloudflare.com/ajax/libs/Leaflet.awesome-markers/2.0.2/leaflet.awesome-markers.css%22/%3E%0A%20%20%20%20%3Clink%20rel%3D%22stylesheet%22%20href%3D%22https%3A//rawcdn.githack.com/python-visualization/folium/master/folium/templates/leaflet.awesome.rotate.css%22/%3E%0A%20%20%20%20%3Cstyle%3Ehtml%2C%20body%20%7Bwidth%3A%20100%25%3Bheight%3A%20100%25%3Bmargin%3A%200%3Bpadding%3A%200%3B%7D%3C/style%3E%0A%20%20%20%20%3Cstyle%3E%23map%20%7Bposition%3Aabsolute%3Btop%3A0%3Bbottom%3A0%3Bright%3A0%3Bleft%3A0%3B%7D%3C/style%3E%0A%20%20%20%20%0A%20%20%20%20%3Cmeta%20name%3D%22viewport%22%20content%3D%22width%3Ddevice-width%2C%0A%20%20%20%20%20%20%20%20initial-scale%3D1.0%2C%20maximum-scale%3D1.0%2C%20user-scalable%3Dno%22%20/%3E%0A%20%20%20%20%3Cstyle%3E%23map_d6d037b84d9642a9a6b21688fbb2567a%20%7B%0A%20%20%20%20%20%20%20%20position%3A%20relative%3B%0A%20%20%20%20%20%20%20%20width%3A%20100.0%25%3B%0A%20%20%20%20%20%20%20%20height%3A%20100.0%25%3B%0A%20%20%20%20%20%20%20%20left%3A%200.0%25%3B%0A%20%20%20%20%20%20%20%20top%3A%200.0%25%3B%0A%20%20%20%20%20%20%20%20%7D%0A%20%20%20%20%3C/style%3E%0A%20%20%20%20%3Cscript%20src%3D%22https%3A//leaflet.github.io/Leaflet.heat/dist/leaflet-heat.js%22%3E%3C/script%3E%0A%3C/head%3E%0A%3Cbody%3E%20%20%20%20%0A%20%20%20%20%0A%20%20%20%20%3Cdiv%20class%3D%22folium-map%22%20id%3D%22map_d6d037b84d9642a9a6b21688fbb2567a%22%20%3E%3C/div%3E%0A%3C/body%3E%0A%3Cscript%3E%20%20%20%20%0A%20%20%20%20%0A%20%20%20%20%0A%20%20%20%20%20%20%20%20var%20bounds%20%3D%20null%3B%0A%20%20%20%20%0A%0A%20%20%20%20var%20map_d6d037b84d9642a9a6b21688fbb2567a%20%3D%20L.map%28%0A%20%20%20%20%20%20%20%20%27map_d6d037b84d9642a9a6b21688fbb2567a%27%2C%20%7B%0A%20%20%20%20%20%20%20%20center%3A%20%5B10.7823232%2C%20106.7089094%5D%2C%0A%20%20%20%20%20%20%20%20zoom%3A%2010%2C%0A%20%20%20%20%20%20%20%20maxBounds%3A%20bounds%2C%0A%20%20%20%20%20%20%20%20layers%3A%20%5B%5D%2C%0A%20%20%20%20%20%20%20%20worldCopyJump%3A%20false%2C%0A%20%20%20%20%20%20%20%20crs%3A%20L.CRS.EPSG3857%2C%0A%20%20%20%20%20%20%20%20zoomControl%3A%20true%2C%0A%20%20%20%20%20%20%20%20%7D%29%3B%0A%0A%0A%20%20%20%20%0A%20%20%20%20var%20tile_layer_802a05bcfd8740bf9d2ad6c0c7750457%20%3D%20L.tileLayer%28%0A%20%20%20%20%20%20%20%20%27https%3A//cartodb-basemaps-%7Bs%7D.global.ssl.fastly.net/light_all/%7Bz%7D/%7Bx%7D/%7By%7D.png%27%2C%0A%20%20%20%20%20%20%20%20%7B%0A%20%20%20%20%20%20%20%20%22attribution%22%3A%20null%2C%0A%20%20%20%20%20%20%20%20%22detectRetina%22%3A%20false%2C%0A%20%20%20%20%20%20%20%20%22maxNativeZoom%22%3A%2018%2C%0A%20%20%20%20%20%20%20%20%22maxZoom%22%3A%2018%2C%0A%20%20%20%20%20%20%20%20%22minZoom%22%3A%200%2C%0A%20%20%20%20%20%20%20%20%22noWrap%22%3A%20false%2C%0A%20%20%20%20%20%20%20%20%22opacity%22%3A%201%2C%0A%20%20%20%20%20%20%20%20%22subdomains%22%3A%20%22abc%22%2C%0A%20%20%20%20%20%20%20%20%22tms%22%3A%20false%0A%7D%29.addTo%28map_d6d037b84d9642a9a6b21688fbb2567a%29%3B%0A%20%20%20%20%0A%20%20%20%20%20%20%20%20var%20geo_json_4feca133dfb54a889311c8f9647ed87f%20%3D%20L.geoJson%28%0A%20%20%20%20%20%20%20%20%20%20%20%20%7B%22bbox%22%3A%20%5B106.75696376825036%2C%2010.75932646431338%2C%20106.88190499990282%2C%2010.89892954130254%5D%2C%20%22features%22%3A%20%5B%7B%22bbox%22%3A%20%5B106.75696376825036%2C%2010.75932646431338%2C%20106.88190499990282%2C%2010.89892954130254%5D%2C%20%22geometry%22%3A%20%7B%22coordinates%22%3A%20%5B%5B%5B106.84015369925807%2C%2010.89892954130254%5D%2C%20%5B106.84300330204542%2C%2010.891285523133812%5D%2C%20%5B106.8435774171492%2C%2010.883963468725737%5D%2C%20%5B106.85117865583021%2C%2010.876028588146868%5D%2C%20%5B106.8466948604133%2C%2010.865544461645015%5D%2C%20%5B106.84955380329018%2C%2010.856240987657042%5D%2C%20%5B106.85667677241663%2C%2010.842677195664047%5D%2C%20%5B106.88010441753848%2C%2010.81693974228219%5D%2C%20%5B106.88190499990282%2C%2010.808488476575418%5D%2C%20%5B106.87819808094098%2C%2010.800542209637804%5D%2C%20%5B106.86652811407863%2C%2010.79075485088782%5D%2C%20%5B106.86479584645335%2C%2010.787426432906372%5D%2C%20%5B106.86609473349947%2C%2010.782791253956793%5D%2C%20%5B106.87421027589569%2C%2010.774228021255107%5D%2C%20%5B106.87454113523715%2C%2010.769519794622157%5D%2C%20%5B106.87257483116255%2C%2010.76633149687739%5D%2C%20%5B106.86494864675483%2C%2010.764531680454777%5D%2C%20%5B106.85460929542445%2C%2010.773561833752224%5D%2C%20%5B106.84567438733238%2C%2010.775124304626663%5D%2C%20%5B106.83787540476274%2C%2010.771523141663618%5D%2C%20%5B106.82893119760793%2C%2010.76049729925631%5D%2C%20%5B106.82543757288168%2C%2010.75932646431338%5D%2C%20%5B106.82297963846753%2C%2010.762928894208656%5D%2C%20%5B106.82607623352855%2C%2010.773939669349891%5D%2C%20%5B106.82396761718914%2C%2010.779610810688396%5D%2C%20%5B106.81777775260937%2C%2010.780435863196438%5D%2C%20%5B106.81007199401093%2C%2010.77461732499166%5D%2C%20%5B106.79904887018215%2C%2010.776021025842638%5D%2C%20%5B106.79709294505024%2C%2010.778721597917897%5D%2C%20%5B106.78951379226372%2C%2010.778642020769835%5D%2C%20%5B106.78382549834538%2C%2010.78189982348707%5D%2C%20%5B106.78725870377856%2C%2010.785186462483983%5D%2C%20%5B106.78673821223772%2C%2010.790674248928246%5D%2C%20%5B106.78160455563211%2C%2010.790421573025851%5D%2C%20%5B106.7767865636143%2C%2010.80899724257727%5D%2C%20%5B106.7729599857568%2C%2010.80760945509536%5D%2C%20%5B106.76716063170555%2C%2010.808250483877535%5D%2C%20%5B106.76464808875569%2C%2010.80978827363586%5D%2C%20%5B106.76231507688952%2C%2010.814505252753223%5D%2C%20%5B106.75696376825036%2C%2010.813122556072761%5D%2C%20%5B106.7595981603849%2C%2010.824226022296042%5D%2C%20%5B106.77437636348701%2C%2010.849581406664793%5D%2C%20%5B106.80454667633293%2C%2010.868215447871725%5D%2C%20%5B106.81303743297146%2C%2010.879140918317804%5D%2C%20%5B106.81728529335474%2C%2010.881331109512804%5D%2C%20%5B106.81933102793391%2C%2010.885924194083191%5D%2C%20%5B106.82490882670902%2C%2010.888214352528973%5D%2C%20%5B106.82374944031397%2C%2010.892023148734362%5D%2C%20%5B106.82499729321638%2C%2010.893757706746586%5D%2C%20%5B106.82969666392417%2C%2010.894794913218298%5D%2C%20%5B106.8339074879049%2C%2010.898296535271886%5D%2C%20%5B106.84015369925807%2C%2010.89892954130254%5D%5D%5D%2C%20%22type%22%3A%20%22Polygon%22%7D%2C%20%22id%22%3A%20%220%22%2C%20%22properties%22%3A%20%7B%22highlight%22%3A%20%7B%7D%2C%20%22style%22%3A%20%7B%22fillColor%22%3A%20%22orange%22%7D%7D%2C%20%22type%22%3A%20%22Feature%22%7D%5D%2C%20%22type%22%3A%20%22FeatureCollection%22%7D%2C%0A%20%20%20%20%20%20%20%20%20%20%20%20%7B%0A%20%20%20%20%20%20%20%20%20%20%20%20%7D%0A%20%20%20%20%20%20%20%20%29.addTo%28map_d6d037b84d9642a9a6b21688fbb2567a%20%29%3B%0A%20%20%20%20%20%20%20%20geo_json_4feca133dfb54a889311c8f9647ed87f.setStyle%28function%28feature%29%20%7Breturn%20feature.properties.style%3B%7D%29%3B%0A%20%20%20%20%20%20%20%20%0A%20%20%20%20%0A%20%20%20%20%20%20%20%20%20%20%20%20var%20popup_cef71c7df6f44ff5bca28130ec23e55c%20%3D%20L.popup%28%7BmaxWidth%3A%20%27100%25%27%0A%20%20%20%20%20%20%20%20%20%20%20%20%0A%20%20%20%20%20%20%20%20%20%20%20%20%7D%29%3B%0A%0A%20%20%20%20%20%20%20%20%20%20%20%20%0A%20%20%20%20%20%20%20%20%20%20%20%20%20%20%20%20var%20html_8a5a7bb6fca8478198cf33488357fe3f%20%3D%20%24%28%60%3Cdiv%20id%3D%22html_8a5a7bb6fca8478198cf33488357fe3f%22%20style%3D%22width%3A%20100.0%25%3B%20height%3A%20100.0%25%3B%22%3EDistrict%209%3C/div%3E%60%29%5B0%5D%3B%0A%20%20%20%20%20%20%20%20%20%20%20%20%20%20%20%20popup_cef71c7df6f44ff5bca28130ec23e55c.setContent%28html_8a5a7bb6fca8478198cf33488357fe3f%29%3B%0A%20%20%20%20%20%20%20%20%20%20%20%20%0A%0A%20%20%20%20%20%20%20%20%20%20%20%20geo_json_4feca133dfb54a889311c8f9647ed87f.bindPopup%28popup_cef71c7df6f44ff5bca28130ec23e55c%29%0A%20%20%20%20%20%20%20%20%20%20%20%20%3B%0A%0A%20%20%20%20%20%20%20%20%20%20%20%20%0A%20%20%20%20%20%20%20%20%0A%20%20%20%20%0A%20%20%20%20%20%20%20%20var%20geo_json_27130f01c3e545809c342daded744f39%20%3D%20L.geoJson%28%0A%20%20%20%20%20%20%20%20%20%20%20%20%7B%22bbox%22%3A%20%5B106.4959844294767%2C%2010.826300757498261%2C%20106.69273571409454%2C%2010.929299783530151%5D%2C%20%22features%22%3A%20%5B%7B%22bbox%22%3A%20%5B106.4959844294767%2C%2010.826300757498261%2C%20106.69273571409454%2C%2010.929299783530151%5D%2C%20%22geometry%22%3A%20%7B%22coordinates%22%3A%20%5B%5B%5B106.58360565946086%2C%2010.928689068951828%5D%2C%20%5B106.60119402117034%2C%2010.923048077031458%5D%2C%20%5B106.60045681163203%2C%2010.917745607932986%5D%2C%20%5B106.62173397057536%2C%2010.91448416617761%5D%2C%20%5B106.63890337168961%2C%2010.916306421895534%5D%2C%20%5B106.64603800919296%2C%2010.919940508194282%5D%2C%20%5B106.65340147880633%2C%2010.919632475744612%5D%2C%20%5B106.65721593363781%2C%2010.925934498204434%5D%2C%20%5B106.66789611621367%2C%2010.920941714271073%5D%2C%20%5B106.68140693708298%2C%2010.923517612166357%5D%2C%20%5B106.68572144255185%2C%2010.919997136159404%5D%2C%20%5B106.69273571409454%2C%2010.90417167555313%5D%2C%20%5B106.68149702826943%2C%2010.898436169898313%5D%2C%20%5B106.67968728543573%2C%2010.903695944466447%5D%2C%20%5B106.67055360495893%2C%2010.901172218635201%5D%2C%20%5B106.66897794087484%2C%2010.891856298168298%5D%2C%20%5B106.66266468975734%2C%2010.893005273682986%5D%2C%20%5B106.65319670254986%2C%2010.891796841222508%5D%2C%20%5B106.65229817626788%2C%2010.894779986037973%5D%2C%20%5B106.64931718544568%2C%2010.895301609650947%5D%2C%20%5B106.6434674213648%2C%2010.893949468465687%5D%2C%20%5B106.64235037946068%2C%2010.89230068589101%5D%2C%20%5B106.6315809763493%2C%2010.89157324043063%5D%2C%20%5B106.6290314926826%2C%2010.886196114409392%5D%2C%20%5B106.62523155779196%2C%2010.883390844601973%5D%2C%20%5B106.62785984294011%2C%2010.881158165064397%5D%2C%20%5B106.61940574899441%2C%2010.871187285687503%5D%2C%20%5B106.61494194245192%2C%2010.870323958579217%5D%2C%20%5B106.61551143440566%2C%2010.867367782513154%5D%2C%20%5B106.60721853010975%2C%2010.855320381836801%5D%2C%20%5B106.61531003078251%2C%2010.842792659081676%5D%2C%20%5B106.60774155919934%2C%2010.835579159079117%5D%2C%20%5B106.60330950047191%2C%2010.826300757498261%5D%2C%20%5B106.59373602448402%2C%2010.827847310617251%5D%2C%20%5B106.5951401538122%2C%2010.829798285432885%5D%2C%20%5B106.592991794073%2C%2010.829415476803282%5D%2C%20%5B106.589192778491%2C%2010.832426118801827%5D%2C%20%5B106.581967349639%2C%2010.832785231457722%5D%2C%20%5B106.57655570715339%2C%2010.838379457984383%5D%2C%20%5B106.57574370832506%2C%2010.84261445265414%5D%2C%20%5B106.56922983665999%2C%2010.842816349926307%5D%2C%20%5B106.56446517514402%2C%2010.840772139639737%5D%2C%20%5B106.56237829033016%2C%2010.84472326099848%5D%2C%20%5B106.55592967791293%2C%2010.843027081065028%5D%2C%20%5B106.54502191581348%2C%2010.84478922921852%5D%2C%20%5B106.5446223761919%2C%2010.843182685934273%5D%2C%20%5B106.52879437333502%2C%2010.847503165517725%5D%2C%20%5B106.53498315067417%2C%2010.871868045406341%5D%2C%20%5B106.52588103729124%2C%2010.87363038236916%5D%2C%20%5B106.53269966839315%2C%2010.901070287885172%5D%2C%20%5B106.4959844294767%2C%2010.920836867122134%5D%2C%20%5B106.53762289084672%2C%2010.915948856673152%5D%2C%20%5B106.5613786646082%2C%2010.91689088979473%5D%2C%20%5B106.56423121616633%2C%2010.91897720468002%5D%2C%20%5B106.58435553937684%2C%2010.919637516865869%5D%2C%20%5B106.5815580120725%2C%2010.926075895698089%5D%2C%20%5B106.58146586522963%2C%2010.929299783530151%5D%2C%20%5B106.58360565946086%2C%2010.928689068951828%5D%5D%5D%2C%20%22type%22%3A%20%22Polygon%22%7D%2C%20%22id%22%3A%20%220%22%2C%20%22properties%22%3A%20%7B%22highlight%22%3A%20%7B%7D%2C%20%22style%22%3A%20%7B%22fillColor%22%3A%20%22orange%22%7D%7D%2C%20%22type%22%3A%20%22Feature%22%7D%5D%2C%20%22type%22%3A%20%22FeatureCollection%22%7D%2C%0A%20%20%20%20%20%20%20%20%20%20%20%20%7B%0A%20%20%20%20%20%20%20%20%20%20%20%20%7D%0A%20%20%20%20%20%20%20%20%29.addTo%28map_d6d037b84d9642a9a6b21688fbb2567a%20%29%3B%0A%20%20%20%20%20%20%20%20geo_json_27130f01c3e545809c342daded744f39.setStyle%28function%28feature%29%20%7Breturn%20feature.properties.style%3B%7D%29%3B%0A%20%20%20%20%20%20%20%20%0A%20%20%20%20%0A%20%20%20%20%20%20%20%20%20%20%20%20var%20popup_87f23fa2e3624415bb25defb166217f2%20%3D%20L.popup%28%7BmaxWidth%3A%20%27100%25%27%0A%20%20%20%20%20%20%20%20%20%20%20%20%0A%20%20%20%20%20%20%20%20%20%20%20%20%7D%29%3B%0A%0A%20%20%20%20%20%20%20%20%20%20%20%20%0A%20%20%20%20%20%20%20%20%20%20%20%20%20%20%20%20var%20html_ca8958e93cb34faaac685bfc51802dca%20%3D%20%24%28%60%3Cdiv%20id%3D%22html_ca8958e93cb34faaac685bfc51802dca%22%20style%3D%22width%3A%20100.0%25%3B%20height%3A%20100.0%25%3B%22%3EHoc%20Mon%3C/div%3E%60%29%5B0%5D%3B%0A%20%20%20%20%20%20%20%20%20%20%20%20%20%20%20%20popup_87f23fa2e3624415bb25defb166217f2.setContent%28html_ca8958e93cb34faaac685bfc51802dca%29%3B%0A%20%20%20%20%20%20%20%20%20%20%20%20%0A%0A%20%20%20%20%20%20%20%20%20%20%20%20geo_json_27130f01c3e545809c342daded744f39.bindPopup%28popup_87f23fa2e3624415bb25defb166217f2%29%0A%20%20%20%20%20%20%20%20%20%20%20%20%3B%0A%0A%20%20%20%20%20%20%20%20%20%20%20%20%0A%20%20%20%20%20%20%20%20%0A%20%20%20%20%0A%20%20%20%20%20%20%20%20var%20geo_json_88e791983c20460ca67d61cef14e2a0f%20%3D%20L.geoJson%28%0A%20%20%20%20%20%20%20%20%20%20%20%20%7B%22bbox%22%3A%20%5B106.67328543903866%2C%2010.575944039356516%2C%20106.78323148169817%2C%2010.725257837944383%5D%2C%20%22features%22%3A%20%5B%7B%22bbox%22%3A%20%5B106.67328543903866%2C%2010.575944039356516%2C%20106.78323148169817%2C%2010.725257837944383%5D%2C%20%22geometry%22%3A%20%7B%22coordinates%22%3A%20%5B%5B%5B106.72315230181675%2C%2010.721617512420773%5D%2C%20%5B106.72511447647157%2C%2010.720054739729102%5D%2C%20%5B106.72297483140251%2C%2010.715303380731351%5D%2C%20%5B106.72584294811192%2C%2010.710283384483162%5D%2C%20%5B106.72445934667238%2C%2010.705680396819309%5D%2C%20%5B106.72678746801351%2C%2010.699355432412837%5D%2C%20%5B106.73324028971184%2C%2010.697953844022024%5D%2C%20%5B106.73571081327178%2C%2010.703180461022981%5D%2C%20%5B106.74477211582638%2C%2010.703153619983283%5D%2C%20%5B106.75193301633713%2C%2010.70497692459395%5D%2C%20%5B106.75745284167922%2C%2010.69381374504829%5D%2C%20%5B106.77095500537004%2C%2010.680090272206312%5D%2C%20%5B106.77274178713598%2C%2010.676291575003393%5D%2C%20%5B106.77278481907884%2C%2010.668705895003114%5D%2C%20%5B106.76878997647925%2C%2010.665810412855073%5D%2C%20%5B106.76549950043095%2C%2010.665285327802378%5D%2C%20%5B106.74758725373692%2C%2010.670933141054604%5D%2C%20%5B106.74229803622625%2C%2010.669785013697247%5D%2C%20%5B106.7398745810005%2C%2010.667199395541655%5D%2C%20%5B106.73898753512414%2C%2010.662970089773017%5D%2C%20%5B106.74159067195392%2C%2010.655706802756164%5D%2C%20%5B106.7470550822215%2C%2010.650897618904143%5D%2C%20%5B106.76396574891321%2C%2010.644950508973094%5D%2C%20%5B106.77095072201168%2C%2010.636747620200369%5D%2C%20%5B106.771147256515%2C%2010.617259162789255%5D%2C%20%5B106.78261720534626%2C%2010.597100028939437%5D%2C%20%5B106.78323148169817%2C%2010.59179912332546%5D%2C%20%5B106.78266313075584%2C%2010.581935381710604%5D%2C%20%5B106.77916631409899%2C%2010.577258729470863%5D%2C%20%5B106.77657435658641%2C%2010.576242304352514%5D%2C%20%5B106.76973569428091%2C%2010.576523957433176%5D%2C%20%5B106.76563561410798%2C%2010.579455291841589%5D%2C%20%5B106.7579398348822%2C%2010.581753379559403%5D%2C%20%5B106.75131705035406%2C%2010.58082612750585%5D%2C%20%5B106.74548018840044%2C%2010.575944039356516%5D%2C%20%5B106.74120731581728%2C%2010.579105506599824%5D%2C%20%5B106.73617551175161%2C%2010.57695809117737%5D%2C%20%5B106.7348859934142%2C%2010.57876175087129%5D%2C%20%5B106.73957088986475%2C%2010.583371127163465%5D%2C%20%5B106.73679927565533%2C%2010.586372381133103%5D%2C%20%5B106.7352061914271%2C%2010.585900190790442%5D%2C%20%5B106.73494334228943%2C%2010.582699398222154%5D%2C%20%5B106.73275130418948%2C%2010.580202207220362%5D%2C%20%5B106.72857333617998%2C%2010.580062959369%5D%2C%20%5B106.72716838193516%2C%2010.585501437309535%5D%2C%20%5B106.72553452052477%2C%2010.58515377641776%5D%2C%20%5B106.72327188330458%2C%2010.588068566849522%5D%2C%20%5B106.72363254065549%2C%2010.593271202338661%5D%2C%20%5B106.72019207090472%2C%2010.596466584862311%5D%2C%20%5B106.72227429823062%2C%2010.599535857701088%5D%2C%20%5B106.71868997518759%2C%2010.606090948630753%5D%2C%20%5B106.72230066267419%2C%2010.607311433618007%5D%2C%20%5B106.72385352384633%2C%2010.611899038742335%5D%2C%20%5B106.72857923477338%2C%2010.60868478255334%5D%2C%20%5B106.73280990417743%2C%2010.609900273550886%5D%2C%20%5B106.7315107960487%2C%2010.612172043856303%5D%2C%20%5B106.72905688155403%2C%2010.612116617457376%5D%2C%20%5B106.72761995686164%2C%2010.615686430449243%5D%2C%20%5B106.72929844050816%2C%2010.616479532802547%5D%2C%20%5B106.73184791620211%2C%2010.622745155258603%5D%2C%20%5B106.72834930249073%2C%2010.624320502278549%5D%2C%20%5B106.72903932394327%2C%2010.628086540856057%5D%2C%20%5B106.73330333069647%2C%2010.628839364201497%5D%2C%20%5B106.73052848532713%2C%2010.63550838445809%5D%2C%20%5B106.72558246731393%2C%2010.638222884137315%5D%2C%20%5B106.72297769112988%2C%2010.641957327512397%5D%2C%20%5B106.72257410860816%2C%2010.645867255797727%5D%2C%20%5B106.71874089580665%2C%2010.645584317015444%5D%2C%20%5B106.71202702315468%2C%2010.65029949037817%5D%2C%20%5B106.7053972860761%2C%2010.650692660258105%5D%2C%20%5B106.70394660375294%2C%2010.653172830375924%5D%2C%20%5B106.70024430326339%2C%2010.654060088824075%5D%2C%20%5B106.69620158815835%2C%2010.649799070177835%5D%2C%20%5B106.6908096592943%2C%2010.648607983102398%5D%2C%20%5B106.68763341333431%2C%2010.655728474497053%5D%2C%20%5B106.6853128535764%2C%2010.656727547941596%5D%2C%20%5B106.6842790723786%2C%2010.661338135686899%5D%2C%20%5B106.67866038367251%2C%2010.664933188365382%5D%2C%20%5B106.6786928570886%2C%2010.671084756816168%5D%2C%20%5B106.68140938517912%2C%2010.678262433597506%5D%2C%20%5B106.67331089544025%2C%2010.692374540677232%5D%2C%20%5B106.67458169584458%2C%2010.702201612712424%5D%2C%20%5B106.67328543903866%2C%2010.704089010527191%5D%2C%20%5B106.67664185588853%2C%2010.709707279142851%5D%2C%20%5B106.67818241866327%2C%2010.709827175318662%5D%2C%20%5B106.68121357921711%2C%2010.714529998237829%5D%2C%20%5B106.68574271467105%2C%2010.711658888455265%5D%2C%20%5B106.68884866137375%2C%2010.712102004674584%5D%2C%20%5B106.6901181401058%2C%2010.725257837944383%5D%2C%20%5B106.70625177303135%2C%2010.725006187335351%5D%2C%20%5B106.70874040094208%2C%2010.719592972457598%5D%2C%20%5B106.71140053439942%2C%2010.720743072324044%5D%2C%20%5B106.71798063719925%2C%2010.718852969274014%5D%2C%20%5B106.72052727360943%2C%2010.72259268223449%5D%2C%20%5B106.72315230181675%2C%2010.721617512420773%5D%5D%5D%2C%20%22type%22%3A%20%22Polygon%22%7D%2C%20%22id%22%3A%20%220%22%2C%20%22properties%22%3A%20%7B%22highlight%22%3A%20%7B%7D%2C%20%22style%22%3A%20%7B%22fillColor%22%3A%20%22orange%22%7D%7D%2C%20%22type%22%3A%20%22Feature%22%7D%5D%2C%20%22type%22%3A%20%22FeatureCollection%22%7D%2C%0A%20%20%20%20%20%20%20%20%20%20%20%20%7B%0A%20%20%20%20%20%20%20%20%20%20%20%20%7D%0A%20%20%20%20%20%20%20%20%29.addTo%28map_d6d037b84d9642a9a6b21688fbb2567a%20%29%3B%0A%20%20%20%20%20%20%20%20geo_json_88e791983c20460ca67d61cef14e2a0f.setStyle%28function%28feature%29%20%7Breturn%20feature.properties.style%3B%7D%29%3B%0A%20%20%20%20%20%20%20%20%0A%20%20%20%20%0A%20%20%20%20%20%20%20%20%20%20%20%20var%20popup_d6c163692b1c436ab3aa702a7f09077f%20%3D%20L.popup%28%7BmaxWidth%3A%20%27100%25%27%0A%20%20%20%20%20%20%20%20%20%20%20%20%0A%20%20%20%20%20%20%20%20%20%20%20%20%7D%29%3B%0A%0A%20%20%20%20%20%20%20%20%20%20%20%20%0A%20%20%20%20%20%20%20%20%20%20%20%20%20%20%20%20var%20html_76cc6e6f84b04cda80aba14828c57484%20%3D%20%24%28%60%3Cdiv%20id%3D%22html_76cc6e6f84b04cda80aba14828c57484%22%20style%3D%22width%3A%20100.0%25%3B%20height%3A%20100.0%25%3B%22%3ENha%20Be%3C/div%3E%60%29%5B0%5D%3B%0A%20%20%20%20%20%20%20%20%20%20%20%20%20%20%20%20popup_d6c163692b1c436ab3aa702a7f09077f.setContent%28html_76cc6e6f84b04cda80aba14828c57484%29%3B%0A%20%20%20%20%20%20%20%20%20%20%20%20%0A%0A%20%20%20%20%20%20%20%20%20%20%20%20geo_json_88e791983c20460ca67d61cef14e2a0f.bindPopup%28popup_d6c163692b1c436ab3aa702a7f09077f%29%0A%20%20%20%20%20%20%20%20%20%20%20%20%3B%0A%0A%20%20%20%20%20%20%20%20%20%20%20%20%0A%20%20%20%20%20%20%20%20%0A%20%20%20%20%0A%20%20%20%20%20%20%20%20var%20geo_json_1b0d187ca650425b9dd719d0d8e0ba30%20%3D%20L.geoJson%28%0A%20%20%20%20%20%20%20%20%20%20%20%20%7B%22bbox%22%3A%20%5B106.60330950047191%2C%2010.819409999579658%2C%20106.71825527778707%2C%2010.90417167555313%5D%2C%20%22features%22%3A%20%5B%7B%22bbox%22%3A%20%5B106.60330950047191%2C%2010.819409999579658%2C%20106.71825527778707%2C%2010.90417167555313%5D%2C%20%22geometry%22%3A%20%7B%22coordinates%22%3A%20%5B%5B%5B106.69433417455099%2C%2010.89842293160734%5D%2C%20%5B106.69380336711787%2C%2010.89348054390602%5D%2C%20%5B106.68900435039019%2C%2010.88497056132401%5D%2C%20%5B106.68929258865268%2C%2010.881190482543827%5D%2C%20%5B106.69985162026687%2C%2010.868433140590003%5D%2C%20%5B106.71410908772292%2C%2010.865336706625586%5D%2C%20%5B106.71825527778707%2C%2010.857401768159619%5D%2C%20%5B106.71401641298579%2C%2010.851531046533964%5D%2C%20%5B106.70431880630092%2C%2010.851714346894694%5D%2C%20%5B106.69903793335227%2C%2010.850016435844246%5D%2C%20%5B106.69804616854292%2C%2010.843641133769118%5D%2C%20%5B106.70280052802106%2C%2010.839134184676238%5D%2C%20%5B106.69470997095246%2C%2010.830353722194623%5D%2C%20%5B106.6922188334784%2C%2010.830672289472075%5D%2C%20%5B106.68885705897824%2C%2010.838886772671803%5D%2C%20%5B106.68805982680705%2C%2010.846308731502447%5D%2C%20%5B106.68331779218497%2C%2010.847227431356783%5D%2C%20%5B106.68359452629645%2C%2010.85161167774254%5D%2C%20%5B106.67590864280452%2C%2010.852098950610241%5D%2C%20%5B106.67307111212635%2C%2010.860548140513929%5D%2C%20%5B106.66707929868666%2C%2010.85601354659063%5D%2C%20%5B106.66278744421093%2C%2010.855457370701899%5D%2C%20%5B106.65264430256032%2C%2010.860739791434149%5D%2C%20%5B106.64693365062627%2C%2010.857905686513273%5D%2C%20%5B106.64635820364816%2C%2010.854076677357957%5D%2C%20%5B106.64498306919477%2C%2010.854525892911386%5D%2C%20%5B106.6412832256483%2C%2010.849541658553655%5D%2C%20%5B106.63374542540892%2C%2010.84512244839179%5D%2C%20%5B106.63351300119898%2C%2010.84105537773919%5D%2C%20%5B106.63209046077007%2C%2010.84034644522921%5D%2C%20%5B106.63208171425113%2C%2010.832087826622903%5D%2C%20%5B106.6233623179713%2C%2010.819463287628826%5D%2C%20%5B106.61616157543025%2C%2010.819409999579658%5D%2C%20%5B106.60330950047191%2C%2010.826300757498261%5D%2C%20%5B106.60774155919934%2C%2010.835579159079117%5D%2C%20%5B106.61531003078251%2C%2010.842792659081676%5D%2C%20%5B106.60721853010975%2C%2010.855320381836801%5D%2C%20%5B106.61551143440566%2C%2010.867367782513154%5D%2C%20%5B106.61494194245192%2C%2010.870323958579217%5D%2C%20%5B106.61940574899441%2C%2010.871187285687503%5D%2C%20%5B106.62785984294011%2C%2010.881158165064397%5D%2C%20%5B106.62523155779196%2C%2010.883390844601973%5D%2C%20%5B106.6290314926826%2C%2010.886196114409392%5D%2C%20%5B106.6316898994361%2C%2010.891662122664485%5D%2C%20%5B106.64235037946068%2C%2010.89230068589101%5D%2C%20%5B106.6434674213648%2C%2010.893949468465687%5D%2C%20%5B106.64931718544568%2C%2010.895301609650947%5D%2C%20%5B106.65229817626788%2C%2010.894779986037973%5D%2C%20%5B106.65319670254986%2C%2010.891796841222508%5D%2C%20%5B106.66266468975734%2C%2010.893005273682986%5D%2C%20%5B106.66897794087484%2C%2010.891856298168298%5D%2C%20%5B106.67055360495893%2C%2010.901172218635201%5D%2C%20%5B106.6796463719215%2C%2010.903697589918195%5D%2C%20%5B106.68149702826943%2C%2010.898436169898313%5D%2C%20%5B106.69273571409454%2C%2010.90417167555313%5D%2C%20%5B106.69433417455099%2C%2010.89842293160734%5D%5D%5D%2C%20%22type%22%3A%20%22Polygon%22%7D%2C%20%22id%22%3A%20%220%22%2C%20%22properties%22%3A%20%7B%22highlight%22%3A%20%7B%7D%2C%20%22style%22%3A%20%7B%22fillColor%22%3A%20%22orange%22%7D%7D%2C%20%22type%22%3A%20%22Feature%22%7D%5D%2C%20%22type%22%3A%20%22FeatureCollection%22%7D%2C%0A%20%20%20%20%20%20%20%20%20%20%20%20%7B%0A%20%20%20%20%20%20%20%20%20%20%20%20%7D%0A%20%20%20%20%20%20%20%20%29.addTo%28map_d6d037b84d9642a9a6b21688fbb2567a%20%29%3B%0A%20%20%20%20%20%20%20%20geo_json_1b0d187ca650425b9dd719d0d8e0ba30.setStyle%28function%28feature%29%20%7Breturn%20feature.properties.style%3B%7D%29%3B%0A%20%20%20%20%20%20%20%20%0A%20%20%20%20%0A%20%20%20%20%20%20%20%20%20%20%20%20var%20popup_4f2b8893013f4fb7a5676f0a111f581f%20%3D%20L.popup%28%7BmaxWidth%3A%20%27100%25%27%0A%20%20%20%20%20%20%20%20%20%20%20%20%0A%20%20%20%20%20%20%20%20%20%20%20%20%7D%29%3B%0A%0A%20%20%20%20%20%20%20%20%20%20%20%20%0A%20%20%20%20%20%20%20%20%20%20%20%20%20%20%20%20var%20html_fc28016c702645f3a7ce42ff5ae5510c%20%3D%20%24%28%60%3Cdiv%20id%3D%22html_fc28016c702645f3a7ce42ff5ae5510c%22%20style%3D%22width%3A%20100.0%25%3B%20height%3A%20100.0%25%3B%22%3EDistrict%2012%3C/div%3E%60%29%5B0%5D%3B%0A%20%20%20%20%20%20%20%20%20%20%20%20%20%20%20%20popup_4f2b8893013f4fb7a5676f0a111f581f.setContent%28html_fc28016c702645f3a7ce42ff5ae5510c%29%3B%0A%20%20%20%20%20%20%20%20%20%20%20%20%0A%0A%20%20%20%20%20%20%20%20%20%20%20%20geo_json_1b0d187ca650425b9dd719d0d8e0ba30.bindPopup%28popup_4f2b8893013f4fb7a5676f0a111f581f%29%0A%20%20%20%20%20%20%20%20%20%20%20%20%3B%0A%0A%20%20%20%20%20%20%20%20%20%20%20%20%0A%20%20%20%20%20%20%20%20%0A%20%20%20%20%0A%20%20%20%20%20%20%20%20var%20geo_json_7a10663a9b44464e942594adb75f3c4a%20%3D%20L.geoJson%28%0A%20%20%20%20%20%20%20%20%20%20%20%20%7B%22bbox%22%3A%20%5B106.70823869500428%2C%2010.741742910410263%2C%20106.81007199401093%2C%2010.819188350414858%5D%2C%20%22features%22%3A%20%5B%7B%22bbox%22%3A%20%5B106.70823869500428%2C%2010.741742910410263%2C%20106.81007199401093%2C%2010.819188350414858%5D%2C%20%22geometry%22%3A%20%7B%22coordinates%22%3A%20%5B%5B%5B106.74240912163762%2C%2010.808549285276882%5D%2C%20%5B106.7478991565389%2C%2010.809450080847084%5D%2C%20%5B106.750971680332%2C%2010.812876633068225%5D%2C%20%5B106.7618932772108%2C%2010.814601420273085%5D%2C%20%5B106.76677650672868%2C%2010.808339453959999%5D%2C%20%5B106.7729599857568%2C%2010.80760945509536%5D%2C%20%5B106.7767865636143%2C%2010.80899724257727%5D%2C%20%5B106.78160455563211%2C%2010.790421573025851%5D%2C%20%5B106.78673821223772%2C%2010.790674248928246%5D%2C%20%5B106.78725870377856%2C%2010.785186462483983%5D%2C%20%5B106.78401717662467%2C%2010.781647904534267%5D%2C%20%5B106.78990952759115%2C%2010.778491441131285%5D%2C%20%5B106.79721640948114%2C%2010.77869572967495%5D%2C%20%5B106.79862730055822%2C%2010.776185337670604%5D%2C%20%5B106.80208334799049%2C%2010.775198861467041%5D%2C%20%5B106.80541827233252%2C%2010.776113013230281%5D%2C%20%5B106.81007199401093%2C%2010.77461732499166%5D%2C%20%5B106.80555444043532%2C%2010.770087639077621%5D%2C%20%5B106.8032833241199%2C%2010.762518027757425%5D%2C%20%5B106.79893594777624%2C%2010.758858891308943%5D%2C%20%5B106.77621123143516%2C%2010.748717615503342%5D%2C%20%5B106.76772410540127%2C%2010.74192570443857%5D%2C%20%5B106.75876410175053%2C%2010.744710049111205%5D%2C%20%5B106.74957232878174%2C%2010.741742910410263%5D%2C%20%5B106.74531182413357%2C%2010.743605330806751%5D%2C%20%5B106.74427614402443%2C%2010.749387428291366%5D%2C%20%5B106.75228141951771%2C%2010.762220407634322%5D%2C%20%5B106.75247835191806%2C%2010.766180711600224%5D%2C%20%5B106.74920796600583%2C%2010.772130461291129%5D%2C%20%5B106.74321456298337%2C%2010.776811315565725%5D%2C%20%5B106.73960755989692%2C%2010.777557339318353%5D%2C%20%5B106.736236242298%2C%2010.776297825543603%5D%2C%20%5B106.73375354708512%2C%2010.762662413220422%5D%2C%20%5B106.73006744579874%2C%2010.759849438160304%5D%2C%20%5B106.72202820252367%2C%2010.759259885625706%5D%2C%20%5B106.71287117617952%2C%2010.763467523675665%5D%2C%20%5B106.70823869500428%2C%2010.769727520620895%5D%2C%20%5B106.70995642228941%2C%2010.781004874123873%5D%2C%20%5B106.71405163375711%2C%2010.78474902412046%5D%2C%20%5B106.72317197617791%2C%2010.787973280766296%5D%2C%20%5B106.72723980645742%2C%2010.795477623906887%5D%2C%20%5B106.72700146551594%2C%2010.800392429098654%5D%2C%20%5B106.72244345883715%2C%2010.808172662654394%5D%2C%20%5B106.7241740780655%2C%2010.815270970692907%5D%2C%20%5B106.72858453837587%2C%2010.818859331985802%5D%2C%20%5B106.73343414930879%2C%2010.819188350414858%5D%2C%20%5B106.7372885223577%2C%2010.8111202136568%5D%2C%20%5B106.74240912163762%2C%2010.808549285276882%5D%5D%5D%2C%20%22type%22%3A%20%22Polygon%22%7D%2C%20%22id%22%3A%20%220%22%2C%20%22properties%22%3A%20%7B%22highlight%22%3A%20%7B%7D%2C%20%22style%22%3A%20%7B%22fillColor%22%3A%20%22orange%22%7D%7D%2C%20%22type%22%3A%20%22Feature%22%7D%5D%2C%20%22type%22%3A%20%22FeatureCollection%22%7D%2C%0A%20%20%20%20%20%20%20%20%20%20%20%20%7B%0A%20%20%20%20%20%20%20%20%20%20%20%20%7D%0A%20%20%20%20%20%20%20%20%29.addTo%28map_d6d037b84d9642a9a6b21688fbb2567a%20%29%3B%0A%20%20%20%20%20%20%20%20geo_json_7a10663a9b44464e942594adb75f3c4a.setStyle%28function%28feature%29%20%7Breturn%20feature.properties.style%3B%7D%29%3B%0A%20%20%20%20%20%20%20%20%0A%20%20%20%20%0A%20%20%20%20%20%20%20%20%20%20%20%20var%20popup_7ce0eda0abaf4359b19121f8d4eb08fc%20%3D%20L.popup%28%7BmaxWidth%3A%20%27100%25%27%0A%20%20%20%20%20%20%20%20%20%20%20%20%0A%20%20%20%20%20%20%20%20%20%20%20%20%7D%29%3B%0A%0A%20%20%20%20%20%20%20%20%20%20%20%20%0A%20%20%20%20%20%20%20%20%20%20%20%20%20%20%20%20var%20html_85e2ff0009b640ba9c29c545e2fd52bd%20%3D%20%24%28%60%3Cdiv%20id%3D%22html_85e2ff0009b640ba9c29c545e2fd52bd%22%20style%3D%22width%3A%20100.0%25%3B%20height%3A%20100.0%25%3B%22%3EDistrict%202%3C/div%3E%60%29%5B0%5D%3B%0A%20%20%20%20%20%20%20%20%20%20%20%20%20%20%20%20popup_7ce0eda0abaf4359b19121f8d4eb08fc.setContent%28html_85e2ff0009b640ba9c29c545e2fd52bd%29%3B%0A%20%20%20%20%20%20%20%20%20%20%20%20%0A%0A%20%20%20%20%20%20%20%20%20%20%20%20geo_json_7a10663a9b44464e942594adb75f3c4a.bindPopup%28popup_7ce0eda0abaf4359b19121f8d4eb08fc%29%0A%20%20%20%20%20%20%20%20%20%20%20%20%3B%0A%0A%20%20%20%20%20%20%20%20%20%20%20%20%0A%20%20%20%20%20%20%20%20%0A%20%20%20%20%0A%20%20%20%20%20%20%20%20var%20geo_json_577c5d36b4f74f42a5c5f9e1d622a15c%20%3D%20L.geoJson%28%0A%20%20%20%20%20%20%20%20%20%20%20%20%7B%22bbox%22%3A%20%5B106.3564842617171%2C%2010.91448416617761%2C%20106.65721593363781%2C%2011.160051866961767%5D%2C%20%22features%22%3A%20%5B%7B%22bbox%22%3A%20%5B106.3564842617171%2C%2010.91448416617761%2C%20106.65721593363781%2C%2011.160051866961767%5D%2C%20%22geometry%22%3A%20%7B%22coordinates%22%3A%20%5B%5B%5B106.43739106500199%2C%2011.109899984294485%5D%2C%20%5B106.43779632939206%2C%2011.112165165765376%5D%2C%20%5B106.44237011458696%2C%2011.115839628142469%5D%2C%20%5B106.4447709634005%2C%2011.126761261767268%5D%2C%20%5B106.44838509911054%2C%2011.130870020814676%5D%2C%20%5B106.44573252131711%2C%2011.135891051110535%5D%2C%20%5B106.45234707230144%2C%2011.137421971210115%5D%2C%20%5B106.45588245491163%2C%2011.140705178805396%5D%2C%20%5B106.45795509067584%2C%2011.145744989447435%5D%2C%20%5B106.45773602811785%2C%2011.152913934960678%5D%2C%20%5B106.4526785777002%2C%2011.15144553569613%5D%2C%20%5B106.45154479145677%2C%2011.152633465220537%5D%2C%20%5B106.45195648798645%2C%2011.15683243043084%5D%2C%20%5B106.4551155309929%2C%2011.160051866961767%5D%2C%20%5B106.46023201766664%2C%2011.158341255087265%5D%2C%20%5B106.46383614934003%2C%2011.160009397781868%5D%2C%20%5B106.47093936645844%2C%2011.155253655607472%5D%2C%20%5B106.46722821076293%2C%2011.147884393166457%5D%2C%20%5B106.47226913321967%2C%2011.143343526042115%5D%2C%20%5B106.47944122741335%2C%2011.142275338980781%5D%2C%20%5B106.49144661918378%2C%2011.144508403090157%5D%2C%20%5B106.50083109308984%2C%2011.140243395123786%5D%2C%20%5B106.50783602735301%2C%2011.14181256454607%5D%2C%20%5B106.51529996158065%2C%2011.126335903108961%5D%2C%20%5B106.52134033135427%2C%2011.121803074361544%5D%2C%20%5B106.52678044295513%2C%2011.121032400777592%5D%2C%20%5B106.52778719901448%2C%2011.114623526507938%5D%2C%20%5B106.52601247614432%2C%2011.10527822411874%5D%2C%20%5B106.51618606998841%2C%2011.100803683471492%5D%2C%20%5B106.52314428511386%2C%2011.089862480164967%5D%2C%20%5B106.53015001618976%2C%2011.092405993972953%5D%2C%20%5B106.53390443099923%2C%2011.090988138353596%5D%2C%20%5B106.53304444450433%2C%2011.08732073566975%5D%2C%20%5B106.52604411497344%2C%2011.079769145506887%5D%2C%20%5B106.5238196236195%2C%2011.073661320220024%5D%2C%20%5B106.53430554547728%2C%2011.057546675384364%5D%2C%20%5B106.5462471117027%2C%2011.052131177486858%5D%2C%20%5B106.54903833567025%2C%2011.046882001099657%5D%2C%20%5B106.55298363803969%2C%2011.045714802174972%5D%2C%20%5B106.56756224753151%2C%2011.045442938628435%5D%2C%20%5B106.56899160566915%2C%2011.050751448999893%5D%2C%20%5B106.57264420838317%2C%2011.054626049084725%5D%2C%20%5B106.57960995700455%2C%2011.047696967649365%5D%2C%20%5B106.58275693106246%2C%2011.038214384081902%5D%2C%20%5B106.58647426267825%2C%2011.036405539499656%5D%2C%20%5B106.59102572072595%2C%2011.036903910197086%5D%2C%20%5B106.59279415806091%2C%2011.043234935598463%5D%2C%20%5B106.59488484766092%2C%2011.045278323746672%5D%2C%20%5B106.60021388183185%2C%2011.044747520353392%5D%2C%20%5B106.60328316238883%2C%2011.039573449713586%5D%2C%20%5B106.59555445009937%2C%2011.029976093591982%5D%2C%20%5B106.59621166345563%2C%2011.020574855802627%5D%2C%20%5B106.59929882101359%2C%2011.014635812017273%5D%2C%20%5B106.6083281273145%2C%2011.01183584924021%5D%2C%20%5B106.61620462573158%2C%2011.011464663176952%5D%2C%20%5B106.61966357994092%2C%2011.008839290745996%5D%2C%20%5B106.62101906648553%2C%2011.001910179029425%5D%2C%20%5B106.61640973621932%2C%2010.993634280516257%5D%2C%20%5B106.6161063322373%2C%2010.989369652837057%5D%2C%20%5B106.62791644614495%2C%2010.979483138539775%5D%2C%20%5B106.63690033260434%2C%2010.977609748127485%5D%2C%20%5B106.64397615299521%2C%2010.981221377968573%5D%2C%20%5B106.64838229090577%2C%2010.980821015838918%5D%2C%20%5B106.6503041870126%2C%2010.973625361989265%5D%2C%20%5B106.64881940332%2C%2010.964339798055121%5D%2C%20%5B106.65235733291702%2C%2010.949710678421331%5D%2C%20%5B106.65004071914406%2C%2010.935920302438289%5D%2C%20%5B106.65146482250802%2C%2010.93163593662838%5D%2C%20%5B106.65721593363781%2C%2010.925934498204434%5D%2C%20%5B106.65547098415342%2C%2010.921676010568557%5D%2C%20%5B106.65340147880633%2C%2010.919632475744612%5D%2C%20%5B106.64603800919296%2C%2010.919940508194282%5D%2C%20%5B106.63890337168961%2C%2010.916306421895534%5D%2C%20%5B106.62173397057536%2C%2010.91448416617761%5D%2C%20%5B106.60045681163203%2C%2010.917745607932986%5D%2C%20%5B106.60119402117034%2C%2010.923048077031458%5D%2C%20%5B106.58146586522963%2C%2010.929299783530151%5D%2C%20%5B106.58435553937684%2C%2010.919637516865869%5D%2C%20%5B106.56423121616633%2C%2010.91897720468002%5D%2C%20%5B106.5613786646082%2C%2010.91689088979473%5D%2C%20%5B106.53762289084672%2C%2010.915948856673152%5D%2C%20%5B106.4960278365425%2C%2010.920827048626508%5D%2C%20%5B106.45318661976209%2C%2010.942060331676759%5D%2C%20%5B106.41169583622013%2C%2010.973782615941417%5D%2C%20%5B106.37281026164533%2C%2010.969844204978799%5D%2C%20%5B106.3564842617171%2C%2010.991559698420724%5D%2C%20%5B106.36323409405816%2C%2010.997667926421588%5D%2C%20%5B106.37723487464676%2C%2011.000426433352297%5D%2C%20%5B106.380726497108%2C%2010.998403651330257%5D%2C%20%5B106.39202499293202%2C%2010.999790008661284%5D%2C%20%5B106.40527027047281%2C%2011.003797700520048%5D%2C%20%5B106.40632032794966%2C%2011.006212535607936%5D%2C%20%5B106.41280149857735%2C%2011.008935583493926%5D%2C%20%5B106.40908746944372%2C%2011.014724406605524%5D%2C%20%5B106.40889782306391%2C%2011.02242950402644%5D%2C%20%5B106.41329411543883%2C%2011.031935315284537%5D%2C%20%5B106.42006537802433%2C%2011.036163676517354%5D%2C%20%5B106.4227217350577%2C%2011.042772830574911%5D%2C%20%5B106.42258105691171%2C%2011.046585243158926%5D%2C%20%5B106.42429333881806%2C%2011.047110495942698%5D%2C%20%5B106.42030704144848%2C%2011.052001601429888%5D%2C%20%5B106.42052125205579%2C%2011.058233834899475%5D%2C%20%5B106.42225450507631%2C%2011.05913732441099%5D%2C%20%5B106.42017633368764%2C%2011.063363456072787%5D%2C%20%5B106.42167150634222%2C%2011.066235980809981%5D%2C%20%5B106.42573493990716%2C%2011.066558839718773%5D%2C%20%5B106.42734057865707%2C%2011.074014076233956%5D%2C%20%5B106.42601050732921%2C%2011.077945810197562%5D%2C%20%5B106.42595802857277%2C%2011.091618459821726%5D%2C%20%5B106.43082979990963%2C%2011.092061284950985%5D%2C%20%5B106.43154243164993%2C%2011.09828927323615%5D%2C%20%5B106.43383375865781%2C%2011.100222666974727%5D%2C%20%5B106.43739106500199%2C%2011.109899984294485%5D%5D%5D%2C%20%22type%22%3A%20%22Polygon%22%7D%2C%20%22id%22%3A%20%220%22%2C%20%22properties%22%3A%20%7B%22highlight%22%3A%20%7B%7D%2C%20%22style%22%3A%20%7B%22fillColor%22%3A%20%22orange%22%7D%7D%2C%20%22type%22%3A%20%22Feature%22%7D%5D%2C%20%22type%22%3A%20%22FeatureCollection%22%7D%2C%0A%20%20%20%20%20%20%20%20%20%20%20%20%7B%0A%20%20%20%20%20%20%20%20%20%20%20%20%7D%0A%20%20%20%20%20%20%20%20%29.addTo%28map_d6d037b84d9642a9a6b21688fbb2567a%20%29%3B%0A%20%20%20%20%20%20%20%20geo_json_577c5d36b4f74f42a5c5f9e1d622a15c.setStyle%28function%28feature%29%20%7Breturn%20feature.properties.style%3B%7D%29%3B%0A%20%20%20%20%20%20%20%20%0A%20%20%20%20%0A%20%20%20%20%20%20%20%20%20%20%20%20var%20popup_8f561a0d1e374c9594279f749dac1df2%20%3D%20L.popup%28%7BmaxWidth%3A%20%27100%25%27%0A%20%20%20%20%20%20%20%20%20%20%20%20%0A%20%20%20%20%20%20%20%20%20%20%20%20%7D%29%3B%0A%0A%20%20%20%20%20%20%20%20%20%20%20%20%0A%20%20%20%20%20%20%20%20%20%20%20%20%20%20%20%20var%20html_c80f33f79a08423794bf2a959f8d1005%20%3D%20%24%28%60%3Cdiv%20id%3D%22html_c80f33f79a08423794bf2a959f8d1005%22%20style%3D%22width%3A%20100.0%25%3B%20height%3A%20100.0%25%3B%22%3ECu%20Chi%3C/div%3E%60%29%5B0%5D%3B%0A%20%20%20%20%20%20%20%20%20%20%20%20%20%20%20%20popup_8f561a0d1e374c9594279f749dac1df2.setContent%28html_c80f33f79a08423794bf2a959f8d1005%29%3B%0A%20%20%20%20%20%20%20%20%20%20%20%20%0A%0A%20%20%20%20%20%20%20%20%20%20%20%20geo_json_577c5d36b4f74f42a5c5f9e1d622a15c.bindPopup%28popup_8f561a0d1e374c9594279f749dac1df2%29%0A%20%20%20%20%20%20%20%20%20%20%20%20%3B%0A%0A%20%20%20%20%20%20%20%20%20%20%20%20%0A%20%20%20%20%20%20%20%20%0A%20%20%20%20%0A%20%20%20%20%20%20%20%20var%20geo_json_94cbca757c3a4770b2dbd8e3180f3fac%20%3D%20L.geoJson%28%0A%20%20%20%20%20%20%20%20%20%20%20%20%7B%22bbox%22%3A%20%5B106.6901181401058%2C%2010.697953844022024%2C%20106.76772410540127%2C%2010.777557339318353%5D%2C%20%22features%22%3A%20%5B%7B%22bbox%22%3A%20%5B106.6901181401058%2C%2010.697953844022024%2C%20106.76772410540127%2C%2010.777557339318353%5D%2C%20%22geometry%22%3A%20%7B%22coordinates%22%3A%20%5B%5B%5B106.75136708055464%2C%2010.760622460726317%5D%2C%20%5B106.74476497366543%2C%2010.750981420342969%5D%2C%20%5B106.74531182413357%2C%2010.743605330806751%5D%2C%20%5B106.74794752251667%2C%2010.741884292813916%5D%2C%20%5B106.75189485710852%2C%2010.741888510837313%5D%2C%20%5B106.75876410175053%2C%2010.744710049111205%5D%2C%20%5B106.76772410540127%2C%2010.74192570443857%5D%2C%20%5B106.7519924290272%2C%2010.721098190406742%5D%2C%20%5B106.75091625045518%2C%2010.713514421675498%5D%2C%20%5B106.75193301633713%2C%2010.70497692459395%5D%2C%20%5B106.74477211582638%2C%2010.703153619983283%5D%2C%20%5B106.73660780932838%2C%2010.703504361690543%5D%2C%20%5B106.73324028971184%2C%2010.697953844022024%5D%2C%20%5B106.72758849777084%2C%2010.698834223116027%5D%2C%20%5B106.72445934667238%2C%2010.705680396819309%5D%2C%20%5B106.72584294811192%2C%2010.710283384483162%5D%2C%20%5B106.72297483140251%2C%2010.715303380731351%5D%2C%20%5B106.72483935161884%2C%2010.720833307406167%5D%2C%20%5B106.72052727360943%2C%2010.72259268223449%5D%2C%20%5B106.71798063719925%2C%2010.718852969274014%5D%2C%20%5B106.71140053439942%2C%2010.720743072324044%5D%2C%20%5B106.70826212275841%2C%2010.719653591739183%5D%2C%20%5B106.70625177303135%2C%2010.725006187335351%5D%2C%20%5B106.6901181401058%2C%2010.725257837944383%5D%2C%20%5B106.6906058792307%2C%2010.730813693812681%5D%2C%20%5B106.69499676441289%2C%2010.736383535427471%5D%2C%20%5B106.69180223907603%2C%2010.7420764199977%5D%2C%20%5B106.6929633957269%2C%2010.74523022596661%5D%2C%20%5B106.69046876745774%2C%2010.752173506493254%5D%2C%20%5B106.71788185680538%2C%2010.752840769640748%5D%2C%20%5B106.72202820252367%2C%2010.759259885625706%5D%2C%20%5B106.73006744579874%2C%2010.759849438160304%5D%2C%20%5B106.73375354708512%2C%2010.762662413220422%5D%2C%20%5B106.73522448308687%2C%2010.77468191517744%5D%2C%20%5B106.73960755989692%2C%2010.777557339318353%5D%2C%20%5B106.74667141655654%2C%2010.774599691096592%5D%2C%20%5B106.75083292807462%2C%2010.769967462475476%5D%2C%20%5B106.7527158504817%2C%2010.764850063067374%5D%2C%20%5B106.75136708055464%2C%2010.760622460726317%5D%5D%5D%2C%20%22type%22%3A%20%22Polygon%22%7D%2C%20%22id%22%3A%20%220%22%2C%20%22properties%22%3A%20%7B%22highlight%22%3A%20%7B%7D%2C%20%22style%22%3A%20%7B%22fillColor%22%3A%20%22orange%22%7D%7D%2C%20%22type%22%3A%20%22Feature%22%7D%5D%2C%20%22type%22%3A%20%22FeatureCollection%22%7D%2C%0A%20%20%20%20%20%20%20%20%20%20%20%20%7B%0A%20%20%20%20%20%20%20%20%20%20%20%20%7D%0A%20%20%20%20%20%20%20%20%29.addTo%28map_d6d037b84d9642a9a6b21688fbb2567a%20%29%3B%0A%20%20%20%20%20%20%20%20geo_json_94cbca757c3a4770b2dbd8e3180f3fac.setStyle%28function%28feature%29%20%7Breturn%20feature.properties.style%3B%7D%29%3B%0A%20%20%20%20%20%20%20%20%0A%20%20%20%20%0A%20%20%20%20%20%20%20%20%20%20%20%20var%20popup_f1e3007eebf04df88b4804b679dd5368%20%3D%20L.popup%28%7BmaxWidth%3A%20%27100%25%27%0A%20%20%20%20%20%20%20%20%20%20%20%20%0A%20%20%20%20%20%20%20%20%20%20%20%20%7D%29%3B%0A%0A%20%20%20%20%20%20%20%20%20%20%20%20%0A%20%20%20%20%20%20%20%20%20%20%20%20%20%20%20%20var%20html_0ea170a9de5a48f5817eccb20df00bd7%20%3D%20%24%28%60%3Cdiv%20id%3D%22html_0ea170a9de5a48f5817eccb20df00bd7%22%20style%3D%22width%3A%20100.0%25%3B%20height%3A%20100.0%25%3B%22%3EDistrict%207%3C/div%3E%60%29%5B0%5D%3B%0A%20%20%20%20%20%20%20%20%20%20%20%20%20%20%20%20popup_f1e3007eebf04df88b4804b679dd5368.setContent%28html_0ea170a9de5a48f5817eccb20df00bd7%29%3B%0A%20%20%20%20%20%20%20%20%20%20%20%20%0A%0A%20%20%20%20%20%20%20%20%20%20%20%20geo_json_94cbca757c3a4770b2dbd8e3180f3fac.bindPopup%28popup_f1e3007eebf04df88b4804b679dd5368%29%0A%20%20%20%20%20%20%20%20%20%20%20%20%3B%0A%0A%20%20%20%20%20%20%20%20%20%20%20%20%0A%20%20%20%20%20%20%20%20%0A%20%20%20%20%0A%20%20%20%20%20%20%20%20var%20geo_json_9c9af6297e7e4018897c39adda01c9cd%20%3D%20L.geoJson%28%0A%20%20%20%20%20%20%20%20%20%20%20%20%7B%22bbox%22%3A%20%5B106.69804616854292%2C%2010.812876633068225%2C%20106.80855385428654%2C%2010.896379095055126%5D%2C%20%22features%22%3A%20%5B%7B%22bbox%22%3A%20%5B106.69804616854292%2C%2010.812876633068225%2C%20106.80855385428654%2C%2010.896379095055126%5D%2C%20%22geometry%22%3A%20%7B%22coordinates%22%3A%20%5B%5B%5B106.72732730439546%2C%2010.890263045636907%5D%2C%20%5B106.73242903732627%2C%2010.890639542943068%5D%2C%20%5B106.73129928101898%2C%2010.885953113140832%5D%2C%20%5B106.73669865187733%2C%2010.884570412837762%5D%2C%20%5B106.73419013232345%2C%2010.880519816715319%5D%2C%20%5B106.73813384188277%2C%2010.879159516750596%5D%2C%20%5B106.73964954436671%2C%2010.881031294484403%5D%2C%20%5B106.74298433587367%2C%2010.880318476324033%5D%2C%20%5B106.74503711395741%2C%2010.881580955278185%5D%2C%20%5B106.74467679038334%2C%2010.880072164511747%5D%2C%20%5B106.74716993913972%2C%2010.877384085503147%5D%2C%20%5B106.7503928050398%2C%2010.877270788786056%5D%2C%20%5B106.75135335395304%2C%2010.875482777709152%5D%2C%20%5B106.74642702064222%2C%2010.87387587000187%5D%2C%20%5B106.7459880607301%2C%2010.871729361401353%5D%2C%20%5B106.74869468954756%2C%2010.865634334833354%5D%2C%20%5B106.75160809350106%2C%2010.863342023096388%5D%2C%20%5B106.75462508865333%2C%2010.866309665621937%5D%2C%20%5B106.76219871219485%2C%2010.867262445774639%5D%2C%20%5B106.76327366859819%2C%2010.86991357757974%5D%2C%20%5B106.76037500170385%2C%2010.872386981234484%5D%2C%20%5B106.76190644527891%2C%2010.875559783192452%5D%2C%20%5B106.76051132715934%2C%2010.88125285687284%5D%2C%20%5B106.76454383381898%2C%2010.88485338453399%5D%2C%20%5B106.76888297250488%2C%2010.89371837025596%5D%2C%20%5B106.78113192355181%2C%2010.880160433369564%5D%2C%20%5B106.78193710824655%2C%2010.874302624566054%5D%2C%20%5B106.77993303838063%2C%2010.86838587082559%5D%2C%20%5B106.78773922860827%2C%2010.867209821010373%5D%2C%20%5B106.78891397380401%2C%2010.871950728229823%5D%2C%20%5B106.79491484282524%2C%2010.873537144265132%5D%2C%20%5B106.79859938880568%2C%2010.872014163176505%5D%2C%20%5B106.80522820408235%2C%2010.875044706800614%5D%2C%20%5B106.80855385428654%2C%2010.873026385717605%5D%2C%20%5B106.80306413712547%2C%2010.867083624595447%5D%2C%20%5B106.7739870794914%2C%2010.849179190771766%5D%2C%20%5B106.7595981603849%2C%2010.824226022296042%5D%2C%20%5B106.75696376825036%2C%2010.813122556072761%5D%2C%20%5B106.750971680332%2C%2010.812876633068225%5D%2C%20%5B106.75121170632038%2C%2010.828182550625716%5D%2C%20%5B106.74774601827824%2C%2010.833353590562913%5D%2C%20%5B106.73882786495004%2C%2010.835292871650894%5D%2C%20%5B106.73232449885131%2C%2010.826511564784596%5D%2C%20%5B106.72699222804735%2C%2010.822539961609426%5D%2C%20%5B106.7200372163209%2C%2010.820329387897653%5D%2C%20%5B106.71358864012915%2C%2010.820904103071282%5D%2C%20%5B106.70906537276693%2C%2010.825599292736465%5D%2C%20%5B106.70737860810311%2C%2010.835789058968452%5D%2C%20%5B106.69804616854292%2C%2010.843641133769118%5D%2C%20%5B106.69962686963106%2C%2010.850550467565517%5D%2C%20%5B106.7122321242059%2C%2010.851158805767325%5D%2C%20%5B106.71642235905206%2C%2010.853274360111296%5D%2C%20%5B106.71789256360347%2C%2010.858981552008839%5D%2C%20%5B106.71321266248239%2C%2010.86588808712152%5D%2C%20%5B106.71556733328553%2C%2010.868532594990004%5D%2C%20%5B106.71491959801334%2C%2010.872319578918674%5D%2C%20%5B106.72352140292593%2C%2010.871846027710825%5D%2C%20%5B106.72122755214124%2C%2010.876362214665964%5D%2C%20%5B106.71258116085099%2C%2010.877948486269782%5D%2C%20%5B106.71794288354342%2C%2010.88085389884231%5D%2C%20%5B106.7165661974605%2C%2010.884710933248313%5D%2C%20%5B106.71752085691072%2C%2010.88783212577732%5D%2C%20%5B106.714464144581%2C%2010.886788695233955%5D%2C%20%5B106.71310984934891%2C%2010.889894777482468%5D%2C%20%5B106.71759542070882%2C%2010.896379095055126%5D%2C%20%5B106.72732730439546%2C%2010.890263045636907%5D%5D%5D%2C%20%22type%22%3A%20%22Polygon%22%7D%2C%20%22id%22%3A%20%220%22%2C%20%22properties%22%3A%20%7B%22highlight%22%3A%20%7B%7D%2C%20%22style%22%3A%20%7B%22fillColor%22%3A%20%22orange%22%7D%7D%2C%20%22type%22%3A%20%22Feature%22%7D%5D%2C%20%22type%22%3A%20%22FeatureCollection%22%7D%2C%0A%20%20%20%20%20%20%20%20%20%20%20%20%7B%0A%20%20%20%20%20%20%20%20%20%20%20%20%7D%0A%20%20%20%20%20%20%20%20%29.addTo%28map_d6d037b84d9642a9a6b21688fbb2567a%20%29%3B%0A%20%20%20%20%20%20%20%20geo_json_9c9af6297e7e4018897c39adda01c9cd.setStyle%28function%28feature%29%20%7Breturn%20feature.properties.style%3B%7D%29%3B%0A%20%20%20%20%20%20%20%20%0A%20%20%20%20%0A%20%20%20%20%20%20%20%20%20%20%20%20var%20popup_7abcc92a10de427694bf9c24bef4d9ed%20%3D%20L.popup%28%7BmaxWidth%3A%20%27100%25%27%0A%20%20%20%20%20%20%20%20%20%20%20%20%0A%20%20%20%20%20%20%20%20%20%20%20%20%7D%29%3B%0A%0A%20%20%20%20%20%20%20%20%20%20%20%20%0A%20%20%20%20%20%20%20%20%20%20%20%20%20%20%20%20var%20html_9a9f376272084bafb499cb13ae5a527e%20%3D%20%24%28%60%3Cdiv%20id%3D%22html_9a9f376272084bafb499cb13ae5a527e%22%20style%3D%22width%3A%20100.0%25%3B%20height%3A%20100.0%25%3B%22%3EThu%20Duc%3C/div%3E%60%29%5B0%5D%3B%0A%20%20%20%20%20%20%20%20%20%20%20%20%20%20%20%20popup_7abcc92a10de427694bf9c24bef4d9ed.setContent%28html_9a9f376272084bafb499cb13ae5a527e%29%3B%0A%20%20%20%20%20%20%20%20%20%20%20%20%0A%0A%20%20%20%20%20%20%20%20%20%20%20%20geo_json_9c9af6297e7e4018897c39adda01c9cd.bindPopup%28popup_7abcc92a10de427694bf9c24bef4d9ed%29%0A%20%20%20%20%20%20%20%20%20%20%20%20%3B%0A%0A%20%20%20%20%20%20%20%20%20%20%20%20%0A%20%20%20%20%20%20%20%20%0A%20%20%20%20%0A%20%20%20%20%20%20%20%20var%20geo_json_2fb6b83005724717a5cb46d07791fb41%20%3D%20L.geoJson%28%0A%20%20%20%20%20%20%20%20%20%20%20%20%7B%22bbox%22%3A%20%5B106.46367423396204%2C%2010.625432538472834%2C%20106.69499676441289%2C%2010.873647920674602%5D%2C%20%22features%22%3A%20%5B%7B%22bbox%22%3A%20%5B106.46367423396204%2C%2010.625432538472834%2C%20106.69499676441289%2C%2010.873647920674602%5D%2C%20%22geometry%22%3A%20%7B%22coordinates%22%3A%20%5B%5B%5B106.6427526722371%2C%2010.7276812605621%5D%2C%20%5B106.65008535446671%2C%2010.728730097791317%5D%2C%20%5B106.64962332929987%2C%2010.730423460836326%5D%2C%20%5B106.66333253531042%2C%2010.73390998945913%5D%2C%20%5B106.66568652590306%2C%2010.734203361765651%5D%2C%20%5B106.6661606200951%2C%2010.732114227227225%5D%2C%20%5B106.67388213564229%2C%2010.737500218636145%5D%2C%20%5B106.67595114973209%2C%2010.735374857671598%5D%2C%20%5B106.681606034441%2C%2010.734437047675256%5D%2C%20%5B106.6828249039474%2C%2010.739460068628071%5D%2C%20%5B106.69195427260091%2C%2010.74156391740655%5D%2C%20%5B106.69499676441289%2C%2010.736383535427471%5D%2C%20%5B106.69048923610978%2C%2010.730484382863821%5D%2C%20%5B106.68884866137375%2C%2010.712102004674584%5D%2C%20%5B106.68574271467105%2C%2010.711658888455265%5D%2C%20%5B106.68092942225418%2C%2010.714390274272757%5D%2C%20%5B106.67328543903866%2C%2010.704089010527191%5D%2C%20%5B106.67458169584458%2C%2010.702201612712424%5D%2C%20%5B106.67331089544025%2C%2010.692374540677232%5D%2C%20%5B106.68140938517912%2C%2010.678262433597506%5D%2C%20%5B106.6786928570886%2C%2010.671084756816168%5D%2C%20%5B106.67866038367251%2C%2010.664933188365382%5D%2C%20%5B106.68466126017682%2C%2010.660602645367554%5D%2C%20%5B106.68549476555607%2C%2010.651581339846215%5D%2C%20%5B106.67889701971669%2C%2010.645510987259147%5D%2C%20%5B106.67380295909504%2C%2010.644260117984471%5D%2C%20%5B106.66940875443454%2C%2010.63914169385482%5D%2C%20%5B106.6601450440057%2C%2010.639814015503912%5D%2C%20%5B106.66075756460708%2C%2010.64197636043036%5D%2C%20%5B106.65692879785887%2C%2010.643550110304055%5D%2C%20%5B106.65626100261885%2C%2010.638361734000233%5D%2C%20%5B106.65400118015292%2C%2010.639568660673328%5D%2C%20%5B106.65294105617464%2C%2010.637988367739036%5D%2C%20%5B106.65293789020636%2C%2010.632467638960977%5D%2C%20%5B106.64619178018857%2C%2010.634217819290058%5D%2C%20%5B106.64097542023366%2C%2010.626664554738058%5D%2C%20%5B106.63883805348405%2C%2010.627498099966962%5D%2C%20%5B106.63482654957713%2C%2010.625432538472834%5D%2C%20%5B106.63243970891472%2C%2010.628124330786786%5D%2C%20%5B106.62956666420034%2C%2010.627538676801333%5D%2C%20%5B106.63084255138615%2C%2010.630194200037403%5D%2C%20%5B106.62949220906485%2C%2010.636336596335035%5D%2C%20%5B106.63116617483152%2C%2010.636802730626735%5D%2C%20%5B106.62947922181117%2C%2010.642037889376082%5D%2C%20%5B106.62720308123531%2C%2010.64240171746676%5D%2C%20%5B106.62414104058365%2C%2010.639416840831155%5D%2C%20%5B106.62118596290387%2C%2010.640952101429413%5D%2C%20%5B106.62185036803463%2C%2010.64410776044999%5D%2C%20%5B106.62433152389909%2C%2010.644489249344106%5D%2C%20%5B106.62478260010066%2C%2010.647425323556844%5D%2C%20%5B106.61895363500963%2C%2010.649016625408983%5D%2C%20%5B106.61673432242603%2C%2010.653311532564834%5D%2C%20%5B106.60540297675783%2C%2010.658771390149505%5D%2C%20%5B106.60069647381584%2C%2010.650720304949534%5D%2C%20%5B106.59962232875174%2C%2010.652586884406306%5D%2C%20%5B106.59528508384177%2C%2010.653779288291638%5D%2C%20%5B106.59560881515607%2C%2010.65104140662712%5D%2C%20%5B106.59175577659788%2C%2010.650075643755702%5D%2C%20%5B106.5904426540123%2C%2010.653069996781975%5D%2C%20%5B106.58412089636322%2C%2010.653681285419413%5D%2C%20%5B106.5833079273772%2C%2010.655402478443506%5D%2C%20%5B106.57976805834872%2C%2010.656121939838355%5D%2C%20%5B106.57790399852679%2C%2010.65326899566862%5D%2C%20%5B106.57937365598241%2C%2010.65033358050302%5D%2C%20%5B106.57698573076398%2C%2010.648866810784222%5D%2C%20%5B106.57338011485727%2C%2010.649811886193348%5D%2C%20%5B106.57350395463698%2C%2010.654156001781457%5D%2C%20%5B106.56861428066209%2C%2010.656572037688312%5D%2C%20%5B106.56627348172343%2C%2010.656438485406266%5D%2C%20%5B106.56528483594008%2C%2010.652292357459043%5D%2C%20%5B106.55902167719718%2C%2010.651853019067026%5D%2C%20%5B106.55787152705194%2C%2010.648553182275277%5D%2C%20%5B106.55557995275458%2C%2010.650903662442058%5D%2C%20%5B106.55592166385775%2C%2010.656959782991851%5D%2C%20%5B106.54889586232909%2C%2010.657424172296192%5D%2C%20%5B106.55357287716697%2C%2010.668443577121435%5D%2C%20%5B106.5520746604423%2C%2010.670637830886346%5D%2C%20%5B106.55366426211019%2C%2010.675188908609963%5D%2C%20%5B106.55050724545927%2C%2010.685437980186984%5D%2C%20%5B106.54740621595177%2C%2010.68698187245256%5D%2C%20%5B106.53557592488826%2C%2010.685656103730375%5D%2C%20%5B106.53382960403418%2C%2010.68825592253356%5D%2C%20%5B106.52722632350005%2C%2010.70925796271379%5D%2C%20%5B106.5302086499298%2C%2010.717295604322441%5D%2C%20%5B106.52020299667828%2C%2010.723676421075519%5D%2C%20%5B106.50948771886863%2C%2010.71710449625182%5D%2C%20%5B106.50166416057985%2C%2010.726508164577654%5D%2C%20%5B106.49966233015293%2C%2010.724990381459103%5D%2C%20%5B106.49576679739059%2C%2010.72762807169083%5D%2C%20%5B106.49156143334872%2C%2010.724332567896234%5D%2C%20%5B106.47449226729007%2C%2010.745443253317976%5D%2C%20%5B106.4714484661664%2C%2010.74647505006659%5D%2C%20%5B106.46367423396204%2C%2010.756515511744075%5D%2C%20%5B106.50093517818789%2C%2010.78593614322736%5D%2C%20%5B106.50107417187456%2C%2010.788830182293843%5D%2C%20%5B106.50453696241726%2C%2010.788942331672054%5D%2C%20%5B106.52579121309222%2C%2010.873647920674602%5D%2C%20%5B106.53498315067417%2C%2010.871868045406341%5D%2C%20%5B106.52879437333502%2C%2010.847503165517725%5D%2C%20%5B106.5446223761919%2C%2010.843182685934273%5D%2C%20%5B106.54502191581348%2C%2010.84478922921852%5D%2C%20%5B106.55592967791293%2C%2010.843027081065028%5D%2C%20%5B106.56237829033016%2C%2010.84472326099848%5D%2C%20%5B106.56446517514402%2C%2010.840772139639737%5D%2C%20%5B106.56922983665999%2C%2010.842816349926307%5D%2C%20%5B106.57574370832506%2C%2010.84261445265414%5D%2C%20%5B106.57655570715339%2C%2010.838379457984383%5D%2C%20%5B106.581967349639%2C%2010.832785231457722%5D%2C%20%5B106.58779882454202%2C%2010.832811283597584%5D%2C%20%5B106.59306610385858%2C%2010.829384431858799%5D%2C%20%5B106.5951401538122%2C%2010.829798285432885%5D%2C%20%5B106.5819375081129%2C%2010.815655813457523%5D%2C%20%5B106.58601029221768%2C%2010.813118180643851%5D%2C%20%5B106.58350513122407%2C%2010.806366983856613%5D%2C%20%5B106.58288036000023%2C%2010.797320893104564%5D%2C%20%5B106.58547376902759%2C%2010.79572753505835%5D%2C%20%5B106.58444644898957%2C%2010.790752048595804%5D%2C%20%5B106.58901601264046%2C%2010.787350213526198%5D%2C%20%5B106.58875041224452%2C%2010.778919395222387%5D%2C%20%5B106.58592664863406%2C%2010.775314593692418%5D%2C%20%5B106.58052924742054%2C%2010.77474780400733%5D%2C%20%5B106.57530390584444%2C%2010.768841169880298%5D%2C%20%5B106.5692183734674%2C%2010.768165202759295%5D%2C%20%5B106.56775152618074%2C%2010.762926073579004%5D%2C%20%5B106.57339017540359%2C%2010.760395775287567%5D%2C%20%5B106.5594072311865%2C%2010.748982354152362%5D%2C%20%5B106.55882312385593%2C%2010.736474514502513%5D%2C%20%5B106.57406121446022%2C%2010.732725096563776%5D%2C%20%5B106.57432156930638%2C%2010.727631999054202%5D%2C%20%5B106.58166320054067%2C%2010.733255077261582%5D%2C%20%5B106.58192914543395%2C%2010.72943616486442%5D%2C%20%5B106.60088469438078%2C%2010.722313872993757%5D%2C%20%5B106.60008326759895%2C%2010.717938422238925%5D%2C%20%5B106.60393008665334%2C%2010.717335619466194%5D%2C%20%5B106.60278914213028%2C%2010.714961484629912%5D%2C%20%5B106.60439575459233%2C%2010.704312113596044%5D%2C%20%5B106.59780157864307%2C%2010.701825389214815%5D%2C%20%5B106.60141505856801%2C%2010.695147795252026%5D%2C%20%5B106.60957961551588%2C%2010.695402464720196%5D%2C%20%5B106.62070415548654%2C%2010.699777074676629%5D%2C%20%5B106.6240328946784%2C%2010.692470723165977%5D%2C%20%5B106.62609961690409%2C%2010.693682848337765%5D%2C%20%5B106.6427526722371%2C%2010.7276812605621%5D%5D%5D%2C%20%22type%22%3A%20%22Polygon%22%7D%2C%20%22id%22%3A%20%220%22%2C%20%22properties%22%3A%20%7B%22highlight%22%3A%20%7B%7D%2C%20%22style%22%3A%20%7B%22fillColor%22%3A%20%22orange%22%7D%7D%2C%20%22type%22%3A%20%22Feature%22%7D%5D%2C%20%22type%22%3A%20%22FeatureCollection%22%7D%2C%0A%20%20%20%20%20%20%20%20%20%20%20%20%7B%0A%20%20%20%20%20%20%20%20%20%20%20%20%7D%0A%20%20%20%20%20%20%20%20%29.addTo%28map_d6d037b84d9642a9a6b21688fbb2567a%20%29%3B%0A%20%20%20%20%20%20%20%20geo_json_2fb6b83005724717a5cb46d07791fb41.setStyle%28function%28feature%29%20%7Breturn%20feature.properties.style%3B%7D%29%3B%0A%20%20%20%20%20%20%20%20%0A%20%20%20%20%0A%20%20%20%20%20%20%20%20%20%20%20%20var%20popup_555810d8ad1f49d99d2f4472a2b0ecd5%20%3D%20L.popup%28%7BmaxWidth%3A%20%27100%25%27%0A%20%20%20%20%20%20%20%20%20%20%20%20%0A%20%20%20%20%20%20%20%20%20%20%20%20%7D%29%3B%0A%0A%20%20%20%20%20%20%20%20%20%20%20%20%0A%20%20%20%20%20%20%20%20%20%20%20%20%20%20%20%20var%20html_9136413139c44eefb1f3535723485a00%20%3D%20%24%28%60%3Cdiv%20id%3D%22html_9136413139c44eefb1f3535723485a00%22%20style%3D%22width%3A%20100.0%25%3B%20height%3A%20100.0%25%3B%22%3EBinh%20Chanh%3C/div%3E%60%29%5B0%5D%3B%0A%20%20%20%20%20%20%20%20%20%20%20%20%20%20%20%20popup_555810d8ad1f49d99d2f4472a2b0ecd5.setContent%28html_9136413139c44eefb1f3535723485a00%29%3B%0A%20%20%20%20%20%20%20%20%20%20%20%20%0A%0A%20%20%20%20%20%20%20%20%20%20%20%20geo_json_2fb6b83005724717a5cb46d07791fb41.bindPopup%28popup_555810d8ad1f49d99d2f4472a2b0ecd5%29%0A%20%20%20%20%20%20%20%20%20%20%20%20%3B%0A%0A%20%20%20%20%20%20%20%20%20%20%20%20%0A%20%20%20%20%20%20%20%20%0A%20%20%20%20%0A%20%20%20%20%20%20%20%20var%20geo_json_d135fddb6c5d426d81a58cf3b2d68982%20%3D%20L.geoJson%28%0A%20%20%20%20%20%20%20%20%20%20%20%20%7B%22bbox%22%3A%20%5B106.5582897383449%2C%2010.710848979610061%2C%20106.62525206868807%2C%2010.827847310617251%5D%2C%20%22features%22%3A%20%5B%7B%22bbox%22%3A%20%5B106.5582897383449%2C%2010.710848979610061%2C%20106.62525206868807%2C%2010.827847310617251%5D%2C%20%22geometry%22%3A%20%7B%22coordinates%22%3A%20%5B%5B%5B106.60036577337596%2C%2010.826097863497946%5D%2C%20%5B106.60386506555578%2C%2010.826168021049808%5D%2C%20%5B106.61616157543025%2C%2010.819409999579658%5D%2C%20%5B106.60763539752257%2C%2010.81298436482265%5D%2C%20%5B106.60675396077526%2C%2010.806112956148977%5D%2C%20%5B106.60841781528069%2C%2010.805858350516527%5D%2C%20%5B106.6137453127612%2C%2010.796610938300805%5D%2C%20%5B106.61833016512462%2C%2010.785799561995894%5D%2C%20%5B106.62525206868807%2C%2010.757500844014281%5D%2C%20%5B106.62377971338812%2C%2010.745666590870034%5D%2C%20%5B106.62174575177778%2C%2010.741361083060658%5D%2C%20%5B106.61904997170237%2C%2010.716244735564205%5D%2C%20%5B106.60377926290181%2C%2010.710848979610061%5D%2C%20%5B106.60278914213028%2C%2010.714961484629912%5D%2C%20%5B106.60393008665334%2C%2010.717335619466194%5D%2C%20%5B106.60008326759895%2C%2010.717938422238925%5D%2C%20%5B106.60088469438078%2C%2010.722313872993757%5D%2C%20%5B106.58192914543395%2C%2010.72943616486442%5D%2C%20%5B106.58166320054067%2C%2010.733255077261582%5D%2C%20%5B106.57432156930638%2C%2010.727631999054202%5D%2C%20%5B106.57406121446022%2C%2010.732725096563776%5D%2C%20%5B106.55883392987106%2C%2010.736465306290421%5D%2C%20%5B106.5582897383449%2C%2010.739471983837895%5D%2C%20%5B106.5594072311865%2C%2010.748982354152362%5D%2C%20%5B106.57339017540359%2C%2010.760395775287567%5D%2C%20%5B106.56775152618074%2C%2010.762926073579004%5D%2C%20%5B106.5692183734674%2C%2010.768165202759295%5D%2C%20%5B106.57530390584444%2C%2010.768841169880298%5D%2C%20%5B106.58052924742054%2C%2010.77474780400733%5D%2C%20%5B106.58592664863406%2C%2010.775314593692418%5D%2C%20%5B106.58881592395963%2C%2010.779106767788944%5D%2C%20%5B106.58901601264046%2C%2010.787350213526198%5D%2C%20%5B106.58444644898957%2C%2010.790752048595804%5D%2C%20%5B106.58547376902759%2C%2010.79572753505835%5D%2C%20%5B106.58288036000023%2C%2010.797320893104564%5D%2C%20%5B106.58350513122407%2C%2010.806366983856613%5D%2C%20%5B106.58601029221768%2C%2010.813118180643851%5D%2C%20%5B106.5819375081129%2C%2010.815655813457523%5D%2C%20%5B106.59373602448402%2C%2010.827847310617251%5D%2C%20%5B106.60036577337596%2C%2010.826097863497946%5D%5D%5D%2C%20%22type%22%3A%20%22Polygon%22%7D%2C%20%22id%22%3A%20%220%22%2C%20%22properties%22%3A%20%7B%22highlight%22%3A%20%7B%7D%2C%20%22style%22%3A%20%7B%22fillColor%22%3A%20%22orange%22%7D%7D%2C%20%22type%22%3A%20%22Feature%22%7D%5D%2C%20%22type%22%3A%20%22FeatureCollection%22%7D%2C%0A%20%20%20%20%20%20%20%20%20%20%20%20%7B%0A%20%20%20%20%20%20%20%20%20%20%20%20%7D%0A%20%20%20%20%20%20%20%20%29.addTo%28map_d6d037b84d9642a9a6b21688fbb2567a%20%29%3B%0A%20%20%20%20%20%20%20%20geo_json_d135fddb6c5d426d81a58cf3b2d68982.setStyle%28function%28feature%29%20%7Breturn%20feature.properties.style%3B%7D%29%3B%0A%20%20%20%20%20%20%20%20%0A%20%20%20%20%0A%20%20%20%20%20%20%20%20%20%20%20%20var%20popup_4f92ea2066294e6dba816cee358c0c35%20%3D%20L.popup%28%7BmaxWidth%3A%20%27100%25%27%0A%20%20%20%20%20%20%20%20%20%20%20%20%0A%20%20%20%20%20%20%20%20%20%20%20%20%7D%29%3B%0A%0A%20%20%20%20%20%20%20%20%20%20%20%20%0A%20%20%20%20%20%20%20%20%20%20%20%20%20%20%20%20var%20html_5857298c0dfa4dc68649487309963cef%20%3D%20%24%28%60%3Cdiv%20id%3D%22html_5857298c0dfa4dc68649487309963cef%22%20style%3D%22width%3A%20100.0%25%3B%20height%3A%20100.0%25%3B%22%3EBinh%20Tan%3C/div%3E%60%29%5B0%5D%3B%0A%20%20%20%20%20%20%20%20%20%20%20%20%20%20%20%20popup_4f92ea2066294e6dba816cee358c0c35.setContent%28html_5857298c0dfa4dc68649487309963cef%29%3B%0A%20%20%20%20%20%20%20%20%20%20%20%20%0A%0A%20%20%20%20%20%20%20%20%20%20%20%20geo_json_d135fddb6c5d426d81a58cf3b2d68982.bindPopup%28popup_4f92ea2066294e6dba816cee358c0c35%29%0A%20%20%20%20%20%20%20%20%20%20%20%20%3B%0A%0A%20%20%20%20%20%20%20%20%20%20%20%20%0A%20%20%20%20%20%20%20%20%0A%20%20%20%20%0A%20%20%20%20%20%20%20%20%20%20%20%20var%20feature_group_aee2c1bb847f4a59bbd8469e0db069fd%20%3D%20L.featureGroup%28%0A%20%20%20%20%20%20%20%20%20%20%20%20%20%20%20%20%29.addTo%28map_d6d037b84d9642a9a6b21688fbb2567a%29%3B%0A%20%20%20%20%20%20%20%20%0A%20%20%20%20%0A%20%20%20%20%20%20%20%20%20%20%20%20var%20heat_map_300968153e7b4b249323899684ac75f5%20%3D%20L.heatLayer%28%0A%20%20%20%20%20%20%20%20%20%20%20%20%20%20%20%20%5B%5B10.7445959169251%2C%20106.701458126284%5D%2C%20%5B10.738393056168%2C%20106.706766486168%5D%2C%20%5B10.7409171465278%2C%20106.705430805595%5D%2C%20%5B10.7409862199094%2C%20106.704513366762%5D%2C%20%5B10.741304330989%2C%20106.707695652407%5D%2C%20%5B10.7421685129765%2C%20106.700558226494%5D%2C%20%5B10.7428446468669%2C%20106.705085144719%5D%2C%20%5B10.7379411124085%2C%20106.697759628296%5D%2C%20%5B10.7409505118927%2C%20106.705494665441%5D%2C%20%5B10.7401491996856%2C%20106.703938307866%5D%2C%20%5B10.7409896009242%2C%20106.705401682184%5D%2C%20%5B10.7413848701081%2C%20106.706059529313%5D%2C%20%5B10.7415591469867%2C%20106.709599903909%5D%2C%20%5B10.7428482642239%2C%20106.70509120325%5D%2C%20%5B10.7409865738897%2C%20106.705394759807%5D%2C%20%5B10.7431628003932%2C%20106.707339808345%5D%2C%20%5B10.7409372830886%2C%20106.705410399774%5D%2C%20%5B10.7448479012329%2C%20106.704995358596%5D%2C%20%5B10.7447907414912%2C%20106.705310046673%5D%2C%20%5B10.7380023978634%2C%20106.706821005348%5D%2C%20%5B10.7412824998489%2C%20106.707725951804%5D%2C%20%5B10.742847894188%2C%20106.702630519867%5D%2C%20%5B10.7431687295864%2C%20106.707388088107%5D%2C%20%5B10.7405113765545%2C%20106.709345008187%5D%2C%20%5B10.7400385632111%2C%20106.703974571689%5D%2C%20%5B10.7411209948753%2C%20106.705404234719%5D%2C%20%5B10.7432497618815%2C%20106.707438379526%5D%2C%20%5B10.7401442197067%2C%20106.703917124945%5D%2C%20%5B10.7432747962448%2C%20106.70744407922%5D%2C%20%5B10.7460792811872%2C%20106.704828845398%5D%2C%20%5B10.7431077906509%2C%20106.707403175533%5D%2C%20%5B10.737924993684%2C%20106.69753321538%5D%2C%20%5B10.7410560946206%2C%20106.705429993176%5D%2C%20%5B10.7431220571725%2C%20106.705441610298%5D%2C%20%5B10.7429921713395%2C%20106.707568801939%5D%2C%20%5B10.7412610468359%2C%20106.70187655091%5D%2C%20%5B10.7401050730112%2C%20106.708743529166%5D%2C%20%5B10.7410871248004%2C%20106.70641365453%5D%2C%20%5B10.7432955484127%2C%20106.707448102534%5D%2C%20%5B10.7462260024414%2C%20106.706090471531%5D%2C%20%5B10.7402821670546%2C%20106.704045366416%5D%2C%20%5B10.7408719830698%2C%20106.70224268828%5D%2C%20%5B10.7373139240304%2C%20106.706171035767%5D%2C%20%5B10.7401206315612%2C%20106.703826772059%5D%2C%20%5B10.7428420063908%2C%20106.705084373921%5D%2C%20%5B10.7409954713239%2C%20106.70540688313%5D%2C%20%5B10.7409483206903%2C%20106.705410226885%5D%2C%20%5B10.7384734309349%2C%20106.706782579422%5D%2C%20%5B10.7433609719785%2C%20106.700973214421%5D%2C%20%5B10.7428364058338%2C%20106.705089415136%5D%2C%20%5B10.7401556975151%2C%20106.703925158578%5D%2C%20%5B10.7428529740151%2C%20106.705060054394%5D%2C%20%5B10.7405538959697%2C%20106.709152140043%5D%2C%20%5B10.7413707774607%2C%20106.706338212327%5D%2C%20%5B10.7409422240043%2C%20106.7054272564%5D%2C%20%5B10.743159506397%2C%20106.707402169704%5D%2C%20%5B10.7456069357151%2C%20106.701155304909%5D%2C%20%5B10.7441246458856%2C%20106.705932855475%5D%2C%20%5B10.7400653680797%2C%20106.703872731539%5D%2C%20%5B10.739898651479%2C%20106.703826677857%5D%2C%20%5B10.7405575514784%2C%20106.709314728564%5D%2C%20%5B10.7395850990088%2C%20106.696776061168%5D%2C%20%5B10.744678078305%2C%20106.704321960478%5D%2C%20%5B10.7454196554466%2C%20106.705323422926%5D%2C%20%5B10.7461214612401%2C%20106.705730802247%5D%2C%20%5B10.7462884968852%2C%20106.705559828459%5D%2C%20%5B10.7459712791607%2C%20106.704230862302%5D%2C%20%5B10.7411209948753%2C%20106.705404234719%5D%2C%20%5B10.7439058858471%2C%20106.703349325133%5D%2C%20%5B10.7395043320085%2C%20106.702056586027%5D%2C%20%5B10.7426515758858%2C%20106.705971104308%5D%2C%20%5B10.7410390128457%2C%20106.705429324129%5D%2C%20%5B10.741058058116%2C%20106.707720383345%5D%2C%20%5B10.741208506854%2C%20106.707802722046%5D%2C%20%5B10.7408700385911%2C%20106.705417953967%5D%2C%20%5B10.7385406294941%2C%20106.706778556108%5D%2C%20%5B10.7390093930946%2C%20106.707511327729%5D%2C%20%5B10.7427260439893%2C%20106.705974255373%5D%2C%20%5B10.745444317304%2C%20106.705063533977%5D%2C%20%5B10.7432780902398%2C%20106.707429997623%5D%2C%20%5B10.7430820974744%2C%20106.707641221583%5D%2C%20%5B10.7407077547785%2C%20106.704295222875%5D%2C%20%5B10.7425534882318%2C%20106.707358377918%5D%2C%20%5B10.7426726002368%2C%20106.707935635844%5D%2C%20%5B10.7914140114819%2C%20106.51258925011%5D%2C%20%5B10.7910357887996%2C%20106.515301706859%5D%2C%20%5B10.7905494965856%2C%20106.515427444458%5D%2C%20%5B10.7905280516286%2C%20106.515891718515%5D%2C%20%5B10.790763595839%2C%20106.515018724257%5D%2C%20%5B10.7915302979579%2C%20106.511331416897%5D%2C%20%5B10.7900116011614%2C%20106.51366090231%5D%2C%20%5B10.7906400195672%2C%20106.515581454532%5D%2C%20%5B10.7900826152883%2C%20106.515746604967%5D%2C%20%5B10.7905543560524%2C%20106.515783705629%5D%2C%20%5B10.791105683402%2C%20106.512422451393%5D%2C%20%5B10.7902166415136%2C%20106.515802101149%5D%2C%20%5B10.7926239848129%2C%20106.511959490302%5D%2C%20%5B10.7901668689287%2C%20106.511449555903%5D%2C%20%5B10.7900235717802%2C%20106.515603641444%5D%2C%20%5B10.7912399776267%2C%20106.512259345882%5D%2C%20%5B10.790428515714%2C%20106.515123436175%5D%2C%20%5B10.7907707428026%2C%20106.513955460444%5D%2C%20%5B10.7911932096899%2C%20106.511407584121%5D%2C%20%5B10.7904010787634%2C%20106.515799036291%5D%2C%20%5B10.7900340657683%2C%20106.513569895105%5D%2C%20%5B10.7904695740788%2C%20106.515629662783%5D%2C%20%5B10.7905348329152%2C%20106.515854870258%5D%2C%20%5B10.7912059860101%2C%20106.511120182347%5D%2C%20%5B10.7912693272451%2C%20106.512877906909%5D%2C%20%5B10.7897194054915%2C%20106.515619056133%5D%2C%20%5B10.7924969766201%2C%20106.512192682825%5D%2C%20%5B10.7909315520879%2C%20106.512260507988%5D%2C%20%5B10.7922542017335%2C%20106.507491544181%5D%2C%20%5B10.7906804299102%2C%20106.515125096029%5D%2C%20%5B10.7899457665961%2C%20106.513602829211%5D%2C%20%5B10.7905403951362%2C%20106.515817444488%5D%2C%20%5B10.7907190990643%2C%20106.515007182781%5D%2C%20%5B10.7913146474196%2C%20106.512573762518%5D%2C%20%5B10.7901556803249%2C%20106.511448091865%5D%2C%20%5B10.7907219784128%2C%20106.515378341857%5D%2C%20%5B10.7899575872382%2C%20106.513769147814%5D%2C%20%5B10.7906850775085%2C%20106.514433394958%5D%2C%20%5B10.7909329062936%2C%20106.514130845803%5D%2C%20%5B10.7907774811768%2C%20106.512286078849%5D%2C%20%5B10.7907831271188%2C%20106.516058912102%5D%2C%20%5B10.7913182936389%2C%20106.511900948681%5D%2C%20%5B10.7873768469308%2C%20106.517018973827%5D%2C%20%5B10.7899616353723%2C%20106.513704050172%5D%2C%20%5B10.7905208064873%2C%20106.515494874001%5D%2C%20%5B10.7795367470387%2C%20106.50253868758%5D%2C%20%5B10.7903439203897%2C%20106.512842579373%5D%2C%20%5B10.7901251728672%2C%20106.511421451983%5D%2C%20%5B10.7913011744369%2C%20106.512299525391%5D%2C%20%5B10.790595877944%2C%20106.515682169575%5D%2C%20%5B10.8123874016643%2C%20106.515996597978%5D%2C%20%5B10.7915202478925%2C%20106.51245740147%5D%2C%20%5B10.7992464333701%2C%20106.513824462891%5D%2C%20%5B10.7906820378346%2C%20106.515480241144%5D%2C%20%5B10.7906281240035%2C%20106.513956342583%5D%2C%20%5B10.7911832555442%2C%20106.512494562112%5D%2C%20%5B10.7909700161073%2C%20106.512720805395%5D%2C%20%5B10.7898819352528%2C%20106.515664289392%5D%2C%20%5B10.7902213771184%2C%20106.513006357572%5D%2C%20%5B10.7903273876001%2C%20106.514779284198%5D%2C%20%5B10.7763577714129%2C%20106.516899924419%5D%2C%20%5B10.7912669473598%2C%20106.511017233427%5D%2C%20%5B10.7868630584669%2C%20106.519832611084%5D%2C%20%5B10.7914150971858%2C%20106.511707947275%5D%2C%20%5B10.790667760917%2C%20106.515513822018%5D%2C%20%5B10.792365839496%2C%20106.511642818376%5D%2C%20%5B10.7904480301622%2C%20106.512674922328%5D%2C%20%5B10.7906951852953%2C%20106.515446405418%5D%2C%20%5B10.791576705846%2C%20106.513521149646%5D%2C%20%5B10.7905678203138%2C%20106.515749730174%5D%2C%20%5B10.7906462309931%2C%20106.51519012803%5D%2C%20%5B10.7895724406296%2C%20106.515476398182%5D%2C%20%5B10.7907371579689%2C%20106.515637724%5D%2C%20%5B10.7911258972814%2C%20106.513299387428%5D%2C%20%5B10.7907308127579%2C%20106.512128422502%5D%2C%20%5B10.7917770459263%2C%20106.513906276317%5D%2C%20%5B10.7902295463443%2C%20106.515866329162%5D%2C%20%5B10.7900920560643%2C%20106.513828634157%5D%2C%20%5B10.7960639209576%2C%20106.513253078034%5D%2C%20%5B10.7912716185278%2C%20106.5122782919%5D%2C%20%5B10.7921532527105%2C%20106.512044808467%5D%2C%20%5B10.7899230056664%2C%20106.515562507998%5D%2C%20%5B10.789948767959%2C%20106.515691878013%5D%2C%20%5B10.7906702540371%2C%20106.51375469103%5D%2C%20%5B10.7911780964694%2C%20106.514146264253%5D%2C%20%5B10.7907883068049%2C%20106.515207734345%5D%2C%20%5B10.7902579822324%2C%20106.515700710015%5D%2C%20%5B10.7923931623007%2C%20106.512735772263%5D%2C%20%5B10.7910745205772%2C%20106.512191081577%5D%2C%20%5B10.7902112397403%2C%20106.513212807629%5D%2C%20%5B10.7954945881291%2C%20106.512730121613%5D%2C%20%5B10.7906685542656%2C%20106.514022110091%5D%2C%20%5B10.7902211841929%2C%20106.513084605501%5D%2C%20%5B10.7900760454679%2C%20106.513410753816%5D%2C%20%5B10.7898895441265%2C%20106.515548704408%5D%2C%20%5B10.7900907669883%2C%20106.515630878317%5D%2C%20%5B10.7898483380458%2C%20106.515650510883%5D%2C%20%5B10.7901708424894%2C%20106.511428157525%5D%2C%20%5B10.7908368213015%2C%20106.515148319807%5D%2C%20%5B10.7902114544004%2C%20106.513107426338%5D%2C%20%5B10.7922325465709%2C%20106.513179059958%5D%2C%20%5B10.7924949877397%2C%20106.512724639881%5D%2C%20%5B10.7913635106881%2C%20106.512354253132%5D%2C%20%5B10.7922656978535%2C%20106.5075494349%5D%2C%20%5B10.7907750233238%2C%20106.515241746041%5D%2C%20%5B10.7911863420341%2C%20106.512177483666%5D%2C%20%5B10.790785189211%2C%20106.513999643825%5D%2C%20%5B10.7796774495506%2C%20106.502395859958%5D%2C%20%5B10.7905775524326%2C%20106.515360577127%5D%2C%20%5B10.7909748713221%2C%20106.513648117696%5D%2C%20%5B10.7910192704562%2C%20106.512177432794%5D%2C%20%5B10.7910797426689%2C%20106.511851027526%5D%2C%20%5B10.7898147858615%2C%20106.515636805095%5D%2C%20%5B10.7901497643024%2C%20106.515774236046%5D%2C%20%5B10.7909569700331%2C%20106.51234672168%5D%2C%20%5B10.7911344880839%2C%20106.51245503441%5D%2C%20%5B10.7908840901975%2C%20106.515025919681%5D%2C%20%5B10.7907485464673%2C%20106.515309886846%5D%2C%20%5B10.7900158275481%2C%20106.515719115151%5D%2C%20%5B10.7902733700276%2C%20106.513973823728%5D%2C%20%5B10.7902720732517%2C%20106.515523009803%5D%2C%20%5B10.7901242735993%2C%20106.515644733242%5D%2C%20%5B10.7915546028926%2C%20106.512475571714%5D%2C%20%5B10.790204352797%2C%20106.513145985464%5D%2C%20%5B10.7883820254126%2C%20106.51669844985%5D%2C%20%5B10.7900571241413%2C%20106.515617276068%5D%2C%20%5B10.7914418671581%2C%20106.51238323247%5D%2C%20%5B10.7909845182924%2C%20106.514025147179%5D%2C%20%5B10.7902245663541%2C%20106.5156867248%5D%2C%20%5B10.7915953768203%2C%20106.512273551216%5D%2C%20%5B10.8120655914368%2C%20106.515935896387%5D%2C%20%5B10.7915120186698%2C%20106.51221976341%5D%2C%20%5B10.7895809483359%2C%20106.515308058513%5D%2C%20%5B10.7904079172638%2C%20106.513781768838%5D%2C%20%5B10.7907645719724%2C%20106.513067084294%5D%2C%20%5B10.7899988365043%2C%20106.51542454618%5D%2C%20%5B10.7905926507937%2C%20106.515287283988%5D%2C%20%5B10.7898223037924%2C%20106.515521432039%5D%2C%20%5B10.7901130621733%2C%20106.513321091452%5D%2C%20%5B10.7923011285588%2C%20106.507458563873%5D%2C%20%5B10.791172133987%2C%20106.51095259315%5D%2C%20%5B10.7901535095103%2C%20106.513233375565%5D%2C%20%5B10.7905674622195%2C%20106.51261797499%5D%2C%20%5B10.7896766729001%2C%20106.515588743871%5D%2C%20%5B10.7918611662782%2C%20106.511505077889%5D%2C%20%5B10.7905825491627%2C%20106.515716200393%5D%2C%20%5B10.7901735505311%2C%20106.513923124591%5D%2C%20%5B10.790883209264%2C%20106.512232089297%5D%2C%20%5B10.7901832254307%2C%20106.515788200693%5D%2C%20%5B10.776239538649%2C%20106.516308613754%5D%2C%20%5B10.7911414665519%2C%20106.5112362261%5D%2C%20%5B10.7901577349891%2C%20106.515658594975%5D%2C%20%5B10.7903168591022%2C%20106.513642754741%5D%2C%20%5B10.7907287649977%2C%20106.514113713913%5D%2C%20%5B10.8121288053676%2C%20106.516043184747%5D%2C%20%5B10.7908375144512%2C%20106.514026158747%5D%2C%20%5B10.7899444422542%2C%20106.515083110398%5D%2C%20%5B10.7904146333364%2C%20106.515765099495%5D%2C%20%5B10.7921326803864%2C%20106.513348830302%5D%2C%20%5B10.7899896116708%2C%20106.515590377635%5D%2C%20%5B10.7899152613058%2C%20106.515678040798%5D%2C%20%5B10.7774391660619%2C%20106.515689603984%5D%2C%20%5B10.7898558106825%2C%20106.515535176988%5D%2C%20%5B10.7918601883433%2C%20106.513772650306%5D%2C%20%5B10.7919131682954%2C%20106.512745742347%5D%2C%20%5B10.7899578921755%2C%20106.513737167658%5D%2C%20%5B10.7911451254457%2C%20106.512797629878%5D%2C%20%5B10.7890575878189%2C%20106.514045232698%5D%2C%20%5B10.7904191879185%2C%20106.512712615588%5D%2C%20%5B10.7905143613227%2C%20106.513272760274%5D%2C%20%5B10.7920533290334%2C%20106.511650725201%5D%2C%20%5B10.7904418324241%2C%20106.515697409606%5D%2C%20%5B10.7905071617239%2C%20106.515528734754%5D%2C%20%5B10.7909943566338%2C%20106.513463836134%5D%2C%20%5B10.7915723850301%2C%20106.512395201545%5D%2C%20%5B10.7901813468173%2C%20106.511443906681%5D%2C%20%5B10.7905143586464%2C%20106.512650441867%5D%2C%20%5B10.7904554323941%2C%20106.515663390285%5D%2C%20%5B10.792277324669%2C%20106.511810759879%5D%2C%20%5B10.7899804110453%2C%20106.515709849471%5D%2C%20%5B10.7902379630777%2C%20106.513960662032%5D%2C%20%5B10.7922198346885%2C%20106.507659008093%5D%2C%20%5B10.7899516412626%2C%20106.513797324659%5D%2C%20%5B10.790062458961%2C%20106.513439414177%5D%2C%20%5B10.7896242057361%2C%20106.515126638079%5D%2C%20%5B10.7913410048174%2C%20106.512315357645%5D%2C%20%5B10.784544122909%2C%20106.512118978663%5D%2C%20%5B10.7908838208699%2C%20106.511965381046%5D%2C%20%5B10.7909565475085%2C%20106.511894220899%5D%2C%20%5B10.7910412424332%2C%20106.511882448913%5D%2C%20%5B10.791045441848%2C%20106.512379848549%5D%2C%20%5B10.7904081146035%2C%20106.515841988762%5D%2C%20%5B10.7905640889959%2C%20106.515394235922%5D%2C%20%5B10.7861253093937%2C%20106.518448591232%5D%2C%20%5B10.7905778543631%2C%20106.512564822829%5D%2C%20%5B10.7882858551397%2C%20106.51807308197%5D%2C%20%5B10.80366596101%2C%20106.518599737009%5D%2C%20%5B10.790673615691%2C%20106.514974168456%5D%2C%20%5B10.7912084376556%2C%20106.512236127014%5D%2C%20%5B10.7907963576517%2C%20106.51205500445%5D%2C%20%5B10.7921606900866%2C%20106.513300501508%5D%2C%20%5B10.7907476588812%2C%20106.512189470195%5D%2C%20%5B10.7908015451695%2C%20106.515173686082%5D%2C%20%5B10.7899564670312%2C%20106.515576382003%5D%2C%20%5B10.7907106108388%2C%20106.51390517808%5D%2C%20%5B10.7907958845598%2C%20106.51589046719%5D%2C%20%5B10.7919600216901%2C%20106.513616273681%5D%2C%20%5B10.7906535289997%2C%20106.515547483572%5D%2C%20%5B10.7917357151716%2C%20106.511436357631%5D%2C%20%5B10.7901911503932%2C%20106.51567277262%5D%2C%20%5B10.7900179386763%2C%20106.513620597618%5D%2C%20%5B10.7906596952773%2C%20106.51515611793%5D%2C%20%5B10.7901797575285%2C%20106.513416225741%5D%2C%20%5B10.7907082425544%2C%20106.515412485312%5D%2C%20%5B10.7920898616712%2C%20106.512161384813%5D%2C%20%5B10.7906189858214%2C%20106.515258216646%5D%2C%20%5B10.7906326762997%2C%20106.515224137715%5D%2C%20%5B10.7900523684455%2C%20106.513901511292%5D%2C%20%5B10.7905503136478%2C%20106.513871003213%5D%2C%20%5B10.7899348669833%2C%20106.513872137595%5D%2C%20%5B10.7900342339337%2C%20106.513501732203%5D%2C%20%5B10.7912691490438%2C%20106.512528379372%5D%2C%20%5B10.7901735911275%2C%20106.511429791726%5D%2C%20%5B10.7907399247436%2C%20106.513932840084%5D%2C%20%5B10.7902249159842%2C%20106.513587576028%5D%2C%20%5B10.7919977601542%2C%20106.511582918476%5D%2C%20%5B10.7900495607515%2C%20106.51573273568%5D%2C%20%5B10.7911296909058%2C%20106.512163714052%5D%2C%20%5B10.786794553272%2C%20106.519746780396%5D%2C%20%5B10.7775473303203%2C%20106.514462802492%5D%2C%20%5B10.7922638255072%2C%20106.513253093799%5D%2C%20%5B10.7905346775408%2C%20106.515460901387%5D%2C%20%5B10.7907618301978%2C%20106.515275777168%5D%2C%20%5B10.792068324139%2C%20106.513453353408%5D%2C%20%5B10.7904282779647%2C%20106.515731303304%5D%2C%20%5B10.7924255803547%2C%20106.512347645705%5D%2C%20%5B10.7914606939826%2C%20106.512612700889%5D%2C%20%5B10.7906727696843%2C%20106.512496220657%5D%2C%20%5B10.7921006357007%2C%20106.513401973938%5D%2C%20%5B10.7905856431666%2C%20106.515324289992%5D%2C%20%5B10.7878036859102%2C%20106.517984569073%5D%2C%20%5B10.7907352626062%2C%20106.515344047901%5D%2C%20%5B10.789781279104%2C%20106.515623008566%5D%2C%20%5B10.7907578192849%2C%20106.512395537323%5D%2C%20%5B10.7903562580772%2C%20106.513686834416%5D%2C%20%5B10.7908130466793%2C%20106.515019384016%5D%2C%20%5B10.7901163481992%2C%20106.515760343038%5D%2C%20%5B10.8351974819763%2C%20106.83071538806%5D%2C%20%5B10.8292481013987%2C%20106.825982893497%5D%2C%20%5B10.8298933523506%2C%20106.831778350243%5D%2C%20%5B10.829966854006%2C%20106.831416785717%5D%2C%20%5B10.8352659761208%2C%20106.829788684845%5D%2C%20%5B10.8327053382177%2C%20106.831741333008%5D%2C%20%5B10.8286718746146%2C%20106.833643427149%5D%2C%20%5B10.8299065356307%2C%20106.831395079616%5D%2C%20%5B10.8298812348078%2C%20106.83214366436%5D%2C%20%5B10.8360126872625%2C%20106.829668302478%5D%2C%20%5B10.8259980593463%2C%20106.841808178624%5D%2C%20%5B10.8299088963976%2C%20106.831803023815%5D%2C%20%5B10.8324484828985%2C%20106.83176279068%5D%2C%20%5B10.8299132784163%2C%20106.831815213754%5D%2C%20%5B10.838282730129%2C%20106.833453498475%5D%2C%20%5B10.8298548904342%2C%20106.831768155098%5D%2C%20%5B10.8297918139081%2C%20106.831881263479%5D%2C%20%5B10.8370792255759%2C%20106.822241010245%5D%2C%20%5B10.8349722145293%2C%20106.828503889696%5D%2C%20%5B10.8246722801542%2C%20106.832522847026%5D%2C%20%5B10.8350973751217%2C%20106.830228567123%5D%2C%20%5B10.8298390838089%2C%20106.83181643486%5D%2C%20%5B10.8349296459444%2C%20106.825723854083%5D%2C%20%5B10.8298166751698%2C%20106.831366502811%5D%2C%20%5B10.8300234943852%2C%20106.832537949085%5D%2C%20%5B10.8296849691688%2C%20106.831973344088%5D%2C%20%5B10.8302619107476%2C%20106.833322495222%5D%2C%20%5B10.8358508101003%2C%20106.830893754959%5D%2C%20%5B10.8324484828985%2C%20106.83176279068%5D%2C%20%5B10.8291119781447%2C%20106.834616661072%5D%2C%20%5B10.8354108675285%2C%20106.82966530323%5D%2C%20%5B10.8252217873397%2C%20106.842953937049%5D%2C%20%5B10.8299049447421%2C%20106.831564307213%5D%2C%20%5B10.8367397318875%2C%20106.823084403758%5D%2C%20%5B10.8324076494685%2C%20106.831491887569%5D%2C%20%5B10.8251138507114%2C%20106.83231554921%5D%2C%20%5B10.8354108675285%2C%20106.82966530323%5D%2C%20%5B10.8378051422595%2C%20106.837736748473%5D%2C%20%5B10.836672537309%2C%20106.826000715541%5D%2C%20%5B10.8381655234975%2C%20106.835208934039%5D%2C%20%5B10.8324484828985%2C%20106.83176279068%5D%2C%20%5B10.8299365579848%2C%20106.831277310848%5D%2C%20%5B10.8322506729481%2C%20106.845577788352%5D%2C%20%5B10.8355399525417%2C%20106.834788322449%5D%2C%20%5B10.8389066807776%2C%20106.836550533772%5D%2C%20%5B10.8354624046804%2C%20106.83064469391%5D%2C%20%5B10.8322785631047%2C%20106.832228153944%5D%2C%20%5B10.8376415505904%2C%20106.836632725535%5D%2C%20%5B10.832454332267%2C%20106.831700956873%5D%2C%20%5B10.8360532074577%2C%20106.84568600748%5D%2C%20%5B10.8290803648149%2C%20106.841826438904%5D%2C%20%5B10.8386748571993%2C%20106.837196946144%5D%2C%20%5B10.8324102838835%2C%20106.831794977188%5D%2C%20%5B10.8330513661731%2C%20106.830285180004%5D%2C%20%5B10.8387380818294%2C%20106.836628317833%5D%2C%20%5B10.8332348546419%2C%20106.830597370863%5D%2C%20%5B10.8254541991386%2C%20106.841109283923%5D%2C%20%5B10.8300313976931%2C%20106.831074804068%5D%2C%20%5B10.8404714852337%2C%20106.828329563141%5D%2C%20%5B10.8300018486836%2C%20106.831435453951%5D%2C%20%5B10.8354556521312%2C%20106.830220520496%5D%2C%20%5B10.8392144680581%2C%20106.834497061555%5D%2C%20%5B10.8346126467204%2C%20106.843070983887%5D%2C%20%5B10.8300445698724%2C%20106.832031011581%5D%2C%20%5B10.8239198665151%2C%20106.841444830385%5D%2C%20%5B10.8373290038087%2C%20106.827279392878%5D%2C%20%5B10.8324152510678%2C%20106.831943404977%5D%2C%20%5B10.8369105648447%2C%20106.839156629278%5D%2C%20%5B10.8240521798856%2C%20106.832153138745%5D%2C%20%5B10.8326460639328%2C%20106.831451654434%5D%2C%20%5B10.8357815899615%2C%20106.831255010402%5D%2C%20%5B10.8366135302035%2C%20106.825919634403%5D%2C%20%5B10.8357537440054%2C%20106.830484536712%5D%2C%20%5B10.8298008844611%2C%20106.831353753805%5D%2C%20%5B10.8312899142477%2C%20106.83480070599%5D%2C%20%5B10.8299486767763%2C%20106.831262213073%5D%2C%20%5B10.8353073382074%2C%20106.826555964862%5D%2C%20%5B10.8322611234027%2C%20106.831894069946%5D%2C%20%5B10.8344290029251%2C%20106.826630503904%5D%2C%20%5B10.8320098525363%2C%20106.833447217941%5D%2C%20%5B10.8324076494685%2C%20106.831491887569%5D%2C%20%5B10.8299421508567%2C%20106.831756948232%5D%2C%20%5B10.8377339976699%2C%20106.83051961007%5D%2C%20%5B10.8299049447421%2C%20106.831564307213%5D%2C%20%5B10.8297510371573%2C%20106.831934565835%5D%2C%20%5B10.8408877113038%2C%20106.829971075058%5D%2C%20%5B10.8298548904342%2C%20106.831768155098%5D%2C%20%5B10.8360487263249%2C%20106.843457293607%5D%2C%20%5B10.829966854006%2C%20106.831416785717%5D%2C%20%5B10.8298430354653%2C%20106.831066757441%5D%2C%20%5B10.8219980654284%2C%20106.837178255461%5D%2C%20%5B10.8324873178808%2C%20106.831556930483%5D%2C%20%5B10.8323662751558%2C%20106.831771166725%5D%2C%20%5B10.8327553920491%2C%20106.83232203126%5D%2C%20%5B10.8270615217507%2C%20106.83972908424%5D%2C%20%5B10.829966854006%2C%20106.831416785717%5D%2C%20%5B10.8372609908959%2C%20106.827000294354%5D%2C%20%5B10.8411117843302%2C%20106.827493971341%5D%2C%20%5B10.8347980386034%2C%20106.825754636939%5D%2C%20%5B10.8326891740616%2C%20106.831803403293%5D%2C%20%5B10.8288379958423%2C%20106.828887462616%5D%2C%20%5B10.8298440783707%2C%20106.83146831936%5D%2C%20%5B10.8348810470267%2C%20106.824977448925%5D%2C%20%5B10.834799817075%2C%20106.825463104845%5D%2C%20%5B10.835591209902%2C%20106.832923101435%5D%2C%20%5B10.8357815899615%2C%20106.831501773631%5D%2C%20%5B10.8381348129397%2C%20106.833609491587%5D%2C%20%5B10.8359555533091%2C%20106.828560368428%5D%2C%20%5B10.8346210079523%2C%20106.825949462654%5D%2C%20%5B10.8298114743097%2C%20106.831499101245%5D%2C%20%5B10.8297363407243%2C%20106.831808388233%5D%2C%20%5B10.8405106331495%2C%20106.835061809445%5D%2C%20%5B10.8362475553023%2C%20106.826902672129%5D%2C%20%5B10.8297653195466%2C%20106.831505298615%5D%2C%20%5B10.8387380818294%2C%20106.836628317833%5D%2C%20%5B10.8386458792394%2C%20106.837388724089%5D%2C%20%5B10.8324484828985%2C%20106.83176279068%5D%2C%20%5B10.8383719674044%2C%20106.836455354642%5D%2C%20%5B10.835992838705%2C%20106.830266653419%5D%2C%20%5B10.8316116415816%2C%20106.842609223243%5D%2C%20%5B10.8250862963046%2C%20106.838618265296%5D%2C%20%5B10.8293349026145%2C%20106.825953529475%5D%2C%20%5B10.8390731856437%2C%20106.834359614967%5D%2C%20%5B10.8248404158182%2C%20106.843504461877%5D%2C%20%5B10.8344929747623%2C%20106.826686652903%5D%2C%20%5B10.8350921063389%2C%20106.831186115742%5D%2C%20%5B10.8335577562558%2C%20106.835564677895%5D%2C%20%5B10.8386748571993%2C%20106.837196946144%5D%2C%20%5B10.8327361103847%2C%20106.831633524052%5D%2C%20%5B10.8298548904342%2C%20106.831768155098%5D%2C%20%5B10.8326460639328%2C%20106.831451654434%5D%2C%20%5B10.8298648248875%2C%20106.832133631287%5D%2C%20%5B10.835287051239%2C%20106.829702854157%5D%2C%20%5B10.8300577420512%2C%20106.831658184528%5D%2C%20%5B10.835284684726%2C%20106.829706981589%5D%2C%20%5B10.8291752047943%2C%20106.834938526154%5D%2C%20%5B10.8385102096625%2C%20106.837171465158%5D%2C%20%5B10.8354108675285%2C%20106.82966530323%5D%2C%20%5B10.8311001149444%2C%20106.825505976486%5D%2C%20%5B10.8300313976931%2C%20106.831074804068%5D%2C%20%5B10.8379965087653%2C%20106.833530366421%5D%2C%20%5B10.8358508101003%2C%20106.830893754959%5D%2C%20%5B10.8299523646049%2C%20106.831451654434%5D%2C%20%5B10.8296889208272%2C%20106.831972002983%5D%2C%20%5B10.8327066554239%2C%20106.831766813993%5D%2C%20%5B10.8324484828985%2C%20106.83176279068%5D%2C%20%5B10.8297837606139%2C%20106.831505298615%5D%2C%20%5B10.841410114341%2C%20106.825189116672%5D%2C%20%5B10.8327646124908%2C%20106.831664890051%5D%2C%20%5B10.8298008844611%2C%20106.831353753805%5D%2C%20%5B10.8387088154209%2C%20106.828306670068%5D%2C%20%5B10.8397088345853%2C%20106.8366929076%5D%2C%20%5B10.8305306228845%2C%20106.833456605673%5D%2C%20%5B10.8299128480531%2C%20106.831746697426%5D%2C%20%5B10.8301242477168%2C%20106.831373594114%5D%2C%20%5B10.8249452289566%2C%20106.839544504158%5D%2C%20%5B10.829966854006%2C%20106.831416785717%5D%2C%20%5B10.8297784917377%2C%20106.831805706024%5D%2C%20%5B10.8300445698724%2C%20106.832031011581%5D%2C%20%5B10.8283637951114%2C%20106.834627389908%5D%2C%20%5B10.8353636290651%2C%20106.829666530946%5D%2C%20%5B10.8326723458466%2C%20106.831443893108%5D%2C%20%5B10.8313423833349%2C%20106.832284899429%5D%2C%20%5B10.8261350416211%2C%20106.842049062252%5D%2C%20%5B10.836840218524%2C%20106.838902591354%5D%2C%20%5B10.8373082633592%2C%20106.827363328823%5D%2C%20%5B10.824712280167%2C%20106.833983859742%5D%2C%20%5B10.838133307956%2C%20106.833648627216%5D%2C%20%5B10.8354503833548%2C%20106.829614341259%5D%2C%20%5B10.8262542528765%2C%20106.842771890153%5D%2C%20%5B10.8389857115019%2C%20106.836537122726%5D%2C%20%5B10.8350973751217%2C%20106.830228567123%5D%2C%20%5B10.8298878209008%2C%20106.831516027451%5D%2C%20%5B10.8389626927985%2C%20106.832021820964%5D%2C%20%5B10.824044855817%2C%20106.842643379952%5D%2C%20%5B10.829769271204%2C%20106.832533925772%5D%2C%20%5B10.8261321284881%2C%20106.842661483372%5D%2C%20%5B10.8322907787944%2C%20106.831787671836%5D%2C%20%5B10.8299049447421%2C%20106.831564307213%5D%2C%20%5B10.8347027885003%2C%20106.825297939402%5D%2C%20%5B10.8274891562385%2C%20106.835088729858%5D%2C%20%5B10.829966854006%2C%20106.831416785717%5D%2C%20%5B10.8299989583047%2C%20106.831737034663%5D%2C%20%5B10.828058198687%2C%20106.837899684906%5D%2C%20%5B10.8324484828985%2C%20106.83176279068%5D%2C%20%5B10.8322785631047%2C%20106.832228153944%5D%2C%20%5B10.8300313976931%2C%20106.831074804068%5D%2C%20%5B10.7099061026582%2C%20106.704754829407%5D%2C%20%5B10.7103532655298%2C%20106.701959129905%5D%2C%20%5B10.7108661236924%2C%20106.701960924219%5D%2C%20%5B10.7095582219893%2C%20106.701822349488%5D%2C%20%5B10.7103391215807%2C%20106.70193231061%5D%2C%20%5B10.7103582406251%2C%20106.70196140772%5D%2C%20%5B10.7101145543404%2C%20106.701884023692%5D%2C%20%5B10.7103597220417%2C%20106.701942030765%5D%2C%20%5B10.7103800321498%2C%20106.701987149404%5D%2C%20%5B10.7103803262793%2C%20106.701985667603%5D%2C%20%5B10.7103915304349%2C%20106.701748849928%5D%2C%20%5B10.7103559127569%2C%20106.701948083757%5D%2C%20%5B10.7103469078712%2C%20106.70197230554%5D%2C%20%5B10.7117285855286%2C%20106.701704542123%5D%2C%20%5B10.7034369334678%2C%20106.705237650752%5D%2C%20%5B10.7103346700264%2C%20106.70193037287%5D%2C%20%5B10.7120988197072%2C%20106.699819564819%5D%2C%20%5B10.7103559127569%2C%20106.701939327667%5D%2C%20%5B10.7103567304409%2C%20106.701960817156%5D%2C%20%5B10.6954621591856%2C%20106.703929242666%5D%2C%20%5B10.7086866908716%2C%20106.70529495011%5D%2C%20%5B10.7101539689524%2C%20106.701929824897%5D%2C%20%5B10.7103407309521%2C%20106.701958026402%5D%2C%20%5B10.7103563229668%2C%20106.701966596012%5D%2C%20%5B10.7103631052439%2C%20106.701935816881%5D%2C%20%5B10.7065304961136%2C%20106.705112488295%5D%2C%20%5B10.7103626412256%2C%20106.701958102491%5D%2C%20%5B10.7103539698455%2C%20106.701967269579%5D%2C%20%5B10.7103585379612%2C%20106.701996196752%5D%2C%20%5B10.7103610265276%2C%20106.701971362608%5D%2C%20%5B10.7103486888741%2C%20106.701956093175%5D%2C%20%5B10.7103683961655%2C%20106.701986941561%5D%2C%20%5B10.7098702794113%2C%20106.699787737175%5D%2C%20%5B10.7103578296717%2C%20106.701981204244%5D%2C%20%5B10.7017741298123%2C%20106.702581699999%5D%2C%20%5B10.7162469001274%2C%20106.708419774659%5D%2C%20%5B10.7103464750401%2C%20106.701942952642%5D%2C%20%5B10.7119971828498%2C%20106.697225523056%5D%2C%20%5B10.7087459299867%2C%20106.705268278662%5D%2C%20%5B10.7103479062727%2C%20106.701938320728%5D%2C%20%5B10.7101252826539%2C%20106.702019467373%5D%2C%20%5B10.7086529919817%2C%20106.705278530755%5D%2C%20%5B10.717441817517%2C%20106.705292712041%5D%2C%20%5B10.710366043068%2C%20106.701989905188%5D%2C%20%5B10.7042181095183%2C%20106.705286216115%5D%2C%20%5B10.710344376647%2C%20106.701934010037%5D%2C%20%5B10.7103380998558%2C%20106.701930498342%5D%2C%20%5B10.7103428060878%2C%20106.701951782406%5D%2C%20%5B10.7103629483105%2C%20106.701943756928%5D%2C%20%5B10.7103472046814%2C%20106.701969020759%5D%2C%20%5B10.710360479006%2C%20106.701952950812%5D%2C%20%5B10.7104040408933%2C%20106.701938421302%5D%2C%20%5B10.7104736797649%2C%20106.701907459096%5D%2C%20%5B10.7103442767601%2C%20106.701964175641%5D%2C%20%5B10.7103551803032%2C%20106.701978604293%5D%2C%20%5B10.6981988785485%2C%20106.704489190916%5D%2C%20%5B10.7103228046774%2C%20106.701919317505%5D%2C%20%5B10.7115119894055%2C%20106.701315557464%5D%2C%20%5B10.7103522138637%2C%20106.701942681655%5D%2C%20%5B10.7103423968625%2C%20106.701963892254%5D%2C%20%5B10.7107526733386%2C%20106.701554155379%5D%2C%20%5B10.7060833080562%2C%20106.708823792004%5D%2C%20%5B10.7103432000558%2C%20106.701978194651%5D%2C%20%5B10.7103512065617%2C%20106.701956839847%5D%2C%20%5B10.7103890799647%2C%20106.702008987654%5D%2C%20%5B10.7108298272792%2C%20106.701368035022%5D%2C%20%5B10.7103675160907%2C%20106.701992602784%5D%2C%20%5B10.7103375115966%2C%20106.701953803037%5D%2C%20%5B10.7103463517642%2C%20106.701948463458%5D%2C%20%5B10.8614243236469%2C%20106.689509153366%5D%2C%20%5B10.8646432490753%2C%20106.695291996002%5D%2C%20%5B10.8607408357765%2C%20106.690275077155%5D%2C%20%5B10.8630952195607%2C%20106.689089575819%5D%2C%20%5B10.8631563430124%2C%20106.689132214556%5D%2C%20%5B10.8635549669224%2C%20106.687732065656%5D%2C%20%5B10.8631469122836%2C%20106.688710788033%5D%2C%20%5B10.8644701701423%2C%20106.6880651601%5D%2C%20%5B10.8641305773867%2C%20106.6895866996%5D%2C%20%5B10.8664273551619%2C%20106.686671129263%5D%2C%20%5B10.8633582985336%2C%20106.68777776498%5D%2C%20%5B10.8627453440991%2C%20106.689221026168%5D%2C%20%5B10.865892045056%2C%20106.691011898335%5D%2C%20%5B10.8657033992505%2C%20106.687697488837%5D%2C%20%5B10.8663923448804%2C%20106.686843235559%5D%2C%20%5B10.8646221760266%2C%20106.693682670593%5D%2C%20%5B10.8619284750526%2C%20106.68545926677%5D%2C%20%5B10.8613657039403%2C%20106.684280192677%5D%2C%20%5B10.8634182350317%2C%20106.687714055135%5D%2C%20%5B10.8630028948047%2C%20106.688622043368%5D%2C%20%5B10.8630058964873%2C%20106.688620005786%5D%2C%20%5B10.8629415218241%2C%20106.688635651782%5D%2C%20%5B10.8635876650644%2C%20106.686012980501%5D%2C%20%5B10.8641642099188%2C%20106.683807738115%5D%2C%20%5B10.8649394221629%2C%20106.689826985285%5D%2C%20%5B10.8620640896302%2C%20106.688872604411%5D%2C%20%5B10.8639325808892%2C%20106.684088861719%5D%2C%20%5B10.8634608425813%2C%20106.685944741432%5D%2C%20%5B10.8593169886965%2C%20106.686918139458%5D%2C%20%5B10.8631468545756%2C%20106.688711215712%5D%2C%20%5B10.8636522264024%2C%20106.68778429452%5D%2C%20%5B10.8616483971771%2C%20106.683946895532%5D%2C%20%5B10.8630929745579%2C%20106.689103194569%5D%2C%20%5B10.8630016884439%2C%20106.688617129998%5D%2C%20%5B10.8629796791401%2C%20106.688646565634%5D%2C%20%5B10.8654229508315%2C%20106.684515991892%5D%2C%20%5B10.8634224678111%2C%20106.687705435292%5D%2C%20%5B10.8654760089709%2C%20106.687892755166%5D%2C%20%5B10.8655641000604%2C%20106.697784387332%5D%2C%20%5B10.8627764820871%2C%20106.688396229857%5D%2C%20%5B10.8615912713099%2C%20106.686976971085%5D%2C%20%5B10.8630814375081%2C%20106.689101604555%5D%2C%20%5B10.8668349400661%2C%20106.685996588249%5D%2C%20%5B10.8651598231932%2C%20106.686634292384%5D%2C%20%5B10.864776212841%2C%20106.688161093736%5D%2C%20%5B10.8631469128221%2C%20106.688711237356%5D%2C%20%5B10.8611872492074%2C%20106.692341566086%5D%2C%20%5B10.864527347289%2C%20106.693661212921%5D%2C%20%5B10.8630841286409%2C%20106.68909628918%5D%2C%20%5B10.8643798358596%2C%20106.693548560143%5D%2C%20%5B10.8631473527771%2C%20106.688711237408%5D%2C%20%5B10.8628019348577%2C%20106.688207403419%5D%2C%20%5B10.863168244846%2C%20106.688844800885%5D%2C%20%5B10.86678215578%2C%20106.697223186493%5D%2C%20%5B10.8676897129181%2C%20106.691396896186%5D%2C%20%5B10.8641717838521%2C%20106.685949003769%5D%2C%20%5B10.8655296328391%2C%20106.684596461305%5D%2C%20%5B10.8635730962766%2C%20106.687714104369%5D%2C%20%5B10.8637144138661%2C%20106.687798880646%5D%2C%20%5B10.862386150646%2C%20106.689037639657%5D%2C%20%5B10.8638561010084%2C%20106.689002944852%5D%2C%20%5B10.8634224677679%2C%20106.687718364992%5D%2C%20%5B10.8633575934192%2C%20106.68670576296%5D%2C%20%5B10.8654716821237%2C%20106.684514662571%5D%2C%20%5B10.861329703755%2C%20106.684314167405%5D%2C%20%5B10.8631504592432%2C%20106.688712592123%5D%2C%20%5B10.8590127409847%2C%20106.686262339354%5D%2C%20%5B10.8626331097981%2C%20106.688930995552%5D%2C%20%5B10.8629787398642%2C%20106.688647522071%5D%2C%20%5B10.8622794820277%2C%20106.685360522982%5D%2C%20%5B10.8646620688577%2C%20106.687181632012%5D%2C%20%5B10.8628019349063%2C%20106.688207403409%5D%2C%20%5B10.8609182750708%2C%20106.684289388065%5D%2C%20%5B10.8636517873942%2C%20106.687785635646%5D%2C%20%5B10.8632063081617%2C%20106.684248095846%5D%2C%20%5B10.8651584561767%2C%20106.686639780297%5D%2C%20%5B10.8588783977406%2C%20106.686169803143%5D%2C%20%5B10.8659337913431%2C%20106.688679678575%5D%2C%20%5B10.8660709138797%2C%20106.690697816866%5D%2C%20%5B10.8639109597606%2C%20106.692408621311%5D%2C%20%5B10.8637149021944%2C%20106.687797886118%5D%2C%20%5B10.860836851968%2C%20106.684344490264%5D%2C%20%5B10.8613354110936%2C%20106.684316402571%5D%2C%20%5B10.8614825852299%2C%20106.684734139122%5D%2C%20%5B10.8624973786671%2C%20106.688017750302%5D%2C%20%5B10.8645268709171%2C%20106.686081600243%5D%2C%20%5B10.8629856879848%2C%20106.688633104977%5D%2C%20%5B10.8617404226069%2C%20106.69301211834%5D%2C%20%5B10.8653254401698%2C%20106.687320453376%5D%2C%20%5B10.8630602968367%2C%20106.689107022527%5D%2C%20%5B10.8639589775857%2C%20106.688230576226%5D%2C%20%5B10.8630967524657%2C%20106.689106079693%5D%2C%20%5B10.860761005114%2C%20106.686764584507%5D%2C%20%5B10.8660340670005%2C%20106.694337129593%5D%2C%20%5B10.8640040334824%2C%20106.689015264614%5D%2C%20%5B10.8655229497829%2C%20106.688310852167%5D%2C%20%5B10.8634228491823%2C%20106.686710981462%5D%2C%20%5B10.8630859202511%2C%20106.689094031834%5D%2C%20%5B10.8637072218343%2C%20106.687738223166%5D%2C%20%5B10.8624729544082%2C%20106.68926292333%5D%2C%20%5B10.8634430717851%2C%20106.686063189565%5D%2C%20%5B10.8625814361023%2C%20106.685563423766%5D%2C%20%5B10.8653541725968%2C%20106.687357498504%5D%2C%20%5B10.8668445853539%2C%20106.687031285213%5D%2C%20%5B10.8632299602309%2C%20106.687854985281%5D%2C%20%5B10.8654914380506%2C%20106.684553561672%5D%2C%20%5B10.8645517260743%2C%20106.691879219532%5D%2C%20%5B10.8628131412452%2C%20106.688051743951%5D%2C%20%5B10.8630808686802%2C%20106.689102261843%5D%2C%20%5B10.8624772841477%2C%20106.689212259552%5D%2C%20%5B10.8649977252796%2C%20106.608633595996%5D%2C%20%5B10.865009028296%2C%20106.608585319145%5D%2C%20%5B10.852590847649%2C%20106.598819920329%5D%2C%20%5B10.8610394378752%2C%20106.610408162555%5D%2C%20%5B10.8620498827175%2C%20106.610424479925%5D%2C%20%5B10.8613809193589%2C%20106.610733882847%5D%2C%20%5B10.8613078559081%2C%20106.610775430476%5D%2C%20%5B10.8608597669618%2C%20106.610205211246%5D%2C%20%5B10.8626755467376%2C%20106.611416637898%5D%2C%20%5B10.8621171067639%2C%20106.610011160374%5D%2C%20%5B10.8551655417009%2C%20106.602346353219%5D%2C%20%5B10.8693870521439%2C%20106.611321889412%5D%2C%20%5B10.8613432467415%2C%20106.610844499385%5D%2C%20%5B10.8645916519856%2C%20106.60844502105%5D%2C%20%5B10.8613877437711%2C%20106.610745513283%5D%2C%20%5B10.852590847649%2C%20106.598819920329%5D%2C%20%5B10.8645697541495%2C%20106.608494674373%5D%2C%20%5B10.8622194429375%2C%20106.610873465971%5D%2C%20%5B10.8573367854365%2C%20106.601650570731%5D%2C%20%5B10.8593574043124%2C%20106.607267890038%5D%2C%20%5B10.8623025907394%2C%20106.61109979986%5D%2C%20%5B10.8612909384631%2C%20106.610928573957%5D%2C%20%5B10.8668937916151%2C%20106.611931915335%5D%2C%20%5B10.8654978825819%2C%20106.609164299537%5D%2C%20%5B10.8650024355367%2C%20106.608604359334%5D%2C%20%5B10.8623812074557%2C%20106.610887611686%5D%2C%20%5B10.8695884825503%2C%20106.611027882021%5D%2C%20%5B10.8613264159485%2C%20106.610883797401%5D%2C%20%5B10.8628795752141%2C%20106.603799962791%5D%2C%20%5B10.8628008491653%2C%20106.60388945555%5D%2C%20%5B10.8551246650204%2C%20106.602344065905%5D%2C%20%5B10.8614062505055%2C%20106.610777614616%5D%2C%20%5B10.865578753961%2C%20106.607457093228%5D%2C%20%5B10.861266896281%2C%20106.610950266455%5D%2C%20%5B10.8593670827484%2C%20106.607265588378%5D%2C%20%5B10.8613490082928%2C%20106.610868466599%5D%2C%20%5B10.8613970422145%2C%20106.61062765271%5D%2C%20%5B10.8650177474467%2C%20106.60844638319%5D%2C%20%5B10.8574282771124%2C%20106.600840687752%5D%2C%20%5B10.8619557877128%2C%20106.611361487361%5D%2C%20%5B10.8645182480622%2C%20106.60832838591%5D%2C%20%5B10.8670913400279%2C%20106.611527470792%5D%2C%20%5B10.8527601925619%2C%20106.605404751869%5D%2C%20%5B10.8623377290739%2C%20106.611037866858%5D%2C%20%5B10.8613574213268%2C%20106.610854622097%5D%2C%20%5B10.8572697761003%2C%20106.601175591611%5D%2C%20%5B10.8612713469808%2C%20106.61089387791%5D%2C%20%5B10.8525672017445%2C%20106.598839380823%5D%2C%20%5B10.8612137891944%2C%20106.610987497687%5D%2C%20%5B10.861405798196%2C%20106.61078281941%5D%2C%20%5B10.8644741787407%2C%20106.608134571075%5D%2C%20%5B10.8551049084077%2C%20106.60236954689%5D%2C%20%5B10.852590847649%2C%20106.598819920329%5D%2C%20%5B10.8612908170309%2C%20106.610827201638%5D%2C%20%5B10.8614274260284%2C%20106.610727575231%5D%2C%20%5B10.864971905098%2C%20106.608614140291%5D%2C%20%5B10.8660297304891%2C%20106.611135275378%5D%2C%20%5B10.8614135910072%2C%20106.610780361812%5D%2C%20%5B10.8649870741726%2C%20106.608084444491%5D%2C%20%5B10.8608700166921%2C%20106.610317155766%5D%2C%20%5B10.8628045346377%2C%20106.603883577113%5D%2C%20%5B10.869754733863%2C%20106.610884731429%5D%2C%20%5B10.8627510988991%2C%20106.603991463158%5D%2C%20%5B10.8613505922218%2C%20106.61084766852%5D%2C%20%5B10.8650262544441%2C%20106.608040954108%5D%2C%20%5B10.8614054907842%2C%20106.610730406812%5D%2C%20%5B10.8612565021%2C%20106.611044689595%5D%2C%20%5B10.8550996399774%2C%20106.602377593517%5D%2C%20%5B10.8630301747015%2C%20106.603541372257%5D%2C%20%5B10.8613323812605%2C%20106.610825262107%5D%2C%20%5B10.8613437630422%2C%20106.610854622164%5D%2C%20%5B10.8611302994009%2C%20106.610340822686%5D%2C%20%5B10.8616676050884%2C%20106.610766796858%5D%2C%20%5B10.8628039093599%2C%20106.603825661847%5D%2C%20%5B10.8615867712587%2C%20106.609397833974%5D%2C%20%5B10.8609966883564%2C%20106.610627936926%5D%2C%20%5B10.8612049533171%2C%20106.610906190226%5D%2C%20%5B10.8619008354108%2C%20106.610401071967%5D%2C%20%5B10.8613930119367%2C%20106.610748866012%5D%2C%20%5B10.8636782561409%2C%20106.610886082679%5D%2C%20%5B10.8612843666228%2C%20106.610929713418%5D%2C%20%5B10.8647173215277%2C%20106.608234269813%5D%2C%20%5B10.852590847649%2C%20106.598819920329%5D%2C%20%5B10.8613956644645%2C%20106.610728944953%5D%2C%20%5B10.8614873656346%2C%20106.610716749068%5D%2C%20%5B10.8612996739998%2C%20106.610514178744%5D%2C%20%5B10.8619128151132%2C%20106.610629759686%5D%2C%20%5B10.8626832540325%2C%20106.603817450646%5D%2C%20%5B10.85739930097%2C%20106.601135730743%5D%2C%20%5B10.8612897860986%2C%20106.610928746565%5D%2C%20%5B10.8612848112468%2C%20106.610935075282%5D%2C%20%5B10.8572023482472%2C%20106.601176281753%5D%2C%20%5B10.8628240063023%2C%20106.603919135464%5D%2C%20%5B10.8613505921795%2C%20106.610850758995%5D%2C%20%5B10.8623958253554%2C%20106.611063968161%5D%2C%20%5B10.8614229542262%2C%20106.610732873038%5D%2C%20%5B10.8586969310319%2C%20106.608766421533%5D%2C%20%5B10.8645804741691%2C%20106.608479756513%5D%2C%20%5B10.9485963507535%2C%20106.510241031647%5D%2C%20%5B10.9527764567471%2C%20106.505658477545%5D%2C%20%5B10.9470360619467%2C%20106.50829911232%5D%2C%20%5B10.9546056419833%2C%20106.504380069673%5D%2C%20%5B10.9511529918938%2C%20106.496568806469%5D%2C%20%5B10.9570819530242%2C%20106.504787094891%5D%2C%20%5B10.9608917480261%2C%20106.513483681933%5D%2C%20%5B10.9544137377106%2C%20106.50515858084%5D%2C%20%5B10.9505522549747%2C%20106.493134573102%5D%2C%20%5B10.9600196049623%2C%20106.514024607168%5D%2C%20%5B10.9556079530155%2C%20106.500315517187%5D%2C%20%5B10.9512333095046%2C%20106.496339142323%5D%2C%20%5B10.9401333689683%2C%20106.511548477504%5D%2C%20%5B10.9551095958362%2C%20106.506666317582%5D%2C%20%5B10.9546197961529%2C%20106.504737474024%5D%2C%20%5B10.9544068471962%2C%20106.493381706123%5D%2C%20%5B10.9570898529598%2C%20106.503712870181%5D%2C%20%5B10.9425578390324%2C%20106.502093020546%5D%2C%20%5B10.9512329803341%2C%20106.496556401253%5D%2C%20%5B10.9537580364093%2C%20106.505324877799%5D%2C%20%5B10.9545108419464%2C%20106.504242271185%5D%2C%20%5B10.9512487805173%2C%20106.49679645896%5D%2C%20%5B10.9657134927065%2C%20106.490749603078%5D%2C%20%5B10.9463140564483%2C%20106.509112357962%5D%2C%20%5B10.9549255514529%2C%20106.493168403761%5D%2C%20%5B10.9401609156796%2C%20106.511582128168%5D%2C%20%5B10.9666026178664%2C%20106.509734943621%5D%2C%20%5B10.954102345607%2C%20106.505189426243%5D%2C%20%5B10.9510196777786%2C%20106.496640220284%5D%2C%20%5B10.9612395941476%2C%20106.504871249199%5D%2C%20%5B10.9612402955174%2C%20106.513284509129%5D%2C%20%5B10.9515061917162%2C%20106.496037058532%5D%2C%20%5B10.9511668170579%2C%20106.495836563408%5D%2C%20%5B10.9592059423576%2C%20106.507823134707%5D%2C%20%5B10.9509633895786%2C%20106.496070586145%5D%2C%20%5B10.9517310148693%2C%20106.48907404393%5D%2C%20%5B10.9548574544338%2C%20106.506913751364%5D%2C%20%5B10.9541122206259%2C%20106.50720410049%5D%2C%20%5B10.9524254521546%2C%20106.521070844247%5D%2C%20%5B10.9473801355897%2C%20106.508771181107%5D%2C%20%5B10.9571803730403%2C%20106.505153551698%5D%2C%20%5B10.9512711641087%2C%20106.495871767402%5D%2C%20%5B10.9611474295117%2C%20106.5067756176%5D%2C%20%5B10.9596632869048%2C%20106.500503523275%5D%2C%20%5B10.9562383045206%2C%20106.503444649279%5D%2C%20%5B10.9544976752722%2C%20106.505140811205%5D%2C%20%5B10.951378802826%2C%20106.496166139841%5D%2C%20%5B10.9537145862718%2C%20106.503832563758%5D%2C%20%5B10.9384253379674%2C%20106.513916328549%5D%2C%20%5B10.9557626608199%2C%20106.505093537271%5D%2C%20%5B10.951167475399%2C%20106.496646925807%5D%2C%20%5B10.9651937108114%2C%20106.509212961847%5D%2C%20%5B10.9581971585142%2C%20106.502212174237%5D%2C%20%5B10.9480321091734%2C%20106.499099470675%5D%2C%20%5B10.9522530779309%2C%20106.497587710619%5D%2C%20%5B10.9539293851928%2C%20106.503022375053%5D%2C%20%5B10.954156987374%2C%20106.505338959396%5D%2C%20%5B10.9474588075142%2C%20106.509660244274%5D%2C%20%5B10.9502135375663%2C%20106.495689041913%5D%2C%20%5B10.9611698123545%2C%20106.50522261858%5D%2C%20%5B10.9543155329564%2C%20106.500575369343%5D%2C%20%5B10.951215205127%2C%20106.498055756092%5D%2C%20%5B10.9514229116469%2C%20106.496025323868%5D%2C%20%5B10.9544163710462%2C%20106.505237035453%5D%2C%20%5B10.9446261730061%2C%20106.496553333684%5D%2C%20%5B10.9511006537668%2C%20106.49609003216%5D%2C%20%5B10.9548673294275%2C%20106.504834033549%5D%2C%20%5B10.9587843842731%2C%20106.503024883568%5D%2C%20%5B10.9619587011904%2C%20106.512141837162%5D%2C%20%5B10.955222828981%2C%20106.50510225445%5D%2C%20%5B10.9621977074934%2C%20106.512719646037%5D%2C%20%5B10.957601044178%2C%20106.502048894763%5D%2C%20%5B10.9546250181991%2C%20106.502743740781%5D%2C%20%5B10.9612606603461%2C%20106.504474282265%5D%2C%20%5B10.9392074798335%2C%20106.514168456197%5D%2C%20%5B10.951337656532%2C%20106.496139317751%5D%2C%20%5B10.9538136657428%2C%20106.505220606923%5D%2C%20%5B10.9666116585578%2C%20106.509682356495%5D%2C%20%5B10.9594384286316%2C%20106.508878469467%5D%2C%20%5B10.9486332433319%2C%20106.510348320007%5D%2C%20%5B10.9527929151854%2C%20106.498513408005%5D%2C%20%5B10.9511862381206%2C%20106.496066227555%5D%2C%20%5B10.961256710434%2C%20106.505095213652%5D%2C%20%5B10.9578811621078%2C%20106.502441503108%5D%2C%20%5B10.955945018426%2C%20106.501552350819%5D%2C%20%5B10.9512668848928%2C%20106.496345177293%5D%2C%20%5B10.9609907495647%2C%20106.505721509457%5D%2C%20%5B10.9541556707051%2C%20106.5049386397%5D%2C%20%5B10.9587227967589%2C%20106.500576253993%5D%2C%20%5B10.9537791031404%2C%20106.504586264491%5D%2C%20%5B10.9522310235831%2C%20106.497987024486%5D%2C%20%5B10.9487520119449%2C%20106.494924947619%5D%2C%20%5B10.9511678045696%2C%20106.496474929154%5D%2C%20%5B10.9523896831828%2C%20106.495128124952%5D%2C%20%5B10.9486835802698%2C%20106.511268317699%5D%2C%20%5B10.9618260175076%2C%20106.512033771154%5D%2C%20%5B10.9387127160899%2C%20106.513799317181%5D%2C%20%5B10.9511707671046%2C%20106.496455818415%5D%2C%20%5B10.9571023611908%2C%20106.505038887262%5D%2C%20%5B10.9595832595975%2C%20106.52161359787%5D%2C%20%5B10.9544213085504%2C%20106.505186408758%5D%2C%20%5B10.9575131575343%2C%20106.502307392657%5D%2C%20%5B10.9475136595917%2C%20106.499194689095%5D%2C%20%5B10.9586593026508%2C%20106.503333002329%5D%2C%20%5B10.9524650629214%2C%20106.497387886047%5D%2C%20%5B10.9540955025892%2C%20106.493078490181%5D%2C%20%5B10.9473579599528%2C%20106.49893283844%5D%2C%20%5B10.9558676645815%2C%20106.505787223577%5D%2C%20%5B10.9665747069698%2C%20106.516509481796%5D%2C%20%5B10.9602376313506%2C%20106.506300866604%5D%2C%20%5B10.958880499589%2C%20106.503474488854%5D%2C%20%5B10.9522678905516%2C%20106.49642329663%5D%2C%20%5B10.9536412788687%2C%20106.501275315671%5D%2C%20%5B10.9564618074211%2C%20106.505004689097%5D%2C%20%5B10.9512965102322%2C%20106.496889330447%5D%2C%20%5B10.9615799031371%2C%20106.513204500372%5D%2C%20%5B10.9474218198569%2C%20106.499191001058%5D%2C%20%5B10.9556642403324%2C%20106.506843008101%5D%2C%20%5B10.9621778356128%2C%20106.512689104781%5D%2C%20%5B10.9512728099609%2C%20106.49621643126%5D%2C%20%5B10.9607274217358%2C%20106.50654360652%5D%2C%20%5B10.9551582029601%2C%20106.5041404261%5D%2C%20%5B10.951215205127%2C%20106.496808193624%5D%2C%20%5B10.9619453574591%2C%20106.512920517492%5D%2C%20%5B10.9546105794844%2C%20106.503827869892%5D%2C%20%5B10.9510529240203%2C%20106.496747843921%5D%2C%20%5B10.9552001165223%2C%20106.505078785121%5D%2C%20%5B10.9592927434323%2C%20106.498581441247%5D%2C%20%5B10.9620233153946%2C%20106.512045751625%5D%2C%20%5B10.9573591089723%2C%20106.504628174007%5D%2C%20%5B10.9513353523393%2C%20106.496362946928%5D%2C%20%5B10.9552770225634%2C%20106.503981618783%5D%2C%20%5B10.9504047862186%2C%20106.496154405177%5D%2C%20%5B10.9602152484372%2C%20106.506264656782%5D%2C%20%5B10.9652260917387%2C%20106.51785877879%5D%2C%20%5B10.9658899210687%2C%20106.489062309265%5D%2C%20%5B10.9543982668632%2C%20106.505116336048%5D%2C%20%5B10.9570766864004%2C%20106.505592092872%5D%2C%20%5B10.9401156564041%2C%20106.511506152051%5D%2C%20%5B10.9548383627784%2C%20106.507267132401%5D%2C%20%5B10.9456235328608%2C%20106.494651027024%5D%2C%20%5B10.9677621441595%2C%20106.504318714142%5D%2C%20%5B10.95021024585%2C%20106.495667919517%5D%2C%20%5B10.9608500881325%2C%20106.5217366269%5D%2C%20%5B10.9532800211887%2C%20106.498770747645%5D%2C%20%5B10.9545631794705%2C%20106.505179367959%5D%2C%20%5B10.9651937108114%2C%20106.509212961847%5D%2C%20%5B10.9551764165635%2C%20106.505539119244%5D%2C%20%5B10.9613238589325%2C%20106.504947692156%5D%2C%20%5B10.9574973576855%2C%20106.505353040993%5D%2C%20%5B10.9593897127453%2C%20106.509259343147%5D%2C%20%5B10.9611368964086%2C%20106.504816263914%5D%2C%20%5B10.9554466618142%2C%20106.505156233907%5D%2C%20%5B10.9601653801871%2C%20106.511961819966%5D%2C%20%5B10.9507869539818%2C%20106.496925540268%5D%2C%20%5B10.9401333689683%2C%20106.511548477504%5D%2C%20%5B10.9379618455175%2C%20106.512836404145%5D%2C%20%5B10.9542797667294%2C%20106.503694094718%5D%2C%20%5B10.9512757724949%2C%20106.496349200606%5D%2C%20%5B10.9538502033466%2C%20106.507097147405%5D%2C%20%5B10.9547708836416%2C%20106.505087167025%5D%2C%20%5B10.9663749857153%2C%20106.516433087159%5D%2C%20%5B10.9543719335043%2C%20106.505488157272%5D%2C%20%5B10.9642889107671%2C%20106.509122550488%5D%2C%20%5B10.9522290485668%2C%20106.497830785811%5D%2C%20%5B10.9663092756611%2C%20106.516343689792%5D%2C%20%5B10.9512487805173%2C%20106.495895907283%5D%2C%20%5B10.9541691665617%2C%20106.50652885437%5D%2C%20%5B10.9541517206981%2C%20106.507183648646%5D%2C%20%5B10.9611395296844%2C%20106.506493985653%5D%2C%20%5B10.9651433984293%2C%20106.509276777506%5D%2C%20%5B10.9525615094584%2C%20106.49715654552%5D%2C%20%5B10.9542326958298%2C%20106.506883911788%5D%2C%20%5B10.9513695860567%2C%20106.496513821185%5D%2C%20%5B10.9592113489322%2C%20106.507769772884%5D%2C%20%5B10.9541273623209%2C%20106.505236029625%5D%2C%20%5B10.9512142176155%2C%20106.496495380998%5D%2C%20%5B10.953235317665%2C%20106.503777243197%5D%2C%20%5B10.9604486231415%2C%20106.508002728224%5D%2C%20%5B10.95698550796%2C%20106.506664305925%5D%2C%20%5B10.9552043956813%2C%20106.506987847388%5D%2C%20%5B10.951396248853%2C%20106.496201343834%5D%2C%20%5B10.9663811298166%2C%20106.515699335806%5D%2C%20%5B10.9594041958475%2C%20106.506000459194%5D%2C%20%5B10.9667983852304%2C%20106.509184241295%5D%2C%20%5B10.9520898098844%2C%20106.498054750264%5D%2C%20%5B10.9543758835083%2C%20106.505066715181%5D%2C%20%5B10.958833100259%2C%20106.503185480833%5D%2C%20%5B10.9512142176155%2C%20106.496338807046%5D%2C%20%5B10.9527744817344%2C%20106.498640142381%5D%2C%20%5B10.9612053615719%2C%20106.505230665207%5D%2C%20%5B10.9572047311663%2C%20106.502506546676%5D%2C%20%5B10.9513485191542%2C%20106.496319361031%5D%2C%20%5B10.9593412495837%2C%20106.497840334383%5D%2C%20%5B10.956470036538%2C%20106.505171991885%5D%2C%20%5B10.954859758599%2C%20106.506927832961%5D%2C%20%5B10.9588079202914%2C%20106.519518501283%5D%2C%20%5B10.9603021467971%2C%20106.506357192993%5D%2C%20%5B10.9543219001158%2C%20106.506526507437%5D%2C%20%5B10.9618571689413%2C%20106.512611670007%5D%2C%20%5B10.9537014195622%2C%20106.504814252257%5D%2C%20%5B10.9506352061177%2C%20106.495794989169%5D%2C%20%5B10.9477725353802%2C%20106.509157687524%5D%2C%20%5B10.9534900142192%2C%20106.501112684485%5D%2C%20%5B10.9505321755278%2C%20106.496158763766%5D%2C%20%5B10.9564203326688%2C%20106.508581079543%5D%2C%20%5B10.9574575288962%2C%20106.504310332239%5D%2C%20%5B10.9401333689683%2C%20106.511548477504%5D%2C%20%5B10.9578146711544%2C%20106.503641791642%5D%2C%20%5B10.9587159185495%2C%20106.503217332065%5D%2C%20%5B10.9480567972261%2C%20106.497352346778%5D%2C%20%5B10.9510581907514%2C%20106.495817787945%5D%2C%20%5B10.9516500390534%2C%20106.489049904048%5D%2C%20%5B10.9596148590715%2C%20106.508988440037%5D%2C%20%5B10.9556313237741%2C%20106.503977738321%5D%2C%20%5B10.9589015659554%2C%20106.502495482564%5D%2C%20%5B10.9630960471283%2C%20106.511335372925%5D%2C%20%5B10.9622558815311%2C%20106.512751383992%5D%2C%20%5B10.9543930001916%2C%20106.505167298019%5D%2C%20%5B10.9509772147515%2C%20106.496039740741%5D%2C%20%5B10.9527386023354%2C%20106.49864885956%5D%2C%20%5B10.9509930149484%2C%20106.496815234423%5D%2C%20%5B10.9613731451748%2C%20106.51329460305%5D%2C%20%5B10.9502095875067%2C%20106.495860032737%5D%2C%20%5B10.9484784688483%2C%20106.495232395828%5D%2C%20%5B10.958295907322%2C%20106.497924663126%5D%2C%20%5B10.9517190275798%2C%20106.497395039478%5D%2C%20%5B10.9641169479715%2C%20106.501500292541%5D%2C%20%5B10.9512310053111%2C%20106.495852656662%5D%2C%20%5B10.951165171205%2C%20106.495846286416%5D%2C%20%5B10.9531192862626%2C%20106.520077411104%5D%2C%20%5B10.9549176918902%2C%20106.507213823497%5D%2C%20%5B10.9611751043527%2C%20106.513427271689%5D%2C%20%5B10.9612580270713%2C%20106.505113989115%5D%2C%20%5B10.9602468478438%2C%20106.506308913231%5D%2C%20%5B10.951520346034%2C%20106.496585570276%5D%2C%20%5B10.9612480809068%2C%20106.513166578658%5D%2C%20%5B10.9512412095963%2C%20106.496285498142%5D%2C%20%5B10.9489590618464%2C%20106.495149917901%5D%2C%20%5B10.966831321507%2C%20106.515973498555%5D%2C%20%5B10.9504113696468%2C%20106.495946533978%5D%2C%20%5B10.9561652298979%2C%20106.517997980118%5D%2C%20%5B10.9510493031427%2C%20106.496156416833%5D%2C%20%5B10.9513152729456%2C%20106.496131941676%5D%2C%20%5B10.957087219648%2C%20106.504179909825%5D%2C%20%5B10.9619432303497%2C%20106.511933712928%5D%2C%20%5B10.9511457501409%2C%20106.49654801935%5D%2C%20%5B10.9605338756321%2C%20106.506567746401%5D%2C%20%5B10.9556958990473%2C%20106.498053417569%5D%2C%20%5B10.9523626913067%2C%20106.497443541884%5D%2C%20%5B10.9569743163806%2C%20106.502648368478%5D%2C%20%5B10.964472551945%2C%20106.50882567884%5D%2C%20%5B10.9542297333253%2C%20106.506938226521%5D%2C%20%5B10.9505236170747%2C%20106.495920047164%5D%2C%20%5B10.9610621991723%2C%20106.513444423407%5D%2C%20%5B10.9577238221047%2C%20106.501820906997%5D%2C%20%5B10.9523939623825%2C%20106.497282609344%5D%2C%20%5B10.953707108237%2C%20106.503902376716%5D%2C%20%5B10.9578617414843%2C%20106.502237319946%5D%2C%20%5B10.9594041958475%2C%20106.506000459194%5D%2C%20%5B10.9549352184988%2C%20106.496064802693%5D%2C%20%5B10.9625641284581%2C%20106.515069007874%5D%2C%20%5B10.9397712590695%2C%20106.510017069658%5D%2C%20%5B10.9593357302674%2C%20106.511490941048%5D%2C%20%5B10.9568390299014%2C%20106.505006365478%5D%2C%20%5B10.9544696960877%2C%20106.50483738631%5D%2C%20%5B10.9337966354721%2C%20106.516925431788%5D%2C%20%5B10.9534466436161%2C%20106.504776366055%5D%2C%20%5B10.9547135637154%2C%20106.5189466689%5D%2C%20%5B10.9508896553121%2C%20106.496643908322%5D%2C%20%5B10.9401333689683%2C%20106.511548477504%5D%2C%20%5B10.9563752370982%2C%20106.505640372634%5D%2C%20%5B10.9586227656406%2C%20106.501893997192%5D%2C%20%5B10.952191852424%2C%20106.498122140765%5D%2C%20%5B10.9486855189411%2C%20106.494946740568%5D%2C%20%5B10.953891020124%2C%20106.504543349147%5D%2C%20%5B10.96114471368%2C%20106.51324092741%5D%2C%20%5B10.9613659913159%2C%20106.506782323122%5D%2C%20%5B10.9522086400643%2C%20106.496482640505%5D%2C%20%5B10.9521444520229%2C%20106.498053073883%5D%2C%20%5B10.9478331062876%2C%20106.509691178799%5D%2C%20%5B10.9512869642898%2C%20106.495303139091%5D%2C%20%5B10.9512767600063%2C%20106.49592641741%5D%2C%20%5B10.9612106281223%2C%20106.505198478699%5D%2C%20%5B10.9520957349361%2C%20106.498153991997%5D%2C%20%5B10.952022137469%2C%20106.496683616299%5D%2C%20%5B10.9542005122058%2C%20106.49318521023%5D%2C%20%5B10.9512553639267%2C%20106.495939493179%5D%2C%20%5B10.9618780928775%2C%20106.512077653232%5D%2C%20%5B10.9486348262449%2C%20106.503431908786%5D%2C%20%5B10.9512688599155%2C%20106.496549360454%5D%2C%20%5B10.9610052325885%2C%20106.512507498264%5D%2C%20%5B10.9510025609002%2C%20106.496000178158%5D%2C%20%5B10.9511740588102%2C%20106.496465206146%5D%2C%20%5B10.9578778704768%2C%20106.503180786967%5D%2C%20%5B10.9574088126838%2C%20106.502471677959%5D%2C%20%5B10.9599795694236%2C%20106.506806463003%5D%2C%20%5B10.95920296085%2C%20106.5011333046%5D%2C%20%5B10.951340289895%2C%20106.495881825686%5D%2C%20%5B10.9546418503227%2C%20106.507046185434%5D%2C%20%5B10.9579683903162%2C%20106.50488499552%5D%2C%20%5B10.954227099988%2C%20106.504506133497%5D%2C%20%5B10.9592725312563%2C%20106.510643362999%5D%2C%20%5B10.9524742796566%2C%20106.49730540812%5D%2C%20%5B10.9651937108114%2C%20106.509212961847%5D%2C%20%5B10.9512869642898%2C%20106.496104113758%5D%2C%20%5B10.9509123681015%2C%20106.49689167738%5D%2C%20%5B10.9544598210807%2C%20106.505505256355%5D%2C%20%5B10.9511599044759%2C%20106.49709250778%5D%2C%20%5B10.9501131402036%2C%20106.495816111565%5D%2C%20%5B10.9508020958469%2C%20106.496072262526%5D%2C%20%5B10.95822678316%2C%20106.504649296403%5D%2C%20%5B10.9490536661396%2C%20106.493557691492%5D%2C%20%5B10.9553245412747%2C%20106.506155021489%5D%2C%20%5B10.9542692333819%2C%20106.505782529712%5D%2C%20%5B10.9608085999205%2C%20106.521415680816%5D%2C%20%5B10.9613147552612%2C%20106.504971825514%5D%2C%20%5B10.9665666613036%2C%20106.489791870117%5D%2C%20%5B10.9510789285039%2C%20106.495827510953%5D%2C%20%5B10.9609224149921%2C%20106.513170755955%5D%2C%20%5B10.9661558775325%2C%20106.489558517933%5D%2C%20%5B10.9600875341347%2C%20106.506809145212%5D%2C%20%5B10.9567471930591%2C%20106.522246599197%5D%2C%20%5B10.952759669139%2C%20106.498735025525%5D%2C%20%5B10.9401333689683%2C%20106.511548477504%5D%2C%20%5B10.9486763020879%2C%20106.495796665549%5D%2C%20%5B10.9513462149616%2C%20106.495628356934%5D%2C%20%5B10.9513656360126%2C%20106.496391110122%5D%2C%20%5B10.9483793875921%2C%20106.495663896203%5D%2C%20%5B10.9545317850118%2C%20106.504689208072%5D%2C%20%5B10.9544538960764%2C%20106.50718498975%5D%2C%20%5B10.9593831295168%2C%20106.509457826614%5D%2C%20%5B10.9509791897762%2C%20106.496117189527%5D%2C%20%5B10.9542958959171%2C%20106.506207659841%5D%2C%20%5B10.9547199742239%2C%20106.493297735381%5D%2C%20%5B10.9587136144143%2C%20106.503240466118%5D%2C%20%5B10.9527129271665%2C%20106.498480215669%5D%2C%20%5B10.950681290076%2C%20106.495457030833%5D%2C%20%5B10.9513274522502%2C%20106.496159099042%5D%2C%20%5B10.9504893832595%2C%20106.492889486253%5D%2C%20%5B10.9556556820276%2C%20106.506889611483%5D%2C%20%5B10.9583456108761%2C%20106.501978486776%5D%2C%20%5B10.9511625378405%2C%20106.495575718582%5D%2C%20%5B10.9265441616382%2C%20106.504725610563%5D%2C%20%5B10.9545740419744%2C%20106.505025140941%5D%2C%20%5B10.956018968012%2C%20106.495451073399%5D%2C%20%5B10.9511167831277%2C%20106.495993807912%5D%2C%20%5B10.9556454778946%2C%20106.505090519786%5D%2C%20%5B10.9510993370843%2C%20106.496634185314%5D%2C%20%5B10.9602205150052%2C%20106.506101042032%5D%2C%20%5B10.9617303098469%2C%20106.512096089875%5D%2C%20%5B10.9511312666347%2C%20106.496666707098%5D%2C%20%5B10.9510999954256%2C%20106.495981737971%5D%2C%20%5B10.9521520229208%2C%20106.518791913986%5D%2C%20%5B10.9585187503438%2C%20106.502143777907%5D%2C%20%5B10.9584456398803%2C%20106.495458207082%5D%2C%20%5B10.9542244666507%2C%20106.505204513669%5D%2C%20%5B10.9608827851832%2C%20106.506654918194%5D%2C%20%5B10.9506440937388%2C%20106.495260894299%5D%2C%20%5B10.830191859292%2C%20106.724880910742%5D%2C%20%5B10.8314934731761%2C%20106.721957107579%5D%2C%20%5B10.8283184041125%2C%20106.724542867025%5D%2C%20%5B10.8313718608908%2C%20106.722121749038%5D%2C%20%5B10.8284157466628%2C%20106.725443179947%5D%2C%20%5B10.8275872897934%2C%20106.732668578625%5D%2C%20%5B10.8311581212003%2C%20106.722131178716%5D%2C%20%5B10.8304331489019%2C%20106.725173145533%5D%2C%20%5B10.8249218656427%2C%20106.723136007786%5D%2C%20%5B10.8312448042407%2C%20106.719192130073%5D%2C%20%5B10.8293371188366%2C%20106.726114219785%5D%2C%20%5B10.8311263151708%2C%20106.721653025179%5D%2C%20%5B10.8311127163423%2C%20106.721564841665%5D%2C%20%5B10.8265601888026%2C%20106.726600348966%5D%2C%20%5B10.8283058371928%2C%20106.721261143684%5D%2C%20%5B10.8335010183869%2C%20106.726020136256%5D%2C%20%5B10.8278185712922%2C%20106.72371458024%5D%2C%20%5B10.8278430490493%2C%20106.721079605296%5D%2C%20%5B10.8310037093245%2C%20106.721516207486%5D%2C%20%5B10.8313706776714%2C%20106.720470939048%5D%2C%20%5B10.8307901142779%2C%20106.725541949272%5D%2C%20%5B10.8246473762257%2C%20106.726064417368%5D%2C%20%5B10.8304971242319%2C%20106.722296456787%5D%2C%20%5B10.8306639422018%2C%20106.721614006163%5D%2C%20%5B10.8270668230206%2C%20106.725731313327%5D%2C%20%5B10.8256625934639%2C%20106.726258992931%5D%2C%20%5B10.8231043809835%2C%20106.727768072056%5D%2C%20%5B10.8312656838503%2C%20106.72227947399%5D%2C%20%5B10.8311856764019%2C%20106.722021978439%5D%2C%20%5B10.8276917954655%2C%20106.72177755251%5D%2C%20%5B10.8330670754007%2C%20106.721005937492%5D%2C%20%5B10.8253868511531%2C%20106.728913486004%5D%2C%20%5B10.830616104334%2C%20106.721432341799%5D%2C%20%5B10.831488389841%2C%20106.72171991029%5D%2C%20%5B10.8273497709973%2C%20106.72046607009%5D%2C%20%5B10.8306321507626%2C%20106.722393195534%5D%2C%20%5B10.8310204895542%2C%20106.721656275415%5D%2C%20%5B10.8327349950894%2C%20106.72103582825%5D%2C%20%5B10.8280604016137%2C%20106.724140472314%5D%2C%20%5B10.831180676825%2C%20106.72184426791%5D%2C%20%5B10.830562553978%2C%20106.72213113149%5D%2C%20%5B10.8311411518714%2C%20106.722051170573%5D%2C%20%5B10.8280974519011%2C%20106.724554448173%5D%2C%20%5B10.8306735742966%2C%20106.721182168865%5D%2C%20%5B10.8311027042507%2C%20106.722059683399%5D%2C%20%5B10.8309261149827%2C%20106.72538991291%5D%2C%20%5B10.8288669747515%2C%20106.725246906281%5D%2C%20%5B10.8301466255757%2C%20106.722185151342%5D%2C%20%5B10.8285459146293%2C%20106.724431057278%5D%2C%20%5B10.831305178463%2C%20106.722182608102%5D%2C%20%5B10.8302729134471%2C%20106.722128912015%5D%2C%20%5B10.826280536139%2C%20106.727944866054%5D%2C%20%5B10.828465221442%2C%20106.724985390902%5D%2C%20%5B10.8312172886685%2C%20106.722117012242%5D%2C%20%5B10.8272281490865%2C%20106.729337720639%5D%2C%20%5B10.8308823192875%2C%20106.729066371918%5D%2C%20%5B10.8268615665532%2C%20106.731032230214%5D%2C%20%5B10.8312601241257%2C%20106.72213611343%5D%2C%20%5B10.8303141255591%2C%20106.722318828813%5D%2C%20%5B10.8268556527597%2C%20106.731043432843%5D%2C%20%5B10.8283735954701%2C%20106.725486095306%5D%2C%20%5B10.8305627247863%2C%20106.721546250681%5D%2C%20%5B10.8282794926806%2C%20106.725744456053%5D%2C%20%5B10.8326957654293%2C%20106.723194276293%5D%2C%20%5B10.8270381510453%2C%20106.725755989355%5D%2C%20%5B10.8307453289773%2C%20106.729098558426%5D%2C%20%5B10.8273229840292%2C%20106.723136985805%5D%2C%20%5B10.8309164197633%2C%20106.72202030688%5D%2C%20%5B10.8268823170643%2C%20106.73095180493%5D%2C%20%5B10.8311782002735%2C%20106.721640446054%5D%2C%20%5B10.8312900635246%2C%20106.722159589791%5D%2C%20%5B10.8301935871733%2C%20106.728292967728%5D%2C%20%5B10.8318497144475%2C%20106.729034586389%5D%2C%20%5B10.8315202901899%2C%20106.71925880492%5D%2C%20%5B10.8260278114208%2C%20106.726424419976%5D%2C%20%5B10.8306409940356%2C%20106.722197601543%5D%2C%20%5B10.8305183039134%2C%20106.728276459063%5D%2C%20%5B10.8315959161275%2C%20106.71937785213%5D%2C%20%5B10.8314466401066%2C%20106.723502086476%5D%2C%20%5B10.8279449731798%2C%20106.723927574042%5D%2C%20%5B10.8336300576162%2C%20106.726781179362%5D%2C%20%5B10.8250662862311%2C%20106.727343676983%5D%2C%20%5B10.8305452410316%2C%20106.722303492317%5D%2C%20%5B10.8314049980836%2C%20106.721374351905%5D%2C%20%5B10.83127921924%2C%20106.722000619973%5D%2C%20%5B10.8310101642723%2C%20106.721547689342%5D%2C%20%5B10.8313899114148%2C%20106.721973491672%5D%2C%20%5B10.8281789203497%2C%20106.724019630537%5D%2C%20%5B10.8335002711042%2C%20106.723628863692%5D%2C%20%5B10.8308555345088%2C%20106.722177906492%5D%2C%20%5B10.8306206405462%2C%20106.725749234111%5D%2C%20%5B10.8269028114434%2C%20106.726143836877%5D%2C%20%5B10.8253789477227%2C%20106.728890687227%5D%2C%20%5B10.8310560092058%2C%20106.721615867437%5D%2C%20%5B10.8266717310682%2C%20106.728603566821%5D%2C%20%5B10.8267120156909%2C%20106.730708551737%5D%2C%20%5B10.8279924771326%2C%20106.723724322%5D%2C%20%5B10.8248928863519%2C%20106.723079681396%5D%2C%20%5B10.8256731303964%2C%20106.723433732332%5D%2C%20%5B10.8289122620376%2C%20106.726225823764%5D%2C%20%5B10.8309092731427%2C%20106.725556264231%5D%2C%20%5B10.8306834787702%2C%20106.722112885164%5D%2C%20%5B10.8267270920655%2C%20106.726682156423%5D%2C%20%5B10.82892288704%2C%20106.726288890493%5D%2C%20%5B10.8310121428686%2C%20106.721263970006%5D%2C%20%5B10.8281919263705%2C%20106.724570909616%5D%2C%20%5B10.8298857027115%2C%20106.722274804603%5D%2C%20%5B10.828582880954%2C%20106.732611203869%5D%2C%20%5B10.8236352732161%2C%20106.727404266091%5D%2C%20%5B10.8311663950494%2C%20106.722259549382%5D%2C%20%5B10.8312311831281%2C%20106.722011003274%5D%2C%20%5B10.8301895665701%2C%20106.722371492104%5D%2C%20%5B10.8304267642992%2C%20106.722147405222%5D%2C%20%5B10.8315434421019%2C%20106.721835432744%5D%2C%20%5B10.8259124564986%2C%20106.721272759339%5D%2C%20%5B10.8280161370446%2C%20106.726493559301%5D%2C%20%5B10.830361051212%2C%20106.722130193415%5D%2C%20%5B10.8313450945448%2C%20106.72160780754%5D%2C%20%5B10.8258261326842%2C%20106.726349603728%5D%2C%20%5B10.830596357789%2C%20106.725768096712%5D%2C%20%5B10.8313884907658%2C%20106.721793219679%5D%2C%20%5B10.8234137640159%2C%20106.722095783094%5D%2C%20%5B10.8311310849302%2C%20106.721989732035%5D%2C%20%5B10.826562701429%2C%20106.726599812573%5D%2C%20%5B10.8315056965761%2C%20106.723804283984%5D%2C%20%5B10.8305527334277%2C%20106.720960187167%5D%2C%20%5B10.830495897069%2C%20106.722083529435%5D%2C%20%5B10.8306243298233%2C%20106.725774584239%5D%2C%20%5B10.8311778063984%2C%20106.722209970393%5D%2C%20%5B10.8304290913673%2C%20106.722326865349%5D%2C%20%5B10.8313109571387%2C%20106.722227850871%5D%2C%20%5B10.8304033780004%2C%20106.72205255796%5D%2C%20%5B10.8305526863645%2C%20106.721705266374%5D%2C%20%5B10.8306873476031%2C%20106.721286750378%5D%2C%20%5B10.8270742955465%2C%20106.723811753992%5D%2C%20%5B10.8310012567503%2C%20106.721433843481%5D%2C%20%5B10.8312841278648%2C%20106.722106788082%5D%2C%20%5B10.830990170871%2C%20106.721796178829%5D%2C%20%5B10.831118262347%2C%20106.721511807141%5D%2C%20%5B10.8304759438942%2C%20106.72219010547%5D%2C%20%5B10.8312446784144%2C%20106.722332693577%5D%2C%20%5B10.8298967168056%2C%20106.722248955825%5D%2C%20%5B10.8310870408115%2C%20106.722110286384%5D%2C%20%5B10.8307035134826%2C%20106.725523918111%5D%2C%20%5B10.8298788241977%2C%20106.722243875406%5D%2C%20%5B10.8280524289561%2C%20106.723672846931%5D%2C%20%5B10.8269433836242%2C%20106.731111203313%5D%2C%20%5B10.8304951074342%2C%20106.722377000756%5D%2C%20%5B10.8306833794114%2C%20106.722144403052%5D%2C%20%5B10.831194206269%2C%20106.721107995326%5D%2C%20%5B10.8330389885905%2C%20106.7209782185%5D%2C%20%5B10.831455413488%2C%20106.721584361239%5D%2C%20%5B10.8314618633844%2C%20106.721961658708%5D%2C%20%5B10.8277005589177%2C%20106.732279567368%5D%2C%20%5B10.8329377235952%2C%20106.720838953719%5D%2C%20%5B10.8307680276712%2C%20106.722277581802%5D%2C%20%5B10.8311657393992%2C%20106.722166437538%5D%2C%20%5B10.7859210669687%2C%20106.606153436627%5D%2C%20%5B10.7858434776755%2C%20106.607516988541%5D%2C%20%5B10.7853478241261%2C%20106.606801908276%5D%2C%20%5B10.7851704166751%2C%20106.607352758846%5D%2C%20%5B10.7852412177397%2C%20106.607380315337%5D%2C%20%5B10.7857364741799%2C%20106.605952240463%5D%2C%20%5B10.7935328402764%2C%20106.603282409791%5D%2C%20%5B10.7894503914301%2C%20106.610513742157%5D%2C%20%5B10.7848917929248%2C%20106.608167184898%5D%2C%20%5B10.7852260452472%2C%20106.606901202554%5D%2C%20%5B10.7893629152076%2C%20106.610656476653%5D%2C%20%5B10.7858293855138%2C%20106.606337181608%5D%2C%20%5B10.7851850588137%2C%20106.606962139135%5D%2C%20%5B10.7936308698138%2C%20106.610325116101%5D%2C%20%5B10.7890516129228%2C%20106.61119603612%5D%2C%20%5B10.786471337915%2C%20106.606439667406%5D%2C%20%5B10.7855606135592%2C%20106.606434650067%5D%2C%20%5B10.7855753277072%2C%20106.606703955999%5D%2C%20%5B10.7858621581932%2C%20106.606353188164%5D%2C%20%5B10.7934188474391%2C%20106.610305990994%5D%2C%20%5B10.785860660788%2C%20106.607220942938%5D%2C%20%5B10.7857968848294%2C%20106.606320892409%5D%2C%20%5B10.7858278870594%2C%20106.607711283588%5D%2C%20%5B10.7855933590185%2C%20106.607424031262%5D%2C%20%5B10.7924188702412%2C%20106.614890096942%5D%2C%20%5B10.7854872544471%2C%20106.607037459793%5D%2C%20%5B10.7940099241403%2C%20106.603581756598%5D%2C%20%5B10.7857366450863%2C%20106.605890421009%5D%2C%20%5B10.7853185952238%2C%20106.606779409714%5D%2C%20%5B10.7859851268055%2C%20106.606117847609%5D%2C%20%5B10.7855521092922%2C%20106.606926980442%5D%2C%20%5B10.7935447987419%2C%20106.603188838448%5D%2C%20%5B10.7850056073763%2C%20106.607875450715%5D%2C%20%5B10.7852498736015%2C%20106.60760079519%5D%2C%20%5B10.7910546310338%2C%20106.610532420301%5D%2C%20%5B10.7861394000226%2C%20106.606216870479%5D%2C%20%5B10.7899548677123%2C%20106.607254651972%5D%2C%20%5B10.7858271956421%2C%20106.6077487451%5D%2C%20%5B10.7858073181241%2C%20106.60668341425%5D%2C%20%5B10.7939369240548%2C%20106.603570750437%5D%2C%20%5B10.7853947731485%2C%20106.60760778342%5D%2C%20%5B10.790015792518%2C%20106.60722835172%5D%2C%20%5B10.7856304453438%2C%20106.607628841887%5D%2C%20%5B10.785951202977%2C%20106.606370966519%5D%2C%20%5B10.7935245276749%2C%20106.60314849133%5D%2C%20%5B10.7861854588742%2C%20106.606136017596%5D%2C%20%5B10.7854887425609%2C%20106.606891770374%5D%2C%20%5B10.7855781080807%2C%20106.607609953896%5D%2C%20%5B10.7865614852731%2C%20106.606320314547%5D%2C%20%5B10.7873860953711%2C%20106.613885170628%5D%2C%20%5B10.7852135784854%2C%20106.607599923777%5D%2C%20%5B10.7856131240869%2C%20106.607109662209%5D%2C%20%5B10.7861128535272%2C%20106.606531936338%5D%2C%20%5B10.78320591317%2C%20106.604697704315%5D%2C%20%5B10.785362742853%2C%20106.608025396522%5D%2C%20%5B10.7853629570677%2C%20106.608469930726%5D%2C%20%5B10.7859971300787%2C%20106.606419465875%5D%2C%20%5B10.7856986228426%2C%20106.607412249977%5D%2C%20%5B10.7858653920273%2C%20106.606148216049%5D%2C%20%5B10.7862036717928%2C%20106.606464189025%5D%2C%20%5B10.7862904750018%2C%20106.606295511229%5D%2C%20%5B10.7894396515072%2C%20106.610652502456%5D%2C%20%5B10.7874783131517%2C%20106.614199514727%5D%2C%20%5B10.7855205612863%2C%20106.606909465069%5D%2C%20%5B10.7857321559834%2C%20106.606287839787%5D%2C%20%5B10.785873494331%2C%20106.60748353231%5D%2C%20%5B10.7857975032594%2C%20106.607665144563%5D%2C%20%5B10.7856236468982%2C%20106.60694974564%5D%2C%20%5B10.7857958442032%2C%20106.607627660721%5D%2C%20%5B10.789873005051%2C%20106.613683044107%5D%2C%20%5B10.7856392923431%2C%20106.607519183372%5D%2C%20%5B10.7853534234382%2C%20106.60765295215%5D%2C%20%5B10.7856350220955%2C%20106.607592122548%5D%2C%20%5B10.785177241034%2C%20106.60759801721%5D%2C%20%5B10.7856860618236%2C%20106.60698587556%5D%2C%20%5B10.78533109511%2C%20106.607521799683%5D%2C%20%5B10.7858376129251%2C%20106.605993717444%5D%2C%20%5B10.7850773750789%2C%20106.608157691914%5D%2C%20%5B10.7855207087997%2C%20106.6070521381%5D%2C%20%5B10.7860699798879%2C%20106.606637821583%5D%2C%20%5B10.7849272644934%2C%20106.60836730945%5D%2C%20%5B10.7857183365175%2C%20106.607002142629%5D%2C%20%5B10.7848921236563%2C%20106.608047850201%5D%2C%20%5B10.7848170789255%2C%20106.608426080852%5D%2C%20%5B10.7856097311287%2C%20106.60849741392%5D%2C%20%5B10.7850726820954%2C%20106.608480895625%5D%2C%20%5B10.7853362474946%2C%20106.607146596069%5D%2C%20%5B10.7847589131575%2C%20106.607884370941%5D%2C%20%5B10.7852094560936%2C%20106.606933819429%5D%2C%20%5B10.7852063907838%2C%20106.607371612776%5D%2C%20%5B10.7852868655888%2C%20106.606762186518%5D%2C%20%5B10.7854046714418%2C%20106.606628473952%5D%2C%20%5B10.7853104559693%2C%20106.607727313225%5D%2C%20%5B10.7853851813553%2C%20106.606925331687%5D%2C%20%5B10.7852225050434%2C%20106.607951044105%5D%2C%20%5B10.7900177553109%2C%20106.607230588849%5D%2C%20%5B10.7849646848801%2C%20106.608484031824%5D%2C%20%5B10.785731476345%2C%20106.606794914538%5D%2C%20%5B10.7852183180232%2C%20106.608254863131%5D%2C%20%5B10.7853436604522%2C%20106.606983390365%5D%2C%20%5B10.7935327249206%2C%20106.603176351192%5D%2C%20%5B10.7854558423407%2C%20106.607019841235%5D%2C%20%5B10.7860115970098%2C%20106.606729098927%5D%2C%20%5B10.7860248685751%2C%20106.606032913816%5D%2C%20%5B10.7894271369429%2C%20106.610813709011%5D%2C%20%5B10.7854310287434%2C%20106.607606603651%5D%2C%20%5B10.7793954066487%2C%20106.608092783357%5D%2C%20%5B10.7922559025201%2C%20106.615314363293%5D%2C%20%5B10.7862274047907%2C%20106.606136714113%5D%2C%20%5B10.7853805790509%2C%20106.606595619375%5D%2C%20%5B10.7893764111813%2C%20106.610576188501%5D%2C%20%5B10.7854724600942%2C%20106.608021419677%5D%2C%20%5B10.785969644521%2C%20106.606060798683%5D%2C%20%5B10.7863404087301%2C%20106.607215591563%5D%2C%20%5B10.7853915183769%2C%20106.606889529862%5D%2C%20%5B10.7873268121367%2C%20106.61394730847%5D%2C%20%5B10.7849279599716%2C%20106.608165334577%5D%2C%20%5B10.7856603914122%2C%20106.606477842651%5D%2C%20%5B10.7935272908677%2C%20106.603248430612%5D%2C%20%5B10.7859281724787%2C%20106.606035851656%5D%2C%20%5B10.7934737327681%2C%20106.60480076705%5D%2C%20%5B10.7865418246365%2C%20106.606352124727%5D%2C%20%5B10.78569404947%2C%20106.607447756608%5D%2C%20%5B10.7862592720941%2C%20106.606153204256%5D%2C%20%5B10.7912598009917%2C%20106.61498268086%5D%2C%20%5B10.7858894910157%2C%20106.606587235541%5D%2C%20%5B10.7857047687852%2C%20106.608146997475%5D%2C%20%5B10.7854571948121%2C%20106.606874161172%5D%2C%20%5B10.7856667626945%2C%20106.607295262481%5D%2C%20%5B10.7853603645088%2C%20106.607088895185%5D%2C%20%5B10.7856115935111%2C%20106.606454017252%5D%2C%20%5B10.7882039989125%2C%20106.612758307804%5D%2C%20%5B10.7857643839393%2C%20106.606304677179%5D%2C%20%5B10.785604951344%2C%20106.608346478847%5D%2C%20%5B10.7857057977404%2C%20106.60736771853%5D%2C%20%5B10.7856451256664%2C%20106.607126613001%5D%2C%20%5B10.7857584210219%2C%20106.607005766729%5D%2C%20%5B10.7862144143268%2C%20106.607531235087%5D%2C%20%5B10.7856725611308%2C%20106.606751864448%5D%2C%20%5B10.7898967115287%2C%20106.607258086111%5D%2C%20%5B10.7861930329286%2C%20106.606682464027%5D%2C%20%5B10.791460246532%2C%20106.607482858022%5D%2C%20%5B10.7935328732703%2C%20106.603177144376%5D%2C%20%5B10.7855476687801%2C%20106.607404317564%5D%2C%20%5B10.7852548187798%2C%20106.606745236434%5D%2C%20%5B10.7865177437011%2C%20106.606380485962%5D%2C%20%5B10.7860428101563%2C%20106.606165052872%5D%2C%20%5B10.7893914073577%2C%20106.610943650421%5D%2C%20%5B10.7854980701579%2C%20106.606395915132%5D%2C%20%5B10.7853433526884%2C%20106.606588236283%5D%2C%20%5B10.7853988924501%2C%20106.608144009818%5D%2C%20%5B10.7893599635452%2C%20106.610654853519%5D%2C%20%5B10.7856914826221%2C%20106.606497092649%5D%2C%20%5B10.7922031349722%2C%20106.609645277271%5D%2C%20%5B10.785459668277%2C%20106.607254304029%5D%2C%20%5B10.7860295401977%2C%20106.606435810509%5D%2C%20%5B10.7862719448682%2C%20106.606327162882%5D%2C%20%5B10.7857179492288%2C%20106.607321622605%5D%2C%20%5B10.7856845288528%2C%20106.607131421688%5D%2C%20%5B10.7863462922702%2C%20106.606200240465%5D%2C%20%5B10.7852593261373%2C%20106.604967452908%5D%2C%20%5B10.7857845890404%2C%20106.606811297615%5D%2C%20%5B10.7855299014311%2C%20106.607274741006%5D%2C%20%5B10.786430948515%2C%20106.614246368408%5D%2C%20%5B10.7859386507129%2C%20106.606610991856%5D%2C%20%5B10.7841030106232%2C%20106.60525410576%5D%2C%20%5B10.785420297647%2C%20106.607009147028%5D%2C%20%5B10.7856526120996%2C%20106.607442978228%5D%2C%20%5B10.7915986556976%2C%20106.614415322887%5D%2C%20%5B10.7859618726902%2C%20106.606255865829%5D%2C%20%5B10.7854312244452%2C%20106.606833900161%5D%2C%20%5B10.7858493971589%2C%20106.606113069105%5D%2C%20%5B10.7854587277494%2C%20106.606646899673%5D%2C%20%5B10.7852431773913%2C%20106.606868381634%5D%2C%20%5B10.786000999443%2C%20106.60616450239%5D%2C%20%5B10.7853655710707%2C%20106.607542984429%5D%2C%20%5B10.7854923162775%2C%20106.60834312443%5D%2C%20%5B10.7939697795219%2C%20106.603574473211%5D%2C%20%5B10.7852738033982%2C%20106.607300600691%5D%2C%20%5B10.7894879616505%2C%20106.61041988594%5D%2C%20%5B10.7855888429958%2C%20106.60707967815%5D%2C%20%5B10.7939793296964%2C%20106.603578335515%5D%2C%20%5B10.7857597007544%2C%20106.606069382566%5D%2C%20%5B10.7939977197835%2C%20106.603673624926%5D%2C%20%5B10.7937883389065%2C%20106.60366222783%5D%2C%20%5B10.7903657881781%2C%20106.613773071683%5D%2C%20%5B10.7858068402714%2C%20106.605973681331%5D%2C%20%5B10.7924577963514%2C%20106.610611436306%5D%2C%20%5B10.7855037679299%2C%20106.607603527508%5D%2C%20%5B10.7853543981285%2C%20106.607382638968%5D%2C%20%5B10.7856783320834%2C%20106.605989201843%5D%2C%20%5B10.7857271088593%2C%20106.606674373461%5D%2C%20%5B10.7851085849889%2C%20106.608036214423%5D%2C%20%5B10.7864190918308%2C%20106.614157855511%5D%2C%20%5B10.7858240947885%2C%20106.606092750196%5D%2C%20%5B10.7854673295281%2C%20106.607605428404%5D%2C%20%5B10.7855094626363%2C%20106.606673147291%5D%2C%20%5B10.793531326095%2C%20106.603253168962%5D%2C%20%5B10.78320591317%2C%20106.604697704315%5D%2C%20%5B10.7850358507984%2C%20106.608363647916%5D%2C%20%5B10.793775205575%2C%20106.60328770843%5D%2C%20%5B10.7861618160008%2C%20106.606104052256%5D%2C%20%5B10.7893967845798%2C%20106.610939258981%5D%2C%20%5B10.7937611880184%2C%20106.603640235226%5D%2C%20%5B10.7855424629634%2C%20106.606688556158%5D%2C%20%5B10.7861088540036%2C%20106.606196615807%5D%2C%20%5B10.7851418180624%2C%20106.608359013018%5D%2C%20%5B10.7934263406299%2C%20106.604291671677%5D%2C%20%5B10.7890577928464%2C%20106.611241418254%5D%2C%20%5B10.7851625982381%2C%20106.608477800732%5D%2C%20%5B10.7894108990672%2C%20106.611569990206%5D%2C%20%5B10.7853076085497%2C%20106.607400799692%5D%2C%20%5B10.7857484740554%2C%20106.606009957247%5D%2C%20%5B10.7913936165683%2C%20106.614672436207%5D%2C%20%5B10.7855409620398%2C%20106.607606223293%5D%2C%20%5B10.7856323113969%2C%20106.6062360772%5D%2C%20%5B10.7937679872872%2C%20106.603296943332%5D%2C%20%5B10.787039771367%2C%20106.612424170604%5D%2C%20%5B10.7856081925879%2C%20106.606719306%5D%2C%20%5B10.7860582378191%2C%20106.6066830134%5D%2C%20%5B10.7860754005604%2C%20106.606181592676%5D%2C%20%5B10.7855682405084%2C%20106.60846294349%5D%2C%20%5B10.7847471595256%2C%20106.608488154905%5D%2C%20%5B10.7849999132015%2C%20106.608364258417%5D%2C%20%5B10.7921788090235%2C%20106.607312122504%5D%2C%20%5B10.7935286566147%2C%20106.603291917125%5D%2C%20%5B10.7893997961765%2C%20106.610966259686%5D%2C%20%5B10.7864537553788%2C%20106.606471911124%5D%2C%20%5B10.785427841874%2C%20106.607239390213%5D%2C%20%5B10.7856538775372%2C%20106.6069696071%5D%2C%20%5B10.7855976675642%2C%20106.607320923646%5D%2C%20%5B10.7852905512568%2C%20106.607227003669%5D%2C%20%5B10.7893870520866%2C%20106.610570795122%5D%2C%20%5B10.7861736710496%2C%20106.60623046806%5D%2C%20%5B10.7852955847304%2C%20106.607759819036%5D%2C%20%5B10.7855886511404%2C%20106.60693669972%5D%2C%20%5B10.7853984757042%2C%20106.607217504134%5D%2C%20%5B10.7858541252924%2C%20106.606577200073%5D%2C%20%5B10.793977558104%2C%20106.603517658476%5D%2C%20%5B10.7860534580149%2C%20106.606466415154%5D%2C%20%5B10.785250219378%2C%20106.60724742235%5D%2C%20%5B10.7852618492575%2C%20106.606834533258%5D%2C%20%5B10.7853617537162%2C%20106.608349633687%5D%2C%20%5B10.785757435144%2C%20106.606528975655%5D%2C%20%5B10.7893822483882%2C%20106.610586194638%5D%2C%20%5B10.7851445045949%2C%20106.608156264725%5D%2C%20%5B10.7924762571901%2C%20106.608490296055%5D%2C%20%5B10.7807199507483%2C%20106.609118008466%5D%2C%20%5B10.793527441653%2C%20106.603149830577%5D%2C%20%5B10.7852176155212%2C%20106.60847564765%5D%2C%20%5B10.7852539167858%2C%20106.608474297858%5D%2C%20%5B10.7893967845798%2C%20106.610939258981%5D%2C%20%5B10.7847427383068%2C%20106.608175234726%5D%2C%20%5B10.793774148615%2C%20106.603288790421%5D%2C%20%5B10.7939317082701%2C%20106.603520918794%5D%2C%20%5B10.7855271148039%2C%20106.606419670311%5D%2C%20%5B10.7855589321686%2C%20106.607303492343%5D%2C%20%5B10.7852861235976%2C%20106.607601636802%5D%2C%20%5B10.7860935791215%2C%20106.60660385656%5D%2C%20%5B10.7863093209151%2C%20106.606264088875%5D%2C%20%5B10.7855976633834%2C%20106.606832577296%5D%2C%20%5B10.7858806940755%2C%20106.60600889251%5D%2C%20%5B10.7869957436939%2C%20106.611761178336%5D%2C%20%5B10.7933722828322%2C%20106.60528995883%5D%2C%20%5B10.7853891050222%2C%20106.607385727743%5D%2C%20%5B10.7858058717188%2C%20106.60655269227%5D%2C%20%5B10.7853866149085%2C%20106.606995325239%5D%2C%20%5B10.7856267776217%2C%20106.607663761407%5D%2C%20%5B10.786127509705%2C%20106.606086859927%5D%2C%20%5B10.7856389520638%2C%20106.607413551803%5D%2C%20%5B10.7862718112271%2C%20106.607926462222%5D%2C%20%5B10.7851679723872%2C%20106.606994770642%5D%2C%20%5B10.7939914918517%2C%20106.603682664628%5D%2C%20%5B10.7893967845798%2C%20106.610939258981%5D%2C%20%5B10.7860864350563%2C%20106.606065323915%5D%2C%20%5B10.7858497721483%2C%20106.606843518255%5D%2C%20%5B10.7854928578029%2C%20106.607266671095%5D%2C%20%5B10.7853318337568%2C%20106.60720608958%5D%2C%20%5B10.785554071639%2C%20106.607067216485%5D%2C%20%5B10.7872635500629%2C%20106.613500714302%5D%2C%20%5B10.7853191762285%2C%20106.607630781631%5D%2C%20%5B10.7901113477081%2C%20106.616417596498%5D%2C%20%5B10.7803233768277%2C%20106.607230380177%5D%2C%20%5B10.7852733199154%2C%20106.607393580685%5D%2C%20%5B10.7857917478545%2C%20106.606086241556%5D%2C%20%5B10.7852903083241%2C%20106.60847299535%5D%2C%20%5B10.7928031247639%2C%20106.609902400634%5D%2C%20%5B10.7850216738396%2C%20106.607639942008%5D%2C%20%5B10.7856272153705%2C%20106.61258821704%5D%2C%20%5B10.7854759554803%2C%20106.607396042453%5D%2C%20%5B10.7854160451739%2C%20106.607402224483%5D%2C%20%5B10.7900765124407%2C%20106.60718525748%5D%2C%20%5B10.7908663011948%2C%20106.615345043872%5D%2C%20%5B10.7862030373757%2C%20106.60625232343%5D%2C%20%5B10.7857242533378%2C%20106.606513805853%5D%2C%20%5B10.7854718171086%2C%20106.608465358322%5D%2C%20%5B10.8052640423369%2C%20106.736576557159%5D%2C%20%5B10.8008193489301%2C%20106.733722686768%5D%2C%20%5B10.8033811523097%2C%20106.738547644633%5D%2C%20%5B10.8008562346232%2C%20106.735247522593%5D%2C%20%5B10.8013209385617%2C%20106.731667042695%5D%2C%20%5B10.8007741265516%2C%20106.733719747832%5D%2C%20%5B10.8052181557985%2C%20106.736648670838%5D%2C%20%5B10.8052851195644%2C%20106.736611425877%5D%2C%20%5B10.802841504024%2C%20106.737440343154%5D%2C%20%5B10.8051151843754%2C%20106.73646658659%5D%2C%20%5B10.801322574782%2C%20106.73126578331%5D%2C%20%5B10.8027347642922%2C%20106.737402677536%5D%2C%20%5B10.802766467431%2C%20106.737325186294%5D%2C%20%5B10.8030667332503%2C%20106.738631129265%5D%2C%20%5B10.8007850979252%2C%20106.733762919903%5D%2C%20%5B10.803850847504%2C%20106.736713746249%5D%2C%20%5B10.8049794996206%2C%20106.736726760864%5D%2C%20%5B10.8027546039789%2C%20106.737373054861%5D%2C%20%5B10.8038413260585%2C%20106.735106706619%5D%2C%20%5B10.8040671540734%2C%20106.739756354689%5D%2C%20%5B10.8062317370535%2C%20106.734640367116%5D%2C%20%5B10.8052380485683%2C%20106.736669179321%5D%2C%20%5B10.8023764481796%2C%20106.739371418953%5D%2C%20%5B10.8060017680432%2C%20106.741694308493%5D%2C%20%5B10.805785703283%2C%20106.740390658379%5D%2C%20%5B10.80095727532%2C%20106.733639545638%5D%2C%20%5B10.8034935499428%2C%20106.733513474464%5D%2C%20%5B10.8041943710972%2C%20106.736640930176%5D%2C%20%5B10.8049083638994%2C%20106.736560463905%5D%2C%20%5B10.8064789614456%2C%20106.742308815009%5D%2C%20%5B10.8075410500561%2C%20106.735297404752%5D%2C%20%5B10.8014803925828%2C%20106.738142698987%5D%2C%20%5B10.8034603875738%2C%20106.740583308192%5D%2C%20%5B10.8068956101333%2C%20106.739472477334%5D%2C%20%5B10.8026728494062%2C%20106.738067865372%5D%2C%20%5B10.8040403465514%2C%20106.736813170705%5D%2C%20%5B10.8030930799773%2C%20106.736866235733%5D%2C%20%5B10.8008325223924%2C%20106.735136210918%5D%2C%20%5B10.8014055166978%2C%20106.742161486933%5D%2C%20%5B10.8014332316625%2C%20106.732757091522%5D%2C%20%5B10.805211369992%2C%20106.736721250846%5D%2C%20%5B10.8052587730298%2C%20106.736565828323%5D%2C%20%5B10.8053826017224%2C%20106.736887693405%5D%2C%20%5B10.8065441738713%2C%20106.742252066055%5D%2C%20%5B10.8007047397831%2C%20106.733779252402%5D%2C%20%5B10.8008351570848%2C%20106.735082566738%5D%2C%20%5B10.8021577697536%2C%20106.73649340868%5D%2C%20%5B10.8013979267079%2C%20106.733058571881%5D%2C%20%5B10.7999282536866%2C%20106.736958893439%5D%2C%20%5B10.8025643174287%2C%20106.73357665598%5D%2C%20%5B10.8019232830718%2C%20106.739154160023%5D%2C%20%5B10.8060358157682%2C%20106.735061358798%5D%2C%20%5B10.8052614076833%2C%20106.736584603786%5D%2C%20%5B10.8032999893989%2C%20106.740620394278%5D%2C%20%5B10.8020734599566%2C%20106.739819347858%5D%2C%20%5B10.8020602865486%2C%20106.736592650414%5D%2C%20%5B10.803160620105%2C%20106.73856735703%5D%2C%20%5B10.8048170467601%2C%20106.732909357608%5D%2C%20%5B10.8125495437138%2C%20106.735946574234%5D%2C%20%5B10.8041113085992%2C%20106.732713563116%5D%2C%20%5B10.8051230883398%2C%20106.736482679844%5D%2C%20%5B10.8052324264928%2C%20106.736587285995%5D%2C%20%5B10.8060424850558%2C%20106.742268424301%5D%2C%20%5B10.8025984727461%2C%20106.73750859533%5D%2C%20%5B10.8052745809508%2C%20106.736608743668%5D%2C%20%5B10.8008931203119%2C%20106.735413819551%5D%2C%20%5B10.8021307451245%2C%20106.732695574013%5D%2C%20%5B10.8052640423369%2C%20106.736576557159%5D%2C%20%5B10.8065441738713%2C%20106.742252066055%5D%2C%20%5B10.805257719104%2C%20106.733655095231%5D%2C%20%5B10.8033114569752%2C%20106.743003129632%5D%2C%20%5B10.8024120163422%2C%20106.738743782043%5D%2C%20%5B10.8048951906158%2C%20106.736560463905%5D%2C%20%5B10.8020381551979%2C%20106.736467659703%5D%2C%20%5B10.8024233453472%2C%20106.732523739338%5D%2C%20%5B10.803654264713%2C%20106.737463027239%5D%2C%20%5B10.8007741265516%2C%20106.733719747832%5D%2C%20%5B10.8028427859776%2C%20106.737408041954%5D%2C%20%5B10.8065441738713%2C%20106.742252066055%5D%2C%20%5B10.8065441738713%2C%20106.742252066055%5D%2C%20%5B10.8022631569667%2C%20106.738928854466%5D%2C%20%5B10.8070958757828%2C%20106.73490100405%5D%2C%20%5B10.8051217710124%2C%20106.73665702343%5D%2C%20%5B10.8031721201443%2C%20106.73850774765%5D%2C%20%5B10.8028902101198%2C%20106.737426817417%5D%2C%20%5B10.8051745157589%2C%20106.732703872027%5D%2C%20%5B10.805179733412%2C%20106.73635661602%5D%2C%20%5B10.8056184030278%2C%20106.736548393965%5D%2C%20%5B10.803178700185%2C%20106.738616373857%5D%2C%20%5B10.8065441738713%2C%20106.742252066055%5D%2C%20%5B10.8041324565123%2C%20106.736717373133%5D%2C%20%5B10.8009800651315%2C%20106.735778599978%5D%2C%20%5B10.8046461332424%2C%20106.737020998103%5D%2C%20%5B10.8052482344153%2C%20106.73654705286%5D%2C%20%5B10.8065441738713%2C%20106.742252066055%5D%2C%20%5B10.8030096226378%2C%20106.739882757038%5D%2C%20%5B10.8027453029949%2C%20106.740200221539%5D%2C%20%5B10.8009497661821%2C%20106.73566326499%5D%2C%20%5B10.8040911422148%2C%20106.739811302022%5D%2C%20%5B10.8051863200476%2C%20106.736721396446%5D%2C%20%5B10.8065441738713%2C%20106.742252066055%5D%2C%20%5B10.8043392775228%2C%20106.737005710602%5D%2C%20%5B10.8008747763417%2C%20106.733851536001%5D%2C%20%5B10.8053009274841%2C%20106.736517548561%5D%2C%20%5B10.8032298255748%2C%20106.73852768378%5D%2C%20%5B10.8055196036207%2C%20106.735673993826%5D%2C%20%5B10.7985983477623%2C%20106.733368401092%5D%2C%20%5B10.8028019855272%2C%20106.741800144579%5D%2C%20%5B10.8007114505872%2C%20106.733813648592%5D%2C%20%5B10.8033196617339%2C%20106.739816665649%5D%2C%20%5B10.8050321927365%2C%20106.737268567085%5D%2C%20%5B10.8026121540014%2C%20106.732334982614%5D%2C%20%5B10.8047898043265%2C%20106.732392311096%5D%2C%20%5B10.806048654985%2C%20106.74087658374%5D%2C%20%5B10.8028862581083%2C%20106.737741976976%5D%2C%20%5B10.8041891017714%2C%20106.736469268799%5D%2C%20%5B10.8021718280479%2C%20106.732691397211%5D%2C%20%5B10.804236525701%2C%20106.736753582954%5D%2C%20%5B10.8053483512381%2C%20106.736627519131%5D%2C%20%5B10.8025635103211%2C%20106.739347279072%5D%2C%20%5B10.8047516017875%2C%20106.736598014832%5D%2C%20%5B10.800760858718%2C%20106.734747290284%5D%2C%20%5B10.8070707775422%2C%20106.734757517281%5D%2C%20%5B10.8029205088735%2C%20106.737393289804%5D%2C%20%5B10.8035174046423%2C%20106.734598452394%5D%2C%20%5B10.8031542044071%2C%20106.736305654049%5D%2C%20%5B10.805179733412%2C%20106.736551076174%5D%2C%20%5B10.8028664980496%2C%20106.737373173237%5D%2C%20%5B10.8064291405311%2C%20106.735370950453%5D%2C%20%5B10.8054221215072%2C%20106.736121922731%5D%2C%20%5B10.8065315915148%2C%20106.735624633813%5D%2C%20%5B10.8052956581776%2C%20106.736576557159%5D%2C%20%5B10.8050954244635%2C%20106.736361980438%5D%2C%20%5B10.8071169769711%2C%20106.734742274065%5D%2C%20%5B10.8052521863958%2C%20106.73736512661%5D%2C%20%5B10.8025081443571%2C%20106.739610653128%5D%2C%20%5B10.8068672247302%2C%20106.734322160482%5D%2C%20%5B10.8027406169293%2C%20106.736976779543%5D%2C%20%5B10.8070847848109%2C%20106.73481675247%5D%2C%20%5B10.8033894804965%2C%20106.736211776733%5D%2C%20%5B10.8028599113631%2C%20106.737345010042%5D%2C%20%5B10.8068817152469%2C%20106.734226942062%5D%2C%20%5B10.805327274015%2C%20106.733626127243%5D%2C%20%5B10.8057614001761%2C%20106.734547462257%5D%2C%20%5B10.8071574510167%2C%20106.734889575494%5D%2C%20%5B10.802629692949%2C%20106.733382904672%5D%2C%20%5B10.8029390380089%2C%20106.740146229744%5D%2C%20%5B10.8007800928142%2C%20106.73376244578%5D%2C%20%5B10.8053458231114%2C%20106.736683808625%5D%2C%20%5B10.8007741265516%2C%20106.733719747832%5D%2C%20%5B10.8046844180003%2C%20106.738786697388%5D%2C%20%5B10.80185478131%2C%20106.738151013851%5D%2C%20%5B10.8051270403219%2C%20106.736470609903%5D%2C%20%5B10.8009094550313%2C%20106.731068373447%5D%2C%20%5B10.7995267322081%2C%20106.73024969843%5D%2C%20%5B10.8041680244669%2C%20106.737139821053%5D%2C%20%5B10.8048332761753%2C%20106.732386946678%5D%2C%20%5B10.8049586660035%2C%20106.737103786991%5D%2C%20%5B10.8065441738713%2C%20106.742252066055%5D%2C%20%5B10.8052693116439%2C%20106.736474633217%5D%2C%20%5B10.8027690150747%2C%20106.737843900919%5D%2C%20%5B10.8050321927365%2C%20106.737268567085%5D%2C%20%5B10.8062810168777%2C%20106.736716032028%5D%2C%20%5B10.8052798502577%2C%20106.736716032028%5D%2C%20%5B10.8052113492616%2C%20106.736552417278%5D%2C%20%5B10.8059358782358%2C%20106.736690551043%5D%2C%20%5B10.8065441738713%2C%20106.742252066055%5D%2C%20%5B10.8032877004767%2C%20106.741550992549%5D%2C%20%5B10.8052495517421%2C%20106.736610084772%5D%2C%20%5B10.8009941070653%2C%20106.735874767599%5D%2C%20%5B10.8053483512381%2C%20106.736627519131%5D%2C%20%5B10.798678449064%2C%20106.733027717316%5D%2C%20%5B10.8052508690689%2C%20106.73736512661%5D%2C%20%5B10.8047575020914%2C%20106.736327119388%5D%2C%20%5B10.8070712209561%2C%20106.74238178908%5D%2C%20%5B10.8010094939024%2C%20106.733846490032%5D%2C%20%5B10.8035501952822%2C%20106.733861089015%5D%2C%20%5B10.8032579228179%2C%20106.738476603483%5D%2C%20%5B10.8020154969573%2C%20106.736627519131%5D%2C%20%5B10.8040520992659%2C%20106.736367344856%5D%2C%20%5B10.8074881531259%2C%20106.735041059715%5D%2C%20%5B10.8027663803992%2C%20106.73731148243%5D%2C%20%5B10.8029442209394%2C%20106.737668216229%5D%2C%20%5B10.8016023785618%2C%20106.73268038041%5D%2C%20%5B10.8033723551412%2C%20106.738475561142%5D%2C%20%5B10.8013936573533%2C%20106.733484922826%5D%2C%20%5B10.8009313233418%2C%20106.735564023256%5D%2C%20%5B10.8031801051265%2C%20106.738485274501%5D%2C%20%5B10.802911287514%2C%20106.737420111895%5D%2C%20%5B10.8017783754803%2C%20106.738285124302%5D%2C%20%5B10.8052324264928%2C%20106.736544370651%5D%2C%20%5B10.8027874578021%2C%20106.737402677536%5D%2C%20%5B10.806914387813%2C%20106.734221577644%5D%2C%20%5B10.8046211861868%2C%20106.737340986729%5D%2C%20%5B10.8045171171314%2C%20106.736685186625%5D%2C%20%5B10.8051586561771%2C%20106.736526936293%5D%2C%20%5B10.8019443605339%2C%20106.73668384552%5D%2C%20%5B10.8024491424395%2C%20106.732315235753%5D%2C%20%5B10.8031299653912%2C%20106.736883670092%5D%2C%20%5B10.802257887607%2C%20106.738969087601%5D%2C%20%5B10.8028954794685%2C%20106.739988327026%5D%2C%20%5B10.8027710568607%2C%20106.737374132857%5D%2C%20%5B10.8020982967821%2C%20106.739675474682%5D%5D%2C%0A%20%20%20%20%20%20%20%20%20%20%20%20%20%20%20%20%7B%0A%20%20%20%20%20%20%20%20%20%20%20%20%20%20%20%20%20%20%20%20minOpacity%3A%200.5%2C%0A%20%20%20%20%20%20%20%20%20%20%20%20%20%20%20%20%20%20%20%20maxZoom%3A%2018%2C%0A%20%20%20%20%20%20%20%20%20%20%20%20%20%20%20%20%20%20%20%20max%3A%201.0%2C%0A%20%20%20%20%20%20%20%20%20%20%20%20%20%20%20%20%20%20%20%20radius%3A%2025%2C%0A%20%20%20%20%20%20%20%20%20%20%20%20%20%20%20%20%20%20%20%20blur%3A%2015%2C%0A%20%20%20%20%20%20%20%20%20%20%20%20%20%20%20%20%20%20%20%20gradient%3A%20null%0A%20%20%20%20%20%20%20%20%20%20%20%20%20%20%20%20%20%20%20%20%7D%29%0A%20%20%20%20%20%20%20%20%20%20%20%20%20%20%20%20.addTo%28feature_group_aee2c1bb847f4a59bbd8469e0db069fd%29%3B%0A%20%20%20%20%20%20%20%20%0A%3C/script%3E onload=\"this.contentDocument.open();this.contentDocument.write(    decodeURIComponent(this.getAttribute('data-html')));this.contentDocument.close();\" allowfullscreen webkitallowfullscreen mozallowfullscreen></iframe></div></div>"
            ],
            "text/plain": [
              "<folium.folium.Map at 0x7f3827bb86d0>"
            ]
          },
          "metadata": {},
          "execution_count": 85
        }
      ]
    },
    {
      "cell_type": "markdown",
      "metadata": {
        "id": "WTtyo5sM45si"
      },
      "source": [
        "# Save heatmap to png file"
      ]
    },
    {
      "cell_type": "code",
      "metadata": {
        "id": "2FALEG500Ykg"
      },
      "source": [
        "%cd /content/drive/MyDrive/Học\\ tập/CS116_LapTrinhPython/heat_map_clicking/\n",
        "map.save(\"heatmap.html\")"
      ],
      "execution_count": null,
      "outputs": []
    },
    {
      "cell_type": "code",
      "metadata": {
        "id": "oQnHFLaw4asH"
      },
      "source": [
        ""
      ],
      "execution_count": 86,
      "outputs": []
    }
  ]
}